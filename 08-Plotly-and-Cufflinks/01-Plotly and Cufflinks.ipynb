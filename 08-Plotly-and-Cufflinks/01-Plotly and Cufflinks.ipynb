{
 "cells": [
  {
   "cell_type": "markdown",
   "metadata": {},
   "source": [
    "___\n",
    "\n",
    "<a href='http://www.pieriandata.com'> <img src='../Pierian_Data_Logo.png' /></a>\n",
    "___\n",
    "# Plotly and Cufflinks"
   ]
  },
  {
   "cell_type": "markdown",
   "metadata": {},
   "source": [
    "Plotly is a library that allows you to create interactive plots that you can use in dashboards or websites (you can save them as html files or static images).\n",
    "\n",
    "## Installation\n",
    "\n",
    "In order for this all to work, you'll need to install plotly and cufflinks to call plots directly off of a pandas dataframe. These libraries are not currently available through **conda** but are available through **pip**. Install the libraries at your command line/terminal using:\n",
    "\n",
    "    pip install plotly\n",
    "    pip install cufflinks\n",
    "\n",
    "** NOTE: Make sure you only have one installation of Python on your computer when you do this, otherwise the installation may not work. **\n",
    "\n",
    "## Imports and Set-up"
   ]
  },
  {
   "cell_type": "code",
   "execution_count": 1,
   "metadata": {},
   "outputs": [],
   "source": [
    "import pandas as pd\n",
    "import numpy as np\n",
    "%matplotlib inline"
   ]
  },
  {
   "cell_type": "code",
   "execution_count": 2,
   "metadata": {},
   "outputs": [
    {
     "name": "stdout",
     "output_type": "stream",
     "text": [
      "4.7.1\n"
     ]
    }
   ],
   "source": [
    "from plotly import __version__\n",
    "from plotly.offline import download_plotlyjs, init_notebook_mode, plot, iplot\n",
    "\n",
    "print(__version__) # requires version >= 1.9.0"
   ]
  },
  {
   "cell_type": "code",
   "execution_count": 3,
   "metadata": {},
   "outputs": [],
   "source": [
    "import cufflinks as cf"
   ]
  },
  {
   "cell_type": "code",
   "execution_count": 4,
   "metadata": {},
   "outputs": [
    {
     "data": {
      "text/html": [
       "        <script type=\"text/javascript\">\n",
       "        window.PlotlyConfig = {MathJaxConfig: 'local'};\n",
       "        if (window.MathJax) {MathJax.Hub.Config({SVG: {font: \"STIX-Web\"}});}\n",
       "        if (typeof require !== 'undefined') {\n",
       "        require.undef(\"plotly\");\n",
       "        requirejs.config({\n",
       "            paths: {\n",
       "                'plotly': ['https://cdn.plot.ly/plotly-latest.min']\n",
       "            }\n",
       "        });\n",
       "        require(['plotly'], function(Plotly) {\n",
       "            window._Plotly = Plotly;\n",
       "        });\n",
       "        }\n",
       "        </script>\n",
       "        "
      ]
     },
     "metadata": {},
     "output_type": "display_data"
    }
   ],
   "source": [
    "# For Notebooks\n",
    "init_notebook_mode(connected=True)"
   ]
  },
  {
   "cell_type": "code",
   "execution_count": 6,
   "metadata": {},
   "outputs": [
    {
     "data": {
      "text/html": [
       "        <script type=\"text/javascript\">\n",
       "        window.PlotlyConfig = {MathJaxConfig: 'local'};\n",
       "        if (window.MathJax) {MathJax.Hub.Config({SVG: {font: \"STIX-Web\"}});}\n",
       "        if (typeof require !== 'undefined') {\n",
       "        require.undef(\"plotly\");\n",
       "        requirejs.config({\n",
       "            paths: {\n",
       "                'plotly': ['https://cdn.plot.ly/plotly-latest.min']\n",
       "            }\n",
       "        });\n",
       "        require(['plotly'], function(Plotly) {\n",
       "            window._Plotly = Plotly;\n",
       "        });\n",
       "        }\n",
       "        </script>\n",
       "        "
      ]
     },
     "metadata": {},
     "output_type": "display_data"
    }
   ],
   "source": [
    "# For offline use\n",
    "cf.go_offline()"
   ]
  },
  {
   "cell_type": "markdown",
   "metadata": {},
   "source": [
    "### Fake Data"
   ]
  },
  {
   "cell_type": "code",
   "execution_count": 7,
   "metadata": {},
   "outputs": [],
   "source": [
    "df = pd.DataFrame(np.random.randn(100,4),columns='A B C D'.split())"
   ]
  },
  {
   "cell_type": "code",
   "execution_count": 8,
   "metadata": {},
   "outputs": [
    {
     "data": {
      "text/html": [
       "<div>\n",
       "<style scoped>\n",
       "    .dataframe tbody tr th:only-of-type {\n",
       "        vertical-align: middle;\n",
       "    }\n",
       "\n",
       "    .dataframe tbody tr th {\n",
       "        vertical-align: top;\n",
       "    }\n",
       "\n",
       "    .dataframe thead th {\n",
       "        text-align: right;\n",
       "    }\n",
       "</style>\n",
       "<table border=\"1\" class=\"dataframe\">\n",
       "  <thead>\n",
       "    <tr style=\"text-align: right;\">\n",
       "      <th></th>\n",
       "      <th>A</th>\n",
       "      <th>B</th>\n",
       "      <th>C</th>\n",
       "      <th>D</th>\n",
       "    </tr>\n",
       "  </thead>\n",
       "  <tbody>\n",
       "    <tr>\n",
       "      <td>0</td>\n",
       "      <td>-0.429769</td>\n",
       "      <td>-2.228675</td>\n",
       "      <td>1.178625</td>\n",
       "      <td>-1.862800</td>\n",
       "    </tr>\n",
       "    <tr>\n",
       "      <td>1</td>\n",
       "      <td>0.899203</td>\n",
       "      <td>-1.132580</td>\n",
       "      <td>-0.073554</td>\n",
       "      <td>-0.209512</td>\n",
       "    </tr>\n",
       "    <tr>\n",
       "      <td>2</td>\n",
       "      <td>-0.052922</td>\n",
       "      <td>-0.057505</td>\n",
       "      <td>0.106737</td>\n",
       "      <td>-0.105798</td>\n",
       "    </tr>\n",
       "    <tr>\n",
       "      <td>3</td>\n",
       "      <td>-0.657511</td>\n",
       "      <td>-0.437281</td>\n",
       "      <td>-1.620014</td>\n",
       "      <td>0.744973</td>\n",
       "    </tr>\n",
       "    <tr>\n",
       "      <td>4</td>\n",
       "      <td>0.222083</td>\n",
       "      <td>0.719679</td>\n",
       "      <td>0.803886</td>\n",
       "      <td>0.589844</td>\n",
       "    </tr>\n",
       "  </tbody>\n",
       "</table>\n",
       "</div>"
      ],
      "text/plain": [
       "          A         B         C         D\n",
       "0 -0.429769 -2.228675  1.178625 -1.862800\n",
       "1  0.899203 -1.132580 -0.073554 -0.209512\n",
       "2 -0.052922 -0.057505  0.106737 -0.105798\n",
       "3 -0.657511 -0.437281 -1.620014  0.744973\n",
       "4  0.222083  0.719679  0.803886  0.589844"
      ]
     },
     "execution_count": 8,
     "metadata": {},
     "output_type": "execute_result"
    }
   ],
   "source": [
    "df.head()"
   ]
  },
  {
   "cell_type": "code",
   "execution_count": 9,
   "metadata": {},
   "outputs": [],
   "source": [
    "df2 = pd.DataFrame({'Category':['A','B','C'],'Values':[32,43,50]})"
   ]
  },
  {
   "cell_type": "code",
   "execution_count": 10,
   "metadata": {},
   "outputs": [
    {
     "data": {
      "text/html": [
       "<div>\n",
       "<style scoped>\n",
       "    .dataframe tbody tr th:only-of-type {\n",
       "        vertical-align: middle;\n",
       "    }\n",
       "\n",
       "    .dataframe tbody tr th {\n",
       "        vertical-align: top;\n",
       "    }\n",
       "\n",
       "    .dataframe thead th {\n",
       "        text-align: right;\n",
       "    }\n",
       "</style>\n",
       "<table border=\"1\" class=\"dataframe\">\n",
       "  <thead>\n",
       "    <tr style=\"text-align: right;\">\n",
       "      <th></th>\n",
       "      <th>Category</th>\n",
       "      <th>Values</th>\n",
       "    </tr>\n",
       "  </thead>\n",
       "  <tbody>\n",
       "    <tr>\n",
       "      <td>0</td>\n",
       "      <td>A</td>\n",
       "      <td>32</td>\n",
       "    </tr>\n",
       "    <tr>\n",
       "      <td>1</td>\n",
       "      <td>B</td>\n",
       "      <td>43</td>\n",
       "    </tr>\n",
       "    <tr>\n",
       "      <td>2</td>\n",
       "      <td>C</td>\n",
       "      <td>50</td>\n",
       "    </tr>\n",
       "  </tbody>\n",
       "</table>\n",
       "</div>"
      ],
      "text/plain": [
       "  Category  Values\n",
       "0        A      32\n",
       "1        B      43\n",
       "2        C      50"
      ]
     },
     "execution_count": 10,
     "metadata": {},
     "output_type": "execute_result"
    }
   ],
   "source": [
    "df2.head()"
   ]
  },
  {
   "cell_type": "markdown",
   "metadata": {},
   "source": [
    "## Using Cufflinks and iplot()\n",
    "\n",
    "* scatter\n",
    "* bar\n",
    "* box\n",
    "* spread\n",
    "* ratio\n",
    "* heatmap\n",
    "* surface\n",
    "* histogram\n",
    "* bubble"
   ]
  },
  {
   "cell_type": "markdown",
   "metadata": {},
   "source": [
    "## Scatter"
   ]
  },
  {
   "cell_type": "code",
   "execution_count": 12,
   "metadata": {},
   "outputs": [
    {
     "data": {
      "application/vnd.plotly.v1+json": {
       "config": {
        "linkText": "Export to plot.ly",
        "plotlyServerURL": "https://plot.ly",
        "showLink": true
       },
       "data": [
        {
         "line": {
          "color": "rgba(255, 153, 51, 1.0)",
          "dash": "solid",
          "shape": "linear",
          "width": 1.3
         },
         "marker": {
          "size": 5,
          "symbol": "circle"
         },
         "mode": "markers",
         "name": "B",
         "text": "",
         "type": "scatter",
         "x": [
          -0.4297685383384342,
          0.8992028500370997,
          -0.0529219344920944,
          -0.6575111293098215,
          0.22208299129571782,
          0.3794842146923049,
          -0.776042193527561,
          0.20252386974764924,
          0.5283888563058603,
          0.42238405971072795,
          -0.06013466358030851,
          -0.00026800090693260357,
          -0.14388939098347012,
          0.9344699379561042,
          0.6783815719865144,
          0.44503506029485257,
          -1.7459121312891714,
          -1.0030300108933405,
          1.9884150558651161,
          -0.47184365204117884,
          -0.2595777957034208,
          0.7400974312262351,
          0.099309479647986,
          -0.6182408568594779,
          -0.09737112629162749,
          1.0014953872001506,
          0.2871753396523556,
          1.5244479144569265,
          -0.23697854575363472,
          0.020463560762592693,
          -1.1753745296203637,
          0.43368223787654575,
          2.24053767970503,
          -0.6384984081451017,
          -0.15584868195776844,
          -1.129993502850424,
          1.486435661947022,
          1.253760698328164,
          -0.13143816377831435,
          -1.6959507280045962,
          -0.5909461283664224,
          -0.9669632612257547,
          0.1002289545273029,
          0.06832115631372923,
          -0.23128484890668444,
          0.5004811414606912,
          0.4204561565082809,
          -1.05748043745096,
          0.06683095599233774,
          0.2980261452352181,
          -1.5226706426959702,
          0.029547750310692927,
          2.7094752196223126,
          -1.999918830221982,
          -1.4429817394634803,
          1.2186716154519959,
          -0.933564385488572,
          1.176427043693705,
          -0.35626527453103896,
          -0.9201267710595663,
          -0.4825603472456605,
          1.0350105637639253,
          0.7141270743667533,
          -0.7047888603102321,
          0.07954844261010739,
          0.9240461197773582,
          -0.2012367204600226,
          -0.18735870172077787,
          0.8128846161700972,
          0.572471733076174,
          0.2172228806431597,
          0.23258075293244185,
          -0.15037989852296424,
          1.6489384008396495,
          -0.699170275452065,
          -1.1915880345536867,
          0.791442180982393,
          -1.5343965160519073,
          -0.2119291089800813,
          0.5147659474053279,
          0.13256180204923343,
          0.11804225234240634,
          0.4175537717201645,
          -0.4404582829401427,
          0.5628633036420924,
          -0.14853080183364786,
          0.528931020376802,
          0.7682140054890354,
          0.5882154073068712,
          -0.6371179810453058,
          0.00860135749083743,
          1.784532008732318,
          0.0630970787741614,
          1.0806131230471097,
          -0.3368057268799231,
          -0.11396344278775078,
          1.5040813118063128,
          -0.26955180544597684,
          -0.024390292942870706,
          -0.15560276318219723
         ],
         "y": [
          -2.2286752844455777,
          -1.1325804605985426,
          -0.057504853523821425,
          -0.4372807380334668,
          0.7196790346908422,
          -0.3049353605453905,
          -0.36769137325213835,
          -2.720548438240072,
          -0.9630851860163883,
          -0.2604981650092037,
          -0.8739159350872959,
          -2.597293836991736,
          1.9279633238913891,
          -1.4857793145128506,
          -1.398384437744287,
          0.9249812054111738,
          0.9904484780182563,
          0.5154826624657818,
          -2.118134319003685,
          -1.1737116775235958,
          0.6767585900341822,
          0.5461220282918061,
          -0.6990646057740326,
          -1.0110525490061775,
          -0.08120032622523697,
          0.2636505021163572,
          1.2323826718876643,
          -0.40486481243860833,
          1.4760723751566938,
          -0.8209077663785059,
          1.1402839958305764,
          2.0165937745268456,
          -1.186601957911982,
          -0.8314944292076336,
          -0.46207793920010803,
          0.11759878503277775,
          -0.46486529954252687,
          0.6029386347856334,
          -0.33018597428647706,
          -0.009613504426322677,
          0.9872410193142943,
          0.2440377627033009,
          0.18977165931531736,
          -0.6759265219314019,
          -0.705368350697958,
          2.625871847829621,
          1.6218716077031723,
          -2.799716407485826,
          -2.2039135318094103,
          0.303793009001111,
          -0.7237119546177894,
          1.806688841596908,
          -0.9334230739999114,
          0.2771158257256812,
          0.5484931304543167,
          -0.5310682268548499,
          0.26045181959778124,
          -1.1664989769384293,
          -0.5924313434244467,
          -0.903470166777184,
          0.1827433432749004,
          1.1951182534599574,
          0.9429850152610202,
          0.7718174963318698,
          -0.3932259789252067,
          -0.9876135657413847,
          0.06069370133947106,
          -0.3431001486732415,
          -1.4678282524891362,
          1.0620820253204266,
          -0.45220907136404775,
          0.3255127774116455,
          -0.5118683983115404,
          -1.4068154364000311,
          -0.6993079829811987,
          -1.8294456426161474,
          -0.19352574917505092,
          -0.5363175879157083,
          -0.4022870066216089,
          0.4843330327019152,
          -0.4028270480314041,
          -0.16088752894881542,
          -0.10235401898702981,
          0.269872266689026,
          -0.5211183369387445,
          1.4942821686889394,
          0.17909980069235,
          -0.6771140256279912,
          0.25538789387367294,
          -2.4142626729455747,
          2.278105352397342,
          0.9633934004854583,
          0.6369650835814333,
          1.3346267659621462,
          0.4847058208475034,
          1.493950984377913,
          0.608059480959266,
          -0.7449331063679395,
          -2.1561723967170456,
          -0.4618486399950229
         ]
        }
       ],
       "layout": {
        "legend": {
         "bgcolor": "#F5F6F9",
         "font": {
          "color": "#4D5663"
         }
        },
        "paper_bgcolor": "#F5F6F9",
        "plot_bgcolor": "#F5F6F9",
        "template": {
         "data": {
          "bar": [
           {
            "error_x": {
             "color": "#2a3f5f"
            },
            "error_y": {
             "color": "#2a3f5f"
            },
            "marker": {
             "line": {
              "color": "#E5ECF6",
              "width": 0.5
             }
            },
            "type": "bar"
           }
          ],
          "barpolar": [
           {
            "marker": {
             "line": {
              "color": "#E5ECF6",
              "width": 0.5
             }
            },
            "type": "barpolar"
           }
          ],
          "carpet": [
           {
            "aaxis": {
             "endlinecolor": "#2a3f5f",
             "gridcolor": "white",
             "linecolor": "white",
             "minorgridcolor": "white",
             "startlinecolor": "#2a3f5f"
            },
            "baxis": {
             "endlinecolor": "#2a3f5f",
             "gridcolor": "white",
             "linecolor": "white",
             "minorgridcolor": "white",
             "startlinecolor": "#2a3f5f"
            },
            "type": "carpet"
           }
          ],
          "choropleth": [
           {
            "colorbar": {
             "outlinewidth": 0,
             "ticks": ""
            },
            "type": "choropleth"
           }
          ],
          "contour": [
           {
            "colorbar": {
             "outlinewidth": 0,
             "ticks": ""
            },
            "colorscale": [
             [
              0,
              "#0d0887"
             ],
             [
              0.1111111111111111,
              "#46039f"
             ],
             [
              0.2222222222222222,
              "#7201a8"
             ],
             [
              0.3333333333333333,
              "#9c179e"
             ],
             [
              0.4444444444444444,
              "#bd3786"
             ],
             [
              0.5555555555555556,
              "#d8576b"
             ],
             [
              0.6666666666666666,
              "#ed7953"
             ],
             [
              0.7777777777777778,
              "#fb9f3a"
             ],
             [
              0.8888888888888888,
              "#fdca26"
             ],
             [
              1,
              "#f0f921"
             ]
            ],
            "type": "contour"
           }
          ],
          "contourcarpet": [
           {
            "colorbar": {
             "outlinewidth": 0,
             "ticks": ""
            },
            "type": "contourcarpet"
           }
          ],
          "heatmap": [
           {
            "colorbar": {
             "outlinewidth": 0,
             "ticks": ""
            },
            "colorscale": [
             [
              0,
              "#0d0887"
             ],
             [
              0.1111111111111111,
              "#46039f"
             ],
             [
              0.2222222222222222,
              "#7201a8"
             ],
             [
              0.3333333333333333,
              "#9c179e"
             ],
             [
              0.4444444444444444,
              "#bd3786"
             ],
             [
              0.5555555555555556,
              "#d8576b"
             ],
             [
              0.6666666666666666,
              "#ed7953"
             ],
             [
              0.7777777777777778,
              "#fb9f3a"
             ],
             [
              0.8888888888888888,
              "#fdca26"
             ],
             [
              1,
              "#f0f921"
             ]
            ],
            "type": "heatmap"
           }
          ],
          "heatmapgl": [
           {
            "colorbar": {
             "outlinewidth": 0,
             "ticks": ""
            },
            "colorscale": [
             [
              0,
              "#0d0887"
             ],
             [
              0.1111111111111111,
              "#46039f"
             ],
             [
              0.2222222222222222,
              "#7201a8"
             ],
             [
              0.3333333333333333,
              "#9c179e"
             ],
             [
              0.4444444444444444,
              "#bd3786"
             ],
             [
              0.5555555555555556,
              "#d8576b"
             ],
             [
              0.6666666666666666,
              "#ed7953"
             ],
             [
              0.7777777777777778,
              "#fb9f3a"
             ],
             [
              0.8888888888888888,
              "#fdca26"
             ],
             [
              1,
              "#f0f921"
             ]
            ],
            "type": "heatmapgl"
           }
          ],
          "histogram": [
           {
            "marker": {
             "colorbar": {
              "outlinewidth": 0,
              "ticks": ""
             }
            },
            "type": "histogram"
           }
          ],
          "histogram2d": [
           {
            "colorbar": {
             "outlinewidth": 0,
             "ticks": ""
            },
            "colorscale": [
             [
              0,
              "#0d0887"
             ],
             [
              0.1111111111111111,
              "#46039f"
             ],
             [
              0.2222222222222222,
              "#7201a8"
             ],
             [
              0.3333333333333333,
              "#9c179e"
             ],
             [
              0.4444444444444444,
              "#bd3786"
             ],
             [
              0.5555555555555556,
              "#d8576b"
             ],
             [
              0.6666666666666666,
              "#ed7953"
             ],
             [
              0.7777777777777778,
              "#fb9f3a"
             ],
             [
              0.8888888888888888,
              "#fdca26"
             ],
             [
              1,
              "#f0f921"
             ]
            ],
            "type": "histogram2d"
           }
          ],
          "histogram2dcontour": [
           {
            "colorbar": {
             "outlinewidth": 0,
             "ticks": ""
            },
            "colorscale": [
             [
              0,
              "#0d0887"
             ],
             [
              0.1111111111111111,
              "#46039f"
             ],
             [
              0.2222222222222222,
              "#7201a8"
             ],
             [
              0.3333333333333333,
              "#9c179e"
             ],
             [
              0.4444444444444444,
              "#bd3786"
             ],
             [
              0.5555555555555556,
              "#d8576b"
             ],
             [
              0.6666666666666666,
              "#ed7953"
             ],
             [
              0.7777777777777778,
              "#fb9f3a"
             ],
             [
              0.8888888888888888,
              "#fdca26"
             ],
             [
              1,
              "#f0f921"
             ]
            ],
            "type": "histogram2dcontour"
           }
          ],
          "mesh3d": [
           {
            "colorbar": {
             "outlinewidth": 0,
             "ticks": ""
            },
            "type": "mesh3d"
           }
          ],
          "parcoords": [
           {
            "line": {
             "colorbar": {
              "outlinewidth": 0,
              "ticks": ""
             }
            },
            "type": "parcoords"
           }
          ],
          "pie": [
           {
            "automargin": true,
            "type": "pie"
           }
          ],
          "scatter": [
           {
            "marker": {
             "colorbar": {
              "outlinewidth": 0,
              "ticks": ""
             }
            },
            "type": "scatter"
           }
          ],
          "scatter3d": [
           {
            "line": {
             "colorbar": {
              "outlinewidth": 0,
              "ticks": ""
             }
            },
            "marker": {
             "colorbar": {
              "outlinewidth": 0,
              "ticks": ""
             }
            },
            "type": "scatter3d"
           }
          ],
          "scattercarpet": [
           {
            "marker": {
             "colorbar": {
              "outlinewidth": 0,
              "ticks": ""
             }
            },
            "type": "scattercarpet"
           }
          ],
          "scattergeo": [
           {
            "marker": {
             "colorbar": {
              "outlinewidth": 0,
              "ticks": ""
             }
            },
            "type": "scattergeo"
           }
          ],
          "scattergl": [
           {
            "marker": {
             "colorbar": {
              "outlinewidth": 0,
              "ticks": ""
             }
            },
            "type": "scattergl"
           }
          ],
          "scattermapbox": [
           {
            "marker": {
             "colorbar": {
              "outlinewidth": 0,
              "ticks": ""
             }
            },
            "type": "scattermapbox"
           }
          ],
          "scatterpolar": [
           {
            "marker": {
             "colorbar": {
              "outlinewidth": 0,
              "ticks": ""
             }
            },
            "type": "scatterpolar"
           }
          ],
          "scatterpolargl": [
           {
            "marker": {
             "colorbar": {
              "outlinewidth": 0,
              "ticks": ""
             }
            },
            "type": "scatterpolargl"
           }
          ],
          "scatterternary": [
           {
            "marker": {
             "colorbar": {
              "outlinewidth": 0,
              "ticks": ""
             }
            },
            "type": "scatterternary"
           }
          ],
          "surface": [
           {
            "colorbar": {
             "outlinewidth": 0,
             "ticks": ""
            },
            "colorscale": [
             [
              0,
              "#0d0887"
             ],
             [
              0.1111111111111111,
              "#46039f"
             ],
             [
              0.2222222222222222,
              "#7201a8"
             ],
             [
              0.3333333333333333,
              "#9c179e"
             ],
             [
              0.4444444444444444,
              "#bd3786"
             ],
             [
              0.5555555555555556,
              "#d8576b"
             ],
             [
              0.6666666666666666,
              "#ed7953"
             ],
             [
              0.7777777777777778,
              "#fb9f3a"
             ],
             [
              0.8888888888888888,
              "#fdca26"
             ],
             [
              1,
              "#f0f921"
             ]
            ],
            "type": "surface"
           }
          ],
          "table": [
           {
            "cells": {
             "fill": {
              "color": "#EBF0F8"
             },
             "line": {
              "color": "white"
             }
            },
            "header": {
             "fill": {
              "color": "#C8D4E3"
             },
             "line": {
              "color": "white"
             }
            },
            "type": "table"
           }
          ]
         },
         "layout": {
          "annotationdefaults": {
           "arrowcolor": "#2a3f5f",
           "arrowhead": 0,
           "arrowwidth": 1
          },
          "coloraxis": {
           "colorbar": {
            "outlinewidth": 0,
            "ticks": ""
           }
          },
          "colorscale": {
           "diverging": [
            [
             0,
             "#8e0152"
            ],
            [
             0.1,
             "#c51b7d"
            ],
            [
             0.2,
             "#de77ae"
            ],
            [
             0.3,
             "#f1b6da"
            ],
            [
             0.4,
             "#fde0ef"
            ],
            [
             0.5,
             "#f7f7f7"
            ],
            [
             0.6,
             "#e6f5d0"
            ],
            [
             0.7,
             "#b8e186"
            ],
            [
             0.8,
             "#7fbc41"
            ],
            [
             0.9,
             "#4d9221"
            ],
            [
             1,
             "#276419"
            ]
           ],
           "sequential": [
            [
             0,
             "#0d0887"
            ],
            [
             0.1111111111111111,
             "#46039f"
            ],
            [
             0.2222222222222222,
             "#7201a8"
            ],
            [
             0.3333333333333333,
             "#9c179e"
            ],
            [
             0.4444444444444444,
             "#bd3786"
            ],
            [
             0.5555555555555556,
             "#d8576b"
            ],
            [
             0.6666666666666666,
             "#ed7953"
            ],
            [
             0.7777777777777778,
             "#fb9f3a"
            ],
            [
             0.8888888888888888,
             "#fdca26"
            ],
            [
             1,
             "#f0f921"
            ]
           ],
           "sequentialminus": [
            [
             0,
             "#0d0887"
            ],
            [
             0.1111111111111111,
             "#46039f"
            ],
            [
             0.2222222222222222,
             "#7201a8"
            ],
            [
             0.3333333333333333,
             "#9c179e"
            ],
            [
             0.4444444444444444,
             "#bd3786"
            ],
            [
             0.5555555555555556,
             "#d8576b"
            ],
            [
             0.6666666666666666,
             "#ed7953"
            ],
            [
             0.7777777777777778,
             "#fb9f3a"
            ],
            [
             0.8888888888888888,
             "#fdca26"
            ],
            [
             1,
             "#f0f921"
            ]
           ]
          },
          "colorway": [
           "#636efa",
           "#EF553B",
           "#00cc96",
           "#ab63fa",
           "#FFA15A",
           "#19d3f3",
           "#FF6692",
           "#B6E880",
           "#FF97FF",
           "#FECB52"
          ],
          "font": {
           "color": "#2a3f5f"
          },
          "geo": {
           "bgcolor": "white",
           "lakecolor": "white",
           "landcolor": "#E5ECF6",
           "showlakes": true,
           "showland": true,
           "subunitcolor": "white"
          },
          "hoverlabel": {
           "align": "left"
          },
          "hovermode": "closest",
          "mapbox": {
           "style": "light"
          },
          "paper_bgcolor": "white",
          "plot_bgcolor": "#E5ECF6",
          "polar": {
           "angularaxis": {
            "gridcolor": "white",
            "linecolor": "white",
            "ticks": ""
           },
           "bgcolor": "#E5ECF6",
           "radialaxis": {
            "gridcolor": "white",
            "linecolor": "white",
            "ticks": ""
           }
          },
          "scene": {
           "xaxis": {
            "backgroundcolor": "#E5ECF6",
            "gridcolor": "white",
            "gridwidth": 2,
            "linecolor": "white",
            "showbackground": true,
            "ticks": "",
            "zerolinecolor": "white"
           },
           "yaxis": {
            "backgroundcolor": "#E5ECF6",
            "gridcolor": "white",
            "gridwidth": 2,
            "linecolor": "white",
            "showbackground": true,
            "ticks": "",
            "zerolinecolor": "white"
           },
           "zaxis": {
            "backgroundcolor": "#E5ECF6",
            "gridcolor": "white",
            "gridwidth": 2,
            "linecolor": "white",
            "showbackground": true,
            "ticks": "",
            "zerolinecolor": "white"
           }
          },
          "shapedefaults": {
           "line": {
            "color": "#2a3f5f"
           }
          },
          "ternary": {
           "aaxis": {
            "gridcolor": "white",
            "linecolor": "white",
            "ticks": ""
           },
           "baxis": {
            "gridcolor": "white",
            "linecolor": "white",
            "ticks": ""
           },
           "bgcolor": "#E5ECF6",
           "caxis": {
            "gridcolor": "white",
            "linecolor": "white",
            "ticks": ""
           }
          },
          "title": {
           "x": 0.05
          },
          "xaxis": {
           "automargin": true,
           "gridcolor": "white",
           "linecolor": "white",
           "ticks": "",
           "title": {
            "standoff": 15
           },
           "zerolinecolor": "white",
           "zerolinewidth": 2
          },
          "yaxis": {
           "automargin": true,
           "gridcolor": "white",
           "linecolor": "white",
           "ticks": "",
           "title": {
            "standoff": 15
           },
           "zerolinecolor": "white",
           "zerolinewidth": 2
          }
         }
        },
        "title": {
         "font": {
          "color": "#4D5663"
         }
        },
        "xaxis": {
         "gridcolor": "#E1E5ED",
         "showgrid": true,
         "tickfont": {
          "color": "#4D5663"
         },
         "title": {
          "font": {
           "color": "#4D5663"
          },
          "text": ""
         },
         "zerolinecolor": "#E1E5ED"
        },
        "yaxis": {
         "gridcolor": "#E1E5ED",
         "showgrid": true,
         "tickfont": {
          "color": "#4D5663"
         },
         "title": {
          "font": {
           "color": "#4D5663"
          },
          "text": ""
         },
         "zerolinecolor": "#E1E5ED"
        }
       }
      },
      "text/html": [
       "<div>\n",
       "        \n",
       "        \n",
       "            <div id=\"33e270db-781a-4a3b-85b1-bc31c4d393cb\" class=\"plotly-graph-div\" style=\"height:525px; width:100%;\"></div>\n",
       "            <script type=\"text/javascript\">\n",
       "                require([\"plotly\"], function(Plotly) {\n",
       "                    window.PLOTLYENV=window.PLOTLYENV || {};\n",
       "                    window.PLOTLYENV.BASE_URL='https://plot.ly';\n",
       "                    \n",
       "                if (document.getElementById(\"33e270db-781a-4a3b-85b1-bc31c4d393cb\")) {\n",
       "                    Plotly.newPlot(\n",
       "                        '33e270db-781a-4a3b-85b1-bc31c4d393cb',\n",
       "                        [{\"line\": {\"color\": \"rgba(255, 153, 51, 1.0)\", \"dash\": \"solid\", \"shape\": \"linear\", \"width\": 1.3}, \"marker\": {\"size\": 5, \"symbol\": \"circle\"}, \"mode\": \"markers\", \"name\": \"B\", \"text\": \"\", \"type\": \"scatter\", \"x\": [-0.4297685383384342, 0.8992028500370997, -0.0529219344920944, -0.6575111293098215, 0.22208299129571782, 0.3794842146923049, -0.776042193527561, 0.20252386974764924, 0.5283888563058603, 0.42238405971072795, -0.06013466358030851, -0.00026800090693260357, -0.14388939098347012, 0.9344699379561042, 0.6783815719865144, 0.44503506029485257, -1.7459121312891714, -1.0030300108933405, 1.9884150558651161, -0.47184365204117884, -0.2595777957034208, 0.7400974312262351, 0.099309479647986, -0.6182408568594779, -0.09737112629162749, 1.0014953872001506, 0.2871753396523556, 1.5244479144569265, -0.23697854575363472, 0.020463560762592693, -1.1753745296203637, 0.43368223787654575, 2.24053767970503, -0.6384984081451017, -0.15584868195776844, -1.129993502850424, 1.486435661947022, 1.253760698328164, -0.13143816377831435, -1.6959507280045962, -0.5909461283664224, -0.9669632612257547, 0.1002289545273029, 0.06832115631372923, -0.23128484890668444, 0.5004811414606912, 0.4204561565082809, -1.05748043745096, 0.06683095599233774, 0.2980261452352181, -1.5226706426959702, 0.029547750310692927, 2.7094752196223126, -1.999918830221982, -1.4429817394634803, 1.2186716154519959, -0.933564385488572, 1.176427043693705, -0.35626527453103896, -0.9201267710595663, -0.4825603472456605, 1.0350105637639253, 0.7141270743667533, -0.7047888603102321, 0.07954844261010739, 0.9240461197773582, -0.2012367204600226, -0.18735870172077787, 0.8128846161700972, 0.572471733076174, 0.2172228806431597, 0.23258075293244185, -0.15037989852296424, 1.6489384008396495, -0.699170275452065, -1.1915880345536867, 0.791442180982393, -1.5343965160519073, -0.2119291089800813, 0.5147659474053279, 0.13256180204923343, 0.11804225234240634, 0.4175537717201645, -0.4404582829401427, 0.5628633036420924, -0.14853080183364786, 0.528931020376802, 0.7682140054890354, 0.5882154073068712, -0.6371179810453058, 0.00860135749083743, 1.784532008732318, 0.0630970787741614, 1.0806131230471097, -0.3368057268799231, -0.11396344278775078, 1.5040813118063128, -0.26955180544597684, -0.024390292942870706, -0.15560276318219723], \"y\": [-2.2286752844455777, -1.1325804605985426, -0.057504853523821425, -0.4372807380334668, 0.7196790346908422, -0.3049353605453905, -0.36769137325213835, -2.720548438240072, -0.9630851860163883, -0.2604981650092037, -0.8739159350872959, -2.597293836991736, 1.9279633238913891, -1.4857793145128506, -1.398384437744287, 0.9249812054111738, 0.9904484780182563, 0.5154826624657818, -2.118134319003685, -1.1737116775235958, 0.6767585900341822, 0.5461220282918061, -0.6990646057740326, -1.0110525490061775, -0.08120032622523697, 0.2636505021163572, 1.2323826718876643, -0.40486481243860833, 1.4760723751566938, -0.8209077663785059, 1.1402839958305764, 2.0165937745268456, -1.186601957911982, -0.8314944292076336, -0.46207793920010803, 0.11759878503277775, -0.46486529954252687, 0.6029386347856334, -0.33018597428647706, -0.009613504426322677, 0.9872410193142943, 0.2440377627033009, 0.18977165931531736, -0.6759265219314019, -0.705368350697958, 2.625871847829621, 1.6218716077031723, -2.799716407485826, -2.2039135318094103, 0.303793009001111, -0.7237119546177894, 1.806688841596908, -0.9334230739999114, 0.2771158257256812, 0.5484931304543167, -0.5310682268548499, 0.26045181959778124, -1.1664989769384293, -0.5924313434244467, -0.903470166777184, 0.1827433432749004, 1.1951182534599574, 0.9429850152610202, 0.7718174963318698, -0.3932259789252067, -0.9876135657413847, 0.06069370133947106, -0.3431001486732415, -1.4678282524891362, 1.0620820253204266, -0.45220907136404775, 0.3255127774116455, -0.5118683983115404, -1.4068154364000311, -0.6993079829811987, -1.8294456426161474, -0.19352574917505092, -0.5363175879157083, -0.4022870066216089, 0.4843330327019152, -0.4028270480314041, -0.16088752894881542, -0.10235401898702981, 0.269872266689026, -0.5211183369387445, 1.4942821686889394, 0.17909980069235, -0.6771140256279912, 0.25538789387367294, -2.4142626729455747, 2.278105352397342, 0.9633934004854583, 0.6369650835814333, 1.3346267659621462, 0.4847058208475034, 1.493950984377913, 0.608059480959266, -0.7449331063679395, -2.1561723967170456, -0.4618486399950229]}],\n",
       "                        {\"legend\": {\"bgcolor\": \"#F5F6F9\", \"font\": {\"color\": \"#4D5663\"}}, \"paper_bgcolor\": \"#F5F6F9\", \"plot_bgcolor\": \"#F5F6F9\", \"template\": {\"data\": {\"bar\": [{\"error_x\": {\"color\": \"#2a3f5f\"}, \"error_y\": {\"color\": \"#2a3f5f\"}, \"marker\": {\"line\": {\"color\": \"#E5ECF6\", \"width\": 0.5}}, \"type\": \"bar\"}], \"barpolar\": [{\"marker\": {\"line\": {\"color\": \"#E5ECF6\", \"width\": 0.5}}, \"type\": \"barpolar\"}], \"carpet\": [{\"aaxis\": {\"endlinecolor\": \"#2a3f5f\", \"gridcolor\": \"white\", \"linecolor\": \"white\", \"minorgridcolor\": \"white\", \"startlinecolor\": \"#2a3f5f\"}, \"baxis\": {\"endlinecolor\": \"#2a3f5f\", \"gridcolor\": \"white\", \"linecolor\": \"white\", \"minorgridcolor\": \"white\", \"startlinecolor\": \"#2a3f5f\"}, \"type\": \"carpet\"}], \"choropleth\": [{\"colorbar\": {\"outlinewidth\": 0, \"ticks\": \"\"}, \"type\": \"choropleth\"}], \"contour\": [{\"colorbar\": {\"outlinewidth\": 0, \"ticks\": \"\"}, \"colorscale\": [[0.0, \"#0d0887\"], [0.1111111111111111, \"#46039f\"], [0.2222222222222222, \"#7201a8\"], [0.3333333333333333, \"#9c179e\"], [0.4444444444444444, \"#bd3786\"], [0.5555555555555556, \"#d8576b\"], [0.6666666666666666, \"#ed7953\"], [0.7777777777777778, \"#fb9f3a\"], [0.8888888888888888, \"#fdca26\"], [1.0, \"#f0f921\"]], \"type\": \"contour\"}], \"contourcarpet\": [{\"colorbar\": {\"outlinewidth\": 0, \"ticks\": \"\"}, \"type\": \"contourcarpet\"}], \"heatmap\": [{\"colorbar\": {\"outlinewidth\": 0, \"ticks\": \"\"}, \"colorscale\": [[0.0, \"#0d0887\"], [0.1111111111111111, \"#46039f\"], [0.2222222222222222, \"#7201a8\"], [0.3333333333333333, \"#9c179e\"], [0.4444444444444444, \"#bd3786\"], [0.5555555555555556, \"#d8576b\"], [0.6666666666666666, \"#ed7953\"], [0.7777777777777778, \"#fb9f3a\"], [0.8888888888888888, \"#fdca26\"], [1.0, \"#f0f921\"]], \"type\": \"heatmap\"}], \"heatmapgl\": [{\"colorbar\": {\"outlinewidth\": 0, \"ticks\": \"\"}, \"colorscale\": [[0.0, \"#0d0887\"], [0.1111111111111111, \"#46039f\"], [0.2222222222222222, \"#7201a8\"], [0.3333333333333333, \"#9c179e\"], [0.4444444444444444, \"#bd3786\"], [0.5555555555555556, \"#d8576b\"], [0.6666666666666666, \"#ed7953\"], [0.7777777777777778, \"#fb9f3a\"], [0.8888888888888888, \"#fdca26\"], [1.0, \"#f0f921\"]], \"type\": \"heatmapgl\"}], \"histogram\": [{\"marker\": {\"colorbar\": {\"outlinewidth\": 0, \"ticks\": \"\"}}, \"type\": \"histogram\"}], \"histogram2d\": [{\"colorbar\": {\"outlinewidth\": 0, \"ticks\": \"\"}, \"colorscale\": [[0.0, \"#0d0887\"], [0.1111111111111111, \"#46039f\"], [0.2222222222222222, \"#7201a8\"], [0.3333333333333333, \"#9c179e\"], [0.4444444444444444, \"#bd3786\"], [0.5555555555555556, \"#d8576b\"], [0.6666666666666666, \"#ed7953\"], [0.7777777777777778, \"#fb9f3a\"], [0.8888888888888888, \"#fdca26\"], [1.0, \"#f0f921\"]], \"type\": \"histogram2d\"}], \"histogram2dcontour\": [{\"colorbar\": {\"outlinewidth\": 0, \"ticks\": \"\"}, \"colorscale\": [[0.0, \"#0d0887\"], [0.1111111111111111, \"#46039f\"], [0.2222222222222222, \"#7201a8\"], [0.3333333333333333, \"#9c179e\"], [0.4444444444444444, \"#bd3786\"], [0.5555555555555556, \"#d8576b\"], [0.6666666666666666, \"#ed7953\"], [0.7777777777777778, \"#fb9f3a\"], [0.8888888888888888, \"#fdca26\"], [1.0, \"#f0f921\"]], \"type\": \"histogram2dcontour\"}], \"mesh3d\": [{\"colorbar\": {\"outlinewidth\": 0, \"ticks\": \"\"}, \"type\": \"mesh3d\"}], \"parcoords\": [{\"line\": {\"colorbar\": {\"outlinewidth\": 0, \"ticks\": \"\"}}, \"type\": \"parcoords\"}], \"pie\": [{\"automargin\": true, \"type\": \"pie\"}], \"scatter\": [{\"marker\": {\"colorbar\": {\"outlinewidth\": 0, \"ticks\": \"\"}}, \"type\": \"scatter\"}], \"scatter3d\": [{\"line\": {\"colorbar\": {\"outlinewidth\": 0, \"ticks\": \"\"}}, \"marker\": {\"colorbar\": {\"outlinewidth\": 0, \"ticks\": \"\"}}, \"type\": \"scatter3d\"}], \"scattercarpet\": [{\"marker\": {\"colorbar\": {\"outlinewidth\": 0, \"ticks\": \"\"}}, \"type\": \"scattercarpet\"}], \"scattergeo\": [{\"marker\": {\"colorbar\": {\"outlinewidth\": 0, \"ticks\": \"\"}}, \"type\": \"scattergeo\"}], \"scattergl\": [{\"marker\": {\"colorbar\": {\"outlinewidth\": 0, \"ticks\": \"\"}}, \"type\": \"scattergl\"}], \"scattermapbox\": [{\"marker\": {\"colorbar\": {\"outlinewidth\": 0, \"ticks\": \"\"}}, \"type\": \"scattermapbox\"}], \"scatterpolar\": [{\"marker\": {\"colorbar\": {\"outlinewidth\": 0, \"ticks\": \"\"}}, \"type\": \"scatterpolar\"}], \"scatterpolargl\": [{\"marker\": {\"colorbar\": {\"outlinewidth\": 0, \"ticks\": \"\"}}, \"type\": \"scatterpolargl\"}], \"scatterternary\": [{\"marker\": {\"colorbar\": {\"outlinewidth\": 0, \"ticks\": \"\"}}, \"type\": \"scatterternary\"}], \"surface\": [{\"colorbar\": {\"outlinewidth\": 0, \"ticks\": \"\"}, \"colorscale\": [[0.0, \"#0d0887\"], [0.1111111111111111, \"#46039f\"], [0.2222222222222222, \"#7201a8\"], [0.3333333333333333, \"#9c179e\"], [0.4444444444444444, \"#bd3786\"], [0.5555555555555556, \"#d8576b\"], [0.6666666666666666, \"#ed7953\"], [0.7777777777777778, \"#fb9f3a\"], [0.8888888888888888, \"#fdca26\"], [1.0, \"#f0f921\"]], \"type\": \"surface\"}], \"table\": [{\"cells\": {\"fill\": {\"color\": \"#EBF0F8\"}, \"line\": {\"color\": \"white\"}}, \"header\": {\"fill\": {\"color\": \"#C8D4E3\"}, \"line\": {\"color\": \"white\"}}, \"type\": \"table\"}]}, \"layout\": {\"annotationdefaults\": {\"arrowcolor\": \"#2a3f5f\", \"arrowhead\": 0, \"arrowwidth\": 1}, \"coloraxis\": {\"colorbar\": {\"outlinewidth\": 0, \"ticks\": \"\"}}, \"colorscale\": {\"diverging\": [[0, \"#8e0152\"], [0.1, \"#c51b7d\"], [0.2, \"#de77ae\"], [0.3, \"#f1b6da\"], [0.4, \"#fde0ef\"], [0.5, \"#f7f7f7\"], [0.6, \"#e6f5d0\"], [0.7, \"#b8e186\"], [0.8, \"#7fbc41\"], [0.9, \"#4d9221\"], [1, \"#276419\"]], \"sequential\": [[0.0, \"#0d0887\"], [0.1111111111111111, \"#46039f\"], [0.2222222222222222, \"#7201a8\"], [0.3333333333333333, \"#9c179e\"], [0.4444444444444444, \"#bd3786\"], [0.5555555555555556, \"#d8576b\"], [0.6666666666666666, \"#ed7953\"], [0.7777777777777778, \"#fb9f3a\"], [0.8888888888888888, \"#fdca26\"], [1.0, \"#f0f921\"]], \"sequentialminus\": [[0.0, \"#0d0887\"], [0.1111111111111111, \"#46039f\"], [0.2222222222222222, \"#7201a8\"], [0.3333333333333333, \"#9c179e\"], [0.4444444444444444, \"#bd3786\"], [0.5555555555555556, \"#d8576b\"], [0.6666666666666666, \"#ed7953\"], [0.7777777777777778, \"#fb9f3a\"], [0.8888888888888888, \"#fdca26\"], [1.0, \"#f0f921\"]]}, \"colorway\": [\"#636efa\", \"#EF553B\", \"#00cc96\", \"#ab63fa\", \"#FFA15A\", \"#19d3f3\", \"#FF6692\", \"#B6E880\", \"#FF97FF\", \"#FECB52\"], \"font\": {\"color\": \"#2a3f5f\"}, \"geo\": {\"bgcolor\": \"white\", \"lakecolor\": \"white\", \"landcolor\": \"#E5ECF6\", \"showlakes\": true, \"showland\": true, \"subunitcolor\": \"white\"}, \"hoverlabel\": {\"align\": \"left\"}, \"hovermode\": \"closest\", \"mapbox\": {\"style\": \"light\"}, \"paper_bgcolor\": \"white\", \"plot_bgcolor\": \"#E5ECF6\", \"polar\": {\"angularaxis\": {\"gridcolor\": \"white\", \"linecolor\": \"white\", \"ticks\": \"\"}, \"bgcolor\": \"#E5ECF6\", \"radialaxis\": {\"gridcolor\": \"white\", \"linecolor\": \"white\", \"ticks\": \"\"}}, \"scene\": {\"xaxis\": {\"backgroundcolor\": \"#E5ECF6\", \"gridcolor\": \"white\", \"gridwidth\": 2, \"linecolor\": \"white\", \"showbackground\": true, \"ticks\": \"\", \"zerolinecolor\": \"white\"}, \"yaxis\": {\"backgroundcolor\": \"#E5ECF6\", \"gridcolor\": \"white\", \"gridwidth\": 2, \"linecolor\": \"white\", \"showbackground\": true, \"ticks\": \"\", \"zerolinecolor\": \"white\"}, \"zaxis\": {\"backgroundcolor\": \"#E5ECF6\", \"gridcolor\": \"white\", \"gridwidth\": 2, \"linecolor\": \"white\", \"showbackground\": true, \"ticks\": \"\", \"zerolinecolor\": \"white\"}}, \"shapedefaults\": {\"line\": {\"color\": \"#2a3f5f\"}}, \"ternary\": {\"aaxis\": {\"gridcolor\": \"white\", \"linecolor\": \"white\", \"ticks\": \"\"}, \"baxis\": {\"gridcolor\": \"white\", \"linecolor\": \"white\", \"ticks\": \"\"}, \"bgcolor\": \"#E5ECF6\", \"caxis\": {\"gridcolor\": \"white\", \"linecolor\": \"white\", \"ticks\": \"\"}}, \"title\": {\"x\": 0.05}, \"xaxis\": {\"automargin\": true, \"gridcolor\": \"white\", \"linecolor\": \"white\", \"ticks\": \"\", \"title\": {\"standoff\": 15}, \"zerolinecolor\": \"white\", \"zerolinewidth\": 2}, \"yaxis\": {\"automargin\": true, \"gridcolor\": \"white\", \"linecolor\": \"white\", \"ticks\": \"\", \"title\": {\"standoff\": 15}, \"zerolinecolor\": \"white\", \"zerolinewidth\": 2}}}, \"title\": {\"font\": {\"color\": \"#4D5663\"}}, \"xaxis\": {\"gridcolor\": \"#E1E5ED\", \"showgrid\": true, \"tickfont\": {\"color\": \"#4D5663\"}, \"title\": {\"font\": {\"color\": \"#4D5663\"}, \"text\": \"\"}, \"zerolinecolor\": \"#E1E5ED\"}, \"yaxis\": {\"gridcolor\": \"#E1E5ED\", \"showgrid\": true, \"tickfont\": {\"color\": \"#4D5663\"}, \"title\": {\"font\": {\"color\": \"#4D5663\"}, \"text\": \"\"}, \"zerolinecolor\": \"#E1E5ED\"}},\n",
       "                        {\"showLink\": true, \"linkText\": \"Export to plot.ly\", \"plotlyServerURL\": \"https://plot.ly\", \"responsive\": true}\n",
       "                    ).then(function(){\n",
       "                            \n",
       "var gd = document.getElementById('33e270db-781a-4a3b-85b1-bc31c4d393cb');\n",
       "var x = new MutationObserver(function (mutations, observer) {{\n",
       "        var display = window.getComputedStyle(gd).display;\n",
       "        if (!display || display === 'none') {{\n",
       "            console.log([gd, 'removed!']);\n",
       "            Plotly.purge(gd);\n",
       "            observer.disconnect();\n",
       "        }}\n",
       "}});\n",
       "\n",
       "// Listen for the removal of the full notebook cells\n",
       "var notebookContainer = gd.closest('#notebook-container');\n",
       "if (notebookContainer) {{\n",
       "    x.observe(notebookContainer, {childList: true});\n",
       "}}\n",
       "\n",
       "// Listen for the clearing of the current output cell\n",
       "var outputEl = gd.closest('.output');\n",
       "if (outputEl) {{\n",
       "    x.observe(outputEl, {childList: true});\n",
       "}}\n",
       "\n",
       "                        })\n",
       "                };\n",
       "                });\n",
       "            </script>\n",
       "        </div>"
      ]
     },
     "metadata": {},
     "output_type": "display_data"
    }
   ],
   "source": [
    "df.iplot(kind='scatter',x='A',y='B',mode='markers',size=5)"
   ]
  },
  {
   "cell_type": "markdown",
   "metadata": {},
   "source": [
    "## Bar Plots"
   ]
  },
  {
   "cell_type": "code",
   "execution_count": 13,
   "metadata": {},
   "outputs": [
    {
     "data": {
      "application/vnd.plotly.v1+json": {
       "config": {
        "linkText": "Export to plot.ly",
        "plotlyServerURL": "https://plot.ly",
        "showLink": true
       },
       "data": [
        {
         "marker": {
          "color": "rgba(255, 153, 51, 0.6)",
          "line": {
           "color": "rgba(255, 153, 51, 1.0)",
           "width": 1
          }
         },
         "name": "Values",
         "orientation": "v",
         "text": "",
         "type": "bar",
         "x": [
          "A",
          "B",
          "C"
         ],
         "y": [
          32,
          43,
          50
         ]
        }
       ],
       "layout": {
        "legend": {
         "bgcolor": "#F5F6F9",
         "font": {
          "color": "#4D5663"
         }
        },
        "paper_bgcolor": "#F5F6F9",
        "plot_bgcolor": "#F5F6F9",
        "template": {
         "data": {
          "bar": [
           {
            "error_x": {
             "color": "#2a3f5f"
            },
            "error_y": {
             "color": "#2a3f5f"
            },
            "marker": {
             "line": {
              "color": "#E5ECF6",
              "width": 0.5
             }
            },
            "type": "bar"
           }
          ],
          "barpolar": [
           {
            "marker": {
             "line": {
              "color": "#E5ECF6",
              "width": 0.5
             }
            },
            "type": "barpolar"
           }
          ],
          "carpet": [
           {
            "aaxis": {
             "endlinecolor": "#2a3f5f",
             "gridcolor": "white",
             "linecolor": "white",
             "minorgridcolor": "white",
             "startlinecolor": "#2a3f5f"
            },
            "baxis": {
             "endlinecolor": "#2a3f5f",
             "gridcolor": "white",
             "linecolor": "white",
             "minorgridcolor": "white",
             "startlinecolor": "#2a3f5f"
            },
            "type": "carpet"
           }
          ],
          "choropleth": [
           {
            "colorbar": {
             "outlinewidth": 0,
             "ticks": ""
            },
            "type": "choropleth"
           }
          ],
          "contour": [
           {
            "colorbar": {
             "outlinewidth": 0,
             "ticks": ""
            },
            "colorscale": [
             [
              0,
              "#0d0887"
             ],
             [
              0.1111111111111111,
              "#46039f"
             ],
             [
              0.2222222222222222,
              "#7201a8"
             ],
             [
              0.3333333333333333,
              "#9c179e"
             ],
             [
              0.4444444444444444,
              "#bd3786"
             ],
             [
              0.5555555555555556,
              "#d8576b"
             ],
             [
              0.6666666666666666,
              "#ed7953"
             ],
             [
              0.7777777777777778,
              "#fb9f3a"
             ],
             [
              0.8888888888888888,
              "#fdca26"
             ],
             [
              1,
              "#f0f921"
             ]
            ],
            "type": "contour"
           }
          ],
          "contourcarpet": [
           {
            "colorbar": {
             "outlinewidth": 0,
             "ticks": ""
            },
            "type": "contourcarpet"
           }
          ],
          "heatmap": [
           {
            "colorbar": {
             "outlinewidth": 0,
             "ticks": ""
            },
            "colorscale": [
             [
              0,
              "#0d0887"
             ],
             [
              0.1111111111111111,
              "#46039f"
             ],
             [
              0.2222222222222222,
              "#7201a8"
             ],
             [
              0.3333333333333333,
              "#9c179e"
             ],
             [
              0.4444444444444444,
              "#bd3786"
             ],
             [
              0.5555555555555556,
              "#d8576b"
             ],
             [
              0.6666666666666666,
              "#ed7953"
             ],
             [
              0.7777777777777778,
              "#fb9f3a"
             ],
             [
              0.8888888888888888,
              "#fdca26"
             ],
             [
              1,
              "#f0f921"
             ]
            ],
            "type": "heatmap"
           }
          ],
          "heatmapgl": [
           {
            "colorbar": {
             "outlinewidth": 0,
             "ticks": ""
            },
            "colorscale": [
             [
              0,
              "#0d0887"
             ],
             [
              0.1111111111111111,
              "#46039f"
             ],
             [
              0.2222222222222222,
              "#7201a8"
             ],
             [
              0.3333333333333333,
              "#9c179e"
             ],
             [
              0.4444444444444444,
              "#bd3786"
             ],
             [
              0.5555555555555556,
              "#d8576b"
             ],
             [
              0.6666666666666666,
              "#ed7953"
             ],
             [
              0.7777777777777778,
              "#fb9f3a"
             ],
             [
              0.8888888888888888,
              "#fdca26"
             ],
             [
              1,
              "#f0f921"
             ]
            ],
            "type": "heatmapgl"
           }
          ],
          "histogram": [
           {
            "marker": {
             "colorbar": {
              "outlinewidth": 0,
              "ticks": ""
             }
            },
            "type": "histogram"
           }
          ],
          "histogram2d": [
           {
            "colorbar": {
             "outlinewidth": 0,
             "ticks": ""
            },
            "colorscale": [
             [
              0,
              "#0d0887"
             ],
             [
              0.1111111111111111,
              "#46039f"
             ],
             [
              0.2222222222222222,
              "#7201a8"
             ],
             [
              0.3333333333333333,
              "#9c179e"
             ],
             [
              0.4444444444444444,
              "#bd3786"
             ],
             [
              0.5555555555555556,
              "#d8576b"
             ],
             [
              0.6666666666666666,
              "#ed7953"
             ],
             [
              0.7777777777777778,
              "#fb9f3a"
             ],
             [
              0.8888888888888888,
              "#fdca26"
             ],
             [
              1,
              "#f0f921"
             ]
            ],
            "type": "histogram2d"
           }
          ],
          "histogram2dcontour": [
           {
            "colorbar": {
             "outlinewidth": 0,
             "ticks": ""
            },
            "colorscale": [
             [
              0,
              "#0d0887"
             ],
             [
              0.1111111111111111,
              "#46039f"
             ],
             [
              0.2222222222222222,
              "#7201a8"
             ],
             [
              0.3333333333333333,
              "#9c179e"
             ],
             [
              0.4444444444444444,
              "#bd3786"
             ],
             [
              0.5555555555555556,
              "#d8576b"
             ],
             [
              0.6666666666666666,
              "#ed7953"
             ],
             [
              0.7777777777777778,
              "#fb9f3a"
             ],
             [
              0.8888888888888888,
              "#fdca26"
             ],
             [
              1,
              "#f0f921"
             ]
            ],
            "type": "histogram2dcontour"
           }
          ],
          "mesh3d": [
           {
            "colorbar": {
             "outlinewidth": 0,
             "ticks": ""
            },
            "type": "mesh3d"
           }
          ],
          "parcoords": [
           {
            "line": {
             "colorbar": {
              "outlinewidth": 0,
              "ticks": ""
             }
            },
            "type": "parcoords"
           }
          ],
          "pie": [
           {
            "automargin": true,
            "type": "pie"
           }
          ],
          "scatter": [
           {
            "marker": {
             "colorbar": {
              "outlinewidth": 0,
              "ticks": ""
             }
            },
            "type": "scatter"
           }
          ],
          "scatter3d": [
           {
            "line": {
             "colorbar": {
              "outlinewidth": 0,
              "ticks": ""
             }
            },
            "marker": {
             "colorbar": {
              "outlinewidth": 0,
              "ticks": ""
             }
            },
            "type": "scatter3d"
           }
          ],
          "scattercarpet": [
           {
            "marker": {
             "colorbar": {
              "outlinewidth": 0,
              "ticks": ""
             }
            },
            "type": "scattercarpet"
           }
          ],
          "scattergeo": [
           {
            "marker": {
             "colorbar": {
              "outlinewidth": 0,
              "ticks": ""
             }
            },
            "type": "scattergeo"
           }
          ],
          "scattergl": [
           {
            "marker": {
             "colorbar": {
              "outlinewidth": 0,
              "ticks": ""
             }
            },
            "type": "scattergl"
           }
          ],
          "scattermapbox": [
           {
            "marker": {
             "colorbar": {
              "outlinewidth": 0,
              "ticks": ""
             }
            },
            "type": "scattermapbox"
           }
          ],
          "scatterpolar": [
           {
            "marker": {
             "colorbar": {
              "outlinewidth": 0,
              "ticks": ""
             }
            },
            "type": "scatterpolar"
           }
          ],
          "scatterpolargl": [
           {
            "marker": {
             "colorbar": {
              "outlinewidth": 0,
              "ticks": ""
             }
            },
            "type": "scatterpolargl"
           }
          ],
          "scatterternary": [
           {
            "marker": {
             "colorbar": {
              "outlinewidth": 0,
              "ticks": ""
             }
            },
            "type": "scatterternary"
           }
          ],
          "surface": [
           {
            "colorbar": {
             "outlinewidth": 0,
             "ticks": ""
            },
            "colorscale": [
             [
              0,
              "#0d0887"
             ],
             [
              0.1111111111111111,
              "#46039f"
             ],
             [
              0.2222222222222222,
              "#7201a8"
             ],
             [
              0.3333333333333333,
              "#9c179e"
             ],
             [
              0.4444444444444444,
              "#bd3786"
             ],
             [
              0.5555555555555556,
              "#d8576b"
             ],
             [
              0.6666666666666666,
              "#ed7953"
             ],
             [
              0.7777777777777778,
              "#fb9f3a"
             ],
             [
              0.8888888888888888,
              "#fdca26"
             ],
             [
              1,
              "#f0f921"
             ]
            ],
            "type": "surface"
           }
          ],
          "table": [
           {
            "cells": {
             "fill": {
              "color": "#EBF0F8"
             },
             "line": {
              "color": "white"
             }
            },
            "header": {
             "fill": {
              "color": "#C8D4E3"
             },
             "line": {
              "color": "white"
             }
            },
            "type": "table"
           }
          ]
         },
         "layout": {
          "annotationdefaults": {
           "arrowcolor": "#2a3f5f",
           "arrowhead": 0,
           "arrowwidth": 1
          },
          "coloraxis": {
           "colorbar": {
            "outlinewidth": 0,
            "ticks": ""
           }
          },
          "colorscale": {
           "diverging": [
            [
             0,
             "#8e0152"
            ],
            [
             0.1,
             "#c51b7d"
            ],
            [
             0.2,
             "#de77ae"
            ],
            [
             0.3,
             "#f1b6da"
            ],
            [
             0.4,
             "#fde0ef"
            ],
            [
             0.5,
             "#f7f7f7"
            ],
            [
             0.6,
             "#e6f5d0"
            ],
            [
             0.7,
             "#b8e186"
            ],
            [
             0.8,
             "#7fbc41"
            ],
            [
             0.9,
             "#4d9221"
            ],
            [
             1,
             "#276419"
            ]
           ],
           "sequential": [
            [
             0,
             "#0d0887"
            ],
            [
             0.1111111111111111,
             "#46039f"
            ],
            [
             0.2222222222222222,
             "#7201a8"
            ],
            [
             0.3333333333333333,
             "#9c179e"
            ],
            [
             0.4444444444444444,
             "#bd3786"
            ],
            [
             0.5555555555555556,
             "#d8576b"
            ],
            [
             0.6666666666666666,
             "#ed7953"
            ],
            [
             0.7777777777777778,
             "#fb9f3a"
            ],
            [
             0.8888888888888888,
             "#fdca26"
            ],
            [
             1,
             "#f0f921"
            ]
           ],
           "sequentialminus": [
            [
             0,
             "#0d0887"
            ],
            [
             0.1111111111111111,
             "#46039f"
            ],
            [
             0.2222222222222222,
             "#7201a8"
            ],
            [
             0.3333333333333333,
             "#9c179e"
            ],
            [
             0.4444444444444444,
             "#bd3786"
            ],
            [
             0.5555555555555556,
             "#d8576b"
            ],
            [
             0.6666666666666666,
             "#ed7953"
            ],
            [
             0.7777777777777778,
             "#fb9f3a"
            ],
            [
             0.8888888888888888,
             "#fdca26"
            ],
            [
             1,
             "#f0f921"
            ]
           ]
          },
          "colorway": [
           "#636efa",
           "#EF553B",
           "#00cc96",
           "#ab63fa",
           "#FFA15A",
           "#19d3f3",
           "#FF6692",
           "#B6E880",
           "#FF97FF",
           "#FECB52"
          ],
          "font": {
           "color": "#2a3f5f"
          },
          "geo": {
           "bgcolor": "white",
           "lakecolor": "white",
           "landcolor": "#E5ECF6",
           "showlakes": true,
           "showland": true,
           "subunitcolor": "white"
          },
          "hoverlabel": {
           "align": "left"
          },
          "hovermode": "closest",
          "mapbox": {
           "style": "light"
          },
          "paper_bgcolor": "white",
          "plot_bgcolor": "#E5ECF6",
          "polar": {
           "angularaxis": {
            "gridcolor": "white",
            "linecolor": "white",
            "ticks": ""
           },
           "bgcolor": "#E5ECF6",
           "radialaxis": {
            "gridcolor": "white",
            "linecolor": "white",
            "ticks": ""
           }
          },
          "scene": {
           "xaxis": {
            "backgroundcolor": "#E5ECF6",
            "gridcolor": "white",
            "gridwidth": 2,
            "linecolor": "white",
            "showbackground": true,
            "ticks": "",
            "zerolinecolor": "white"
           },
           "yaxis": {
            "backgroundcolor": "#E5ECF6",
            "gridcolor": "white",
            "gridwidth": 2,
            "linecolor": "white",
            "showbackground": true,
            "ticks": "",
            "zerolinecolor": "white"
           },
           "zaxis": {
            "backgroundcolor": "#E5ECF6",
            "gridcolor": "white",
            "gridwidth": 2,
            "linecolor": "white",
            "showbackground": true,
            "ticks": "",
            "zerolinecolor": "white"
           }
          },
          "shapedefaults": {
           "line": {
            "color": "#2a3f5f"
           }
          },
          "ternary": {
           "aaxis": {
            "gridcolor": "white",
            "linecolor": "white",
            "ticks": ""
           },
           "baxis": {
            "gridcolor": "white",
            "linecolor": "white",
            "ticks": ""
           },
           "bgcolor": "#E5ECF6",
           "caxis": {
            "gridcolor": "white",
            "linecolor": "white",
            "ticks": ""
           }
          },
          "title": {
           "x": 0.05
          },
          "xaxis": {
           "automargin": true,
           "gridcolor": "white",
           "linecolor": "white",
           "ticks": "",
           "title": {
            "standoff": 15
           },
           "zerolinecolor": "white",
           "zerolinewidth": 2
          },
          "yaxis": {
           "automargin": true,
           "gridcolor": "white",
           "linecolor": "white",
           "ticks": "",
           "title": {
            "standoff": 15
           },
           "zerolinecolor": "white",
           "zerolinewidth": 2
          }
         }
        },
        "title": {
         "font": {
          "color": "#4D5663"
         }
        },
        "xaxis": {
         "gridcolor": "#E1E5ED",
         "showgrid": true,
         "tickfont": {
          "color": "#4D5663"
         },
         "title": {
          "font": {
           "color": "#4D5663"
          },
          "text": ""
         },
         "zerolinecolor": "#E1E5ED"
        },
        "yaxis": {
         "gridcolor": "#E1E5ED",
         "showgrid": true,
         "tickfont": {
          "color": "#4D5663"
         },
         "title": {
          "font": {
           "color": "#4D5663"
          },
          "text": ""
         },
         "zerolinecolor": "#E1E5ED"
        }
       }
      },
      "text/html": [
       "<div>\n",
       "        \n",
       "        \n",
       "            <div id=\"8767f5b7-685c-495e-ad35-43746e0045c9\" class=\"plotly-graph-div\" style=\"height:525px; width:100%;\"></div>\n",
       "            <script type=\"text/javascript\">\n",
       "                require([\"plotly\"], function(Plotly) {\n",
       "                    window.PLOTLYENV=window.PLOTLYENV || {};\n",
       "                    window.PLOTLYENV.BASE_URL='https://plot.ly';\n",
       "                    \n",
       "                if (document.getElementById(\"8767f5b7-685c-495e-ad35-43746e0045c9\")) {\n",
       "                    Plotly.newPlot(\n",
       "                        '8767f5b7-685c-495e-ad35-43746e0045c9',\n",
       "                        [{\"marker\": {\"color\": \"rgba(255, 153, 51, 0.6)\", \"line\": {\"color\": \"rgba(255, 153, 51, 1.0)\", \"width\": 1}}, \"name\": \"Values\", \"orientation\": \"v\", \"text\": \"\", \"type\": \"bar\", \"x\": [\"A\", \"B\", \"C\"], \"y\": [32, 43, 50]}],\n",
       "                        {\"legend\": {\"bgcolor\": \"#F5F6F9\", \"font\": {\"color\": \"#4D5663\"}}, \"paper_bgcolor\": \"#F5F6F9\", \"plot_bgcolor\": \"#F5F6F9\", \"template\": {\"data\": {\"bar\": [{\"error_x\": {\"color\": \"#2a3f5f\"}, \"error_y\": {\"color\": \"#2a3f5f\"}, \"marker\": {\"line\": {\"color\": \"#E5ECF6\", \"width\": 0.5}}, \"type\": \"bar\"}], \"barpolar\": [{\"marker\": {\"line\": {\"color\": \"#E5ECF6\", \"width\": 0.5}}, \"type\": \"barpolar\"}], \"carpet\": [{\"aaxis\": {\"endlinecolor\": \"#2a3f5f\", \"gridcolor\": \"white\", \"linecolor\": \"white\", \"minorgridcolor\": \"white\", \"startlinecolor\": \"#2a3f5f\"}, \"baxis\": {\"endlinecolor\": \"#2a3f5f\", \"gridcolor\": \"white\", \"linecolor\": \"white\", \"minorgridcolor\": \"white\", \"startlinecolor\": \"#2a3f5f\"}, \"type\": \"carpet\"}], \"choropleth\": [{\"colorbar\": {\"outlinewidth\": 0, \"ticks\": \"\"}, \"type\": \"choropleth\"}], \"contour\": [{\"colorbar\": {\"outlinewidth\": 0, \"ticks\": \"\"}, \"colorscale\": [[0.0, \"#0d0887\"], [0.1111111111111111, \"#46039f\"], [0.2222222222222222, \"#7201a8\"], [0.3333333333333333, \"#9c179e\"], [0.4444444444444444, \"#bd3786\"], [0.5555555555555556, \"#d8576b\"], [0.6666666666666666, \"#ed7953\"], [0.7777777777777778, \"#fb9f3a\"], [0.8888888888888888, \"#fdca26\"], [1.0, \"#f0f921\"]], \"type\": \"contour\"}], \"contourcarpet\": [{\"colorbar\": {\"outlinewidth\": 0, \"ticks\": \"\"}, \"type\": \"contourcarpet\"}], \"heatmap\": [{\"colorbar\": {\"outlinewidth\": 0, \"ticks\": \"\"}, \"colorscale\": [[0.0, \"#0d0887\"], [0.1111111111111111, \"#46039f\"], [0.2222222222222222, \"#7201a8\"], [0.3333333333333333, \"#9c179e\"], [0.4444444444444444, \"#bd3786\"], [0.5555555555555556, \"#d8576b\"], [0.6666666666666666, \"#ed7953\"], [0.7777777777777778, \"#fb9f3a\"], [0.8888888888888888, \"#fdca26\"], [1.0, \"#f0f921\"]], \"type\": \"heatmap\"}], \"heatmapgl\": [{\"colorbar\": {\"outlinewidth\": 0, \"ticks\": \"\"}, \"colorscale\": [[0.0, \"#0d0887\"], [0.1111111111111111, \"#46039f\"], [0.2222222222222222, \"#7201a8\"], [0.3333333333333333, \"#9c179e\"], [0.4444444444444444, \"#bd3786\"], [0.5555555555555556, \"#d8576b\"], [0.6666666666666666, \"#ed7953\"], [0.7777777777777778, \"#fb9f3a\"], [0.8888888888888888, \"#fdca26\"], [1.0, \"#f0f921\"]], \"type\": \"heatmapgl\"}], \"histogram\": [{\"marker\": {\"colorbar\": {\"outlinewidth\": 0, \"ticks\": \"\"}}, \"type\": \"histogram\"}], \"histogram2d\": [{\"colorbar\": {\"outlinewidth\": 0, \"ticks\": \"\"}, \"colorscale\": [[0.0, \"#0d0887\"], [0.1111111111111111, \"#46039f\"], [0.2222222222222222, \"#7201a8\"], [0.3333333333333333, \"#9c179e\"], [0.4444444444444444, \"#bd3786\"], [0.5555555555555556, \"#d8576b\"], [0.6666666666666666, \"#ed7953\"], [0.7777777777777778, \"#fb9f3a\"], [0.8888888888888888, \"#fdca26\"], [1.0, \"#f0f921\"]], \"type\": \"histogram2d\"}], \"histogram2dcontour\": [{\"colorbar\": {\"outlinewidth\": 0, \"ticks\": \"\"}, \"colorscale\": [[0.0, \"#0d0887\"], [0.1111111111111111, \"#46039f\"], [0.2222222222222222, \"#7201a8\"], [0.3333333333333333, \"#9c179e\"], [0.4444444444444444, \"#bd3786\"], [0.5555555555555556, \"#d8576b\"], [0.6666666666666666, \"#ed7953\"], [0.7777777777777778, \"#fb9f3a\"], [0.8888888888888888, \"#fdca26\"], [1.0, \"#f0f921\"]], \"type\": \"histogram2dcontour\"}], \"mesh3d\": [{\"colorbar\": {\"outlinewidth\": 0, \"ticks\": \"\"}, \"type\": \"mesh3d\"}], \"parcoords\": [{\"line\": {\"colorbar\": {\"outlinewidth\": 0, \"ticks\": \"\"}}, \"type\": \"parcoords\"}], \"pie\": [{\"automargin\": true, \"type\": \"pie\"}], \"scatter\": [{\"marker\": {\"colorbar\": {\"outlinewidth\": 0, \"ticks\": \"\"}}, \"type\": \"scatter\"}], \"scatter3d\": [{\"line\": {\"colorbar\": {\"outlinewidth\": 0, \"ticks\": \"\"}}, \"marker\": {\"colorbar\": {\"outlinewidth\": 0, \"ticks\": \"\"}}, \"type\": \"scatter3d\"}], \"scattercarpet\": [{\"marker\": {\"colorbar\": {\"outlinewidth\": 0, \"ticks\": \"\"}}, \"type\": \"scattercarpet\"}], \"scattergeo\": [{\"marker\": {\"colorbar\": {\"outlinewidth\": 0, \"ticks\": \"\"}}, \"type\": \"scattergeo\"}], \"scattergl\": [{\"marker\": {\"colorbar\": {\"outlinewidth\": 0, \"ticks\": \"\"}}, \"type\": \"scattergl\"}], \"scattermapbox\": [{\"marker\": {\"colorbar\": {\"outlinewidth\": 0, \"ticks\": \"\"}}, \"type\": \"scattermapbox\"}], \"scatterpolar\": [{\"marker\": {\"colorbar\": {\"outlinewidth\": 0, \"ticks\": \"\"}}, \"type\": \"scatterpolar\"}], \"scatterpolargl\": [{\"marker\": {\"colorbar\": {\"outlinewidth\": 0, \"ticks\": \"\"}}, \"type\": \"scatterpolargl\"}], \"scatterternary\": [{\"marker\": {\"colorbar\": {\"outlinewidth\": 0, \"ticks\": \"\"}}, \"type\": \"scatterternary\"}], \"surface\": [{\"colorbar\": {\"outlinewidth\": 0, \"ticks\": \"\"}, \"colorscale\": [[0.0, \"#0d0887\"], [0.1111111111111111, \"#46039f\"], [0.2222222222222222, \"#7201a8\"], [0.3333333333333333, \"#9c179e\"], [0.4444444444444444, \"#bd3786\"], [0.5555555555555556, \"#d8576b\"], [0.6666666666666666, \"#ed7953\"], [0.7777777777777778, \"#fb9f3a\"], [0.8888888888888888, \"#fdca26\"], [1.0, \"#f0f921\"]], \"type\": \"surface\"}], \"table\": [{\"cells\": {\"fill\": {\"color\": \"#EBF0F8\"}, \"line\": {\"color\": \"white\"}}, \"header\": {\"fill\": {\"color\": \"#C8D4E3\"}, \"line\": {\"color\": \"white\"}}, \"type\": \"table\"}]}, \"layout\": {\"annotationdefaults\": {\"arrowcolor\": \"#2a3f5f\", \"arrowhead\": 0, \"arrowwidth\": 1}, \"coloraxis\": {\"colorbar\": {\"outlinewidth\": 0, \"ticks\": \"\"}}, \"colorscale\": {\"diverging\": [[0, \"#8e0152\"], [0.1, \"#c51b7d\"], [0.2, \"#de77ae\"], [0.3, \"#f1b6da\"], [0.4, \"#fde0ef\"], [0.5, \"#f7f7f7\"], [0.6, \"#e6f5d0\"], [0.7, \"#b8e186\"], [0.8, \"#7fbc41\"], [0.9, \"#4d9221\"], [1, \"#276419\"]], \"sequential\": [[0.0, \"#0d0887\"], [0.1111111111111111, \"#46039f\"], [0.2222222222222222, \"#7201a8\"], [0.3333333333333333, \"#9c179e\"], [0.4444444444444444, \"#bd3786\"], [0.5555555555555556, \"#d8576b\"], [0.6666666666666666, \"#ed7953\"], [0.7777777777777778, \"#fb9f3a\"], [0.8888888888888888, \"#fdca26\"], [1.0, \"#f0f921\"]], \"sequentialminus\": [[0.0, \"#0d0887\"], [0.1111111111111111, \"#46039f\"], [0.2222222222222222, \"#7201a8\"], [0.3333333333333333, \"#9c179e\"], [0.4444444444444444, \"#bd3786\"], [0.5555555555555556, \"#d8576b\"], [0.6666666666666666, \"#ed7953\"], [0.7777777777777778, \"#fb9f3a\"], [0.8888888888888888, \"#fdca26\"], [1.0, \"#f0f921\"]]}, \"colorway\": [\"#636efa\", \"#EF553B\", \"#00cc96\", \"#ab63fa\", \"#FFA15A\", \"#19d3f3\", \"#FF6692\", \"#B6E880\", \"#FF97FF\", \"#FECB52\"], \"font\": {\"color\": \"#2a3f5f\"}, \"geo\": {\"bgcolor\": \"white\", \"lakecolor\": \"white\", \"landcolor\": \"#E5ECF6\", \"showlakes\": true, \"showland\": true, \"subunitcolor\": \"white\"}, \"hoverlabel\": {\"align\": \"left\"}, \"hovermode\": \"closest\", \"mapbox\": {\"style\": \"light\"}, \"paper_bgcolor\": \"white\", \"plot_bgcolor\": \"#E5ECF6\", \"polar\": {\"angularaxis\": {\"gridcolor\": \"white\", \"linecolor\": \"white\", \"ticks\": \"\"}, \"bgcolor\": \"#E5ECF6\", \"radialaxis\": {\"gridcolor\": \"white\", \"linecolor\": \"white\", \"ticks\": \"\"}}, \"scene\": {\"xaxis\": {\"backgroundcolor\": \"#E5ECF6\", \"gridcolor\": \"white\", \"gridwidth\": 2, \"linecolor\": \"white\", \"showbackground\": true, \"ticks\": \"\", \"zerolinecolor\": \"white\"}, \"yaxis\": {\"backgroundcolor\": \"#E5ECF6\", \"gridcolor\": \"white\", \"gridwidth\": 2, \"linecolor\": \"white\", \"showbackground\": true, \"ticks\": \"\", \"zerolinecolor\": \"white\"}, \"zaxis\": {\"backgroundcolor\": \"#E5ECF6\", \"gridcolor\": \"white\", \"gridwidth\": 2, \"linecolor\": \"white\", \"showbackground\": true, \"ticks\": \"\", \"zerolinecolor\": \"white\"}}, \"shapedefaults\": {\"line\": {\"color\": \"#2a3f5f\"}}, \"ternary\": {\"aaxis\": {\"gridcolor\": \"white\", \"linecolor\": \"white\", \"ticks\": \"\"}, \"baxis\": {\"gridcolor\": \"white\", \"linecolor\": \"white\", \"ticks\": \"\"}, \"bgcolor\": \"#E5ECF6\", \"caxis\": {\"gridcolor\": \"white\", \"linecolor\": \"white\", \"ticks\": \"\"}}, \"title\": {\"x\": 0.05}, \"xaxis\": {\"automargin\": true, \"gridcolor\": \"white\", \"linecolor\": \"white\", \"ticks\": \"\", \"title\": {\"standoff\": 15}, \"zerolinecolor\": \"white\", \"zerolinewidth\": 2}, \"yaxis\": {\"automargin\": true, \"gridcolor\": \"white\", \"linecolor\": \"white\", \"ticks\": \"\", \"title\": {\"standoff\": 15}, \"zerolinecolor\": \"white\", \"zerolinewidth\": 2}}}, \"title\": {\"font\": {\"color\": \"#4D5663\"}}, \"xaxis\": {\"gridcolor\": \"#E1E5ED\", \"showgrid\": true, \"tickfont\": {\"color\": \"#4D5663\"}, \"title\": {\"font\": {\"color\": \"#4D5663\"}, \"text\": \"\"}, \"zerolinecolor\": \"#E1E5ED\"}, \"yaxis\": {\"gridcolor\": \"#E1E5ED\", \"showgrid\": true, \"tickfont\": {\"color\": \"#4D5663\"}, \"title\": {\"font\": {\"color\": \"#4D5663\"}, \"text\": \"\"}, \"zerolinecolor\": \"#E1E5ED\"}},\n",
       "                        {\"showLink\": true, \"linkText\": \"Export to plot.ly\", \"plotlyServerURL\": \"https://plot.ly\", \"responsive\": true}\n",
       "                    ).then(function(){\n",
       "                            \n",
       "var gd = document.getElementById('8767f5b7-685c-495e-ad35-43746e0045c9');\n",
       "var x = new MutationObserver(function (mutations, observer) {{\n",
       "        var display = window.getComputedStyle(gd).display;\n",
       "        if (!display || display === 'none') {{\n",
       "            console.log([gd, 'removed!']);\n",
       "            Plotly.purge(gd);\n",
       "            observer.disconnect();\n",
       "        }}\n",
       "}});\n",
       "\n",
       "// Listen for the removal of the full notebook cells\n",
       "var notebookContainer = gd.closest('#notebook-container');\n",
       "if (notebookContainer) {{\n",
       "    x.observe(notebookContainer, {childList: true});\n",
       "}}\n",
       "\n",
       "// Listen for the clearing of the current output cell\n",
       "var outputEl = gd.closest('.output');\n",
       "if (outputEl) {{\n",
       "    x.observe(outputEl, {childList: true});\n",
       "}}\n",
       "\n",
       "                        })\n",
       "                };\n",
       "                });\n",
       "            </script>\n",
       "        </div>"
      ]
     },
     "metadata": {},
     "output_type": "display_data"
    }
   ],
   "source": [
    "df2.iplot(kind='bar',x='Category',y='Values')"
   ]
  },
  {
   "cell_type": "code",
   "execution_count": 16,
   "metadata": {},
   "outputs": [
    {
     "data": {
      "application/vnd.plotly.v1+json": {
       "config": {
        "linkText": "Export to plot.ly",
        "plotlyServerURL": "https://plot.ly",
        "showLink": true
       },
       "data": [
        {
         "marker": {
          "color": "rgba(255, 153, 51, 0.6)",
          "line": {
           "color": "rgba(255, 153, 51, 1.0)",
           "width": 1
          }
         },
         "name": "None",
         "orientation": "v",
         "text": "",
         "type": "bar",
         "x": [
          "A",
          "B",
          "C",
          "D"
         ],
         "y": [
          8.483959289063268,
          -15.482512446198992,
          -4.881523379472691,
          -5.368747644073225
         ]
        }
       ],
       "layout": {
        "legend": {
         "bgcolor": "#F5F6F9",
         "font": {
          "color": "#4D5663"
         }
        },
        "paper_bgcolor": "#F5F6F9",
        "plot_bgcolor": "#F5F6F9",
        "template": {
         "data": {
          "bar": [
           {
            "error_x": {
             "color": "#2a3f5f"
            },
            "error_y": {
             "color": "#2a3f5f"
            },
            "marker": {
             "line": {
              "color": "#E5ECF6",
              "width": 0.5
             }
            },
            "type": "bar"
           }
          ],
          "barpolar": [
           {
            "marker": {
             "line": {
              "color": "#E5ECF6",
              "width": 0.5
             }
            },
            "type": "barpolar"
           }
          ],
          "carpet": [
           {
            "aaxis": {
             "endlinecolor": "#2a3f5f",
             "gridcolor": "white",
             "linecolor": "white",
             "minorgridcolor": "white",
             "startlinecolor": "#2a3f5f"
            },
            "baxis": {
             "endlinecolor": "#2a3f5f",
             "gridcolor": "white",
             "linecolor": "white",
             "minorgridcolor": "white",
             "startlinecolor": "#2a3f5f"
            },
            "type": "carpet"
           }
          ],
          "choropleth": [
           {
            "colorbar": {
             "outlinewidth": 0,
             "ticks": ""
            },
            "type": "choropleth"
           }
          ],
          "contour": [
           {
            "colorbar": {
             "outlinewidth": 0,
             "ticks": ""
            },
            "colorscale": [
             [
              0,
              "#0d0887"
             ],
             [
              0.1111111111111111,
              "#46039f"
             ],
             [
              0.2222222222222222,
              "#7201a8"
             ],
             [
              0.3333333333333333,
              "#9c179e"
             ],
             [
              0.4444444444444444,
              "#bd3786"
             ],
             [
              0.5555555555555556,
              "#d8576b"
             ],
             [
              0.6666666666666666,
              "#ed7953"
             ],
             [
              0.7777777777777778,
              "#fb9f3a"
             ],
             [
              0.8888888888888888,
              "#fdca26"
             ],
             [
              1,
              "#f0f921"
             ]
            ],
            "type": "contour"
           }
          ],
          "contourcarpet": [
           {
            "colorbar": {
             "outlinewidth": 0,
             "ticks": ""
            },
            "type": "contourcarpet"
           }
          ],
          "heatmap": [
           {
            "colorbar": {
             "outlinewidth": 0,
             "ticks": ""
            },
            "colorscale": [
             [
              0,
              "#0d0887"
             ],
             [
              0.1111111111111111,
              "#46039f"
             ],
             [
              0.2222222222222222,
              "#7201a8"
             ],
             [
              0.3333333333333333,
              "#9c179e"
             ],
             [
              0.4444444444444444,
              "#bd3786"
             ],
             [
              0.5555555555555556,
              "#d8576b"
             ],
             [
              0.6666666666666666,
              "#ed7953"
             ],
             [
              0.7777777777777778,
              "#fb9f3a"
             ],
             [
              0.8888888888888888,
              "#fdca26"
             ],
             [
              1,
              "#f0f921"
             ]
            ],
            "type": "heatmap"
           }
          ],
          "heatmapgl": [
           {
            "colorbar": {
             "outlinewidth": 0,
             "ticks": ""
            },
            "colorscale": [
             [
              0,
              "#0d0887"
             ],
             [
              0.1111111111111111,
              "#46039f"
             ],
             [
              0.2222222222222222,
              "#7201a8"
             ],
             [
              0.3333333333333333,
              "#9c179e"
             ],
             [
              0.4444444444444444,
              "#bd3786"
             ],
             [
              0.5555555555555556,
              "#d8576b"
             ],
             [
              0.6666666666666666,
              "#ed7953"
             ],
             [
              0.7777777777777778,
              "#fb9f3a"
             ],
             [
              0.8888888888888888,
              "#fdca26"
             ],
             [
              1,
              "#f0f921"
             ]
            ],
            "type": "heatmapgl"
           }
          ],
          "histogram": [
           {
            "marker": {
             "colorbar": {
              "outlinewidth": 0,
              "ticks": ""
             }
            },
            "type": "histogram"
           }
          ],
          "histogram2d": [
           {
            "colorbar": {
             "outlinewidth": 0,
             "ticks": ""
            },
            "colorscale": [
             [
              0,
              "#0d0887"
             ],
             [
              0.1111111111111111,
              "#46039f"
             ],
             [
              0.2222222222222222,
              "#7201a8"
             ],
             [
              0.3333333333333333,
              "#9c179e"
             ],
             [
              0.4444444444444444,
              "#bd3786"
             ],
             [
              0.5555555555555556,
              "#d8576b"
             ],
             [
              0.6666666666666666,
              "#ed7953"
             ],
             [
              0.7777777777777778,
              "#fb9f3a"
             ],
             [
              0.8888888888888888,
              "#fdca26"
             ],
             [
              1,
              "#f0f921"
             ]
            ],
            "type": "histogram2d"
           }
          ],
          "histogram2dcontour": [
           {
            "colorbar": {
             "outlinewidth": 0,
             "ticks": ""
            },
            "colorscale": [
             [
              0,
              "#0d0887"
             ],
             [
              0.1111111111111111,
              "#46039f"
             ],
             [
              0.2222222222222222,
              "#7201a8"
             ],
             [
              0.3333333333333333,
              "#9c179e"
             ],
             [
              0.4444444444444444,
              "#bd3786"
             ],
             [
              0.5555555555555556,
              "#d8576b"
             ],
             [
              0.6666666666666666,
              "#ed7953"
             ],
             [
              0.7777777777777778,
              "#fb9f3a"
             ],
             [
              0.8888888888888888,
              "#fdca26"
             ],
             [
              1,
              "#f0f921"
             ]
            ],
            "type": "histogram2dcontour"
           }
          ],
          "mesh3d": [
           {
            "colorbar": {
             "outlinewidth": 0,
             "ticks": ""
            },
            "type": "mesh3d"
           }
          ],
          "parcoords": [
           {
            "line": {
             "colorbar": {
              "outlinewidth": 0,
              "ticks": ""
             }
            },
            "type": "parcoords"
           }
          ],
          "pie": [
           {
            "automargin": true,
            "type": "pie"
           }
          ],
          "scatter": [
           {
            "marker": {
             "colorbar": {
              "outlinewidth": 0,
              "ticks": ""
             }
            },
            "type": "scatter"
           }
          ],
          "scatter3d": [
           {
            "line": {
             "colorbar": {
              "outlinewidth": 0,
              "ticks": ""
             }
            },
            "marker": {
             "colorbar": {
              "outlinewidth": 0,
              "ticks": ""
             }
            },
            "type": "scatter3d"
           }
          ],
          "scattercarpet": [
           {
            "marker": {
             "colorbar": {
              "outlinewidth": 0,
              "ticks": ""
             }
            },
            "type": "scattercarpet"
           }
          ],
          "scattergeo": [
           {
            "marker": {
             "colorbar": {
              "outlinewidth": 0,
              "ticks": ""
             }
            },
            "type": "scattergeo"
           }
          ],
          "scattergl": [
           {
            "marker": {
             "colorbar": {
              "outlinewidth": 0,
              "ticks": ""
             }
            },
            "type": "scattergl"
           }
          ],
          "scattermapbox": [
           {
            "marker": {
             "colorbar": {
              "outlinewidth": 0,
              "ticks": ""
             }
            },
            "type": "scattermapbox"
           }
          ],
          "scatterpolar": [
           {
            "marker": {
             "colorbar": {
              "outlinewidth": 0,
              "ticks": ""
             }
            },
            "type": "scatterpolar"
           }
          ],
          "scatterpolargl": [
           {
            "marker": {
             "colorbar": {
              "outlinewidth": 0,
              "ticks": ""
             }
            },
            "type": "scatterpolargl"
           }
          ],
          "scatterternary": [
           {
            "marker": {
             "colorbar": {
              "outlinewidth": 0,
              "ticks": ""
             }
            },
            "type": "scatterternary"
           }
          ],
          "surface": [
           {
            "colorbar": {
             "outlinewidth": 0,
             "ticks": ""
            },
            "colorscale": [
             [
              0,
              "#0d0887"
             ],
             [
              0.1111111111111111,
              "#46039f"
             ],
             [
              0.2222222222222222,
              "#7201a8"
             ],
             [
              0.3333333333333333,
              "#9c179e"
             ],
             [
              0.4444444444444444,
              "#bd3786"
             ],
             [
              0.5555555555555556,
              "#d8576b"
             ],
             [
              0.6666666666666666,
              "#ed7953"
             ],
             [
              0.7777777777777778,
              "#fb9f3a"
             ],
             [
              0.8888888888888888,
              "#fdca26"
             ],
             [
              1,
              "#f0f921"
             ]
            ],
            "type": "surface"
           }
          ],
          "table": [
           {
            "cells": {
             "fill": {
              "color": "#EBF0F8"
             },
             "line": {
              "color": "white"
             }
            },
            "header": {
             "fill": {
              "color": "#C8D4E3"
             },
             "line": {
              "color": "white"
             }
            },
            "type": "table"
           }
          ]
         },
         "layout": {
          "annotationdefaults": {
           "arrowcolor": "#2a3f5f",
           "arrowhead": 0,
           "arrowwidth": 1
          },
          "coloraxis": {
           "colorbar": {
            "outlinewidth": 0,
            "ticks": ""
           }
          },
          "colorscale": {
           "diverging": [
            [
             0,
             "#8e0152"
            ],
            [
             0.1,
             "#c51b7d"
            ],
            [
             0.2,
             "#de77ae"
            ],
            [
             0.3,
             "#f1b6da"
            ],
            [
             0.4,
             "#fde0ef"
            ],
            [
             0.5,
             "#f7f7f7"
            ],
            [
             0.6,
             "#e6f5d0"
            ],
            [
             0.7,
             "#b8e186"
            ],
            [
             0.8,
             "#7fbc41"
            ],
            [
             0.9,
             "#4d9221"
            ],
            [
             1,
             "#276419"
            ]
           ],
           "sequential": [
            [
             0,
             "#0d0887"
            ],
            [
             0.1111111111111111,
             "#46039f"
            ],
            [
             0.2222222222222222,
             "#7201a8"
            ],
            [
             0.3333333333333333,
             "#9c179e"
            ],
            [
             0.4444444444444444,
             "#bd3786"
            ],
            [
             0.5555555555555556,
             "#d8576b"
            ],
            [
             0.6666666666666666,
             "#ed7953"
            ],
            [
             0.7777777777777778,
             "#fb9f3a"
            ],
            [
             0.8888888888888888,
             "#fdca26"
            ],
            [
             1,
             "#f0f921"
            ]
           ],
           "sequentialminus": [
            [
             0,
             "#0d0887"
            ],
            [
             0.1111111111111111,
             "#46039f"
            ],
            [
             0.2222222222222222,
             "#7201a8"
            ],
            [
             0.3333333333333333,
             "#9c179e"
            ],
            [
             0.4444444444444444,
             "#bd3786"
            ],
            [
             0.5555555555555556,
             "#d8576b"
            ],
            [
             0.6666666666666666,
             "#ed7953"
            ],
            [
             0.7777777777777778,
             "#fb9f3a"
            ],
            [
             0.8888888888888888,
             "#fdca26"
            ],
            [
             1,
             "#f0f921"
            ]
           ]
          },
          "colorway": [
           "#636efa",
           "#EF553B",
           "#00cc96",
           "#ab63fa",
           "#FFA15A",
           "#19d3f3",
           "#FF6692",
           "#B6E880",
           "#FF97FF",
           "#FECB52"
          ],
          "font": {
           "color": "#2a3f5f"
          },
          "geo": {
           "bgcolor": "white",
           "lakecolor": "white",
           "landcolor": "#E5ECF6",
           "showlakes": true,
           "showland": true,
           "subunitcolor": "white"
          },
          "hoverlabel": {
           "align": "left"
          },
          "hovermode": "closest",
          "mapbox": {
           "style": "light"
          },
          "paper_bgcolor": "white",
          "plot_bgcolor": "#E5ECF6",
          "polar": {
           "angularaxis": {
            "gridcolor": "white",
            "linecolor": "white",
            "ticks": ""
           },
           "bgcolor": "#E5ECF6",
           "radialaxis": {
            "gridcolor": "white",
            "linecolor": "white",
            "ticks": ""
           }
          },
          "scene": {
           "xaxis": {
            "backgroundcolor": "#E5ECF6",
            "gridcolor": "white",
            "gridwidth": 2,
            "linecolor": "white",
            "showbackground": true,
            "ticks": "",
            "zerolinecolor": "white"
           },
           "yaxis": {
            "backgroundcolor": "#E5ECF6",
            "gridcolor": "white",
            "gridwidth": 2,
            "linecolor": "white",
            "showbackground": true,
            "ticks": "",
            "zerolinecolor": "white"
           },
           "zaxis": {
            "backgroundcolor": "#E5ECF6",
            "gridcolor": "white",
            "gridwidth": 2,
            "linecolor": "white",
            "showbackground": true,
            "ticks": "",
            "zerolinecolor": "white"
           }
          },
          "shapedefaults": {
           "line": {
            "color": "#2a3f5f"
           }
          },
          "ternary": {
           "aaxis": {
            "gridcolor": "white",
            "linecolor": "white",
            "ticks": ""
           },
           "baxis": {
            "gridcolor": "white",
            "linecolor": "white",
            "ticks": ""
           },
           "bgcolor": "#E5ECF6",
           "caxis": {
            "gridcolor": "white",
            "linecolor": "white",
            "ticks": ""
           }
          },
          "title": {
           "x": 0.05
          },
          "xaxis": {
           "automargin": true,
           "gridcolor": "white",
           "linecolor": "white",
           "ticks": "",
           "title": {
            "standoff": 15
           },
           "zerolinecolor": "white",
           "zerolinewidth": 2
          },
          "yaxis": {
           "automargin": true,
           "gridcolor": "white",
           "linecolor": "white",
           "ticks": "",
           "title": {
            "standoff": 15
           },
           "zerolinecolor": "white",
           "zerolinewidth": 2
          }
         }
        },
        "title": {
         "font": {
          "color": "#4D5663"
         }
        },
        "xaxis": {
         "gridcolor": "#E1E5ED",
         "showgrid": true,
         "tickfont": {
          "color": "#4D5663"
         },
         "title": {
          "font": {
           "color": "#4D5663"
          },
          "text": ""
         },
         "zerolinecolor": "#E1E5ED"
        },
        "yaxis": {
         "gridcolor": "#E1E5ED",
         "showgrid": true,
         "tickfont": {
          "color": "#4D5663"
         },
         "title": {
          "font": {
           "color": "#4D5663"
          },
          "text": ""
         },
         "zerolinecolor": "#E1E5ED"
        }
       }
      },
      "text/html": [
       "<div>\n",
       "        \n",
       "        \n",
       "            <div id=\"4247b697-8b23-446e-9c01-119231925636\" class=\"plotly-graph-div\" style=\"height:525px; width:100%;\"></div>\n",
       "            <script type=\"text/javascript\">\n",
       "                require([\"plotly\"], function(Plotly) {\n",
       "                    window.PLOTLYENV=window.PLOTLYENV || {};\n",
       "                    window.PLOTLYENV.BASE_URL='https://plot.ly';\n",
       "                    \n",
       "                if (document.getElementById(\"4247b697-8b23-446e-9c01-119231925636\")) {\n",
       "                    Plotly.newPlot(\n",
       "                        '4247b697-8b23-446e-9c01-119231925636',\n",
       "                        [{\"marker\": {\"color\": \"rgba(255, 153, 51, 0.6)\", \"line\": {\"color\": \"rgba(255, 153, 51, 1.0)\", \"width\": 1}}, \"name\": \"None\", \"orientation\": \"v\", \"text\": \"\", \"type\": \"bar\", \"x\": [\"A\", \"B\", \"C\", \"D\"], \"y\": [8.483959289063268, -15.482512446198992, -4.881523379472691, -5.368747644073225]}],\n",
       "                        {\"legend\": {\"bgcolor\": \"#F5F6F9\", \"font\": {\"color\": \"#4D5663\"}}, \"paper_bgcolor\": \"#F5F6F9\", \"plot_bgcolor\": \"#F5F6F9\", \"template\": {\"data\": {\"bar\": [{\"error_x\": {\"color\": \"#2a3f5f\"}, \"error_y\": {\"color\": \"#2a3f5f\"}, \"marker\": {\"line\": {\"color\": \"#E5ECF6\", \"width\": 0.5}}, \"type\": \"bar\"}], \"barpolar\": [{\"marker\": {\"line\": {\"color\": \"#E5ECF6\", \"width\": 0.5}}, \"type\": \"barpolar\"}], \"carpet\": [{\"aaxis\": {\"endlinecolor\": \"#2a3f5f\", \"gridcolor\": \"white\", \"linecolor\": \"white\", \"minorgridcolor\": \"white\", \"startlinecolor\": \"#2a3f5f\"}, \"baxis\": {\"endlinecolor\": \"#2a3f5f\", \"gridcolor\": \"white\", \"linecolor\": \"white\", \"minorgridcolor\": \"white\", \"startlinecolor\": \"#2a3f5f\"}, \"type\": \"carpet\"}], \"choropleth\": [{\"colorbar\": {\"outlinewidth\": 0, \"ticks\": \"\"}, \"type\": \"choropleth\"}], \"contour\": [{\"colorbar\": {\"outlinewidth\": 0, \"ticks\": \"\"}, \"colorscale\": [[0.0, \"#0d0887\"], [0.1111111111111111, \"#46039f\"], [0.2222222222222222, \"#7201a8\"], [0.3333333333333333, \"#9c179e\"], [0.4444444444444444, \"#bd3786\"], [0.5555555555555556, \"#d8576b\"], [0.6666666666666666, \"#ed7953\"], [0.7777777777777778, \"#fb9f3a\"], [0.8888888888888888, \"#fdca26\"], [1.0, \"#f0f921\"]], \"type\": \"contour\"}], \"contourcarpet\": [{\"colorbar\": {\"outlinewidth\": 0, \"ticks\": \"\"}, \"type\": \"contourcarpet\"}], \"heatmap\": [{\"colorbar\": {\"outlinewidth\": 0, \"ticks\": \"\"}, \"colorscale\": [[0.0, \"#0d0887\"], [0.1111111111111111, \"#46039f\"], [0.2222222222222222, \"#7201a8\"], [0.3333333333333333, \"#9c179e\"], [0.4444444444444444, \"#bd3786\"], [0.5555555555555556, \"#d8576b\"], [0.6666666666666666, \"#ed7953\"], [0.7777777777777778, \"#fb9f3a\"], [0.8888888888888888, \"#fdca26\"], [1.0, \"#f0f921\"]], \"type\": \"heatmap\"}], \"heatmapgl\": [{\"colorbar\": {\"outlinewidth\": 0, \"ticks\": \"\"}, \"colorscale\": [[0.0, \"#0d0887\"], [0.1111111111111111, \"#46039f\"], [0.2222222222222222, \"#7201a8\"], [0.3333333333333333, \"#9c179e\"], [0.4444444444444444, \"#bd3786\"], [0.5555555555555556, \"#d8576b\"], [0.6666666666666666, \"#ed7953\"], [0.7777777777777778, \"#fb9f3a\"], [0.8888888888888888, \"#fdca26\"], [1.0, \"#f0f921\"]], \"type\": \"heatmapgl\"}], \"histogram\": [{\"marker\": {\"colorbar\": {\"outlinewidth\": 0, \"ticks\": \"\"}}, \"type\": \"histogram\"}], \"histogram2d\": [{\"colorbar\": {\"outlinewidth\": 0, \"ticks\": \"\"}, \"colorscale\": [[0.0, \"#0d0887\"], [0.1111111111111111, \"#46039f\"], [0.2222222222222222, \"#7201a8\"], [0.3333333333333333, \"#9c179e\"], [0.4444444444444444, \"#bd3786\"], [0.5555555555555556, \"#d8576b\"], [0.6666666666666666, \"#ed7953\"], [0.7777777777777778, \"#fb9f3a\"], [0.8888888888888888, \"#fdca26\"], [1.0, \"#f0f921\"]], \"type\": \"histogram2d\"}], \"histogram2dcontour\": [{\"colorbar\": {\"outlinewidth\": 0, \"ticks\": \"\"}, \"colorscale\": [[0.0, \"#0d0887\"], [0.1111111111111111, \"#46039f\"], [0.2222222222222222, \"#7201a8\"], [0.3333333333333333, \"#9c179e\"], [0.4444444444444444, \"#bd3786\"], [0.5555555555555556, \"#d8576b\"], [0.6666666666666666, \"#ed7953\"], [0.7777777777777778, \"#fb9f3a\"], [0.8888888888888888, \"#fdca26\"], [1.0, \"#f0f921\"]], \"type\": \"histogram2dcontour\"}], \"mesh3d\": [{\"colorbar\": {\"outlinewidth\": 0, \"ticks\": \"\"}, \"type\": \"mesh3d\"}], \"parcoords\": [{\"line\": {\"colorbar\": {\"outlinewidth\": 0, \"ticks\": \"\"}}, \"type\": \"parcoords\"}], \"pie\": [{\"automargin\": true, \"type\": \"pie\"}], \"scatter\": [{\"marker\": {\"colorbar\": {\"outlinewidth\": 0, \"ticks\": \"\"}}, \"type\": \"scatter\"}], \"scatter3d\": [{\"line\": {\"colorbar\": {\"outlinewidth\": 0, \"ticks\": \"\"}}, \"marker\": {\"colorbar\": {\"outlinewidth\": 0, \"ticks\": \"\"}}, \"type\": \"scatter3d\"}], \"scattercarpet\": [{\"marker\": {\"colorbar\": {\"outlinewidth\": 0, \"ticks\": \"\"}}, \"type\": \"scattercarpet\"}], \"scattergeo\": [{\"marker\": {\"colorbar\": {\"outlinewidth\": 0, \"ticks\": \"\"}}, \"type\": \"scattergeo\"}], \"scattergl\": [{\"marker\": {\"colorbar\": {\"outlinewidth\": 0, \"ticks\": \"\"}}, \"type\": \"scattergl\"}], \"scattermapbox\": [{\"marker\": {\"colorbar\": {\"outlinewidth\": 0, \"ticks\": \"\"}}, \"type\": \"scattermapbox\"}], \"scatterpolar\": [{\"marker\": {\"colorbar\": {\"outlinewidth\": 0, \"ticks\": \"\"}}, \"type\": \"scatterpolar\"}], \"scatterpolargl\": [{\"marker\": {\"colorbar\": {\"outlinewidth\": 0, \"ticks\": \"\"}}, \"type\": \"scatterpolargl\"}], \"scatterternary\": [{\"marker\": {\"colorbar\": {\"outlinewidth\": 0, \"ticks\": \"\"}}, \"type\": \"scatterternary\"}], \"surface\": [{\"colorbar\": {\"outlinewidth\": 0, \"ticks\": \"\"}, \"colorscale\": [[0.0, \"#0d0887\"], [0.1111111111111111, \"#46039f\"], [0.2222222222222222, \"#7201a8\"], [0.3333333333333333, \"#9c179e\"], [0.4444444444444444, \"#bd3786\"], [0.5555555555555556, \"#d8576b\"], [0.6666666666666666, \"#ed7953\"], [0.7777777777777778, \"#fb9f3a\"], [0.8888888888888888, \"#fdca26\"], [1.0, \"#f0f921\"]], \"type\": \"surface\"}], \"table\": [{\"cells\": {\"fill\": {\"color\": \"#EBF0F8\"}, \"line\": {\"color\": \"white\"}}, \"header\": {\"fill\": {\"color\": \"#C8D4E3\"}, \"line\": {\"color\": \"white\"}}, \"type\": \"table\"}]}, \"layout\": {\"annotationdefaults\": {\"arrowcolor\": \"#2a3f5f\", \"arrowhead\": 0, \"arrowwidth\": 1}, \"coloraxis\": {\"colorbar\": {\"outlinewidth\": 0, \"ticks\": \"\"}}, \"colorscale\": {\"diverging\": [[0, \"#8e0152\"], [0.1, \"#c51b7d\"], [0.2, \"#de77ae\"], [0.3, \"#f1b6da\"], [0.4, \"#fde0ef\"], [0.5, \"#f7f7f7\"], [0.6, \"#e6f5d0\"], [0.7, \"#b8e186\"], [0.8, \"#7fbc41\"], [0.9, \"#4d9221\"], [1, \"#276419\"]], \"sequential\": [[0.0, \"#0d0887\"], [0.1111111111111111, \"#46039f\"], [0.2222222222222222, \"#7201a8\"], [0.3333333333333333, \"#9c179e\"], [0.4444444444444444, \"#bd3786\"], [0.5555555555555556, \"#d8576b\"], [0.6666666666666666, \"#ed7953\"], [0.7777777777777778, \"#fb9f3a\"], [0.8888888888888888, \"#fdca26\"], [1.0, \"#f0f921\"]], \"sequentialminus\": [[0.0, \"#0d0887\"], [0.1111111111111111, \"#46039f\"], [0.2222222222222222, \"#7201a8\"], [0.3333333333333333, \"#9c179e\"], [0.4444444444444444, \"#bd3786\"], [0.5555555555555556, \"#d8576b\"], [0.6666666666666666, \"#ed7953\"], [0.7777777777777778, \"#fb9f3a\"], [0.8888888888888888, \"#fdca26\"], [1.0, \"#f0f921\"]]}, \"colorway\": [\"#636efa\", \"#EF553B\", \"#00cc96\", \"#ab63fa\", \"#FFA15A\", \"#19d3f3\", \"#FF6692\", \"#B6E880\", \"#FF97FF\", \"#FECB52\"], \"font\": {\"color\": \"#2a3f5f\"}, \"geo\": {\"bgcolor\": \"white\", \"lakecolor\": \"white\", \"landcolor\": \"#E5ECF6\", \"showlakes\": true, \"showland\": true, \"subunitcolor\": \"white\"}, \"hoverlabel\": {\"align\": \"left\"}, \"hovermode\": \"closest\", \"mapbox\": {\"style\": \"light\"}, \"paper_bgcolor\": \"white\", \"plot_bgcolor\": \"#E5ECF6\", \"polar\": {\"angularaxis\": {\"gridcolor\": \"white\", \"linecolor\": \"white\", \"ticks\": \"\"}, \"bgcolor\": \"#E5ECF6\", \"radialaxis\": {\"gridcolor\": \"white\", \"linecolor\": \"white\", \"ticks\": \"\"}}, \"scene\": {\"xaxis\": {\"backgroundcolor\": \"#E5ECF6\", \"gridcolor\": \"white\", \"gridwidth\": 2, \"linecolor\": \"white\", \"showbackground\": true, \"ticks\": \"\", \"zerolinecolor\": \"white\"}, \"yaxis\": {\"backgroundcolor\": \"#E5ECF6\", \"gridcolor\": \"white\", \"gridwidth\": 2, \"linecolor\": \"white\", \"showbackground\": true, \"ticks\": \"\", \"zerolinecolor\": \"white\"}, \"zaxis\": {\"backgroundcolor\": \"#E5ECF6\", \"gridcolor\": \"white\", \"gridwidth\": 2, \"linecolor\": \"white\", \"showbackground\": true, \"ticks\": \"\", \"zerolinecolor\": \"white\"}}, \"shapedefaults\": {\"line\": {\"color\": \"#2a3f5f\"}}, \"ternary\": {\"aaxis\": {\"gridcolor\": \"white\", \"linecolor\": \"white\", \"ticks\": \"\"}, \"baxis\": {\"gridcolor\": \"white\", \"linecolor\": \"white\", \"ticks\": \"\"}, \"bgcolor\": \"#E5ECF6\", \"caxis\": {\"gridcolor\": \"white\", \"linecolor\": \"white\", \"ticks\": \"\"}}, \"title\": {\"x\": 0.05}, \"xaxis\": {\"automargin\": true, \"gridcolor\": \"white\", \"linecolor\": \"white\", \"ticks\": \"\", \"title\": {\"standoff\": 15}, \"zerolinecolor\": \"white\", \"zerolinewidth\": 2}, \"yaxis\": {\"automargin\": true, \"gridcolor\": \"white\", \"linecolor\": \"white\", \"ticks\": \"\", \"title\": {\"standoff\": 15}, \"zerolinecolor\": \"white\", \"zerolinewidth\": 2}}}, \"title\": {\"font\": {\"color\": \"#4D5663\"}}, \"xaxis\": {\"gridcolor\": \"#E1E5ED\", \"showgrid\": true, \"tickfont\": {\"color\": \"#4D5663\"}, \"title\": {\"font\": {\"color\": \"#4D5663\"}, \"text\": \"\"}, \"zerolinecolor\": \"#E1E5ED\"}, \"yaxis\": {\"gridcolor\": \"#E1E5ED\", \"showgrid\": true, \"tickfont\": {\"color\": \"#4D5663\"}, \"title\": {\"font\": {\"color\": \"#4D5663\"}, \"text\": \"\"}, \"zerolinecolor\": \"#E1E5ED\"}},\n",
       "                        {\"showLink\": true, \"linkText\": \"Export to plot.ly\", \"plotlyServerURL\": \"https://plot.ly\", \"responsive\": true}\n",
       "                    ).then(function(){\n",
       "                            \n",
       "var gd = document.getElementById('4247b697-8b23-446e-9c01-119231925636');\n",
       "var x = new MutationObserver(function (mutations, observer) {{\n",
       "        var display = window.getComputedStyle(gd).display;\n",
       "        if (!display || display === 'none') {{\n",
       "            console.log([gd, 'removed!']);\n",
       "            Plotly.purge(gd);\n",
       "            observer.disconnect();\n",
       "        }}\n",
       "}});\n",
       "\n",
       "// Listen for the removal of the full notebook cells\n",
       "var notebookContainer = gd.closest('#notebook-container');\n",
       "if (notebookContainer) {{\n",
       "    x.observe(notebookContainer, {childList: true});\n",
       "}}\n",
       "\n",
       "// Listen for the clearing of the current output cell\n",
       "var outputEl = gd.closest('.output');\n",
       "if (outputEl) {{\n",
       "    x.observe(outputEl, {childList: true});\n",
       "}}\n",
       "\n",
       "                        })\n",
       "                };\n",
       "                });\n",
       "            </script>\n",
       "        </div>"
      ]
     },
     "metadata": {},
     "output_type": "display_data"
    }
   ],
   "source": [
    "df.sum().iplot(kind='bar')"
   ]
  },
  {
   "cell_type": "markdown",
   "metadata": {},
   "source": [
    "## Boxplots"
   ]
  },
  {
   "cell_type": "code",
   "execution_count": 15,
   "metadata": {},
   "outputs": [
    {
     "data": {
      "application/vnd.plotly.v1+json": {
       "config": {
        "linkText": "Export to plot.ly",
        "plotlyServerURL": "https://plot.ly",
        "showLink": true
       },
       "data": [
        {
         "boxpoints": false,
         "line": {
          "width": 1.3
         },
         "marker": {
          "color": "rgba(255, 153, 51, 1.0)"
         },
         "name": "A",
         "orientation": "v",
         "type": "box",
         "y": [
          -0.4297685383384342,
          0.8992028500370997,
          -0.0529219344920944,
          -0.6575111293098215,
          0.22208299129571782,
          0.3794842146923049,
          -0.776042193527561,
          0.20252386974764924,
          0.5283888563058603,
          0.42238405971072795,
          -0.06013466358030851,
          -0.00026800090693260357,
          -0.14388939098347012,
          0.9344699379561042,
          0.6783815719865144,
          0.44503506029485257,
          -1.7459121312891714,
          -1.0030300108933405,
          1.9884150558651161,
          -0.47184365204117884,
          -0.2595777957034208,
          0.7400974312262351,
          0.099309479647986,
          -0.6182408568594779,
          -0.09737112629162749,
          1.0014953872001506,
          0.2871753396523556,
          1.5244479144569265,
          -0.23697854575363472,
          0.020463560762592693,
          -1.1753745296203637,
          0.43368223787654575,
          2.24053767970503,
          -0.6384984081451017,
          -0.15584868195776844,
          -1.129993502850424,
          1.486435661947022,
          1.253760698328164,
          -0.13143816377831435,
          -1.6959507280045962,
          -0.5909461283664224,
          -0.9669632612257547,
          0.1002289545273029,
          0.06832115631372923,
          -0.23128484890668444,
          0.5004811414606912,
          0.4204561565082809,
          -1.05748043745096,
          0.06683095599233774,
          0.2980261452352181,
          -1.5226706426959702,
          0.029547750310692927,
          2.7094752196223126,
          -1.999918830221982,
          -1.4429817394634803,
          1.2186716154519959,
          -0.933564385488572,
          1.176427043693705,
          -0.35626527453103896,
          -0.9201267710595663,
          -0.4825603472456605,
          1.0350105637639253,
          0.7141270743667533,
          -0.7047888603102321,
          0.07954844261010739,
          0.9240461197773582,
          -0.2012367204600226,
          -0.18735870172077787,
          0.8128846161700972,
          0.572471733076174,
          0.2172228806431597,
          0.23258075293244185,
          -0.15037989852296424,
          1.6489384008396495,
          -0.699170275452065,
          -1.1915880345536867,
          0.791442180982393,
          -1.5343965160519073,
          -0.2119291089800813,
          0.5147659474053279,
          0.13256180204923343,
          0.11804225234240634,
          0.4175537717201645,
          -0.4404582829401427,
          0.5628633036420924,
          -0.14853080183364786,
          0.528931020376802,
          0.7682140054890354,
          0.5882154073068712,
          -0.6371179810453058,
          0.00860135749083743,
          1.784532008732318,
          0.0630970787741614,
          1.0806131230471097,
          -0.3368057268799231,
          -0.11396344278775078,
          1.5040813118063128,
          -0.26955180544597684,
          -0.024390292942870706,
          -0.15560276318219723
         ]
        },
        {
         "boxpoints": false,
         "line": {
          "width": 1.3
         },
         "marker": {
          "color": "rgba(55, 128, 191, 1.0)"
         },
         "name": "B",
         "orientation": "v",
         "type": "box",
         "y": [
          -2.2286752844455777,
          -1.1325804605985426,
          -0.057504853523821425,
          -0.4372807380334668,
          0.7196790346908422,
          -0.3049353605453905,
          -0.36769137325213835,
          -2.720548438240072,
          -0.9630851860163883,
          -0.2604981650092037,
          -0.8739159350872959,
          -2.597293836991736,
          1.9279633238913891,
          -1.4857793145128506,
          -1.398384437744287,
          0.9249812054111738,
          0.9904484780182563,
          0.5154826624657818,
          -2.118134319003685,
          -1.1737116775235958,
          0.6767585900341822,
          0.5461220282918061,
          -0.6990646057740326,
          -1.0110525490061775,
          -0.08120032622523697,
          0.2636505021163572,
          1.2323826718876643,
          -0.40486481243860833,
          1.4760723751566938,
          -0.8209077663785059,
          1.1402839958305764,
          2.0165937745268456,
          -1.186601957911982,
          -0.8314944292076336,
          -0.46207793920010803,
          0.11759878503277775,
          -0.46486529954252687,
          0.6029386347856334,
          -0.33018597428647706,
          -0.009613504426322677,
          0.9872410193142943,
          0.2440377627033009,
          0.18977165931531736,
          -0.6759265219314019,
          -0.705368350697958,
          2.625871847829621,
          1.6218716077031723,
          -2.799716407485826,
          -2.2039135318094103,
          0.303793009001111,
          -0.7237119546177894,
          1.806688841596908,
          -0.9334230739999114,
          0.2771158257256812,
          0.5484931304543167,
          -0.5310682268548499,
          0.26045181959778124,
          -1.1664989769384293,
          -0.5924313434244467,
          -0.903470166777184,
          0.1827433432749004,
          1.1951182534599574,
          0.9429850152610202,
          0.7718174963318698,
          -0.3932259789252067,
          -0.9876135657413847,
          0.06069370133947106,
          -0.3431001486732415,
          -1.4678282524891362,
          1.0620820253204266,
          -0.45220907136404775,
          0.3255127774116455,
          -0.5118683983115404,
          -1.4068154364000311,
          -0.6993079829811987,
          -1.8294456426161474,
          -0.19352574917505092,
          -0.5363175879157083,
          -0.4022870066216089,
          0.4843330327019152,
          -0.4028270480314041,
          -0.16088752894881542,
          -0.10235401898702981,
          0.269872266689026,
          -0.5211183369387445,
          1.4942821686889394,
          0.17909980069235,
          -0.6771140256279912,
          0.25538789387367294,
          -2.4142626729455747,
          2.278105352397342,
          0.9633934004854583,
          0.6369650835814333,
          1.3346267659621462,
          0.4847058208475034,
          1.493950984377913,
          0.608059480959266,
          -0.7449331063679395,
          -2.1561723967170456,
          -0.4618486399950229
         ]
        },
        {
         "boxpoints": false,
         "line": {
          "width": 1.3
         },
         "marker": {
          "color": "rgba(50, 171, 96, 1.0)"
         },
         "name": "C",
         "orientation": "v",
         "type": "box",
         "y": [
          1.1786249712262633,
          -0.07355363389825188,
          0.10673728747429873,
          -1.6200138315172226,
          0.8038860544011691,
          -0.015018901180249197,
          -0.3200043063760125,
          0.8638148430107568,
          -0.40550870293413155,
          -0.16717671251139193,
          1.1439215034980508,
          0.22052096273934702,
          0.4915874851405039,
          1.6812926781938566,
          0.47876602038653554,
          -0.24906652606117347,
          -0.21229099101894697,
          0.226372270600233,
          -0.9503775922786668,
          1.2900635593411864,
          -0.8820240618433731,
          -0.27968741633449284,
          0.24749126784771305,
          -1.287147863111516,
          0.7207993439726794,
          0.8938331823312693,
          1.4375109478706862,
          1.2597826980176479,
          -1.7120237647553644,
          0.37163223873664053,
          -1.2293958041730793,
          0.16292848771751778,
          0.8953762585328742,
          -1.4365689696166017,
          -0.36718869829790096,
          -1.3516910552047443,
          0.7959650362780134,
          0.7446694886773091,
          -0.2838626221563418,
          0.41612897511243335,
          -0.660842228744442,
          -0.4583123541427391,
          0.8487338077687653,
          -0.6382076088735156,
          0.08648383132017577,
          -0.637677379928665,
          -0.5278572479445359,
          1.009173896164119,
          0.5009363886426216,
          -1.3580948611896575,
          1.2790048126493363,
          -1.3879343410627092,
          -0.01682907297008556,
          -0.6703000670131273,
          1.5374604806156202,
          -0.697161123841636,
          0.579140592993929,
          -1.3889975589760564,
          -0.2004285434907031,
          -1.0645188810447828,
          -1.2877771144314145,
          0.18196921915152736,
          0.355098135424266,
          0.967696230234717,
          0.4772338366955171,
          -1.510038625563963,
          -0.40146425015958737,
          0.8109168957741011,
          -1.2923245702731976,
          -1.5029614204270842,
          0.15762278217901138,
          1.5785914396830187,
          0.9258395770780882,
          -1.591804263376754,
          0.5844587173755277,
          0.9635480254140826,
          -0.33441708293974676,
          -1.3541690061832685,
          -0.894986027496033,
          0.8827156615564142,
          -0.189538521823769,
          0.6639668580923442,
          -0.8652399949240969,
          1.664279980830366,
          -1.2399032495021538,
          -2.2286583945060006,
          -0.7250899567942046,
          1.3316815793740926,
          -0.5352576409055199,
          -1.1004892907668025,
          0.22604356508286133,
          -0.5122613760476022,
          -1.032495668544159,
          0.18153045439112858,
          0.3794284799037391,
          -0.09604121980705199,
          0.11572410927921793,
          0.7061700491228695,
          -0.6429452372045623,
          1.5789472867919554
         ]
        },
        {
         "boxpoints": false,
         "line": {
          "width": 1.3
         },
         "marker": {
          "color": "rgba(128, 0, 128, 1.0)"
         },
         "name": "D",
         "orientation": "v",
         "type": "box",
         "y": [
          -1.862800313121775,
          -0.20951207295621146,
          -0.10579750915640158,
          0.7449726332937913,
          0.5898440586883348,
          0.6472702771138337,
          0.27665593785476267,
          -0.10807527509649502,
          0.5895237232323345,
          -1.519127167622268,
          -0.8736765979093821,
          0.9736412767543172,
          -0.25274749632481863,
          -0.7315817015396363,
          0.8631443417504908,
          -1.1953334383959195,
          1.5934450350726834,
          -0.8692873266241693,
          1.0408726111473396,
          -1.0533688023707521,
          -0.4708648587320578,
          0.24293109968645663,
          -0.13673579661128576,
          1.2814792492459324,
          -1.356235810952168,
          -0.9521423057124621,
          0.6551436873402294,
          1.38471077844707,
          -1.2900499938571501,
          0.6876138195736164,
          -0.22371717375733743,
          0.4729102128676308,
          0.006192920255018028,
          1.0352939760509012,
          -0.013019737566285078,
          1.9213142379551436,
          0.44293117144505634,
          -0.961115493975052,
          -1.3011893445642408,
          -1.2439247382623437,
          0.012651245757251676,
          -0.12723911525196055,
          -0.7563921780952818,
          0.872943299696692,
          -1.1111127361971371,
          0.3105822975167003,
          2.1513144207586787,
          0.24673956005352016,
          0.6604767199356464,
          -1.842687807901697,
          0.4875951054385542,
          0.1540716452559774,
          -1.1301377080208135,
          0.3778292347194436,
          0.06897506995523428,
          0.5649041461628904,
          -0.04524606045128736,
          1.3103889818019638,
          -1.626895965993376,
          -1.2008710881324998,
          -0.6668683045108091,
          -1.20552806684709,
          -1.44891755460223,
          -1.7712756478403473,
          -1.356763679162797,
          -0.7528382834218441,
          0.4422673121786261,
          0.6342408192083392,
          1.357267749649809,
          -0.5047200232765177,
          -0.40351879957344367,
          0.16304001463950282,
          -2.1196754751402564,
          1.6077651138771687,
          -0.34728517070820913,
          -1.1307993233098803,
          1.1377203515073007,
          -1.0280827244201818,
          -1.4062502685447293,
          -0.21251743156935993,
          0.7444561710324307,
          0.22129244784855204,
          3.1331155149570455,
          -0.31005889628964395,
          -0.31583659061997493,
          -0.5301123392684864,
          0.2864046387176444,
          0.38781067220254734,
          -0.6938768959110249,
          1.295523616880893,
          0.8465238581327255,
          0.24330559296550552,
          -0.17124434610468836,
          0.4067336628284449,
          1.8907279035031714,
          -0.14467832324424781,
          0.4098334885431353,
          -0.6724128056332155,
          -0.19146324190082106,
          -1.2895295405214975
         ]
        }
       ],
       "layout": {
        "legend": {
         "bgcolor": "#F5F6F9",
         "font": {
          "color": "#4D5663"
         }
        },
        "paper_bgcolor": "#F5F6F9",
        "plot_bgcolor": "#F5F6F9",
        "template": {
         "data": {
          "bar": [
           {
            "error_x": {
             "color": "#2a3f5f"
            },
            "error_y": {
             "color": "#2a3f5f"
            },
            "marker": {
             "line": {
              "color": "#E5ECF6",
              "width": 0.5
             }
            },
            "type": "bar"
           }
          ],
          "barpolar": [
           {
            "marker": {
             "line": {
              "color": "#E5ECF6",
              "width": 0.5
             }
            },
            "type": "barpolar"
           }
          ],
          "carpet": [
           {
            "aaxis": {
             "endlinecolor": "#2a3f5f",
             "gridcolor": "white",
             "linecolor": "white",
             "minorgridcolor": "white",
             "startlinecolor": "#2a3f5f"
            },
            "baxis": {
             "endlinecolor": "#2a3f5f",
             "gridcolor": "white",
             "linecolor": "white",
             "minorgridcolor": "white",
             "startlinecolor": "#2a3f5f"
            },
            "type": "carpet"
           }
          ],
          "choropleth": [
           {
            "colorbar": {
             "outlinewidth": 0,
             "ticks": ""
            },
            "type": "choropleth"
           }
          ],
          "contour": [
           {
            "colorbar": {
             "outlinewidth": 0,
             "ticks": ""
            },
            "colorscale": [
             [
              0,
              "#0d0887"
             ],
             [
              0.1111111111111111,
              "#46039f"
             ],
             [
              0.2222222222222222,
              "#7201a8"
             ],
             [
              0.3333333333333333,
              "#9c179e"
             ],
             [
              0.4444444444444444,
              "#bd3786"
             ],
             [
              0.5555555555555556,
              "#d8576b"
             ],
             [
              0.6666666666666666,
              "#ed7953"
             ],
             [
              0.7777777777777778,
              "#fb9f3a"
             ],
             [
              0.8888888888888888,
              "#fdca26"
             ],
             [
              1,
              "#f0f921"
             ]
            ],
            "type": "contour"
           }
          ],
          "contourcarpet": [
           {
            "colorbar": {
             "outlinewidth": 0,
             "ticks": ""
            },
            "type": "contourcarpet"
           }
          ],
          "heatmap": [
           {
            "colorbar": {
             "outlinewidth": 0,
             "ticks": ""
            },
            "colorscale": [
             [
              0,
              "#0d0887"
             ],
             [
              0.1111111111111111,
              "#46039f"
             ],
             [
              0.2222222222222222,
              "#7201a8"
             ],
             [
              0.3333333333333333,
              "#9c179e"
             ],
             [
              0.4444444444444444,
              "#bd3786"
             ],
             [
              0.5555555555555556,
              "#d8576b"
             ],
             [
              0.6666666666666666,
              "#ed7953"
             ],
             [
              0.7777777777777778,
              "#fb9f3a"
             ],
             [
              0.8888888888888888,
              "#fdca26"
             ],
             [
              1,
              "#f0f921"
             ]
            ],
            "type": "heatmap"
           }
          ],
          "heatmapgl": [
           {
            "colorbar": {
             "outlinewidth": 0,
             "ticks": ""
            },
            "colorscale": [
             [
              0,
              "#0d0887"
             ],
             [
              0.1111111111111111,
              "#46039f"
             ],
             [
              0.2222222222222222,
              "#7201a8"
             ],
             [
              0.3333333333333333,
              "#9c179e"
             ],
             [
              0.4444444444444444,
              "#bd3786"
             ],
             [
              0.5555555555555556,
              "#d8576b"
             ],
             [
              0.6666666666666666,
              "#ed7953"
             ],
             [
              0.7777777777777778,
              "#fb9f3a"
             ],
             [
              0.8888888888888888,
              "#fdca26"
             ],
             [
              1,
              "#f0f921"
             ]
            ],
            "type": "heatmapgl"
           }
          ],
          "histogram": [
           {
            "marker": {
             "colorbar": {
              "outlinewidth": 0,
              "ticks": ""
             }
            },
            "type": "histogram"
           }
          ],
          "histogram2d": [
           {
            "colorbar": {
             "outlinewidth": 0,
             "ticks": ""
            },
            "colorscale": [
             [
              0,
              "#0d0887"
             ],
             [
              0.1111111111111111,
              "#46039f"
             ],
             [
              0.2222222222222222,
              "#7201a8"
             ],
             [
              0.3333333333333333,
              "#9c179e"
             ],
             [
              0.4444444444444444,
              "#bd3786"
             ],
             [
              0.5555555555555556,
              "#d8576b"
             ],
             [
              0.6666666666666666,
              "#ed7953"
             ],
             [
              0.7777777777777778,
              "#fb9f3a"
             ],
             [
              0.8888888888888888,
              "#fdca26"
             ],
             [
              1,
              "#f0f921"
             ]
            ],
            "type": "histogram2d"
           }
          ],
          "histogram2dcontour": [
           {
            "colorbar": {
             "outlinewidth": 0,
             "ticks": ""
            },
            "colorscale": [
             [
              0,
              "#0d0887"
             ],
             [
              0.1111111111111111,
              "#46039f"
             ],
             [
              0.2222222222222222,
              "#7201a8"
             ],
             [
              0.3333333333333333,
              "#9c179e"
             ],
             [
              0.4444444444444444,
              "#bd3786"
             ],
             [
              0.5555555555555556,
              "#d8576b"
             ],
             [
              0.6666666666666666,
              "#ed7953"
             ],
             [
              0.7777777777777778,
              "#fb9f3a"
             ],
             [
              0.8888888888888888,
              "#fdca26"
             ],
             [
              1,
              "#f0f921"
             ]
            ],
            "type": "histogram2dcontour"
           }
          ],
          "mesh3d": [
           {
            "colorbar": {
             "outlinewidth": 0,
             "ticks": ""
            },
            "type": "mesh3d"
           }
          ],
          "parcoords": [
           {
            "line": {
             "colorbar": {
              "outlinewidth": 0,
              "ticks": ""
             }
            },
            "type": "parcoords"
           }
          ],
          "pie": [
           {
            "automargin": true,
            "type": "pie"
           }
          ],
          "scatter": [
           {
            "marker": {
             "colorbar": {
              "outlinewidth": 0,
              "ticks": ""
             }
            },
            "type": "scatter"
           }
          ],
          "scatter3d": [
           {
            "line": {
             "colorbar": {
              "outlinewidth": 0,
              "ticks": ""
             }
            },
            "marker": {
             "colorbar": {
              "outlinewidth": 0,
              "ticks": ""
             }
            },
            "type": "scatter3d"
           }
          ],
          "scattercarpet": [
           {
            "marker": {
             "colorbar": {
              "outlinewidth": 0,
              "ticks": ""
             }
            },
            "type": "scattercarpet"
           }
          ],
          "scattergeo": [
           {
            "marker": {
             "colorbar": {
              "outlinewidth": 0,
              "ticks": ""
             }
            },
            "type": "scattergeo"
           }
          ],
          "scattergl": [
           {
            "marker": {
             "colorbar": {
              "outlinewidth": 0,
              "ticks": ""
             }
            },
            "type": "scattergl"
           }
          ],
          "scattermapbox": [
           {
            "marker": {
             "colorbar": {
              "outlinewidth": 0,
              "ticks": ""
             }
            },
            "type": "scattermapbox"
           }
          ],
          "scatterpolar": [
           {
            "marker": {
             "colorbar": {
              "outlinewidth": 0,
              "ticks": ""
             }
            },
            "type": "scatterpolar"
           }
          ],
          "scatterpolargl": [
           {
            "marker": {
             "colorbar": {
              "outlinewidth": 0,
              "ticks": ""
             }
            },
            "type": "scatterpolargl"
           }
          ],
          "scatterternary": [
           {
            "marker": {
             "colorbar": {
              "outlinewidth": 0,
              "ticks": ""
             }
            },
            "type": "scatterternary"
           }
          ],
          "surface": [
           {
            "colorbar": {
             "outlinewidth": 0,
             "ticks": ""
            },
            "colorscale": [
             [
              0,
              "#0d0887"
             ],
             [
              0.1111111111111111,
              "#46039f"
             ],
             [
              0.2222222222222222,
              "#7201a8"
             ],
             [
              0.3333333333333333,
              "#9c179e"
             ],
             [
              0.4444444444444444,
              "#bd3786"
             ],
             [
              0.5555555555555556,
              "#d8576b"
             ],
             [
              0.6666666666666666,
              "#ed7953"
             ],
             [
              0.7777777777777778,
              "#fb9f3a"
             ],
             [
              0.8888888888888888,
              "#fdca26"
             ],
             [
              1,
              "#f0f921"
             ]
            ],
            "type": "surface"
           }
          ],
          "table": [
           {
            "cells": {
             "fill": {
              "color": "#EBF0F8"
             },
             "line": {
              "color": "white"
             }
            },
            "header": {
             "fill": {
              "color": "#C8D4E3"
             },
             "line": {
              "color": "white"
             }
            },
            "type": "table"
           }
          ]
         },
         "layout": {
          "annotationdefaults": {
           "arrowcolor": "#2a3f5f",
           "arrowhead": 0,
           "arrowwidth": 1
          },
          "coloraxis": {
           "colorbar": {
            "outlinewidth": 0,
            "ticks": ""
           }
          },
          "colorscale": {
           "diverging": [
            [
             0,
             "#8e0152"
            ],
            [
             0.1,
             "#c51b7d"
            ],
            [
             0.2,
             "#de77ae"
            ],
            [
             0.3,
             "#f1b6da"
            ],
            [
             0.4,
             "#fde0ef"
            ],
            [
             0.5,
             "#f7f7f7"
            ],
            [
             0.6,
             "#e6f5d0"
            ],
            [
             0.7,
             "#b8e186"
            ],
            [
             0.8,
             "#7fbc41"
            ],
            [
             0.9,
             "#4d9221"
            ],
            [
             1,
             "#276419"
            ]
           ],
           "sequential": [
            [
             0,
             "#0d0887"
            ],
            [
             0.1111111111111111,
             "#46039f"
            ],
            [
             0.2222222222222222,
             "#7201a8"
            ],
            [
             0.3333333333333333,
             "#9c179e"
            ],
            [
             0.4444444444444444,
             "#bd3786"
            ],
            [
             0.5555555555555556,
             "#d8576b"
            ],
            [
             0.6666666666666666,
             "#ed7953"
            ],
            [
             0.7777777777777778,
             "#fb9f3a"
            ],
            [
             0.8888888888888888,
             "#fdca26"
            ],
            [
             1,
             "#f0f921"
            ]
           ],
           "sequentialminus": [
            [
             0,
             "#0d0887"
            ],
            [
             0.1111111111111111,
             "#46039f"
            ],
            [
             0.2222222222222222,
             "#7201a8"
            ],
            [
             0.3333333333333333,
             "#9c179e"
            ],
            [
             0.4444444444444444,
             "#bd3786"
            ],
            [
             0.5555555555555556,
             "#d8576b"
            ],
            [
             0.6666666666666666,
             "#ed7953"
            ],
            [
             0.7777777777777778,
             "#fb9f3a"
            ],
            [
             0.8888888888888888,
             "#fdca26"
            ],
            [
             1,
             "#f0f921"
            ]
           ]
          },
          "colorway": [
           "#636efa",
           "#EF553B",
           "#00cc96",
           "#ab63fa",
           "#FFA15A",
           "#19d3f3",
           "#FF6692",
           "#B6E880",
           "#FF97FF",
           "#FECB52"
          ],
          "font": {
           "color": "#2a3f5f"
          },
          "geo": {
           "bgcolor": "white",
           "lakecolor": "white",
           "landcolor": "#E5ECF6",
           "showlakes": true,
           "showland": true,
           "subunitcolor": "white"
          },
          "hoverlabel": {
           "align": "left"
          },
          "hovermode": "closest",
          "mapbox": {
           "style": "light"
          },
          "paper_bgcolor": "white",
          "plot_bgcolor": "#E5ECF6",
          "polar": {
           "angularaxis": {
            "gridcolor": "white",
            "linecolor": "white",
            "ticks": ""
           },
           "bgcolor": "#E5ECF6",
           "radialaxis": {
            "gridcolor": "white",
            "linecolor": "white",
            "ticks": ""
           }
          },
          "scene": {
           "xaxis": {
            "backgroundcolor": "#E5ECF6",
            "gridcolor": "white",
            "gridwidth": 2,
            "linecolor": "white",
            "showbackground": true,
            "ticks": "",
            "zerolinecolor": "white"
           },
           "yaxis": {
            "backgroundcolor": "#E5ECF6",
            "gridcolor": "white",
            "gridwidth": 2,
            "linecolor": "white",
            "showbackground": true,
            "ticks": "",
            "zerolinecolor": "white"
           },
           "zaxis": {
            "backgroundcolor": "#E5ECF6",
            "gridcolor": "white",
            "gridwidth": 2,
            "linecolor": "white",
            "showbackground": true,
            "ticks": "",
            "zerolinecolor": "white"
           }
          },
          "shapedefaults": {
           "line": {
            "color": "#2a3f5f"
           }
          },
          "ternary": {
           "aaxis": {
            "gridcolor": "white",
            "linecolor": "white",
            "ticks": ""
           },
           "baxis": {
            "gridcolor": "white",
            "linecolor": "white",
            "ticks": ""
           },
           "bgcolor": "#E5ECF6",
           "caxis": {
            "gridcolor": "white",
            "linecolor": "white",
            "ticks": ""
           }
          },
          "title": {
           "x": 0.05
          },
          "xaxis": {
           "automargin": true,
           "gridcolor": "white",
           "linecolor": "white",
           "ticks": "",
           "title": {
            "standoff": 15
           },
           "zerolinecolor": "white",
           "zerolinewidth": 2
          },
          "yaxis": {
           "automargin": true,
           "gridcolor": "white",
           "linecolor": "white",
           "ticks": "",
           "title": {
            "standoff": 15
           },
           "zerolinecolor": "white",
           "zerolinewidth": 2
          }
         }
        },
        "title": {
         "font": {
          "color": "#4D5663"
         }
        },
        "xaxis": {
         "gridcolor": "#E1E5ED",
         "showgrid": true,
         "tickfont": {
          "color": "#4D5663"
         },
         "title": {
          "font": {
           "color": "#4D5663"
          },
          "text": ""
         },
         "zerolinecolor": "#E1E5ED"
        },
        "yaxis": {
         "gridcolor": "#E1E5ED",
         "showgrid": true,
         "tickfont": {
          "color": "#4D5663"
         },
         "title": {
          "font": {
           "color": "#4D5663"
          },
          "text": ""
         },
         "zerolinecolor": "#E1E5ED"
        }
       }
      },
      "text/html": [
       "<div>\n",
       "        \n",
       "        \n",
       "            <div id=\"784f3b31-50b2-4e43-b5cc-3bbf9ca6a669\" class=\"plotly-graph-div\" style=\"height:525px; width:100%;\"></div>\n",
       "            <script type=\"text/javascript\">\n",
       "                require([\"plotly\"], function(Plotly) {\n",
       "                    window.PLOTLYENV=window.PLOTLYENV || {};\n",
       "                    window.PLOTLYENV.BASE_URL='https://plot.ly';\n",
       "                    \n",
       "                if (document.getElementById(\"784f3b31-50b2-4e43-b5cc-3bbf9ca6a669\")) {\n",
       "                    Plotly.newPlot(\n",
       "                        '784f3b31-50b2-4e43-b5cc-3bbf9ca6a669',\n",
       "                        [{\"boxpoints\": false, \"line\": {\"width\": 1.3}, \"marker\": {\"color\": \"rgba(255, 153, 51, 1.0)\"}, \"name\": \"A\", \"orientation\": \"v\", \"type\": \"box\", \"y\": [-0.4297685383384342, 0.8992028500370997, -0.0529219344920944, -0.6575111293098215, 0.22208299129571782, 0.3794842146923049, -0.776042193527561, 0.20252386974764924, 0.5283888563058603, 0.42238405971072795, -0.06013466358030851, -0.00026800090693260357, -0.14388939098347012, 0.9344699379561042, 0.6783815719865144, 0.44503506029485257, -1.7459121312891714, -1.0030300108933405, 1.9884150558651161, -0.47184365204117884, -0.2595777957034208, 0.7400974312262351, 0.099309479647986, -0.6182408568594779, -0.09737112629162749, 1.0014953872001506, 0.2871753396523556, 1.5244479144569265, -0.23697854575363472, 0.020463560762592693, -1.1753745296203637, 0.43368223787654575, 2.24053767970503, -0.6384984081451017, -0.15584868195776844, -1.129993502850424, 1.486435661947022, 1.253760698328164, -0.13143816377831435, -1.6959507280045962, -0.5909461283664224, -0.9669632612257547, 0.1002289545273029, 0.06832115631372923, -0.23128484890668444, 0.5004811414606912, 0.4204561565082809, -1.05748043745096, 0.06683095599233774, 0.2980261452352181, -1.5226706426959702, 0.029547750310692927, 2.7094752196223126, -1.999918830221982, -1.4429817394634803, 1.2186716154519959, -0.933564385488572, 1.176427043693705, -0.35626527453103896, -0.9201267710595663, -0.4825603472456605, 1.0350105637639253, 0.7141270743667533, -0.7047888603102321, 0.07954844261010739, 0.9240461197773582, -0.2012367204600226, -0.18735870172077787, 0.8128846161700972, 0.572471733076174, 0.2172228806431597, 0.23258075293244185, -0.15037989852296424, 1.6489384008396495, -0.699170275452065, -1.1915880345536867, 0.791442180982393, -1.5343965160519073, -0.2119291089800813, 0.5147659474053279, 0.13256180204923343, 0.11804225234240634, 0.4175537717201645, -0.4404582829401427, 0.5628633036420924, -0.14853080183364786, 0.528931020376802, 0.7682140054890354, 0.5882154073068712, -0.6371179810453058, 0.00860135749083743, 1.784532008732318, 0.0630970787741614, 1.0806131230471097, -0.3368057268799231, -0.11396344278775078, 1.5040813118063128, -0.26955180544597684, -0.024390292942870706, -0.15560276318219723]}, {\"boxpoints\": false, \"line\": {\"width\": 1.3}, \"marker\": {\"color\": \"rgba(55, 128, 191, 1.0)\"}, \"name\": \"B\", \"orientation\": \"v\", \"type\": \"box\", \"y\": [-2.2286752844455777, -1.1325804605985426, -0.057504853523821425, -0.4372807380334668, 0.7196790346908422, -0.3049353605453905, -0.36769137325213835, -2.720548438240072, -0.9630851860163883, -0.2604981650092037, -0.8739159350872959, -2.597293836991736, 1.9279633238913891, -1.4857793145128506, -1.398384437744287, 0.9249812054111738, 0.9904484780182563, 0.5154826624657818, -2.118134319003685, -1.1737116775235958, 0.6767585900341822, 0.5461220282918061, -0.6990646057740326, -1.0110525490061775, -0.08120032622523697, 0.2636505021163572, 1.2323826718876643, -0.40486481243860833, 1.4760723751566938, -0.8209077663785059, 1.1402839958305764, 2.0165937745268456, -1.186601957911982, -0.8314944292076336, -0.46207793920010803, 0.11759878503277775, -0.46486529954252687, 0.6029386347856334, -0.33018597428647706, -0.009613504426322677, 0.9872410193142943, 0.2440377627033009, 0.18977165931531736, -0.6759265219314019, -0.705368350697958, 2.625871847829621, 1.6218716077031723, -2.799716407485826, -2.2039135318094103, 0.303793009001111, -0.7237119546177894, 1.806688841596908, -0.9334230739999114, 0.2771158257256812, 0.5484931304543167, -0.5310682268548499, 0.26045181959778124, -1.1664989769384293, -0.5924313434244467, -0.903470166777184, 0.1827433432749004, 1.1951182534599574, 0.9429850152610202, 0.7718174963318698, -0.3932259789252067, -0.9876135657413847, 0.06069370133947106, -0.3431001486732415, -1.4678282524891362, 1.0620820253204266, -0.45220907136404775, 0.3255127774116455, -0.5118683983115404, -1.4068154364000311, -0.6993079829811987, -1.8294456426161474, -0.19352574917505092, -0.5363175879157083, -0.4022870066216089, 0.4843330327019152, -0.4028270480314041, -0.16088752894881542, -0.10235401898702981, 0.269872266689026, -0.5211183369387445, 1.4942821686889394, 0.17909980069235, -0.6771140256279912, 0.25538789387367294, -2.4142626729455747, 2.278105352397342, 0.9633934004854583, 0.6369650835814333, 1.3346267659621462, 0.4847058208475034, 1.493950984377913, 0.608059480959266, -0.7449331063679395, -2.1561723967170456, -0.4618486399950229]}, {\"boxpoints\": false, \"line\": {\"width\": 1.3}, \"marker\": {\"color\": \"rgba(50, 171, 96, 1.0)\"}, \"name\": \"C\", \"orientation\": \"v\", \"type\": \"box\", \"y\": [1.1786249712262633, -0.07355363389825188, 0.10673728747429873, -1.6200138315172226, 0.8038860544011691, -0.015018901180249197, -0.3200043063760125, 0.8638148430107568, -0.40550870293413155, -0.16717671251139193, 1.1439215034980508, 0.22052096273934702, 0.4915874851405039, 1.6812926781938566, 0.47876602038653554, -0.24906652606117347, -0.21229099101894697, 0.226372270600233, -0.9503775922786668, 1.2900635593411864, -0.8820240618433731, -0.27968741633449284, 0.24749126784771305, -1.287147863111516, 0.7207993439726794, 0.8938331823312693, 1.4375109478706862, 1.2597826980176479, -1.7120237647553644, 0.37163223873664053, -1.2293958041730793, 0.16292848771751778, 0.8953762585328742, -1.4365689696166017, -0.36718869829790096, -1.3516910552047443, 0.7959650362780134, 0.7446694886773091, -0.2838626221563418, 0.41612897511243335, -0.660842228744442, -0.4583123541427391, 0.8487338077687653, -0.6382076088735156, 0.08648383132017577, -0.637677379928665, -0.5278572479445359, 1.009173896164119, 0.5009363886426216, -1.3580948611896575, 1.2790048126493363, -1.3879343410627092, -0.01682907297008556, -0.6703000670131273, 1.5374604806156202, -0.697161123841636, 0.579140592993929, -1.3889975589760564, -0.2004285434907031, -1.0645188810447828, -1.2877771144314145, 0.18196921915152736, 0.355098135424266, 0.967696230234717, 0.4772338366955171, -1.510038625563963, -0.40146425015958737, 0.8109168957741011, -1.2923245702731976, -1.5029614204270842, 0.15762278217901138, 1.5785914396830187, 0.9258395770780882, -1.591804263376754, 0.5844587173755277, 0.9635480254140826, -0.33441708293974676, -1.3541690061832685, -0.894986027496033, 0.8827156615564142, -0.189538521823769, 0.6639668580923442, -0.8652399949240969, 1.664279980830366, -1.2399032495021538, -2.2286583945060006, -0.7250899567942046, 1.3316815793740926, -0.5352576409055199, -1.1004892907668025, 0.22604356508286133, -0.5122613760476022, -1.032495668544159, 0.18153045439112858, 0.3794284799037391, -0.09604121980705199, 0.11572410927921793, 0.7061700491228695, -0.6429452372045623, 1.5789472867919554]}, {\"boxpoints\": false, \"line\": {\"width\": 1.3}, \"marker\": {\"color\": \"rgba(128, 0, 128, 1.0)\"}, \"name\": \"D\", \"orientation\": \"v\", \"type\": \"box\", \"y\": [-1.862800313121775, -0.20951207295621146, -0.10579750915640158, 0.7449726332937913, 0.5898440586883348, 0.6472702771138337, 0.27665593785476267, -0.10807527509649502, 0.5895237232323345, -1.519127167622268, -0.8736765979093821, 0.9736412767543172, -0.25274749632481863, -0.7315817015396363, 0.8631443417504908, -1.1953334383959195, 1.5934450350726834, -0.8692873266241693, 1.0408726111473396, -1.0533688023707521, -0.4708648587320578, 0.24293109968645663, -0.13673579661128576, 1.2814792492459324, -1.356235810952168, -0.9521423057124621, 0.6551436873402294, 1.38471077844707, -1.2900499938571501, 0.6876138195736164, -0.22371717375733743, 0.4729102128676308, 0.006192920255018028, 1.0352939760509012, -0.013019737566285078, 1.9213142379551436, 0.44293117144505634, -0.961115493975052, -1.3011893445642408, -1.2439247382623437, 0.012651245757251676, -0.12723911525196055, -0.7563921780952818, 0.872943299696692, -1.1111127361971371, 0.3105822975167003, 2.1513144207586787, 0.24673956005352016, 0.6604767199356464, -1.842687807901697, 0.4875951054385542, 0.1540716452559774, -1.1301377080208135, 0.3778292347194436, 0.06897506995523428, 0.5649041461628904, -0.04524606045128736, 1.3103889818019638, -1.626895965993376, -1.2008710881324998, -0.6668683045108091, -1.20552806684709, -1.44891755460223, -1.7712756478403473, -1.356763679162797, -0.7528382834218441, 0.4422673121786261, 0.6342408192083392, 1.357267749649809, -0.5047200232765177, -0.40351879957344367, 0.16304001463950282, -2.1196754751402564, 1.6077651138771687, -0.34728517070820913, -1.1307993233098803, 1.1377203515073007, -1.0280827244201818, -1.4062502685447293, -0.21251743156935993, 0.7444561710324307, 0.22129244784855204, 3.1331155149570455, -0.31005889628964395, -0.31583659061997493, -0.5301123392684864, 0.2864046387176444, 0.38781067220254734, -0.6938768959110249, 1.295523616880893, 0.8465238581327255, 0.24330559296550552, -0.17124434610468836, 0.4067336628284449, 1.8907279035031714, -0.14467832324424781, 0.4098334885431353, -0.6724128056332155, -0.19146324190082106, -1.2895295405214975]}],\n",
       "                        {\"legend\": {\"bgcolor\": \"#F5F6F9\", \"font\": {\"color\": \"#4D5663\"}}, \"paper_bgcolor\": \"#F5F6F9\", \"plot_bgcolor\": \"#F5F6F9\", \"template\": {\"data\": {\"bar\": [{\"error_x\": {\"color\": \"#2a3f5f\"}, \"error_y\": {\"color\": \"#2a3f5f\"}, \"marker\": {\"line\": {\"color\": \"#E5ECF6\", \"width\": 0.5}}, \"type\": \"bar\"}], \"barpolar\": [{\"marker\": {\"line\": {\"color\": \"#E5ECF6\", \"width\": 0.5}}, \"type\": \"barpolar\"}], \"carpet\": [{\"aaxis\": {\"endlinecolor\": \"#2a3f5f\", \"gridcolor\": \"white\", \"linecolor\": \"white\", \"minorgridcolor\": \"white\", \"startlinecolor\": \"#2a3f5f\"}, \"baxis\": {\"endlinecolor\": \"#2a3f5f\", \"gridcolor\": \"white\", \"linecolor\": \"white\", \"minorgridcolor\": \"white\", \"startlinecolor\": \"#2a3f5f\"}, \"type\": \"carpet\"}], \"choropleth\": [{\"colorbar\": {\"outlinewidth\": 0, \"ticks\": \"\"}, \"type\": \"choropleth\"}], \"contour\": [{\"colorbar\": {\"outlinewidth\": 0, \"ticks\": \"\"}, \"colorscale\": [[0.0, \"#0d0887\"], [0.1111111111111111, \"#46039f\"], [0.2222222222222222, \"#7201a8\"], [0.3333333333333333, \"#9c179e\"], [0.4444444444444444, \"#bd3786\"], [0.5555555555555556, \"#d8576b\"], [0.6666666666666666, \"#ed7953\"], [0.7777777777777778, \"#fb9f3a\"], [0.8888888888888888, \"#fdca26\"], [1.0, \"#f0f921\"]], \"type\": \"contour\"}], \"contourcarpet\": [{\"colorbar\": {\"outlinewidth\": 0, \"ticks\": \"\"}, \"type\": \"contourcarpet\"}], \"heatmap\": [{\"colorbar\": {\"outlinewidth\": 0, \"ticks\": \"\"}, \"colorscale\": [[0.0, \"#0d0887\"], [0.1111111111111111, \"#46039f\"], [0.2222222222222222, \"#7201a8\"], [0.3333333333333333, \"#9c179e\"], [0.4444444444444444, \"#bd3786\"], [0.5555555555555556, \"#d8576b\"], [0.6666666666666666, \"#ed7953\"], [0.7777777777777778, \"#fb9f3a\"], [0.8888888888888888, \"#fdca26\"], [1.0, \"#f0f921\"]], \"type\": \"heatmap\"}], \"heatmapgl\": [{\"colorbar\": {\"outlinewidth\": 0, \"ticks\": \"\"}, \"colorscale\": [[0.0, \"#0d0887\"], [0.1111111111111111, \"#46039f\"], [0.2222222222222222, \"#7201a8\"], [0.3333333333333333, \"#9c179e\"], [0.4444444444444444, \"#bd3786\"], [0.5555555555555556, \"#d8576b\"], [0.6666666666666666, \"#ed7953\"], [0.7777777777777778, \"#fb9f3a\"], [0.8888888888888888, \"#fdca26\"], [1.0, \"#f0f921\"]], \"type\": \"heatmapgl\"}], \"histogram\": [{\"marker\": {\"colorbar\": {\"outlinewidth\": 0, \"ticks\": \"\"}}, \"type\": \"histogram\"}], \"histogram2d\": [{\"colorbar\": {\"outlinewidth\": 0, \"ticks\": \"\"}, \"colorscale\": [[0.0, \"#0d0887\"], [0.1111111111111111, \"#46039f\"], [0.2222222222222222, \"#7201a8\"], [0.3333333333333333, \"#9c179e\"], [0.4444444444444444, \"#bd3786\"], [0.5555555555555556, \"#d8576b\"], [0.6666666666666666, \"#ed7953\"], [0.7777777777777778, \"#fb9f3a\"], [0.8888888888888888, \"#fdca26\"], [1.0, \"#f0f921\"]], \"type\": \"histogram2d\"}], \"histogram2dcontour\": [{\"colorbar\": {\"outlinewidth\": 0, \"ticks\": \"\"}, \"colorscale\": [[0.0, \"#0d0887\"], [0.1111111111111111, \"#46039f\"], [0.2222222222222222, \"#7201a8\"], [0.3333333333333333, \"#9c179e\"], [0.4444444444444444, \"#bd3786\"], [0.5555555555555556, \"#d8576b\"], [0.6666666666666666, \"#ed7953\"], [0.7777777777777778, \"#fb9f3a\"], [0.8888888888888888, \"#fdca26\"], [1.0, \"#f0f921\"]], \"type\": \"histogram2dcontour\"}], \"mesh3d\": [{\"colorbar\": {\"outlinewidth\": 0, \"ticks\": \"\"}, \"type\": \"mesh3d\"}], \"parcoords\": [{\"line\": {\"colorbar\": {\"outlinewidth\": 0, \"ticks\": \"\"}}, \"type\": \"parcoords\"}], \"pie\": [{\"automargin\": true, \"type\": \"pie\"}], \"scatter\": [{\"marker\": {\"colorbar\": {\"outlinewidth\": 0, \"ticks\": \"\"}}, \"type\": \"scatter\"}], \"scatter3d\": [{\"line\": {\"colorbar\": {\"outlinewidth\": 0, \"ticks\": \"\"}}, \"marker\": {\"colorbar\": {\"outlinewidth\": 0, \"ticks\": \"\"}}, \"type\": \"scatter3d\"}], \"scattercarpet\": [{\"marker\": {\"colorbar\": {\"outlinewidth\": 0, \"ticks\": \"\"}}, \"type\": \"scattercarpet\"}], \"scattergeo\": [{\"marker\": {\"colorbar\": {\"outlinewidth\": 0, \"ticks\": \"\"}}, \"type\": \"scattergeo\"}], \"scattergl\": [{\"marker\": {\"colorbar\": {\"outlinewidth\": 0, \"ticks\": \"\"}}, \"type\": \"scattergl\"}], \"scattermapbox\": [{\"marker\": {\"colorbar\": {\"outlinewidth\": 0, \"ticks\": \"\"}}, \"type\": \"scattermapbox\"}], \"scatterpolar\": [{\"marker\": {\"colorbar\": {\"outlinewidth\": 0, \"ticks\": \"\"}}, \"type\": \"scatterpolar\"}], \"scatterpolargl\": [{\"marker\": {\"colorbar\": {\"outlinewidth\": 0, \"ticks\": \"\"}}, \"type\": \"scatterpolargl\"}], \"scatterternary\": [{\"marker\": {\"colorbar\": {\"outlinewidth\": 0, \"ticks\": \"\"}}, \"type\": \"scatterternary\"}], \"surface\": [{\"colorbar\": {\"outlinewidth\": 0, \"ticks\": \"\"}, \"colorscale\": [[0.0, \"#0d0887\"], [0.1111111111111111, \"#46039f\"], [0.2222222222222222, \"#7201a8\"], [0.3333333333333333, \"#9c179e\"], [0.4444444444444444, \"#bd3786\"], [0.5555555555555556, \"#d8576b\"], [0.6666666666666666, \"#ed7953\"], [0.7777777777777778, \"#fb9f3a\"], [0.8888888888888888, \"#fdca26\"], [1.0, \"#f0f921\"]], \"type\": \"surface\"}], \"table\": [{\"cells\": {\"fill\": {\"color\": \"#EBF0F8\"}, \"line\": {\"color\": \"white\"}}, \"header\": {\"fill\": {\"color\": \"#C8D4E3\"}, \"line\": {\"color\": \"white\"}}, \"type\": \"table\"}]}, \"layout\": {\"annotationdefaults\": {\"arrowcolor\": \"#2a3f5f\", \"arrowhead\": 0, \"arrowwidth\": 1}, \"coloraxis\": {\"colorbar\": {\"outlinewidth\": 0, \"ticks\": \"\"}}, \"colorscale\": {\"diverging\": [[0, \"#8e0152\"], [0.1, \"#c51b7d\"], [0.2, \"#de77ae\"], [0.3, \"#f1b6da\"], [0.4, \"#fde0ef\"], [0.5, \"#f7f7f7\"], [0.6, \"#e6f5d0\"], [0.7, \"#b8e186\"], [0.8, \"#7fbc41\"], [0.9, \"#4d9221\"], [1, \"#276419\"]], \"sequential\": [[0.0, \"#0d0887\"], [0.1111111111111111, \"#46039f\"], [0.2222222222222222, \"#7201a8\"], [0.3333333333333333, \"#9c179e\"], [0.4444444444444444, \"#bd3786\"], [0.5555555555555556, \"#d8576b\"], [0.6666666666666666, \"#ed7953\"], [0.7777777777777778, \"#fb9f3a\"], [0.8888888888888888, \"#fdca26\"], [1.0, \"#f0f921\"]], \"sequentialminus\": [[0.0, \"#0d0887\"], [0.1111111111111111, \"#46039f\"], [0.2222222222222222, \"#7201a8\"], [0.3333333333333333, \"#9c179e\"], [0.4444444444444444, \"#bd3786\"], [0.5555555555555556, \"#d8576b\"], [0.6666666666666666, \"#ed7953\"], [0.7777777777777778, \"#fb9f3a\"], [0.8888888888888888, \"#fdca26\"], [1.0, \"#f0f921\"]]}, \"colorway\": [\"#636efa\", \"#EF553B\", \"#00cc96\", \"#ab63fa\", \"#FFA15A\", \"#19d3f3\", \"#FF6692\", \"#B6E880\", \"#FF97FF\", \"#FECB52\"], \"font\": {\"color\": \"#2a3f5f\"}, \"geo\": {\"bgcolor\": \"white\", \"lakecolor\": \"white\", \"landcolor\": \"#E5ECF6\", \"showlakes\": true, \"showland\": true, \"subunitcolor\": \"white\"}, \"hoverlabel\": {\"align\": \"left\"}, \"hovermode\": \"closest\", \"mapbox\": {\"style\": \"light\"}, \"paper_bgcolor\": \"white\", \"plot_bgcolor\": \"#E5ECF6\", \"polar\": {\"angularaxis\": {\"gridcolor\": \"white\", \"linecolor\": \"white\", \"ticks\": \"\"}, \"bgcolor\": \"#E5ECF6\", \"radialaxis\": {\"gridcolor\": \"white\", \"linecolor\": \"white\", \"ticks\": \"\"}}, \"scene\": {\"xaxis\": {\"backgroundcolor\": \"#E5ECF6\", \"gridcolor\": \"white\", \"gridwidth\": 2, \"linecolor\": \"white\", \"showbackground\": true, \"ticks\": \"\", \"zerolinecolor\": \"white\"}, \"yaxis\": {\"backgroundcolor\": \"#E5ECF6\", \"gridcolor\": \"white\", \"gridwidth\": 2, \"linecolor\": \"white\", \"showbackground\": true, \"ticks\": \"\", \"zerolinecolor\": \"white\"}, \"zaxis\": {\"backgroundcolor\": \"#E5ECF6\", \"gridcolor\": \"white\", \"gridwidth\": 2, \"linecolor\": \"white\", \"showbackground\": true, \"ticks\": \"\", \"zerolinecolor\": \"white\"}}, \"shapedefaults\": {\"line\": {\"color\": \"#2a3f5f\"}}, \"ternary\": {\"aaxis\": {\"gridcolor\": \"white\", \"linecolor\": \"white\", \"ticks\": \"\"}, \"baxis\": {\"gridcolor\": \"white\", \"linecolor\": \"white\", \"ticks\": \"\"}, \"bgcolor\": \"#E5ECF6\", \"caxis\": {\"gridcolor\": \"white\", \"linecolor\": \"white\", \"ticks\": \"\"}}, \"title\": {\"x\": 0.05}, \"xaxis\": {\"automargin\": true, \"gridcolor\": \"white\", \"linecolor\": \"white\", \"ticks\": \"\", \"title\": {\"standoff\": 15}, \"zerolinecolor\": \"white\", \"zerolinewidth\": 2}, \"yaxis\": {\"automargin\": true, \"gridcolor\": \"white\", \"linecolor\": \"white\", \"ticks\": \"\", \"title\": {\"standoff\": 15}, \"zerolinecolor\": \"white\", \"zerolinewidth\": 2}}}, \"title\": {\"font\": {\"color\": \"#4D5663\"}}, \"xaxis\": {\"gridcolor\": \"#E1E5ED\", \"showgrid\": true, \"tickfont\": {\"color\": \"#4D5663\"}, \"title\": {\"font\": {\"color\": \"#4D5663\"}, \"text\": \"\"}, \"zerolinecolor\": \"#E1E5ED\"}, \"yaxis\": {\"gridcolor\": \"#E1E5ED\", \"showgrid\": true, \"tickfont\": {\"color\": \"#4D5663\"}, \"title\": {\"font\": {\"color\": \"#4D5663\"}, \"text\": \"\"}, \"zerolinecolor\": \"#E1E5ED\"}},\n",
       "                        {\"showLink\": true, \"linkText\": \"Export to plot.ly\", \"plotlyServerURL\": \"https://plot.ly\", \"responsive\": true}\n",
       "                    ).then(function(){\n",
       "                            \n",
       "var gd = document.getElementById('784f3b31-50b2-4e43-b5cc-3bbf9ca6a669');\n",
       "var x = new MutationObserver(function (mutations, observer) {{\n",
       "        var display = window.getComputedStyle(gd).display;\n",
       "        if (!display || display === 'none') {{\n",
       "            console.log([gd, 'removed!']);\n",
       "            Plotly.purge(gd);\n",
       "            observer.disconnect();\n",
       "        }}\n",
       "}});\n",
       "\n",
       "// Listen for the removal of the full notebook cells\n",
       "var notebookContainer = gd.closest('#notebook-container');\n",
       "if (notebookContainer) {{\n",
       "    x.observe(notebookContainer, {childList: true});\n",
       "}}\n",
       "\n",
       "// Listen for the clearing of the current output cell\n",
       "var outputEl = gd.closest('.output');\n",
       "if (outputEl) {{\n",
       "    x.observe(outputEl, {childList: true});\n",
       "}}\n",
       "\n",
       "                        })\n",
       "                };\n",
       "                });\n",
       "            </script>\n",
       "        </div>"
      ]
     },
     "metadata": {},
     "output_type": "display_data"
    }
   ],
   "source": [
    "df.iplot(kind='box')"
   ]
  },
  {
   "cell_type": "markdown",
   "metadata": {},
   "source": [
    "## 3d Surface"
   ]
  },
  {
   "cell_type": "code",
   "execution_count": 17,
   "metadata": {},
   "outputs": [
    {
     "data": {
      "application/vnd.plotly.v1+json": {
       "config": {
        "linkText": "Export to plot.ly",
        "plotlyServerURL": "https://plot.ly",
        "showLink": true
       },
       "data": [
        {
         "colorscale": [
          [
           0,
           "rgb(165,0,38)"
          ],
          [
           0.1,
           "rgb(215,48,39)"
          ],
          [
           0.2,
           "rgb(244,109,67)"
          ],
          [
           0.3,
           "rgb(253,174,97)"
          ],
          [
           0.4,
           "rgb(254,224,144)"
          ],
          [
           0.5,
           "rgb(255,255,191)"
          ],
          [
           0.6,
           "rgb(224,243,248)"
          ],
          [
           0.7,
           "rgb(171,217,233)"
          ],
          [
           0.8,
           "rgb(116,173,209)"
          ],
          [
           0.9,
           "rgb(69,117,180)"
          ],
          [
           1,
           "rgb(49,54,149)"
          ]
         ],
         "type": "surface",
         "x": [
          0,
          1,
          2,
          3,
          4
         ],
         "y": [
          "x",
          "y",
          "z"
         ],
         "z": [
          [
           1,
           2,
           3,
           4,
           5
          ],
          [
           10,
           20,
           30,
           20,
           10
          ],
          [
           5,
           4,
           3,
           2,
           1
          ]
         ]
        }
       ],
       "layout": {
        "legend": {
         "bgcolor": "#F5F6F9",
         "font": {
          "color": "#4D5663"
         }
        },
        "paper_bgcolor": "#F5F6F9",
        "plot_bgcolor": "#F5F6F9",
        "template": {
         "data": {
          "bar": [
           {
            "error_x": {
             "color": "#2a3f5f"
            },
            "error_y": {
             "color": "#2a3f5f"
            },
            "marker": {
             "line": {
              "color": "#E5ECF6",
              "width": 0.5
             }
            },
            "type": "bar"
           }
          ],
          "barpolar": [
           {
            "marker": {
             "line": {
              "color": "#E5ECF6",
              "width": 0.5
             }
            },
            "type": "barpolar"
           }
          ],
          "carpet": [
           {
            "aaxis": {
             "endlinecolor": "#2a3f5f",
             "gridcolor": "white",
             "linecolor": "white",
             "minorgridcolor": "white",
             "startlinecolor": "#2a3f5f"
            },
            "baxis": {
             "endlinecolor": "#2a3f5f",
             "gridcolor": "white",
             "linecolor": "white",
             "minorgridcolor": "white",
             "startlinecolor": "#2a3f5f"
            },
            "type": "carpet"
           }
          ],
          "choropleth": [
           {
            "colorbar": {
             "outlinewidth": 0,
             "ticks": ""
            },
            "type": "choropleth"
           }
          ],
          "contour": [
           {
            "colorbar": {
             "outlinewidth": 0,
             "ticks": ""
            },
            "colorscale": [
             [
              0,
              "#0d0887"
             ],
             [
              0.1111111111111111,
              "#46039f"
             ],
             [
              0.2222222222222222,
              "#7201a8"
             ],
             [
              0.3333333333333333,
              "#9c179e"
             ],
             [
              0.4444444444444444,
              "#bd3786"
             ],
             [
              0.5555555555555556,
              "#d8576b"
             ],
             [
              0.6666666666666666,
              "#ed7953"
             ],
             [
              0.7777777777777778,
              "#fb9f3a"
             ],
             [
              0.8888888888888888,
              "#fdca26"
             ],
             [
              1,
              "#f0f921"
             ]
            ],
            "type": "contour"
           }
          ],
          "contourcarpet": [
           {
            "colorbar": {
             "outlinewidth": 0,
             "ticks": ""
            },
            "type": "contourcarpet"
           }
          ],
          "heatmap": [
           {
            "colorbar": {
             "outlinewidth": 0,
             "ticks": ""
            },
            "colorscale": [
             [
              0,
              "#0d0887"
             ],
             [
              0.1111111111111111,
              "#46039f"
             ],
             [
              0.2222222222222222,
              "#7201a8"
             ],
             [
              0.3333333333333333,
              "#9c179e"
             ],
             [
              0.4444444444444444,
              "#bd3786"
             ],
             [
              0.5555555555555556,
              "#d8576b"
             ],
             [
              0.6666666666666666,
              "#ed7953"
             ],
             [
              0.7777777777777778,
              "#fb9f3a"
             ],
             [
              0.8888888888888888,
              "#fdca26"
             ],
             [
              1,
              "#f0f921"
             ]
            ],
            "type": "heatmap"
           }
          ],
          "heatmapgl": [
           {
            "colorbar": {
             "outlinewidth": 0,
             "ticks": ""
            },
            "colorscale": [
             [
              0,
              "#0d0887"
             ],
             [
              0.1111111111111111,
              "#46039f"
             ],
             [
              0.2222222222222222,
              "#7201a8"
             ],
             [
              0.3333333333333333,
              "#9c179e"
             ],
             [
              0.4444444444444444,
              "#bd3786"
             ],
             [
              0.5555555555555556,
              "#d8576b"
             ],
             [
              0.6666666666666666,
              "#ed7953"
             ],
             [
              0.7777777777777778,
              "#fb9f3a"
             ],
             [
              0.8888888888888888,
              "#fdca26"
             ],
             [
              1,
              "#f0f921"
             ]
            ],
            "type": "heatmapgl"
           }
          ],
          "histogram": [
           {
            "marker": {
             "colorbar": {
              "outlinewidth": 0,
              "ticks": ""
             }
            },
            "type": "histogram"
           }
          ],
          "histogram2d": [
           {
            "colorbar": {
             "outlinewidth": 0,
             "ticks": ""
            },
            "colorscale": [
             [
              0,
              "#0d0887"
             ],
             [
              0.1111111111111111,
              "#46039f"
             ],
             [
              0.2222222222222222,
              "#7201a8"
             ],
             [
              0.3333333333333333,
              "#9c179e"
             ],
             [
              0.4444444444444444,
              "#bd3786"
             ],
             [
              0.5555555555555556,
              "#d8576b"
             ],
             [
              0.6666666666666666,
              "#ed7953"
             ],
             [
              0.7777777777777778,
              "#fb9f3a"
             ],
             [
              0.8888888888888888,
              "#fdca26"
             ],
             [
              1,
              "#f0f921"
             ]
            ],
            "type": "histogram2d"
           }
          ],
          "histogram2dcontour": [
           {
            "colorbar": {
             "outlinewidth": 0,
             "ticks": ""
            },
            "colorscale": [
             [
              0,
              "#0d0887"
             ],
             [
              0.1111111111111111,
              "#46039f"
             ],
             [
              0.2222222222222222,
              "#7201a8"
             ],
             [
              0.3333333333333333,
              "#9c179e"
             ],
             [
              0.4444444444444444,
              "#bd3786"
             ],
             [
              0.5555555555555556,
              "#d8576b"
             ],
             [
              0.6666666666666666,
              "#ed7953"
             ],
             [
              0.7777777777777778,
              "#fb9f3a"
             ],
             [
              0.8888888888888888,
              "#fdca26"
             ],
             [
              1,
              "#f0f921"
             ]
            ],
            "type": "histogram2dcontour"
           }
          ],
          "mesh3d": [
           {
            "colorbar": {
             "outlinewidth": 0,
             "ticks": ""
            },
            "type": "mesh3d"
           }
          ],
          "parcoords": [
           {
            "line": {
             "colorbar": {
              "outlinewidth": 0,
              "ticks": ""
             }
            },
            "type": "parcoords"
           }
          ],
          "pie": [
           {
            "automargin": true,
            "type": "pie"
           }
          ],
          "scatter": [
           {
            "marker": {
             "colorbar": {
              "outlinewidth": 0,
              "ticks": ""
             }
            },
            "type": "scatter"
           }
          ],
          "scatter3d": [
           {
            "line": {
             "colorbar": {
              "outlinewidth": 0,
              "ticks": ""
             }
            },
            "marker": {
             "colorbar": {
              "outlinewidth": 0,
              "ticks": ""
             }
            },
            "type": "scatter3d"
           }
          ],
          "scattercarpet": [
           {
            "marker": {
             "colorbar": {
              "outlinewidth": 0,
              "ticks": ""
             }
            },
            "type": "scattercarpet"
           }
          ],
          "scattergeo": [
           {
            "marker": {
             "colorbar": {
              "outlinewidth": 0,
              "ticks": ""
             }
            },
            "type": "scattergeo"
           }
          ],
          "scattergl": [
           {
            "marker": {
             "colorbar": {
              "outlinewidth": 0,
              "ticks": ""
             }
            },
            "type": "scattergl"
           }
          ],
          "scattermapbox": [
           {
            "marker": {
             "colorbar": {
              "outlinewidth": 0,
              "ticks": ""
             }
            },
            "type": "scattermapbox"
           }
          ],
          "scatterpolar": [
           {
            "marker": {
             "colorbar": {
              "outlinewidth": 0,
              "ticks": ""
             }
            },
            "type": "scatterpolar"
           }
          ],
          "scatterpolargl": [
           {
            "marker": {
             "colorbar": {
              "outlinewidth": 0,
              "ticks": ""
             }
            },
            "type": "scatterpolargl"
           }
          ],
          "scatterternary": [
           {
            "marker": {
             "colorbar": {
              "outlinewidth": 0,
              "ticks": ""
             }
            },
            "type": "scatterternary"
           }
          ],
          "surface": [
           {
            "colorbar": {
             "outlinewidth": 0,
             "ticks": ""
            },
            "colorscale": [
             [
              0,
              "#0d0887"
             ],
             [
              0.1111111111111111,
              "#46039f"
             ],
             [
              0.2222222222222222,
              "#7201a8"
             ],
             [
              0.3333333333333333,
              "#9c179e"
             ],
             [
              0.4444444444444444,
              "#bd3786"
             ],
             [
              0.5555555555555556,
              "#d8576b"
             ],
             [
              0.6666666666666666,
              "#ed7953"
             ],
             [
              0.7777777777777778,
              "#fb9f3a"
             ],
             [
              0.8888888888888888,
              "#fdca26"
             ],
             [
              1,
              "#f0f921"
             ]
            ],
            "type": "surface"
           }
          ],
          "table": [
           {
            "cells": {
             "fill": {
              "color": "#EBF0F8"
             },
             "line": {
              "color": "white"
             }
            },
            "header": {
             "fill": {
              "color": "#C8D4E3"
             },
             "line": {
              "color": "white"
             }
            },
            "type": "table"
           }
          ]
         },
         "layout": {
          "annotationdefaults": {
           "arrowcolor": "#2a3f5f",
           "arrowhead": 0,
           "arrowwidth": 1
          },
          "coloraxis": {
           "colorbar": {
            "outlinewidth": 0,
            "ticks": ""
           }
          },
          "colorscale": {
           "diverging": [
            [
             0,
             "#8e0152"
            ],
            [
             0.1,
             "#c51b7d"
            ],
            [
             0.2,
             "#de77ae"
            ],
            [
             0.3,
             "#f1b6da"
            ],
            [
             0.4,
             "#fde0ef"
            ],
            [
             0.5,
             "#f7f7f7"
            ],
            [
             0.6,
             "#e6f5d0"
            ],
            [
             0.7,
             "#b8e186"
            ],
            [
             0.8,
             "#7fbc41"
            ],
            [
             0.9,
             "#4d9221"
            ],
            [
             1,
             "#276419"
            ]
           ],
           "sequential": [
            [
             0,
             "#0d0887"
            ],
            [
             0.1111111111111111,
             "#46039f"
            ],
            [
             0.2222222222222222,
             "#7201a8"
            ],
            [
             0.3333333333333333,
             "#9c179e"
            ],
            [
             0.4444444444444444,
             "#bd3786"
            ],
            [
             0.5555555555555556,
             "#d8576b"
            ],
            [
             0.6666666666666666,
             "#ed7953"
            ],
            [
             0.7777777777777778,
             "#fb9f3a"
            ],
            [
             0.8888888888888888,
             "#fdca26"
            ],
            [
             1,
             "#f0f921"
            ]
           ],
           "sequentialminus": [
            [
             0,
             "#0d0887"
            ],
            [
             0.1111111111111111,
             "#46039f"
            ],
            [
             0.2222222222222222,
             "#7201a8"
            ],
            [
             0.3333333333333333,
             "#9c179e"
            ],
            [
             0.4444444444444444,
             "#bd3786"
            ],
            [
             0.5555555555555556,
             "#d8576b"
            ],
            [
             0.6666666666666666,
             "#ed7953"
            ],
            [
             0.7777777777777778,
             "#fb9f3a"
            ],
            [
             0.8888888888888888,
             "#fdca26"
            ],
            [
             1,
             "#f0f921"
            ]
           ]
          },
          "colorway": [
           "#636efa",
           "#EF553B",
           "#00cc96",
           "#ab63fa",
           "#FFA15A",
           "#19d3f3",
           "#FF6692",
           "#B6E880",
           "#FF97FF",
           "#FECB52"
          ],
          "font": {
           "color": "#2a3f5f"
          },
          "geo": {
           "bgcolor": "white",
           "lakecolor": "white",
           "landcolor": "#E5ECF6",
           "showlakes": true,
           "showland": true,
           "subunitcolor": "white"
          },
          "hoverlabel": {
           "align": "left"
          },
          "hovermode": "closest",
          "mapbox": {
           "style": "light"
          },
          "paper_bgcolor": "white",
          "plot_bgcolor": "#E5ECF6",
          "polar": {
           "angularaxis": {
            "gridcolor": "white",
            "linecolor": "white",
            "ticks": ""
           },
           "bgcolor": "#E5ECF6",
           "radialaxis": {
            "gridcolor": "white",
            "linecolor": "white",
            "ticks": ""
           }
          },
          "scene": {
           "xaxis": {
            "backgroundcolor": "#E5ECF6",
            "gridcolor": "white",
            "gridwidth": 2,
            "linecolor": "white",
            "showbackground": true,
            "ticks": "",
            "zerolinecolor": "white"
           },
           "yaxis": {
            "backgroundcolor": "#E5ECF6",
            "gridcolor": "white",
            "gridwidth": 2,
            "linecolor": "white",
            "showbackground": true,
            "ticks": "",
            "zerolinecolor": "white"
           },
           "zaxis": {
            "backgroundcolor": "#E5ECF6",
            "gridcolor": "white",
            "gridwidth": 2,
            "linecolor": "white",
            "showbackground": true,
            "ticks": "",
            "zerolinecolor": "white"
           }
          },
          "shapedefaults": {
           "line": {
            "color": "#2a3f5f"
           }
          },
          "ternary": {
           "aaxis": {
            "gridcolor": "white",
            "linecolor": "white",
            "ticks": ""
           },
           "baxis": {
            "gridcolor": "white",
            "linecolor": "white",
            "ticks": ""
           },
           "bgcolor": "#E5ECF6",
           "caxis": {
            "gridcolor": "white",
            "linecolor": "white",
            "ticks": ""
           }
          },
          "title": {
           "x": 0.05
          },
          "xaxis": {
           "automargin": true,
           "gridcolor": "white",
           "linecolor": "white",
           "ticks": "",
           "title": {
            "standoff": 15
           },
           "zerolinecolor": "white",
           "zerolinewidth": 2
          },
          "yaxis": {
           "automargin": true,
           "gridcolor": "white",
           "linecolor": "white",
           "ticks": "",
           "title": {
            "standoff": 15
           },
           "zerolinecolor": "white",
           "zerolinewidth": 2
          }
         }
        },
        "title": {
         "font": {
          "color": "#4D5663"
         }
        },
        "xaxis": {
         "gridcolor": "#E1E5ED",
         "showgrid": true,
         "tickfont": {
          "color": "#4D5663"
         },
         "title": {
          "font": {
           "color": "#4D5663"
          },
          "text": ""
         },
         "zerolinecolor": "#E1E5ED"
        },
        "yaxis": {
         "gridcolor": "#E1E5ED",
         "showgrid": true,
         "tickfont": {
          "color": "#4D5663"
         },
         "title": {
          "font": {
           "color": "#4D5663"
          },
          "text": ""
         },
         "zerolinecolor": "#E1E5ED"
        }
       }
      },
      "text/html": [
       "<div>\n",
       "        \n",
       "        \n",
       "            <div id=\"46515784-63a8-4f38-9a21-342aea2cf84e\" class=\"plotly-graph-div\" style=\"height:525px; width:100%;\"></div>\n",
       "            <script type=\"text/javascript\">\n",
       "                require([\"plotly\"], function(Plotly) {\n",
       "                    window.PLOTLYENV=window.PLOTLYENV || {};\n",
       "                    window.PLOTLYENV.BASE_URL='https://plot.ly';\n",
       "                    \n",
       "                if (document.getElementById(\"46515784-63a8-4f38-9a21-342aea2cf84e\")) {\n",
       "                    Plotly.newPlot(\n",
       "                        '46515784-63a8-4f38-9a21-342aea2cf84e',\n",
       "                        [{\"colorscale\": [[0.0, \"rgb(165,0,38)\"], [0.1, \"rgb(215,48,39)\"], [0.2, \"rgb(244,109,67)\"], [0.3, \"rgb(253,174,97)\"], [0.4, \"rgb(254,224,144)\"], [0.5, \"rgb(255,255,191)\"], [0.6, \"rgb(224,243,248)\"], [0.7, \"rgb(171,217,233)\"], [0.8, \"rgb(116,173,209)\"], [0.9, \"rgb(69,117,180)\"], [1.0, \"rgb(49,54,149)\"]], \"type\": \"surface\", \"x\": [0, 1, 2, 3, 4], \"y\": [\"x\", \"y\", \"z\"], \"z\": [[1, 2, 3, 4, 5], [10, 20, 30, 20, 10], [5, 4, 3, 2, 1]]}],\n",
       "                        {\"legend\": {\"bgcolor\": \"#F5F6F9\", \"font\": {\"color\": \"#4D5663\"}}, \"paper_bgcolor\": \"#F5F6F9\", \"plot_bgcolor\": \"#F5F6F9\", \"template\": {\"data\": {\"bar\": [{\"error_x\": {\"color\": \"#2a3f5f\"}, \"error_y\": {\"color\": \"#2a3f5f\"}, \"marker\": {\"line\": {\"color\": \"#E5ECF6\", \"width\": 0.5}}, \"type\": \"bar\"}], \"barpolar\": [{\"marker\": {\"line\": {\"color\": \"#E5ECF6\", \"width\": 0.5}}, \"type\": \"barpolar\"}], \"carpet\": [{\"aaxis\": {\"endlinecolor\": \"#2a3f5f\", \"gridcolor\": \"white\", \"linecolor\": \"white\", \"minorgridcolor\": \"white\", \"startlinecolor\": \"#2a3f5f\"}, \"baxis\": {\"endlinecolor\": \"#2a3f5f\", \"gridcolor\": \"white\", \"linecolor\": \"white\", \"minorgridcolor\": \"white\", \"startlinecolor\": \"#2a3f5f\"}, \"type\": \"carpet\"}], \"choropleth\": [{\"colorbar\": {\"outlinewidth\": 0, \"ticks\": \"\"}, \"type\": \"choropleth\"}], \"contour\": [{\"colorbar\": {\"outlinewidth\": 0, \"ticks\": \"\"}, \"colorscale\": [[0.0, \"#0d0887\"], [0.1111111111111111, \"#46039f\"], [0.2222222222222222, \"#7201a8\"], [0.3333333333333333, \"#9c179e\"], [0.4444444444444444, \"#bd3786\"], [0.5555555555555556, \"#d8576b\"], [0.6666666666666666, \"#ed7953\"], [0.7777777777777778, \"#fb9f3a\"], [0.8888888888888888, \"#fdca26\"], [1.0, \"#f0f921\"]], \"type\": \"contour\"}], \"contourcarpet\": [{\"colorbar\": {\"outlinewidth\": 0, \"ticks\": \"\"}, \"type\": \"contourcarpet\"}], \"heatmap\": [{\"colorbar\": {\"outlinewidth\": 0, \"ticks\": \"\"}, \"colorscale\": [[0.0, \"#0d0887\"], [0.1111111111111111, \"#46039f\"], [0.2222222222222222, \"#7201a8\"], [0.3333333333333333, \"#9c179e\"], [0.4444444444444444, \"#bd3786\"], [0.5555555555555556, \"#d8576b\"], [0.6666666666666666, \"#ed7953\"], [0.7777777777777778, \"#fb9f3a\"], [0.8888888888888888, \"#fdca26\"], [1.0, \"#f0f921\"]], \"type\": \"heatmap\"}], \"heatmapgl\": [{\"colorbar\": {\"outlinewidth\": 0, \"ticks\": \"\"}, \"colorscale\": [[0.0, \"#0d0887\"], [0.1111111111111111, \"#46039f\"], [0.2222222222222222, \"#7201a8\"], [0.3333333333333333, \"#9c179e\"], [0.4444444444444444, \"#bd3786\"], [0.5555555555555556, \"#d8576b\"], [0.6666666666666666, \"#ed7953\"], [0.7777777777777778, \"#fb9f3a\"], [0.8888888888888888, \"#fdca26\"], [1.0, \"#f0f921\"]], \"type\": \"heatmapgl\"}], \"histogram\": [{\"marker\": {\"colorbar\": {\"outlinewidth\": 0, \"ticks\": \"\"}}, \"type\": \"histogram\"}], \"histogram2d\": [{\"colorbar\": {\"outlinewidth\": 0, \"ticks\": \"\"}, \"colorscale\": [[0.0, \"#0d0887\"], [0.1111111111111111, \"#46039f\"], [0.2222222222222222, \"#7201a8\"], [0.3333333333333333, \"#9c179e\"], [0.4444444444444444, \"#bd3786\"], [0.5555555555555556, \"#d8576b\"], [0.6666666666666666, \"#ed7953\"], [0.7777777777777778, \"#fb9f3a\"], [0.8888888888888888, \"#fdca26\"], [1.0, \"#f0f921\"]], \"type\": \"histogram2d\"}], \"histogram2dcontour\": [{\"colorbar\": {\"outlinewidth\": 0, \"ticks\": \"\"}, \"colorscale\": [[0.0, \"#0d0887\"], [0.1111111111111111, \"#46039f\"], [0.2222222222222222, \"#7201a8\"], [0.3333333333333333, \"#9c179e\"], [0.4444444444444444, \"#bd3786\"], [0.5555555555555556, \"#d8576b\"], [0.6666666666666666, \"#ed7953\"], [0.7777777777777778, \"#fb9f3a\"], [0.8888888888888888, \"#fdca26\"], [1.0, \"#f0f921\"]], \"type\": \"histogram2dcontour\"}], \"mesh3d\": [{\"colorbar\": {\"outlinewidth\": 0, \"ticks\": \"\"}, \"type\": \"mesh3d\"}], \"parcoords\": [{\"line\": {\"colorbar\": {\"outlinewidth\": 0, \"ticks\": \"\"}}, \"type\": \"parcoords\"}], \"pie\": [{\"automargin\": true, \"type\": \"pie\"}], \"scatter\": [{\"marker\": {\"colorbar\": {\"outlinewidth\": 0, \"ticks\": \"\"}}, \"type\": \"scatter\"}], \"scatter3d\": [{\"line\": {\"colorbar\": {\"outlinewidth\": 0, \"ticks\": \"\"}}, \"marker\": {\"colorbar\": {\"outlinewidth\": 0, \"ticks\": \"\"}}, \"type\": \"scatter3d\"}], \"scattercarpet\": [{\"marker\": {\"colorbar\": {\"outlinewidth\": 0, \"ticks\": \"\"}}, \"type\": \"scattercarpet\"}], \"scattergeo\": [{\"marker\": {\"colorbar\": {\"outlinewidth\": 0, \"ticks\": \"\"}}, \"type\": \"scattergeo\"}], \"scattergl\": [{\"marker\": {\"colorbar\": {\"outlinewidth\": 0, \"ticks\": \"\"}}, \"type\": \"scattergl\"}], \"scattermapbox\": [{\"marker\": {\"colorbar\": {\"outlinewidth\": 0, \"ticks\": \"\"}}, \"type\": \"scattermapbox\"}], \"scatterpolar\": [{\"marker\": {\"colorbar\": {\"outlinewidth\": 0, \"ticks\": \"\"}}, \"type\": \"scatterpolar\"}], \"scatterpolargl\": [{\"marker\": {\"colorbar\": {\"outlinewidth\": 0, \"ticks\": \"\"}}, \"type\": \"scatterpolargl\"}], \"scatterternary\": [{\"marker\": {\"colorbar\": {\"outlinewidth\": 0, \"ticks\": \"\"}}, \"type\": \"scatterternary\"}], \"surface\": [{\"colorbar\": {\"outlinewidth\": 0, \"ticks\": \"\"}, \"colorscale\": [[0.0, \"#0d0887\"], [0.1111111111111111, \"#46039f\"], [0.2222222222222222, \"#7201a8\"], [0.3333333333333333, \"#9c179e\"], [0.4444444444444444, \"#bd3786\"], [0.5555555555555556, \"#d8576b\"], [0.6666666666666666, \"#ed7953\"], [0.7777777777777778, \"#fb9f3a\"], [0.8888888888888888, \"#fdca26\"], [1.0, \"#f0f921\"]], \"type\": \"surface\"}], \"table\": [{\"cells\": {\"fill\": {\"color\": \"#EBF0F8\"}, \"line\": {\"color\": \"white\"}}, \"header\": {\"fill\": {\"color\": \"#C8D4E3\"}, \"line\": {\"color\": \"white\"}}, \"type\": \"table\"}]}, \"layout\": {\"annotationdefaults\": {\"arrowcolor\": \"#2a3f5f\", \"arrowhead\": 0, \"arrowwidth\": 1}, \"coloraxis\": {\"colorbar\": {\"outlinewidth\": 0, \"ticks\": \"\"}}, \"colorscale\": {\"diverging\": [[0, \"#8e0152\"], [0.1, \"#c51b7d\"], [0.2, \"#de77ae\"], [0.3, \"#f1b6da\"], [0.4, \"#fde0ef\"], [0.5, \"#f7f7f7\"], [0.6, \"#e6f5d0\"], [0.7, \"#b8e186\"], [0.8, \"#7fbc41\"], [0.9, \"#4d9221\"], [1, \"#276419\"]], \"sequential\": [[0.0, \"#0d0887\"], [0.1111111111111111, \"#46039f\"], [0.2222222222222222, \"#7201a8\"], [0.3333333333333333, \"#9c179e\"], [0.4444444444444444, \"#bd3786\"], [0.5555555555555556, \"#d8576b\"], [0.6666666666666666, \"#ed7953\"], [0.7777777777777778, \"#fb9f3a\"], [0.8888888888888888, \"#fdca26\"], [1.0, \"#f0f921\"]], \"sequentialminus\": [[0.0, \"#0d0887\"], [0.1111111111111111, \"#46039f\"], [0.2222222222222222, \"#7201a8\"], [0.3333333333333333, \"#9c179e\"], [0.4444444444444444, \"#bd3786\"], [0.5555555555555556, \"#d8576b\"], [0.6666666666666666, \"#ed7953\"], [0.7777777777777778, \"#fb9f3a\"], [0.8888888888888888, \"#fdca26\"], [1.0, \"#f0f921\"]]}, \"colorway\": [\"#636efa\", \"#EF553B\", \"#00cc96\", \"#ab63fa\", \"#FFA15A\", \"#19d3f3\", \"#FF6692\", \"#B6E880\", \"#FF97FF\", \"#FECB52\"], \"font\": {\"color\": \"#2a3f5f\"}, \"geo\": {\"bgcolor\": \"white\", \"lakecolor\": \"white\", \"landcolor\": \"#E5ECF6\", \"showlakes\": true, \"showland\": true, \"subunitcolor\": \"white\"}, \"hoverlabel\": {\"align\": \"left\"}, \"hovermode\": \"closest\", \"mapbox\": {\"style\": \"light\"}, \"paper_bgcolor\": \"white\", \"plot_bgcolor\": \"#E5ECF6\", \"polar\": {\"angularaxis\": {\"gridcolor\": \"white\", \"linecolor\": \"white\", \"ticks\": \"\"}, \"bgcolor\": \"#E5ECF6\", \"radialaxis\": {\"gridcolor\": \"white\", \"linecolor\": \"white\", \"ticks\": \"\"}}, \"scene\": {\"xaxis\": {\"backgroundcolor\": \"#E5ECF6\", \"gridcolor\": \"white\", \"gridwidth\": 2, \"linecolor\": \"white\", \"showbackground\": true, \"ticks\": \"\", \"zerolinecolor\": \"white\"}, \"yaxis\": {\"backgroundcolor\": \"#E5ECF6\", \"gridcolor\": \"white\", \"gridwidth\": 2, \"linecolor\": \"white\", \"showbackground\": true, \"ticks\": \"\", \"zerolinecolor\": \"white\"}, \"zaxis\": {\"backgroundcolor\": \"#E5ECF6\", \"gridcolor\": \"white\", \"gridwidth\": 2, \"linecolor\": \"white\", \"showbackground\": true, \"ticks\": \"\", \"zerolinecolor\": \"white\"}}, \"shapedefaults\": {\"line\": {\"color\": \"#2a3f5f\"}}, \"ternary\": {\"aaxis\": {\"gridcolor\": \"white\", \"linecolor\": \"white\", \"ticks\": \"\"}, \"baxis\": {\"gridcolor\": \"white\", \"linecolor\": \"white\", \"ticks\": \"\"}, \"bgcolor\": \"#E5ECF6\", \"caxis\": {\"gridcolor\": \"white\", \"linecolor\": \"white\", \"ticks\": \"\"}}, \"title\": {\"x\": 0.05}, \"xaxis\": {\"automargin\": true, \"gridcolor\": \"white\", \"linecolor\": \"white\", \"ticks\": \"\", \"title\": {\"standoff\": 15}, \"zerolinecolor\": \"white\", \"zerolinewidth\": 2}, \"yaxis\": {\"automargin\": true, \"gridcolor\": \"white\", \"linecolor\": \"white\", \"ticks\": \"\", \"title\": {\"standoff\": 15}, \"zerolinecolor\": \"white\", \"zerolinewidth\": 2}}}, \"title\": {\"font\": {\"color\": \"#4D5663\"}}, \"xaxis\": {\"gridcolor\": \"#E1E5ED\", \"showgrid\": true, \"tickfont\": {\"color\": \"#4D5663\"}, \"title\": {\"font\": {\"color\": \"#4D5663\"}, \"text\": \"\"}, \"zerolinecolor\": \"#E1E5ED\"}, \"yaxis\": {\"gridcolor\": \"#E1E5ED\", \"showgrid\": true, \"tickfont\": {\"color\": \"#4D5663\"}, \"title\": {\"font\": {\"color\": \"#4D5663\"}, \"text\": \"\"}, \"zerolinecolor\": \"#E1E5ED\"}},\n",
       "                        {\"showLink\": true, \"linkText\": \"Export to plot.ly\", \"plotlyServerURL\": \"https://plot.ly\", \"responsive\": true}\n",
       "                    ).then(function(){\n",
       "                            \n",
       "var gd = document.getElementById('46515784-63a8-4f38-9a21-342aea2cf84e');\n",
       "var x = new MutationObserver(function (mutations, observer) {{\n",
       "        var display = window.getComputedStyle(gd).display;\n",
       "        if (!display || display === 'none') {{\n",
       "            console.log([gd, 'removed!']);\n",
       "            Plotly.purge(gd);\n",
       "            observer.disconnect();\n",
       "        }}\n",
       "}});\n",
       "\n",
       "// Listen for the removal of the full notebook cells\n",
       "var notebookContainer = gd.closest('#notebook-container');\n",
       "if (notebookContainer) {{\n",
       "    x.observe(notebookContainer, {childList: true});\n",
       "}}\n",
       "\n",
       "// Listen for the clearing of the current output cell\n",
       "var outputEl = gd.closest('.output');\n",
       "if (outputEl) {{\n",
       "    x.observe(outputEl, {childList: true});\n",
       "}}\n",
       "\n",
       "                        })\n",
       "                };\n",
       "                });\n",
       "            </script>\n",
       "        </div>"
      ]
     },
     "metadata": {},
     "output_type": "display_data"
    }
   ],
   "source": [
    "df3 = pd.DataFrame({'x':[1,2,3,4,5],'y':[10,20,30,20,10],'z':[5,4,3,2,1]})\n",
    "df3.iplot(kind='surface',colorscale='rdylbu')"
   ]
  },
  {
   "cell_type": "markdown",
   "metadata": {},
   "source": [
    "## Spread"
   ]
  },
  {
   "cell_type": "code",
   "execution_count": 18,
   "metadata": {},
   "outputs": [
    {
     "data": {
      "application/vnd.plotly.v1+json": {
       "config": {
        "linkText": "Export to plot.ly",
        "plotlyServerURL": "https://plot.ly",
        "showLink": true
       },
       "data": [
        {
         "line": {
          "color": "rgba(255, 153, 51, 1.0)",
          "dash": "solid",
          "shape": "linear",
          "width": 1.3
         },
         "mode": "lines",
         "name": "A",
         "text": "",
         "type": "scatter",
         "x": [
          0,
          1,
          2,
          3,
          4,
          5,
          6,
          7,
          8,
          9,
          10,
          11,
          12,
          13,
          14,
          15,
          16,
          17,
          18,
          19,
          20,
          21,
          22,
          23,
          24,
          25,
          26,
          27,
          28,
          29,
          30,
          31,
          32,
          33,
          34,
          35,
          36,
          37,
          38,
          39,
          40,
          41,
          42,
          43,
          44,
          45,
          46,
          47,
          48,
          49,
          50,
          51,
          52,
          53,
          54,
          55,
          56,
          57,
          58,
          59,
          60,
          61,
          62,
          63,
          64,
          65,
          66,
          67,
          68,
          69,
          70,
          71,
          72,
          73,
          74,
          75,
          76,
          77,
          78,
          79,
          80,
          81,
          82,
          83,
          84,
          85,
          86,
          87,
          88,
          89,
          90,
          91,
          92,
          93,
          94,
          95,
          96,
          97,
          98,
          99
         ],
         "y": [
          -0.4297685383384342,
          0.8992028500370997,
          -0.0529219344920944,
          -0.6575111293098215,
          0.22208299129571782,
          0.3794842146923049,
          -0.776042193527561,
          0.20252386974764924,
          0.5283888563058603,
          0.42238405971072795,
          -0.06013466358030851,
          -0.00026800090693260357,
          -0.14388939098347012,
          0.9344699379561042,
          0.6783815719865144,
          0.44503506029485257,
          -1.7459121312891714,
          -1.0030300108933405,
          1.9884150558651161,
          -0.47184365204117884,
          -0.2595777957034208,
          0.7400974312262351,
          0.099309479647986,
          -0.6182408568594779,
          -0.09737112629162749,
          1.0014953872001506,
          0.2871753396523556,
          1.5244479144569265,
          -0.23697854575363472,
          0.020463560762592693,
          -1.1753745296203637,
          0.43368223787654575,
          2.24053767970503,
          -0.6384984081451017,
          -0.15584868195776844,
          -1.129993502850424,
          1.486435661947022,
          1.253760698328164,
          -0.13143816377831435,
          -1.6959507280045962,
          -0.5909461283664224,
          -0.9669632612257547,
          0.1002289545273029,
          0.06832115631372923,
          -0.23128484890668444,
          0.5004811414606912,
          0.4204561565082809,
          -1.05748043745096,
          0.06683095599233774,
          0.2980261452352181,
          -1.5226706426959702,
          0.029547750310692927,
          2.7094752196223126,
          -1.999918830221982,
          -1.4429817394634803,
          1.2186716154519959,
          -0.933564385488572,
          1.176427043693705,
          -0.35626527453103896,
          -0.9201267710595663,
          -0.4825603472456605,
          1.0350105637639253,
          0.7141270743667533,
          -0.7047888603102321,
          0.07954844261010739,
          0.9240461197773582,
          -0.2012367204600226,
          -0.18735870172077787,
          0.8128846161700972,
          0.572471733076174,
          0.2172228806431597,
          0.23258075293244185,
          -0.15037989852296424,
          1.6489384008396495,
          -0.699170275452065,
          -1.1915880345536867,
          0.791442180982393,
          -1.5343965160519073,
          -0.2119291089800813,
          0.5147659474053279,
          0.13256180204923343,
          0.11804225234240634,
          0.4175537717201645,
          -0.4404582829401427,
          0.5628633036420924,
          -0.14853080183364786,
          0.528931020376802,
          0.7682140054890354,
          0.5882154073068712,
          -0.6371179810453058,
          0.00860135749083743,
          1.784532008732318,
          0.0630970787741614,
          1.0806131230471097,
          -0.3368057268799231,
          -0.11396344278775078,
          1.5040813118063128,
          -0.26955180544597684,
          -0.024390292942870706,
          -0.15560276318219723
         ]
        },
        {
         "line": {
          "color": "rgba(55, 128, 191, 1.0)",
          "dash": "solid",
          "shape": "linear",
          "width": 1.3
         },
         "mode": "lines",
         "name": "B",
         "text": "",
         "type": "scatter",
         "x": [
          0,
          1,
          2,
          3,
          4,
          5,
          6,
          7,
          8,
          9,
          10,
          11,
          12,
          13,
          14,
          15,
          16,
          17,
          18,
          19,
          20,
          21,
          22,
          23,
          24,
          25,
          26,
          27,
          28,
          29,
          30,
          31,
          32,
          33,
          34,
          35,
          36,
          37,
          38,
          39,
          40,
          41,
          42,
          43,
          44,
          45,
          46,
          47,
          48,
          49,
          50,
          51,
          52,
          53,
          54,
          55,
          56,
          57,
          58,
          59,
          60,
          61,
          62,
          63,
          64,
          65,
          66,
          67,
          68,
          69,
          70,
          71,
          72,
          73,
          74,
          75,
          76,
          77,
          78,
          79,
          80,
          81,
          82,
          83,
          84,
          85,
          86,
          87,
          88,
          89,
          90,
          91,
          92,
          93,
          94,
          95,
          96,
          97,
          98,
          99
         ],
         "y": [
          -2.2286752844455777,
          -1.1325804605985426,
          -0.057504853523821425,
          -0.4372807380334668,
          0.7196790346908422,
          -0.3049353605453905,
          -0.36769137325213835,
          -2.720548438240072,
          -0.9630851860163883,
          -0.2604981650092037,
          -0.8739159350872959,
          -2.597293836991736,
          1.9279633238913891,
          -1.4857793145128506,
          -1.398384437744287,
          0.9249812054111738,
          0.9904484780182563,
          0.5154826624657818,
          -2.118134319003685,
          -1.1737116775235958,
          0.6767585900341822,
          0.5461220282918061,
          -0.6990646057740326,
          -1.0110525490061775,
          -0.08120032622523697,
          0.2636505021163572,
          1.2323826718876643,
          -0.40486481243860833,
          1.4760723751566938,
          -0.8209077663785059,
          1.1402839958305764,
          2.0165937745268456,
          -1.186601957911982,
          -0.8314944292076336,
          -0.46207793920010803,
          0.11759878503277775,
          -0.46486529954252687,
          0.6029386347856334,
          -0.33018597428647706,
          -0.009613504426322677,
          0.9872410193142943,
          0.2440377627033009,
          0.18977165931531736,
          -0.6759265219314019,
          -0.705368350697958,
          2.625871847829621,
          1.6218716077031723,
          -2.799716407485826,
          -2.2039135318094103,
          0.303793009001111,
          -0.7237119546177894,
          1.806688841596908,
          -0.9334230739999114,
          0.2771158257256812,
          0.5484931304543167,
          -0.5310682268548499,
          0.26045181959778124,
          -1.1664989769384293,
          -0.5924313434244467,
          -0.903470166777184,
          0.1827433432749004,
          1.1951182534599574,
          0.9429850152610202,
          0.7718174963318698,
          -0.3932259789252067,
          -0.9876135657413847,
          0.06069370133947106,
          -0.3431001486732415,
          -1.4678282524891362,
          1.0620820253204266,
          -0.45220907136404775,
          0.3255127774116455,
          -0.5118683983115404,
          -1.4068154364000311,
          -0.6993079829811987,
          -1.8294456426161474,
          -0.19352574917505092,
          -0.5363175879157083,
          -0.4022870066216089,
          0.4843330327019152,
          -0.4028270480314041,
          -0.16088752894881542,
          -0.10235401898702981,
          0.269872266689026,
          -0.5211183369387445,
          1.4942821686889394,
          0.17909980069235,
          -0.6771140256279912,
          0.25538789387367294,
          -2.4142626729455747,
          2.278105352397342,
          0.9633934004854583,
          0.6369650835814333,
          1.3346267659621462,
          0.4847058208475034,
          1.493950984377913,
          0.608059480959266,
          -0.7449331063679395,
          -2.1561723967170456,
          -0.4618486399950229
         ]
        },
        {
         "connectgaps": false,
         "fill": "tozeroy",
         "line": {
          "color": "green",
          "dash": "solid",
          "shape": "linear",
          "width": 0.5
         },
         "mode": "lines",
         "name": "Spread",
         "showlegend": false,
         "type": "scatter",
         "x": [
          0,
          1,
          2,
          3,
          4,
          5,
          6,
          7,
          8,
          9,
          10,
          11,
          12,
          13,
          14,
          15,
          16,
          17,
          18,
          19,
          20,
          21,
          22,
          23,
          24,
          25,
          26,
          27,
          28,
          29,
          30,
          31,
          32,
          33,
          34,
          35,
          36,
          37,
          38,
          39,
          40,
          41,
          42,
          43,
          44,
          45,
          46,
          47,
          48,
          49,
          50,
          51,
          52,
          53,
          54,
          55,
          56,
          57,
          58,
          59,
          60,
          61,
          62,
          63,
          64,
          65,
          66,
          67,
          68,
          69,
          70,
          71,
          72,
          73,
          74,
          75,
          76,
          77,
          78,
          79,
          80,
          81,
          82,
          83,
          84,
          85,
          86,
          87,
          88,
          89,
          90,
          91,
          92,
          93,
          94,
          95,
          96,
          97,
          98,
          99
         ],
         "xaxis": "x2",
         "y": [
          1.7989067461071435,
          2.0317833106356424,
          0.0045829190317270285,
          "",
          "",
          0.6844195752376954,
          "",
          2.9230723079877214,
          1.4914740423222486,
          0.6828822247199317,
          0.8137812715069874,
          2.5970258360848035,
          "",
          2.4202492524689547,
          2.076766009730801,
          "",
          "",
          "",
          4.106549374868801,
          0.701868025482417,
          "",
          0.19397540293442894,
          0.7983740854220186,
          0.39281169214669953,
          "",
          0.7378448850837934,
          "",
          1.9293127268955348,
          "",
          0.8413713271410986,
          "",
          "",
          3.427139637617012,
          0.1929960210625319,
          0.3062292572423396,
          "",
          1.951300961489549,
          0.6508220635425306,
          0.1987478105081627,
          "",
          "",
          "",
          "",
          0.7442476782451312,
          0.47408350179127356,
          "",
          "",
          1.742235970034866,
          2.270744487801748,
          "",
          "",
          "",
          3.642898293622224,
          "",
          "",
          1.7497398423068458,
          "",
          2.3429260206321345,
          0.23616606889340774,
          "",
          "",
          "",
          "",
          "",
          0.4727744215353141,
          1.9116596855187429,
          "",
          0.15574144695246364,
          2.2807128686592333,
          "",
          0.6694319520072074,
          "",
          0.36148849978857617,
          3.0557538372396804,
          0.00013770752913366824,
          0.6378576080624607,
          0.984967930157444,
          "",
          0.19035789764152758,
          0.030432914703412695,
          0.5353888500806375,
          0.27892978129122176,
          0.5199077907071943,
          "",
          1.083981640580837,
          "",
          0.34983121968445197,
          1.4453280311170267,
          0.3328275134331982,
          1.777144691900269,
          "",
          0.8211386082468597,
          "",
          "",
          "",
          "",
          0.8960218308470468,
          0.4753813009219627,
          2.131782103774175,
          0.30624587681282567
         ],
         "yaxis": "y2"
        },
        {
         "connectgaps": false,
         "fill": "tozeroy",
         "line": {
          "color": "red",
          "dash": "solid",
          "shape": "linear",
          "width": 0.5
         },
         "mode": "lines",
         "name": "Spread",
         "showlegend": false,
         "type": "scatter",
         "x": [
          0,
          1,
          2,
          3,
          4,
          5,
          6,
          7,
          8,
          9,
          10,
          11,
          12,
          13,
          14,
          15,
          16,
          17,
          18,
          19,
          20,
          21,
          22,
          23,
          24,
          25,
          26,
          27,
          28,
          29,
          30,
          31,
          32,
          33,
          34,
          35,
          36,
          37,
          38,
          39,
          40,
          41,
          42,
          43,
          44,
          45,
          46,
          47,
          48,
          49,
          50,
          51,
          52,
          53,
          54,
          55,
          56,
          57,
          58,
          59,
          60,
          61,
          62,
          63,
          64,
          65,
          66,
          67,
          68,
          69,
          70,
          71,
          72,
          73,
          74,
          75,
          76,
          77,
          78,
          79,
          80,
          81,
          82,
          83,
          84,
          85,
          86,
          87,
          88,
          89,
          90,
          91,
          92,
          93,
          94,
          95,
          96,
          97,
          98,
          99
         ],
         "xaxis": "x2",
         "y": [
          "",
          "",
          "",
          -0.2202303912763547,
          -0.4975960433951243,
          "",
          -0.40835082027542263,
          "",
          "",
          "",
          "",
          "",
          -2.071852714874859,
          "",
          "",
          -0.4799461451163212,
          -2.736360609307428,
          -1.5185126733591223,
          "",
          "",
          -0.936336385737603,
          "",
          "",
          "",
          -0.016170800066390517,
          "",
          -0.9452073322353087,
          "",
          -1.7130509209103284,
          "",
          -2.31565852545094,
          -1.5829115366503,
          "",
          "",
          "",
          -1.2475922878832018,
          "",
          "",
          "",
          -1.6863372235782736,
          -1.5781871476807168,
          -1.2110010239290556,
          -0.08954270478801446,
          "",
          "",
          -2.1253907063689295,
          -1.2014154511948913,
          "",
          "",
          -0.005766863765892916,
          -0.7989586880781808,
          -1.7771410912862151,
          "",
          -2.2770346559476633,
          -1.991474869917797,
          "",
          -1.1940162050863532,
          "",
          "",
          -0.01665660428238236,
          -0.6653036905205609,
          -0.16010768969603206,
          -0.22885794089426692,
          -1.476606356642102,
          "",
          "",
          -0.26193042179949366,
          "",
          "",
          -0.48961029224425257,
          "",
          -0.09293202447920368,
          "",
          "",
          "",
          "",
          "",
          -0.998078928136199,
          "",
          "",
          "",
          "",
          "",
          -0.7103305496291688,
          "",
          -1.6428129705225873,
          "",
          "",
          "",
          "",
          -2.2695039949065046,
          "",
          -0.573868004807272,
          -0.2540136429150366,
          -0.8215115477274265,
          -1.6079144271656638,
          "",
          "",
          "",
          ""
         ],
         "yaxis": "y2"
        }
       ],
       "layout": {
        "hovermode": "x",
        "legend": {
         "bgcolor": "#F5F6F9",
         "font": {
          "color": "#4D5663"
         }
        },
        "paper_bgcolor": "#F5F6F9",
        "plot_bgcolor": "#F5F6F9",
        "template": {
         "data": {
          "bar": [
           {
            "error_x": {
             "color": "#2a3f5f"
            },
            "error_y": {
             "color": "#2a3f5f"
            },
            "marker": {
             "line": {
              "color": "#E5ECF6",
              "width": 0.5
             }
            },
            "type": "bar"
           }
          ],
          "barpolar": [
           {
            "marker": {
             "line": {
              "color": "#E5ECF6",
              "width": 0.5
             }
            },
            "type": "barpolar"
           }
          ],
          "carpet": [
           {
            "aaxis": {
             "endlinecolor": "#2a3f5f",
             "gridcolor": "white",
             "linecolor": "white",
             "minorgridcolor": "white",
             "startlinecolor": "#2a3f5f"
            },
            "baxis": {
             "endlinecolor": "#2a3f5f",
             "gridcolor": "white",
             "linecolor": "white",
             "minorgridcolor": "white",
             "startlinecolor": "#2a3f5f"
            },
            "type": "carpet"
           }
          ],
          "choropleth": [
           {
            "colorbar": {
             "outlinewidth": 0,
             "ticks": ""
            },
            "type": "choropleth"
           }
          ],
          "contour": [
           {
            "colorbar": {
             "outlinewidth": 0,
             "ticks": ""
            },
            "colorscale": [
             [
              0,
              "#0d0887"
             ],
             [
              0.1111111111111111,
              "#46039f"
             ],
             [
              0.2222222222222222,
              "#7201a8"
             ],
             [
              0.3333333333333333,
              "#9c179e"
             ],
             [
              0.4444444444444444,
              "#bd3786"
             ],
             [
              0.5555555555555556,
              "#d8576b"
             ],
             [
              0.6666666666666666,
              "#ed7953"
             ],
             [
              0.7777777777777778,
              "#fb9f3a"
             ],
             [
              0.8888888888888888,
              "#fdca26"
             ],
             [
              1,
              "#f0f921"
             ]
            ],
            "type": "contour"
           }
          ],
          "contourcarpet": [
           {
            "colorbar": {
             "outlinewidth": 0,
             "ticks": ""
            },
            "type": "contourcarpet"
           }
          ],
          "heatmap": [
           {
            "colorbar": {
             "outlinewidth": 0,
             "ticks": ""
            },
            "colorscale": [
             [
              0,
              "#0d0887"
             ],
             [
              0.1111111111111111,
              "#46039f"
             ],
             [
              0.2222222222222222,
              "#7201a8"
             ],
             [
              0.3333333333333333,
              "#9c179e"
             ],
             [
              0.4444444444444444,
              "#bd3786"
             ],
             [
              0.5555555555555556,
              "#d8576b"
             ],
             [
              0.6666666666666666,
              "#ed7953"
             ],
             [
              0.7777777777777778,
              "#fb9f3a"
             ],
             [
              0.8888888888888888,
              "#fdca26"
             ],
             [
              1,
              "#f0f921"
             ]
            ],
            "type": "heatmap"
           }
          ],
          "heatmapgl": [
           {
            "colorbar": {
             "outlinewidth": 0,
             "ticks": ""
            },
            "colorscale": [
             [
              0,
              "#0d0887"
             ],
             [
              0.1111111111111111,
              "#46039f"
             ],
             [
              0.2222222222222222,
              "#7201a8"
             ],
             [
              0.3333333333333333,
              "#9c179e"
             ],
             [
              0.4444444444444444,
              "#bd3786"
             ],
             [
              0.5555555555555556,
              "#d8576b"
             ],
             [
              0.6666666666666666,
              "#ed7953"
             ],
             [
              0.7777777777777778,
              "#fb9f3a"
             ],
             [
              0.8888888888888888,
              "#fdca26"
             ],
             [
              1,
              "#f0f921"
             ]
            ],
            "type": "heatmapgl"
           }
          ],
          "histogram": [
           {
            "marker": {
             "colorbar": {
              "outlinewidth": 0,
              "ticks": ""
             }
            },
            "type": "histogram"
           }
          ],
          "histogram2d": [
           {
            "colorbar": {
             "outlinewidth": 0,
             "ticks": ""
            },
            "colorscale": [
             [
              0,
              "#0d0887"
             ],
             [
              0.1111111111111111,
              "#46039f"
             ],
             [
              0.2222222222222222,
              "#7201a8"
             ],
             [
              0.3333333333333333,
              "#9c179e"
             ],
             [
              0.4444444444444444,
              "#bd3786"
             ],
             [
              0.5555555555555556,
              "#d8576b"
             ],
             [
              0.6666666666666666,
              "#ed7953"
             ],
             [
              0.7777777777777778,
              "#fb9f3a"
             ],
             [
              0.8888888888888888,
              "#fdca26"
             ],
             [
              1,
              "#f0f921"
             ]
            ],
            "type": "histogram2d"
           }
          ],
          "histogram2dcontour": [
           {
            "colorbar": {
             "outlinewidth": 0,
             "ticks": ""
            },
            "colorscale": [
             [
              0,
              "#0d0887"
             ],
             [
              0.1111111111111111,
              "#46039f"
             ],
             [
              0.2222222222222222,
              "#7201a8"
             ],
             [
              0.3333333333333333,
              "#9c179e"
             ],
             [
              0.4444444444444444,
              "#bd3786"
             ],
             [
              0.5555555555555556,
              "#d8576b"
             ],
             [
              0.6666666666666666,
              "#ed7953"
             ],
             [
              0.7777777777777778,
              "#fb9f3a"
             ],
             [
              0.8888888888888888,
              "#fdca26"
             ],
             [
              1,
              "#f0f921"
             ]
            ],
            "type": "histogram2dcontour"
           }
          ],
          "mesh3d": [
           {
            "colorbar": {
             "outlinewidth": 0,
             "ticks": ""
            },
            "type": "mesh3d"
           }
          ],
          "parcoords": [
           {
            "line": {
             "colorbar": {
              "outlinewidth": 0,
              "ticks": ""
             }
            },
            "type": "parcoords"
           }
          ],
          "pie": [
           {
            "automargin": true,
            "type": "pie"
           }
          ],
          "scatter": [
           {
            "marker": {
             "colorbar": {
              "outlinewidth": 0,
              "ticks": ""
             }
            },
            "type": "scatter"
           }
          ],
          "scatter3d": [
           {
            "line": {
             "colorbar": {
              "outlinewidth": 0,
              "ticks": ""
             }
            },
            "marker": {
             "colorbar": {
              "outlinewidth": 0,
              "ticks": ""
             }
            },
            "type": "scatter3d"
           }
          ],
          "scattercarpet": [
           {
            "marker": {
             "colorbar": {
              "outlinewidth": 0,
              "ticks": ""
             }
            },
            "type": "scattercarpet"
           }
          ],
          "scattergeo": [
           {
            "marker": {
             "colorbar": {
              "outlinewidth": 0,
              "ticks": ""
             }
            },
            "type": "scattergeo"
           }
          ],
          "scattergl": [
           {
            "marker": {
             "colorbar": {
              "outlinewidth": 0,
              "ticks": ""
             }
            },
            "type": "scattergl"
           }
          ],
          "scattermapbox": [
           {
            "marker": {
             "colorbar": {
              "outlinewidth": 0,
              "ticks": ""
             }
            },
            "type": "scattermapbox"
           }
          ],
          "scatterpolar": [
           {
            "marker": {
             "colorbar": {
              "outlinewidth": 0,
              "ticks": ""
             }
            },
            "type": "scatterpolar"
           }
          ],
          "scatterpolargl": [
           {
            "marker": {
             "colorbar": {
              "outlinewidth": 0,
              "ticks": ""
             }
            },
            "type": "scatterpolargl"
           }
          ],
          "scatterternary": [
           {
            "marker": {
             "colorbar": {
              "outlinewidth": 0,
              "ticks": ""
             }
            },
            "type": "scatterternary"
           }
          ],
          "surface": [
           {
            "colorbar": {
             "outlinewidth": 0,
             "ticks": ""
            },
            "colorscale": [
             [
              0,
              "#0d0887"
             ],
             [
              0.1111111111111111,
              "#46039f"
             ],
             [
              0.2222222222222222,
              "#7201a8"
             ],
             [
              0.3333333333333333,
              "#9c179e"
             ],
             [
              0.4444444444444444,
              "#bd3786"
             ],
             [
              0.5555555555555556,
              "#d8576b"
             ],
             [
              0.6666666666666666,
              "#ed7953"
             ],
             [
              0.7777777777777778,
              "#fb9f3a"
             ],
             [
              0.8888888888888888,
              "#fdca26"
             ],
             [
              1,
              "#f0f921"
             ]
            ],
            "type": "surface"
           }
          ],
          "table": [
           {
            "cells": {
             "fill": {
              "color": "#EBF0F8"
             },
             "line": {
              "color": "white"
             }
            },
            "header": {
             "fill": {
              "color": "#C8D4E3"
             },
             "line": {
              "color": "white"
             }
            },
            "type": "table"
           }
          ]
         },
         "layout": {
          "annotationdefaults": {
           "arrowcolor": "#2a3f5f",
           "arrowhead": 0,
           "arrowwidth": 1
          },
          "coloraxis": {
           "colorbar": {
            "outlinewidth": 0,
            "ticks": ""
           }
          },
          "colorscale": {
           "diverging": [
            [
             0,
             "#8e0152"
            ],
            [
             0.1,
             "#c51b7d"
            ],
            [
             0.2,
             "#de77ae"
            ],
            [
             0.3,
             "#f1b6da"
            ],
            [
             0.4,
             "#fde0ef"
            ],
            [
             0.5,
             "#f7f7f7"
            ],
            [
             0.6,
             "#e6f5d0"
            ],
            [
             0.7,
             "#b8e186"
            ],
            [
             0.8,
             "#7fbc41"
            ],
            [
             0.9,
             "#4d9221"
            ],
            [
             1,
             "#276419"
            ]
           ],
           "sequential": [
            [
             0,
             "#0d0887"
            ],
            [
             0.1111111111111111,
             "#46039f"
            ],
            [
             0.2222222222222222,
             "#7201a8"
            ],
            [
             0.3333333333333333,
             "#9c179e"
            ],
            [
             0.4444444444444444,
             "#bd3786"
            ],
            [
             0.5555555555555556,
             "#d8576b"
            ],
            [
             0.6666666666666666,
             "#ed7953"
            ],
            [
             0.7777777777777778,
             "#fb9f3a"
            ],
            [
             0.8888888888888888,
             "#fdca26"
            ],
            [
             1,
             "#f0f921"
            ]
           ],
           "sequentialminus": [
            [
             0,
             "#0d0887"
            ],
            [
             0.1111111111111111,
             "#46039f"
            ],
            [
             0.2222222222222222,
             "#7201a8"
            ],
            [
             0.3333333333333333,
             "#9c179e"
            ],
            [
             0.4444444444444444,
             "#bd3786"
            ],
            [
             0.5555555555555556,
             "#d8576b"
            ],
            [
             0.6666666666666666,
             "#ed7953"
            ],
            [
             0.7777777777777778,
             "#fb9f3a"
            ],
            [
             0.8888888888888888,
             "#fdca26"
            ],
            [
             1,
             "#f0f921"
            ]
           ]
          },
          "colorway": [
           "#636efa",
           "#EF553B",
           "#00cc96",
           "#ab63fa",
           "#FFA15A",
           "#19d3f3",
           "#FF6692",
           "#B6E880",
           "#FF97FF",
           "#FECB52"
          ],
          "font": {
           "color": "#2a3f5f"
          },
          "geo": {
           "bgcolor": "white",
           "lakecolor": "white",
           "landcolor": "#E5ECF6",
           "showlakes": true,
           "showland": true,
           "subunitcolor": "white"
          },
          "hoverlabel": {
           "align": "left"
          },
          "hovermode": "closest",
          "mapbox": {
           "style": "light"
          },
          "paper_bgcolor": "white",
          "plot_bgcolor": "#E5ECF6",
          "polar": {
           "angularaxis": {
            "gridcolor": "white",
            "linecolor": "white",
            "ticks": ""
           },
           "bgcolor": "#E5ECF6",
           "radialaxis": {
            "gridcolor": "white",
            "linecolor": "white",
            "ticks": ""
           }
          },
          "scene": {
           "xaxis": {
            "backgroundcolor": "#E5ECF6",
            "gridcolor": "white",
            "gridwidth": 2,
            "linecolor": "white",
            "showbackground": true,
            "ticks": "",
            "zerolinecolor": "white"
           },
           "yaxis": {
            "backgroundcolor": "#E5ECF6",
            "gridcolor": "white",
            "gridwidth": 2,
            "linecolor": "white",
            "showbackground": true,
            "ticks": "",
            "zerolinecolor": "white"
           },
           "zaxis": {
            "backgroundcolor": "#E5ECF6",
            "gridcolor": "white",
            "gridwidth": 2,
            "linecolor": "white",
            "showbackground": true,
            "ticks": "",
            "zerolinecolor": "white"
           }
          },
          "shapedefaults": {
           "line": {
            "color": "#2a3f5f"
           }
          },
          "ternary": {
           "aaxis": {
            "gridcolor": "white",
            "linecolor": "white",
            "ticks": ""
           },
           "baxis": {
            "gridcolor": "white",
            "linecolor": "white",
            "ticks": ""
           },
           "bgcolor": "#E5ECF6",
           "caxis": {
            "gridcolor": "white",
            "linecolor": "white",
            "ticks": ""
           }
          },
          "title": {
           "x": 0.05
          },
          "xaxis": {
           "automargin": true,
           "gridcolor": "white",
           "linecolor": "white",
           "ticks": "",
           "title": {
            "standoff": 15
           },
           "zerolinecolor": "white",
           "zerolinewidth": 2
          },
          "yaxis": {
           "automargin": true,
           "gridcolor": "white",
           "linecolor": "white",
           "ticks": "",
           "title": {
            "standoff": 15
           },
           "zerolinecolor": "white",
           "zerolinewidth": 2
          }
         }
        },
        "title": {
         "font": {
          "color": "#4D5663"
         }
        },
        "xaxis": {
         "gridcolor": "#E1E5ED",
         "showgrid": true,
         "tickfont": {
          "color": "#4D5663"
         },
         "title": {
          "font": {
           "color": "#4D5663"
          },
          "text": ""
         },
         "zerolinecolor": "#E1E5ED"
        },
        "xaxis2": {
         "anchor": "y2",
         "gridcolor": "#E1E5ED",
         "showgrid": true,
         "showticklabels": false,
         "tickfont": {
          "color": "#4D5663"
         },
         "title": {
          "font": {
           "color": "#4D5663"
          },
          "text": ""
         },
         "zerolinecolor": "#E1E5ED"
        },
        "yaxis": {
         "domain": [
          0.3,
          1
         ],
         "gridcolor": "#E1E5ED",
         "showgrid": true,
         "tickfont": {
          "color": "#4D5663"
         },
         "title": {
          "font": {
           "color": "#4D5663"
          },
          "text": ""
         },
         "zerolinecolor": "#E1E5ED"
        },
        "yaxis2": {
         "domain": [
          0,
          0.25
         ],
         "gridcolor": "#E1E5ED",
         "showgrid": true,
         "tickfont": {
          "color": "#4D5663"
         },
         "title": {
          "font": {
           "color": "#4D5663"
          },
          "text": "Spread"
         },
         "zerolinecolor": "#E1E5ED"
        }
       }
      },
      "text/html": [
       "<div>\n",
       "        \n",
       "        \n",
       "            <div id=\"d95136d0-e879-4c4d-ae93-81cdd621a65d\" class=\"plotly-graph-div\" style=\"height:525px; width:100%;\"></div>\n",
       "            <script type=\"text/javascript\">\n",
       "                require([\"plotly\"], function(Plotly) {\n",
       "                    window.PLOTLYENV=window.PLOTLYENV || {};\n",
       "                    window.PLOTLYENV.BASE_URL='https://plot.ly';\n",
       "                    \n",
       "                if (document.getElementById(\"d95136d0-e879-4c4d-ae93-81cdd621a65d\")) {\n",
       "                    Plotly.newPlot(\n",
       "                        'd95136d0-e879-4c4d-ae93-81cdd621a65d',\n",
       "                        [{\"line\": {\"color\": \"rgba(255, 153, 51, 1.0)\", \"dash\": \"solid\", \"shape\": \"linear\", \"width\": 1.3}, \"mode\": \"lines\", \"name\": \"A\", \"text\": \"\", \"type\": \"scatter\", \"x\": [0, 1, 2, 3, 4, 5, 6, 7, 8, 9, 10, 11, 12, 13, 14, 15, 16, 17, 18, 19, 20, 21, 22, 23, 24, 25, 26, 27, 28, 29, 30, 31, 32, 33, 34, 35, 36, 37, 38, 39, 40, 41, 42, 43, 44, 45, 46, 47, 48, 49, 50, 51, 52, 53, 54, 55, 56, 57, 58, 59, 60, 61, 62, 63, 64, 65, 66, 67, 68, 69, 70, 71, 72, 73, 74, 75, 76, 77, 78, 79, 80, 81, 82, 83, 84, 85, 86, 87, 88, 89, 90, 91, 92, 93, 94, 95, 96, 97, 98, 99], \"y\": [-0.4297685383384342, 0.8992028500370997, -0.0529219344920944, -0.6575111293098215, 0.22208299129571782, 0.3794842146923049, -0.776042193527561, 0.20252386974764924, 0.5283888563058603, 0.42238405971072795, -0.06013466358030851, -0.00026800090693260357, -0.14388939098347012, 0.9344699379561042, 0.6783815719865144, 0.44503506029485257, -1.7459121312891714, -1.0030300108933405, 1.9884150558651161, -0.47184365204117884, -0.2595777957034208, 0.7400974312262351, 0.099309479647986, -0.6182408568594779, -0.09737112629162749, 1.0014953872001506, 0.2871753396523556, 1.5244479144569265, -0.23697854575363472, 0.020463560762592693, -1.1753745296203637, 0.43368223787654575, 2.24053767970503, -0.6384984081451017, -0.15584868195776844, -1.129993502850424, 1.486435661947022, 1.253760698328164, -0.13143816377831435, -1.6959507280045962, -0.5909461283664224, -0.9669632612257547, 0.1002289545273029, 0.06832115631372923, -0.23128484890668444, 0.5004811414606912, 0.4204561565082809, -1.05748043745096, 0.06683095599233774, 0.2980261452352181, -1.5226706426959702, 0.029547750310692927, 2.7094752196223126, -1.999918830221982, -1.4429817394634803, 1.2186716154519959, -0.933564385488572, 1.176427043693705, -0.35626527453103896, -0.9201267710595663, -0.4825603472456605, 1.0350105637639253, 0.7141270743667533, -0.7047888603102321, 0.07954844261010739, 0.9240461197773582, -0.2012367204600226, -0.18735870172077787, 0.8128846161700972, 0.572471733076174, 0.2172228806431597, 0.23258075293244185, -0.15037989852296424, 1.6489384008396495, -0.699170275452065, -1.1915880345536867, 0.791442180982393, -1.5343965160519073, -0.2119291089800813, 0.5147659474053279, 0.13256180204923343, 0.11804225234240634, 0.4175537717201645, -0.4404582829401427, 0.5628633036420924, -0.14853080183364786, 0.528931020376802, 0.7682140054890354, 0.5882154073068712, -0.6371179810453058, 0.00860135749083743, 1.784532008732318, 0.0630970787741614, 1.0806131230471097, -0.3368057268799231, -0.11396344278775078, 1.5040813118063128, -0.26955180544597684, -0.024390292942870706, -0.15560276318219723]}, {\"line\": {\"color\": \"rgba(55, 128, 191, 1.0)\", \"dash\": \"solid\", \"shape\": \"linear\", \"width\": 1.3}, \"mode\": \"lines\", \"name\": \"B\", \"text\": \"\", \"type\": \"scatter\", \"x\": [0, 1, 2, 3, 4, 5, 6, 7, 8, 9, 10, 11, 12, 13, 14, 15, 16, 17, 18, 19, 20, 21, 22, 23, 24, 25, 26, 27, 28, 29, 30, 31, 32, 33, 34, 35, 36, 37, 38, 39, 40, 41, 42, 43, 44, 45, 46, 47, 48, 49, 50, 51, 52, 53, 54, 55, 56, 57, 58, 59, 60, 61, 62, 63, 64, 65, 66, 67, 68, 69, 70, 71, 72, 73, 74, 75, 76, 77, 78, 79, 80, 81, 82, 83, 84, 85, 86, 87, 88, 89, 90, 91, 92, 93, 94, 95, 96, 97, 98, 99], \"y\": [-2.2286752844455777, -1.1325804605985426, -0.057504853523821425, -0.4372807380334668, 0.7196790346908422, -0.3049353605453905, -0.36769137325213835, -2.720548438240072, -0.9630851860163883, -0.2604981650092037, -0.8739159350872959, -2.597293836991736, 1.9279633238913891, -1.4857793145128506, -1.398384437744287, 0.9249812054111738, 0.9904484780182563, 0.5154826624657818, -2.118134319003685, -1.1737116775235958, 0.6767585900341822, 0.5461220282918061, -0.6990646057740326, -1.0110525490061775, -0.08120032622523697, 0.2636505021163572, 1.2323826718876643, -0.40486481243860833, 1.4760723751566938, -0.8209077663785059, 1.1402839958305764, 2.0165937745268456, -1.186601957911982, -0.8314944292076336, -0.46207793920010803, 0.11759878503277775, -0.46486529954252687, 0.6029386347856334, -0.33018597428647706, -0.009613504426322677, 0.9872410193142943, 0.2440377627033009, 0.18977165931531736, -0.6759265219314019, -0.705368350697958, 2.625871847829621, 1.6218716077031723, -2.799716407485826, -2.2039135318094103, 0.303793009001111, -0.7237119546177894, 1.806688841596908, -0.9334230739999114, 0.2771158257256812, 0.5484931304543167, -0.5310682268548499, 0.26045181959778124, -1.1664989769384293, -0.5924313434244467, -0.903470166777184, 0.1827433432749004, 1.1951182534599574, 0.9429850152610202, 0.7718174963318698, -0.3932259789252067, -0.9876135657413847, 0.06069370133947106, -0.3431001486732415, -1.4678282524891362, 1.0620820253204266, -0.45220907136404775, 0.3255127774116455, -0.5118683983115404, -1.4068154364000311, -0.6993079829811987, -1.8294456426161474, -0.19352574917505092, -0.5363175879157083, -0.4022870066216089, 0.4843330327019152, -0.4028270480314041, -0.16088752894881542, -0.10235401898702981, 0.269872266689026, -0.5211183369387445, 1.4942821686889394, 0.17909980069235, -0.6771140256279912, 0.25538789387367294, -2.4142626729455747, 2.278105352397342, 0.9633934004854583, 0.6369650835814333, 1.3346267659621462, 0.4847058208475034, 1.493950984377913, 0.608059480959266, -0.7449331063679395, -2.1561723967170456, -0.4618486399950229]}, {\"connectgaps\": false, \"fill\": \"tozeroy\", \"line\": {\"color\": \"green\", \"dash\": \"solid\", \"shape\": \"linear\", \"width\": 0.5}, \"mode\": \"lines\", \"name\": \"Spread\", \"showlegend\": false, \"type\": \"scatter\", \"x\": [0, 1, 2, 3, 4, 5, 6, 7, 8, 9, 10, 11, 12, 13, 14, 15, 16, 17, 18, 19, 20, 21, 22, 23, 24, 25, 26, 27, 28, 29, 30, 31, 32, 33, 34, 35, 36, 37, 38, 39, 40, 41, 42, 43, 44, 45, 46, 47, 48, 49, 50, 51, 52, 53, 54, 55, 56, 57, 58, 59, 60, 61, 62, 63, 64, 65, 66, 67, 68, 69, 70, 71, 72, 73, 74, 75, 76, 77, 78, 79, 80, 81, 82, 83, 84, 85, 86, 87, 88, 89, 90, 91, 92, 93, 94, 95, 96, 97, 98, 99], \"xaxis\": \"x2\", \"y\": [1.7989067461071435, 2.0317833106356424, 0.0045829190317270285, \"\", \"\", 0.6844195752376954, \"\", 2.9230723079877214, 1.4914740423222486, 0.6828822247199317, 0.8137812715069874, 2.5970258360848035, \"\", 2.4202492524689547, 2.076766009730801, \"\", \"\", \"\", 4.106549374868801, 0.701868025482417, \"\", 0.19397540293442894, 0.7983740854220186, 0.39281169214669953, \"\", 0.7378448850837934, \"\", 1.9293127268955348, \"\", 0.8413713271410986, \"\", \"\", 3.427139637617012, 0.1929960210625319, 0.3062292572423396, \"\", 1.951300961489549, 0.6508220635425306, 0.1987478105081627, \"\", \"\", \"\", \"\", 0.7442476782451312, 0.47408350179127356, \"\", \"\", 1.742235970034866, 2.270744487801748, \"\", \"\", \"\", 3.642898293622224, \"\", \"\", 1.7497398423068458, \"\", 2.3429260206321345, 0.23616606889340774, \"\", \"\", \"\", \"\", \"\", 0.4727744215353141, 1.9116596855187429, \"\", 0.15574144695246364, 2.2807128686592333, \"\", 0.6694319520072074, \"\", 0.36148849978857617, 3.0557538372396804, 0.00013770752913366824, 0.6378576080624607, 0.984967930157444, \"\", 0.19035789764152758, 0.030432914703412695, 0.5353888500806375, 0.27892978129122176, 0.5199077907071943, \"\", 1.083981640580837, \"\", 0.34983121968445197, 1.4453280311170267, 0.3328275134331982, 1.777144691900269, \"\", 0.8211386082468597, \"\", \"\", \"\", \"\", 0.8960218308470468, 0.4753813009219627, 2.131782103774175, 0.30624587681282567], \"yaxis\": \"y2\"}, {\"connectgaps\": false, \"fill\": \"tozeroy\", \"line\": {\"color\": \"red\", \"dash\": \"solid\", \"shape\": \"linear\", \"width\": 0.5}, \"mode\": \"lines\", \"name\": \"Spread\", \"showlegend\": false, \"type\": \"scatter\", \"x\": [0, 1, 2, 3, 4, 5, 6, 7, 8, 9, 10, 11, 12, 13, 14, 15, 16, 17, 18, 19, 20, 21, 22, 23, 24, 25, 26, 27, 28, 29, 30, 31, 32, 33, 34, 35, 36, 37, 38, 39, 40, 41, 42, 43, 44, 45, 46, 47, 48, 49, 50, 51, 52, 53, 54, 55, 56, 57, 58, 59, 60, 61, 62, 63, 64, 65, 66, 67, 68, 69, 70, 71, 72, 73, 74, 75, 76, 77, 78, 79, 80, 81, 82, 83, 84, 85, 86, 87, 88, 89, 90, 91, 92, 93, 94, 95, 96, 97, 98, 99], \"xaxis\": \"x2\", \"y\": [\"\", \"\", \"\", -0.2202303912763547, -0.4975960433951243, \"\", -0.40835082027542263, \"\", \"\", \"\", \"\", \"\", -2.071852714874859, \"\", \"\", -0.4799461451163212, -2.736360609307428, -1.5185126733591223, \"\", \"\", -0.936336385737603, \"\", \"\", \"\", -0.016170800066390517, \"\", -0.9452073322353087, \"\", -1.7130509209103284, \"\", -2.31565852545094, -1.5829115366503, \"\", \"\", \"\", -1.2475922878832018, \"\", \"\", \"\", -1.6863372235782736, -1.5781871476807168, -1.2110010239290556, -0.08954270478801446, \"\", \"\", -2.1253907063689295, -1.2014154511948913, \"\", \"\", -0.005766863765892916, -0.7989586880781808, -1.7771410912862151, \"\", -2.2770346559476633, -1.991474869917797, \"\", -1.1940162050863532, \"\", \"\", -0.01665660428238236, -0.6653036905205609, -0.16010768969603206, -0.22885794089426692, -1.476606356642102, \"\", \"\", -0.26193042179949366, \"\", \"\", -0.48961029224425257, \"\", -0.09293202447920368, \"\", \"\", \"\", \"\", \"\", -0.998078928136199, \"\", \"\", \"\", \"\", \"\", -0.7103305496291688, \"\", -1.6428129705225873, \"\", \"\", \"\", \"\", -2.2695039949065046, \"\", -0.573868004807272, -0.2540136429150366, -0.8215115477274265, -1.6079144271656638, \"\", \"\", \"\", \"\"], \"yaxis\": \"y2\"}],\n",
       "                        {\"hovermode\": \"x\", \"legend\": {\"bgcolor\": \"#F5F6F9\", \"font\": {\"color\": \"#4D5663\"}}, \"paper_bgcolor\": \"#F5F6F9\", \"plot_bgcolor\": \"#F5F6F9\", \"template\": {\"data\": {\"bar\": [{\"error_x\": {\"color\": \"#2a3f5f\"}, \"error_y\": {\"color\": \"#2a3f5f\"}, \"marker\": {\"line\": {\"color\": \"#E5ECF6\", \"width\": 0.5}}, \"type\": \"bar\"}], \"barpolar\": [{\"marker\": {\"line\": {\"color\": \"#E5ECF6\", \"width\": 0.5}}, \"type\": \"barpolar\"}], \"carpet\": [{\"aaxis\": {\"endlinecolor\": \"#2a3f5f\", \"gridcolor\": \"white\", \"linecolor\": \"white\", \"minorgridcolor\": \"white\", \"startlinecolor\": \"#2a3f5f\"}, \"baxis\": {\"endlinecolor\": \"#2a3f5f\", \"gridcolor\": \"white\", \"linecolor\": \"white\", \"minorgridcolor\": \"white\", \"startlinecolor\": \"#2a3f5f\"}, \"type\": \"carpet\"}], \"choropleth\": [{\"colorbar\": {\"outlinewidth\": 0, \"ticks\": \"\"}, \"type\": \"choropleth\"}], \"contour\": [{\"colorbar\": {\"outlinewidth\": 0, \"ticks\": \"\"}, \"colorscale\": [[0.0, \"#0d0887\"], [0.1111111111111111, \"#46039f\"], [0.2222222222222222, \"#7201a8\"], [0.3333333333333333, \"#9c179e\"], [0.4444444444444444, \"#bd3786\"], [0.5555555555555556, \"#d8576b\"], [0.6666666666666666, \"#ed7953\"], [0.7777777777777778, \"#fb9f3a\"], [0.8888888888888888, \"#fdca26\"], [1.0, \"#f0f921\"]], \"type\": \"contour\"}], \"contourcarpet\": [{\"colorbar\": {\"outlinewidth\": 0, \"ticks\": \"\"}, \"type\": \"contourcarpet\"}], \"heatmap\": [{\"colorbar\": {\"outlinewidth\": 0, \"ticks\": \"\"}, \"colorscale\": [[0.0, \"#0d0887\"], [0.1111111111111111, \"#46039f\"], [0.2222222222222222, \"#7201a8\"], [0.3333333333333333, \"#9c179e\"], [0.4444444444444444, \"#bd3786\"], [0.5555555555555556, \"#d8576b\"], [0.6666666666666666, \"#ed7953\"], [0.7777777777777778, \"#fb9f3a\"], [0.8888888888888888, \"#fdca26\"], [1.0, \"#f0f921\"]], \"type\": \"heatmap\"}], \"heatmapgl\": [{\"colorbar\": {\"outlinewidth\": 0, \"ticks\": \"\"}, \"colorscale\": [[0.0, \"#0d0887\"], [0.1111111111111111, \"#46039f\"], [0.2222222222222222, \"#7201a8\"], [0.3333333333333333, \"#9c179e\"], [0.4444444444444444, \"#bd3786\"], [0.5555555555555556, \"#d8576b\"], [0.6666666666666666, \"#ed7953\"], [0.7777777777777778, \"#fb9f3a\"], [0.8888888888888888, \"#fdca26\"], [1.0, \"#f0f921\"]], \"type\": \"heatmapgl\"}], \"histogram\": [{\"marker\": {\"colorbar\": {\"outlinewidth\": 0, \"ticks\": \"\"}}, \"type\": \"histogram\"}], \"histogram2d\": [{\"colorbar\": {\"outlinewidth\": 0, \"ticks\": \"\"}, \"colorscale\": [[0.0, \"#0d0887\"], [0.1111111111111111, \"#46039f\"], [0.2222222222222222, \"#7201a8\"], [0.3333333333333333, \"#9c179e\"], [0.4444444444444444, \"#bd3786\"], [0.5555555555555556, \"#d8576b\"], [0.6666666666666666, \"#ed7953\"], [0.7777777777777778, \"#fb9f3a\"], [0.8888888888888888, \"#fdca26\"], [1.0, \"#f0f921\"]], \"type\": \"histogram2d\"}], \"histogram2dcontour\": [{\"colorbar\": {\"outlinewidth\": 0, \"ticks\": \"\"}, \"colorscale\": [[0.0, \"#0d0887\"], [0.1111111111111111, \"#46039f\"], [0.2222222222222222, \"#7201a8\"], [0.3333333333333333, \"#9c179e\"], [0.4444444444444444, \"#bd3786\"], [0.5555555555555556, \"#d8576b\"], [0.6666666666666666, \"#ed7953\"], [0.7777777777777778, \"#fb9f3a\"], [0.8888888888888888, \"#fdca26\"], [1.0, \"#f0f921\"]], \"type\": \"histogram2dcontour\"}], \"mesh3d\": [{\"colorbar\": {\"outlinewidth\": 0, \"ticks\": \"\"}, \"type\": \"mesh3d\"}], \"parcoords\": [{\"line\": {\"colorbar\": {\"outlinewidth\": 0, \"ticks\": \"\"}}, \"type\": \"parcoords\"}], \"pie\": [{\"automargin\": true, \"type\": \"pie\"}], \"scatter\": [{\"marker\": {\"colorbar\": {\"outlinewidth\": 0, \"ticks\": \"\"}}, \"type\": \"scatter\"}], \"scatter3d\": [{\"line\": {\"colorbar\": {\"outlinewidth\": 0, \"ticks\": \"\"}}, \"marker\": {\"colorbar\": {\"outlinewidth\": 0, \"ticks\": \"\"}}, \"type\": \"scatter3d\"}], \"scattercarpet\": [{\"marker\": {\"colorbar\": {\"outlinewidth\": 0, \"ticks\": \"\"}}, \"type\": \"scattercarpet\"}], \"scattergeo\": [{\"marker\": {\"colorbar\": {\"outlinewidth\": 0, \"ticks\": \"\"}}, \"type\": \"scattergeo\"}], \"scattergl\": [{\"marker\": {\"colorbar\": {\"outlinewidth\": 0, \"ticks\": \"\"}}, \"type\": \"scattergl\"}], \"scattermapbox\": [{\"marker\": {\"colorbar\": {\"outlinewidth\": 0, \"ticks\": \"\"}}, \"type\": \"scattermapbox\"}], \"scatterpolar\": [{\"marker\": {\"colorbar\": {\"outlinewidth\": 0, \"ticks\": \"\"}}, \"type\": \"scatterpolar\"}], \"scatterpolargl\": [{\"marker\": {\"colorbar\": {\"outlinewidth\": 0, \"ticks\": \"\"}}, \"type\": \"scatterpolargl\"}], \"scatterternary\": [{\"marker\": {\"colorbar\": {\"outlinewidth\": 0, \"ticks\": \"\"}}, \"type\": \"scatterternary\"}], \"surface\": [{\"colorbar\": {\"outlinewidth\": 0, \"ticks\": \"\"}, \"colorscale\": [[0.0, \"#0d0887\"], [0.1111111111111111, \"#46039f\"], [0.2222222222222222, \"#7201a8\"], [0.3333333333333333, \"#9c179e\"], [0.4444444444444444, \"#bd3786\"], [0.5555555555555556, \"#d8576b\"], [0.6666666666666666, \"#ed7953\"], [0.7777777777777778, \"#fb9f3a\"], [0.8888888888888888, \"#fdca26\"], [1.0, \"#f0f921\"]], \"type\": \"surface\"}], \"table\": [{\"cells\": {\"fill\": {\"color\": \"#EBF0F8\"}, \"line\": {\"color\": \"white\"}}, \"header\": {\"fill\": {\"color\": \"#C8D4E3\"}, \"line\": {\"color\": \"white\"}}, \"type\": \"table\"}]}, \"layout\": {\"annotationdefaults\": {\"arrowcolor\": \"#2a3f5f\", \"arrowhead\": 0, \"arrowwidth\": 1}, \"coloraxis\": {\"colorbar\": {\"outlinewidth\": 0, \"ticks\": \"\"}}, \"colorscale\": {\"diverging\": [[0, \"#8e0152\"], [0.1, \"#c51b7d\"], [0.2, \"#de77ae\"], [0.3, \"#f1b6da\"], [0.4, \"#fde0ef\"], [0.5, \"#f7f7f7\"], [0.6, \"#e6f5d0\"], [0.7, \"#b8e186\"], [0.8, \"#7fbc41\"], [0.9, \"#4d9221\"], [1, \"#276419\"]], \"sequential\": [[0.0, \"#0d0887\"], [0.1111111111111111, \"#46039f\"], [0.2222222222222222, \"#7201a8\"], [0.3333333333333333, \"#9c179e\"], [0.4444444444444444, \"#bd3786\"], [0.5555555555555556, \"#d8576b\"], [0.6666666666666666, \"#ed7953\"], [0.7777777777777778, \"#fb9f3a\"], [0.8888888888888888, \"#fdca26\"], [1.0, \"#f0f921\"]], \"sequentialminus\": [[0.0, \"#0d0887\"], [0.1111111111111111, \"#46039f\"], [0.2222222222222222, \"#7201a8\"], [0.3333333333333333, \"#9c179e\"], [0.4444444444444444, \"#bd3786\"], [0.5555555555555556, \"#d8576b\"], [0.6666666666666666, \"#ed7953\"], [0.7777777777777778, \"#fb9f3a\"], [0.8888888888888888, \"#fdca26\"], [1.0, \"#f0f921\"]]}, \"colorway\": [\"#636efa\", \"#EF553B\", \"#00cc96\", \"#ab63fa\", \"#FFA15A\", \"#19d3f3\", \"#FF6692\", \"#B6E880\", \"#FF97FF\", \"#FECB52\"], \"font\": {\"color\": \"#2a3f5f\"}, \"geo\": {\"bgcolor\": \"white\", \"lakecolor\": \"white\", \"landcolor\": \"#E5ECF6\", \"showlakes\": true, \"showland\": true, \"subunitcolor\": \"white\"}, \"hoverlabel\": {\"align\": \"left\"}, \"hovermode\": \"closest\", \"mapbox\": {\"style\": \"light\"}, \"paper_bgcolor\": \"white\", \"plot_bgcolor\": \"#E5ECF6\", \"polar\": {\"angularaxis\": {\"gridcolor\": \"white\", \"linecolor\": \"white\", \"ticks\": \"\"}, \"bgcolor\": \"#E5ECF6\", \"radialaxis\": {\"gridcolor\": \"white\", \"linecolor\": \"white\", \"ticks\": \"\"}}, \"scene\": {\"xaxis\": {\"backgroundcolor\": \"#E5ECF6\", \"gridcolor\": \"white\", \"gridwidth\": 2, \"linecolor\": \"white\", \"showbackground\": true, \"ticks\": \"\", \"zerolinecolor\": \"white\"}, \"yaxis\": {\"backgroundcolor\": \"#E5ECF6\", \"gridcolor\": \"white\", \"gridwidth\": 2, \"linecolor\": \"white\", \"showbackground\": true, \"ticks\": \"\", \"zerolinecolor\": \"white\"}, \"zaxis\": {\"backgroundcolor\": \"#E5ECF6\", \"gridcolor\": \"white\", \"gridwidth\": 2, \"linecolor\": \"white\", \"showbackground\": true, \"ticks\": \"\", \"zerolinecolor\": \"white\"}}, \"shapedefaults\": {\"line\": {\"color\": \"#2a3f5f\"}}, \"ternary\": {\"aaxis\": {\"gridcolor\": \"white\", \"linecolor\": \"white\", \"ticks\": \"\"}, \"baxis\": {\"gridcolor\": \"white\", \"linecolor\": \"white\", \"ticks\": \"\"}, \"bgcolor\": \"#E5ECF6\", \"caxis\": {\"gridcolor\": \"white\", \"linecolor\": \"white\", \"ticks\": \"\"}}, \"title\": {\"x\": 0.05}, \"xaxis\": {\"automargin\": true, \"gridcolor\": \"white\", \"linecolor\": \"white\", \"ticks\": \"\", \"title\": {\"standoff\": 15}, \"zerolinecolor\": \"white\", \"zerolinewidth\": 2}, \"yaxis\": {\"automargin\": true, \"gridcolor\": \"white\", \"linecolor\": \"white\", \"ticks\": \"\", \"title\": {\"standoff\": 15}, \"zerolinecolor\": \"white\", \"zerolinewidth\": 2}}}, \"title\": {\"font\": {\"color\": \"#4D5663\"}}, \"xaxis\": {\"gridcolor\": \"#E1E5ED\", \"showgrid\": true, \"tickfont\": {\"color\": \"#4D5663\"}, \"title\": {\"font\": {\"color\": \"#4D5663\"}, \"text\": \"\"}, \"zerolinecolor\": \"#E1E5ED\"}, \"xaxis2\": {\"anchor\": \"y2\", \"gridcolor\": \"#E1E5ED\", \"showgrid\": true, \"showticklabels\": false, \"tickfont\": {\"color\": \"#4D5663\"}, \"title\": {\"font\": {\"color\": \"#4D5663\"}, \"text\": \"\"}, \"zerolinecolor\": \"#E1E5ED\"}, \"yaxis\": {\"domain\": [0.3, 1], \"gridcolor\": \"#E1E5ED\", \"showgrid\": true, \"tickfont\": {\"color\": \"#4D5663\"}, \"title\": {\"font\": {\"color\": \"#4D5663\"}, \"text\": \"\"}, \"zerolinecolor\": \"#E1E5ED\"}, \"yaxis2\": {\"domain\": [0, 0.25], \"gridcolor\": \"#E1E5ED\", \"showgrid\": true, \"tickfont\": {\"color\": \"#4D5663\"}, \"title\": {\"font\": {\"color\": \"#4D5663\"}, \"text\": \"Spread\"}, \"zerolinecolor\": \"#E1E5ED\"}},\n",
       "                        {\"showLink\": true, \"linkText\": \"Export to plot.ly\", \"plotlyServerURL\": \"https://plot.ly\", \"responsive\": true}\n",
       "                    ).then(function(){\n",
       "                            \n",
       "var gd = document.getElementById('d95136d0-e879-4c4d-ae93-81cdd621a65d');\n",
       "var x = new MutationObserver(function (mutations, observer) {{\n",
       "        var display = window.getComputedStyle(gd).display;\n",
       "        if (!display || display === 'none') {{\n",
       "            console.log([gd, 'removed!']);\n",
       "            Plotly.purge(gd);\n",
       "            observer.disconnect();\n",
       "        }}\n",
       "}});\n",
       "\n",
       "// Listen for the removal of the full notebook cells\n",
       "var notebookContainer = gd.closest('#notebook-container');\n",
       "if (notebookContainer) {{\n",
       "    x.observe(notebookContainer, {childList: true});\n",
       "}}\n",
       "\n",
       "// Listen for the clearing of the current output cell\n",
       "var outputEl = gd.closest('.output');\n",
       "if (outputEl) {{\n",
       "    x.observe(outputEl, {childList: true});\n",
       "}}\n",
       "\n",
       "                        })\n",
       "                };\n",
       "                });\n",
       "            </script>\n",
       "        </div>"
      ]
     },
     "metadata": {},
     "output_type": "display_data"
    }
   ],
   "source": [
    "df[['A','B']].iplot(kind='spread')"
   ]
  },
  {
   "cell_type": "markdown",
   "metadata": {},
   "source": [
    "## histogram"
   ]
  },
  {
   "cell_type": "code",
   "execution_count": 19,
   "metadata": {},
   "outputs": [
    {
     "data": {
      "application/vnd.plotly.v1+json": {
       "config": {
        "linkText": "Export to plot.ly",
        "plotlyServerURL": "https://plot.ly",
        "showLink": true
       },
       "data": [
        {
         "histfunc": "count",
         "histnorm": "",
         "marker": {
          "color": "rgba(255, 153, 51, 1.0)",
          "line": {
           "color": "#4D5663",
           "width": 1.3
          }
         },
         "name": "A",
         "nbinsx": 25,
         "opacity": 0.8,
         "orientation": "v",
         "type": "histogram",
         "x": [
          -0.4297685383384342,
          0.8992028500370997,
          -0.0529219344920944,
          -0.6575111293098215,
          0.22208299129571782,
          0.3794842146923049,
          -0.776042193527561,
          0.20252386974764924,
          0.5283888563058603,
          0.42238405971072795,
          -0.06013466358030851,
          -0.00026800090693260357,
          -0.14388939098347012,
          0.9344699379561042,
          0.6783815719865144,
          0.44503506029485257,
          -1.7459121312891714,
          -1.0030300108933405,
          1.9884150558651161,
          -0.47184365204117884,
          -0.2595777957034208,
          0.7400974312262351,
          0.099309479647986,
          -0.6182408568594779,
          -0.09737112629162749,
          1.0014953872001506,
          0.2871753396523556,
          1.5244479144569265,
          -0.23697854575363472,
          0.020463560762592693,
          -1.1753745296203637,
          0.43368223787654575,
          2.24053767970503,
          -0.6384984081451017,
          -0.15584868195776844,
          -1.129993502850424,
          1.486435661947022,
          1.253760698328164,
          -0.13143816377831435,
          -1.6959507280045962,
          -0.5909461283664224,
          -0.9669632612257547,
          0.1002289545273029,
          0.06832115631372923,
          -0.23128484890668444,
          0.5004811414606912,
          0.4204561565082809,
          -1.05748043745096,
          0.06683095599233774,
          0.2980261452352181,
          -1.5226706426959702,
          0.029547750310692927,
          2.7094752196223126,
          -1.999918830221982,
          -1.4429817394634803,
          1.2186716154519959,
          -0.933564385488572,
          1.176427043693705,
          -0.35626527453103896,
          -0.9201267710595663,
          -0.4825603472456605,
          1.0350105637639253,
          0.7141270743667533,
          -0.7047888603102321,
          0.07954844261010739,
          0.9240461197773582,
          -0.2012367204600226,
          -0.18735870172077787,
          0.8128846161700972,
          0.572471733076174,
          0.2172228806431597,
          0.23258075293244185,
          -0.15037989852296424,
          1.6489384008396495,
          -0.699170275452065,
          -1.1915880345536867,
          0.791442180982393,
          -1.5343965160519073,
          -0.2119291089800813,
          0.5147659474053279,
          0.13256180204923343,
          0.11804225234240634,
          0.4175537717201645,
          -0.4404582829401427,
          0.5628633036420924,
          -0.14853080183364786,
          0.528931020376802,
          0.7682140054890354,
          0.5882154073068712,
          -0.6371179810453058,
          0.00860135749083743,
          1.784532008732318,
          0.0630970787741614,
          1.0806131230471097,
          -0.3368057268799231,
          -0.11396344278775078,
          1.5040813118063128,
          -0.26955180544597684,
          -0.024390292942870706,
          -0.15560276318219723
         ]
        }
       ],
       "layout": {
        "barmode": "overlay",
        "legend": {
         "bgcolor": "#F5F6F9",
         "font": {
          "color": "#4D5663"
         }
        },
        "paper_bgcolor": "#F5F6F9",
        "plot_bgcolor": "#F5F6F9",
        "template": {
         "data": {
          "bar": [
           {
            "error_x": {
             "color": "#2a3f5f"
            },
            "error_y": {
             "color": "#2a3f5f"
            },
            "marker": {
             "line": {
              "color": "#E5ECF6",
              "width": 0.5
             }
            },
            "type": "bar"
           }
          ],
          "barpolar": [
           {
            "marker": {
             "line": {
              "color": "#E5ECF6",
              "width": 0.5
             }
            },
            "type": "barpolar"
           }
          ],
          "carpet": [
           {
            "aaxis": {
             "endlinecolor": "#2a3f5f",
             "gridcolor": "white",
             "linecolor": "white",
             "minorgridcolor": "white",
             "startlinecolor": "#2a3f5f"
            },
            "baxis": {
             "endlinecolor": "#2a3f5f",
             "gridcolor": "white",
             "linecolor": "white",
             "minorgridcolor": "white",
             "startlinecolor": "#2a3f5f"
            },
            "type": "carpet"
           }
          ],
          "choropleth": [
           {
            "colorbar": {
             "outlinewidth": 0,
             "ticks": ""
            },
            "type": "choropleth"
           }
          ],
          "contour": [
           {
            "colorbar": {
             "outlinewidth": 0,
             "ticks": ""
            },
            "colorscale": [
             [
              0,
              "#0d0887"
             ],
             [
              0.1111111111111111,
              "#46039f"
             ],
             [
              0.2222222222222222,
              "#7201a8"
             ],
             [
              0.3333333333333333,
              "#9c179e"
             ],
             [
              0.4444444444444444,
              "#bd3786"
             ],
             [
              0.5555555555555556,
              "#d8576b"
             ],
             [
              0.6666666666666666,
              "#ed7953"
             ],
             [
              0.7777777777777778,
              "#fb9f3a"
             ],
             [
              0.8888888888888888,
              "#fdca26"
             ],
             [
              1,
              "#f0f921"
             ]
            ],
            "type": "contour"
           }
          ],
          "contourcarpet": [
           {
            "colorbar": {
             "outlinewidth": 0,
             "ticks": ""
            },
            "type": "contourcarpet"
           }
          ],
          "heatmap": [
           {
            "colorbar": {
             "outlinewidth": 0,
             "ticks": ""
            },
            "colorscale": [
             [
              0,
              "#0d0887"
             ],
             [
              0.1111111111111111,
              "#46039f"
             ],
             [
              0.2222222222222222,
              "#7201a8"
             ],
             [
              0.3333333333333333,
              "#9c179e"
             ],
             [
              0.4444444444444444,
              "#bd3786"
             ],
             [
              0.5555555555555556,
              "#d8576b"
             ],
             [
              0.6666666666666666,
              "#ed7953"
             ],
             [
              0.7777777777777778,
              "#fb9f3a"
             ],
             [
              0.8888888888888888,
              "#fdca26"
             ],
             [
              1,
              "#f0f921"
             ]
            ],
            "type": "heatmap"
           }
          ],
          "heatmapgl": [
           {
            "colorbar": {
             "outlinewidth": 0,
             "ticks": ""
            },
            "colorscale": [
             [
              0,
              "#0d0887"
             ],
             [
              0.1111111111111111,
              "#46039f"
             ],
             [
              0.2222222222222222,
              "#7201a8"
             ],
             [
              0.3333333333333333,
              "#9c179e"
             ],
             [
              0.4444444444444444,
              "#bd3786"
             ],
             [
              0.5555555555555556,
              "#d8576b"
             ],
             [
              0.6666666666666666,
              "#ed7953"
             ],
             [
              0.7777777777777778,
              "#fb9f3a"
             ],
             [
              0.8888888888888888,
              "#fdca26"
             ],
             [
              1,
              "#f0f921"
             ]
            ],
            "type": "heatmapgl"
           }
          ],
          "histogram": [
           {
            "marker": {
             "colorbar": {
              "outlinewidth": 0,
              "ticks": ""
             }
            },
            "type": "histogram"
           }
          ],
          "histogram2d": [
           {
            "colorbar": {
             "outlinewidth": 0,
             "ticks": ""
            },
            "colorscale": [
             [
              0,
              "#0d0887"
             ],
             [
              0.1111111111111111,
              "#46039f"
             ],
             [
              0.2222222222222222,
              "#7201a8"
             ],
             [
              0.3333333333333333,
              "#9c179e"
             ],
             [
              0.4444444444444444,
              "#bd3786"
             ],
             [
              0.5555555555555556,
              "#d8576b"
             ],
             [
              0.6666666666666666,
              "#ed7953"
             ],
             [
              0.7777777777777778,
              "#fb9f3a"
             ],
             [
              0.8888888888888888,
              "#fdca26"
             ],
             [
              1,
              "#f0f921"
             ]
            ],
            "type": "histogram2d"
           }
          ],
          "histogram2dcontour": [
           {
            "colorbar": {
             "outlinewidth": 0,
             "ticks": ""
            },
            "colorscale": [
             [
              0,
              "#0d0887"
             ],
             [
              0.1111111111111111,
              "#46039f"
             ],
             [
              0.2222222222222222,
              "#7201a8"
             ],
             [
              0.3333333333333333,
              "#9c179e"
             ],
             [
              0.4444444444444444,
              "#bd3786"
             ],
             [
              0.5555555555555556,
              "#d8576b"
             ],
             [
              0.6666666666666666,
              "#ed7953"
             ],
             [
              0.7777777777777778,
              "#fb9f3a"
             ],
             [
              0.8888888888888888,
              "#fdca26"
             ],
             [
              1,
              "#f0f921"
             ]
            ],
            "type": "histogram2dcontour"
           }
          ],
          "mesh3d": [
           {
            "colorbar": {
             "outlinewidth": 0,
             "ticks": ""
            },
            "type": "mesh3d"
           }
          ],
          "parcoords": [
           {
            "line": {
             "colorbar": {
              "outlinewidth": 0,
              "ticks": ""
             }
            },
            "type": "parcoords"
           }
          ],
          "pie": [
           {
            "automargin": true,
            "type": "pie"
           }
          ],
          "scatter": [
           {
            "marker": {
             "colorbar": {
              "outlinewidth": 0,
              "ticks": ""
             }
            },
            "type": "scatter"
           }
          ],
          "scatter3d": [
           {
            "line": {
             "colorbar": {
              "outlinewidth": 0,
              "ticks": ""
             }
            },
            "marker": {
             "colorbar": {
              "outlinewidth": 0,
              "ticks": ""
             }
            },
            "type": "scatter3d"
           }
          ],
          "scattercarpet": [
           {
            "marker": {
             "colorbar": {
              "outlinewidth": 0,
              "ticks": ""
             }
            },
            "type": "scattercarpet"
           }
          ],
          "scattergeo": [
           {
            "marker": {
             "colorbar": {
              "outlinewidth": 0,
              "ticks": ""
             }
            },
            "type": "scattergeo"
           }
          ],
          "scattergl": [
           {
            "marker": {
             "colorbar": {
              "outlinewidth": 0,
              "ticks": ""
             }
            },
            "type": "scattergl"
           }
          ],
          "scattermapbox": [
           {
            "marker": {
             "colorbar": {
              "outlinewidth": 0,
              "ticks": ""
             }
            },
            "type": "scattermapbox"
           }
          ],
          "scatterpolar": [
           {
            "marker": {
             "colorbar": {
              "outlinewidth": 0,
              "ticks": ""
             }
            },
            "type": "scatterpolar"
           }
          ],
          "scatterpolargl": [
           {
            "marker": {
             "colorbar": {
              "outlinewidth": 0,
              "ticks": ""
             }
            },
            "type": "scatterpolargl"
           }
          ],
          "scatterternary": [
           {
            "marker": {
             "colorbar": {
              "outlinewidth": 0,
              "ticks": ""
             }
            },
            "type": "scatterternary"
           }
          ],
          "surface": [
           {
            "colorbar": {
             "outlinewidth": 0,
             "ticks": ""
            },
            "colorscale": [
             [
              0,
              "#0d0887"
             ],
             [
              0.1111111111111111,
              "#46039f"
             ],
             [
              0.2222222222222222,
              "#7201a8"
             ],
             [
              0.3333333333333333,
              "#9c179e"
             ],
             [
              0.4444444444444444,
              "#bd3786"
             ],
             [
              0.5555555555555556,
              "#d8576b"
             ],
             [
              0.6666666666666666,
              "#ed7953"
             ],
             [
              0.7777777777777778,
              "#fb9f3a"
             ],
             [
              0.8888888888888888,
              "#fdca26"
             ],
             [
              1,
              "#f0f921"
             ]
            ],
            "type": "surface"
           }
          ],
          "table": [
           {
            "cells": {
             "fill": {
              "color": "#EBF0F8"
             },
             "line": {
              "color": "white"
             }
            },
            "header": {
             "fill": {
              "color": "#C8D4E3"
             },
             "line": {
              "color": "white"
             }
            },
            "type": "table"
           }
          ]
         },
         "layout": {
          "annotationdefaults": {
           "arrowcolor": "#2a3f5f",
           "arrowhead": 0,
           "arrowwidth": 1
          },
          "coloraxis": {
           "colorbar": {
            "outlinewidth": 0,
            "ticks": ""
           }
          },
          "colorscale": {
           "diverging": [
            [
             0,
             "#8e0152"
            ],
            [
             0.1,
             "#c51b7d"
            ],
            [
             0.2,
             "#de77ae"
            ],
            [
             0.3,
             "#f1b6da"
            ],
            [
             0.4,
             "#fde0ef"
            ],
            [
             0.5,
             "#f7f7f7"
            ],
            [
             0.6,
             "#e6f5d0"
            ],
            [
             0.7,
             "#b8e186"
            ],
            [
             0.8,
             "#7fbc41"
            ],
            [
             0.9,
             "#4d9221"
            ],
            [
             1,
             "#276419"
            ]
           ],
           "sequential": [
            [
             0,
             "#0d0887"
            ],
            [
             0.1111111111111111,
             "#46039f"
            ],
            [
             0.2222222222222222,
             "#7201a8"
            ],
            [
             0.3333333333333333,
             "#9c179e"
            ],
            [
             0.4444444444444444,
             "#bd3786"
            ],
            [
             0.5555555555555556,
             "#d8576b"
            ],
            [
             0.6666666666666666,
             "#ed7953"
            ],
            [
             0.7777777777777778,
             "#fb9f3a"
            ],
            [
             0.8888888888888888,
             "#fdca26"
            ],
            [
             1,
             "#f0f921"
            ]
           ],
           "sequentialminus": [
            [
             0,
             "#0d0887"
            ],
            [
             0.1111111111111111,
             "#46039f"
            ],
            [
             0.2222222222222222,
             "#7201a8"
            ],
            [
             0.3333333333333333,
             "#9c179e"
            ],
            [
             0.4444444444444444,
             "#bd3786"
            ],
            [
             0.5555555555555556,
             "#d8576b"
            ],
            [
             0.6666666666666666,
             "#ed7953"
            ],
            [
             0.7777777777777778,
             "#fb9f3a"
            ],
            [
             0.8888888888888888,
             "#fdca26"
            ],
            [
             1,
             "#f0f921"
            ]
           ]
          },
          "colorway": [
           "#636efa",
           "#EF553B",
           "#00cc96",
           "#ab63fa",
           "#FFA15A",
           "#19d3f3",
           "#FF6692",
           "#B6E880",
           "#FF97FF",
           "#FECB52"
          ],
          "font": {
           "color": "#2a3f5f"
          },
          "geo": {
           "bgcolor": "white",
           "lakecolor": "white",
           "landcolor": "#E5ECF6",
           "showlakes": true,
           "showland": true,
           "subunitcolor": "white"
          },
          "hoverlabel": {
           "align": "left"
          },
          "hovermode": "closest",
          "mapbox": {
           "style": "light"
          },
          "paper_bgcolor": "white",
          "plot_bgcolor": "#E5ECF6",
          "polar": {
           "angularaxis": {
            "gridcolor": "white",
            "linecolor": "white",
            "ticks": ""
           },
           "bgcolor": "#E5ECF6",
           "radialaxis": {
            "gridcolor": "white",
            "linecolor": "white",
            "ticks": ""
           }
          },
          "scene": {
           "xaxis": {
            "backgroundcolor": "#E5ECF6",
            "gridcolor": "white",
            "gridwidth": 2,
            "linecolor": "white",
            "showbackground": true,
            "ticks": "",
            "zerolinecolor": "white"
           },
           "yaxis": {
            "backgroundcolor": "#E5ECF6",
            "gridcolor": "white",
            "gridwidth": 2,
            "linecolor": "white",
            "showbackground": true,
            "ticks": "",
            "zerolinecolor": "white"
           },
           "zaxis": {
            "backgroundcolor": "#E5ECF6",
            "gridcolor": "white",
            "gridwidth": 2,
            "linecolor": "white",
            "showbackground": true,
            "ticks": "",
            "zerolinecolor": "white"
           }
          },
          "shapedefaults": {
           "line": {
            "color": "#2a3f5f"
           }
          },
          "ternary": {
           "aaxis": {
            "gridcolor": "white",
            "linecolor": "white",
            "ticks": ""
           },
           "baxis": {
            "gridcolor": "white",
            "linecolor": "white",
            "ticks": ""
           },
           "bgcolor": "#E5ECF6",
           "caxis": {
            "gridcolor": "white",
            "linecolor": "white",
            "ticks": ""
           }
          },
          "title": {
           "x": 0.05
          },
          "xaxis": {
           "automargin": true,
           "gridcolor": "white",
           "linecolor": "white",
           "ticks": "",
           "title": {
            "standoff": 15
           },
           "zerolinecolor": "white",
           "zerolinewidth": 2
          },
          "yaxis": {
           "automargin": true,
           "gridcolor": "white",
           "linecolor": "white",
           "ticks": "",
           "title": {
            "standoff": 15
           },
           "zerolinecolor": "white",
           "zerolinewidth": 2
          }
         }
        },
        "title": {
         "font": {
          "color": "#4D5663"
         }
        },
        "xaxis": {
         "gridcolor": "#E1E5ED",
         "showgrid": true,
         "tickfont": {
          "color": "#4D5663"
         },
         "title": {
          "font": {
           "color": "#4D5663"
          },
          "text": ""
         },
         "zerolinecolor": "#E1E5ED"
        },
        "yaxis": {
         "gridcolor": "#E1E5ED",
         "showgrid": true,
         "tickfont": {
          "color": "#4D5663"
         },
         "title": {
          "font": {
           "color": "#4D5663"
          },
          "text": ""
         },
         "zerolinecolor": "#E1E5ED"
        }
       }
      },
      "text/html": [
       "<div>\n",
       "        \n",
       "        \n",
       "            <div id=\"3e1fc928-b498-4f4e-895d-05236b8ef296\" class=\"plotly-graph-div\" style=\"height:525px; width:100%;\"></div>\n",
       "            <script type=\"text/javascript\">\n",
       "                require([\"plotly\"], function(Plotly) {\n",
       "                    window.PLOTLYENV=window.PLOTLYENV || {};\n",
       "                    window.PLOTLYENV.BASE_URL='https://plot.ly';\n",
       "                    \n",
       "                if (document.getElementById(\"3e1fc928-b498-4f4e-895d-05236b8ef296\")) {\n",
       "                    Plotly.newPlot(\n",
       "                        '3e1fc928-b498-4f4e-895d-05236b8ef296',\n",
       "                        [{\"histfunc\": \"count\", \"histnorm\": \"\", \"marker\": {\"color\": \"rgba(255, 153, 51, 1.0)\", \"line\": {\"color\": \"#4D5663\", \"width\": 1.3}}, \"name\": \"A\", \"nbinsx\": 25, \"opacity\": 0.8, \"orientation\": \"v\", \"type\": \"histogram\", \"x\": [-0.4297685383384342, 0.8992028500370997, -0.0529219344920944, -0.6575111293098215, 0.22208299129571782, 0.3794842146923049, -0.776042193527561, 0.20252386974764924, 0.5283888563058603, 0.42238405971072795, -0.06013466358030851, -0.00026800090693260357, -0.14388939098347012, 0.9344699379561042, 0.6783815719865144, 0.44503506029485257, -1.7459121312891714, -1.0030300108933405, 1.9884150558651161, -0.47184365204117884, -0.2595777957034208, 0.7400974312262351, 0.099309479647986, -0.6182408568594779, -0.09737112629162749, 1.0014953872001506, 0.2871753396523556, 1.5244479144569265, -0.23697854575363472, 0.020463560762592693, -1.1753745296203637, 0.43368223787654575, 2.24053767970503, -0.6384984081451017, -0.15584868195776844, -1.129993502850424, 1.486435661947022, 1.253760698328164, -0.13143816377831435, -1.6959507280045962, -0.5909461283664224, -0.9669632612257547, 0.1002289545273029, 0.06832115631372923, -0.23128484890668444, 0.5004811414606912, 0.4204561565082809, -1.05748043745096, 0.06683095599233774, 0.2980261452352181, -1.5226706426959702, 0.029547750310692927, 2.7094752196223126, -1.999918830221982, -1.4429817394634803, 1.2186716154519959, -0.933564385488572, 1.176427043693705, -0.35626527453103896, -0.9201267710595663, -0.4825603472456605, 1.0350105637639253, 0.7141270743667533, -0.7047888603102321, 0.07954844261010739, 0.9240461197773582, -0.2012367204600226, -0.18735870172077787, 0.8128846161700972, 0.572471733076174, 0.2172228806431597, 0.23258075293244185, -0.15037989852296424, 1.6489384008396495, -0.699170275452065, -1.1915880345536867, 0.791442180982393, -1.5343965160519073, -0.2119291089800813, 0.5147659474053279, 0.13256180204923343, 0.11804225234240634, 0.4175537717201645, -0.4404582829401427, 0.5628633036420924, -0.14853080183364786, 0.528931020376802, 0.7682140054890354, 0.5882154073068712, -0.6371179810453058, 0.00860135749083743, 1.784532008732318, 0.0630970787741614, 1.0806131230471097, -0.3368057268799231, -0.11396344278775078, 1.5040813118063128, -0.26955180544597684, -0.024390292942870706, -0.15560276318219723]}],\n",
       "                        {\"barmode\": \"overlay\", \"legend\": {\"bgcolor\": \"#F5F6F9\", \"font\": {\"color\": \"#4D5663\"}}, \"paper_bgcolor\": \"#F5F6F9\", \"plot_bgcolor\": \"#F5F6F9\", \"template\": {\"data\": {\"bar\": [{\"error_x\": {\"color\": \"#2a3f5f\"}, \"error_y\": {\"color\": \"#2a3f5f\"}, \"marker\": {\"line\": {\"color\": \"#E5ECF6\", \"width\": 0.5}}, \"type\": \"bar\"}], \"barpolar\": [{\"marker\": {\"line\": {\"color\": \"#E5ECF6\", \"width\": 0.5}}, \"type\": \"barpolar\"}], \"carpet\": [{\"aaxis\": {\"endlinecolor\": \"#2a3f5f\", \"gridcolor\": \"white\", \"linecolor\": \"white\", \"minorgridcolor\": \"white\", \"startlinecolor\": \"#2a3f5f\"}, \"baxis\": {\"endlinecolor\": \"#2a3f5f\", \"gridcolor\": \"white\", \"linecolor\": \"white\", \"minorgridcolor\": \"white\", \"startlinecolor\": \"#2a3f5f\"}, \"type\": \"carpet\"}], \"choropleth\": [{\"colorbar\": {\"outlinewidth\": 0, \"ticks\": \"\"}, \"type\": \"choropleth\"}], \"contour\": [{\"colorbar\": {\"outlinewidth\": 0, \"ticks\": \"\"}, \"colorscale\": [[0.0, \"#0d0887\"], [0.1111111111111111, \"#46039f\"], [0.2222222222222222, \"#7201a8\"], [0.3333333333333333, \"#9c179e\"], [0.4444444444444444, \"#bd3786\"], [0.5555555555555556, \"#d8576b\"], [0.6666666666666666, \"#ed7953\"], [0.7777777777777778, \"#fb9f3a\"], [0.8888888888888888, \"#fdca26\"], [1.0, \"#f0f921\"]], \"type\": \"contour\"}], \"contourcarpet\": [{\"colorbar\": {\"outlinewidth\": 0, \"ticks\": \"\"}, \"type\": \"contourcarpet\"}], \"heatmap\": [{\"colorbar\": {\"outlinewidth\": 0, \"ticks\": \"\"}, \"colorscale\": [[0.0, \"#0d0887\"], [0.1111111111111111, \"#46039f\"], [0.2222222222222222, \"#7201a8\"], [0.3333333333333333, \"#9c179e\"], [0.4444444444444444, \"#bd3786\"], [0.5555555555555556, \"#d8576b\"], [0.6666666666666666, \"#ed7953\"], [0.7777777777777778, \"#fb9f3a\"], [0.8888888888888888, \"#fdca26\"], [1.0, \"#f0f921\"]], \"type\": \"heatmap\"}], \"heatmapgl\": [{\"colorbar\": {\"outlinewidth\": 0, \"ticks\": \"\"}, \"colorscale\": [[0.0, \"#0d0887\"], [0.1111111111111111, \"#46039f\"], [0.2222222222222222, \"#7201a8\"], [0.3333333333333333, \"#9c179e\"], [0.4444444444444444, \"#bd3786\"], [0.5555555555555556, \"#d8576b\"], [0.6666666666666666, \"#ed7953\"], [0.7777777777777778, \"#fb9f3a\"], [0.8888888888888888, \"#fdca26\"], [1.0, \"#f0f921\"]], \"type\": \"heatmapgl\"}], \"histogram\": [{\"marker\": {\"colorbar\": {\"outlinewidth\": 0, \"ticks\": \"\"}}, \"type\": \"histogram\"}], \"histogram2d\": [{\"colorbar\": {\"outlinewidth\": 0, \"ticks\": \"\"}, \"colorscale\": [[0.0, \"#0d0887\"], [0.1111111111111111, \"#46039f\"], [0.2222222222222222, \"#7201a8\"], [0.3333333333333333, \"#9c179e\"], [0.4444444444444444, \"#bd3786\"], [0.5555555555555556, \"#d8576b\"], [0.6666666666666666, \"#ed7953\"], [0.7777777777777778, \"#fb9f3a\"], [0.8888888888888888, \"#fdca26\"], [1.0, \"#f0f921\"]], \"type\": \"histogram2d\"}], \"histogram2dcontour\": [{\"colorbar\": {\"outlinewidth\": 0, \"ticks\": \"\"}, \"colorscale\": [[0.0, \"#0d0887\"], [0.1111111111111111, \"#46039f\"], [0.2222222222222222, \"#7201a8\"], [0.3333333333333333, \"#9c179e\"], [0.4444444444444444, \"#bd3786\"], [0.5555555555555556, \"#d8576b\"], [0.6666666666666666, \"#ed7953\"], [0.7777777777777778, \"#fb9f3a\"], [0.8888888888888888, \"#fdca26\"], [1.0, \"#f0f921\"]], \"type\": \"histogram2dcontour\"}], \"mesh3d\": [{\"colorbar\": {\"outlinewidth\": 0, \"ticks\": \"\"}, \"type\": \"mesh3d\"}], \"parcoords\": [{\"line\": {\"colorbar\": {\"outlinewidth\": 0, \"ticks\": \"\"}}, \"type\": \"parcoords\"}], \"pie\": [{\"automargin\": true, \"type\": \"pie\"}], \"scatter\": [{\"marker\": {\"colorbar\": {\"outlinewidth\": 0, \"ticks\": \"\"}}, \"type\": \"scatter\"}], \"scatter3d\": [{\"line\": {\"colorbar\": {\"outlinewidth\": 0, \"ticks\": \"\"}}, \"marker\": {\"colorbar\": {\"outlinewidth\": 0, \"ticks\": \"\"}}, \"type\": \"scatter3d\"}], \"scattercarpet\": [{\"marker\": {\"colorbar\": {\"outlinewidth\": 0, \"ticks\": \"\"}}, \"type\": \"scattercarpet\"}], \"scattergeo\": [{\"marker\": {\"colorbar\": {\"outlinewidth\": 0, \"ticks\": \"\"}}, \"type\": \"scattergeo\"}], \"scattergl\": [{\"marker\": {\"colorbar\": {\"outlinewidth\": 0, \"ticks\": \"\"}}, \"type\": \"scattergl\"}], \"scattermapbox\": [{\"marker\": {\"colorbar\": {\"outlinewidth\": 0, \"ticks\": \"\"}}, \"type\": \"scattermapbox\"}], \"scatterpolar\": [{\"marker\": {\"colorbar\": {\"outlinewidth\": 0, \"ticks\": \"\"}}, \"type\": \"scatterpolar\"}], \"scatterpolargl\": [{\"marker\": {\"colorbar\": {\"outlinewidth\": 0, \"ticks\": \"\"}}, \"type\": \"scatterpolargl\"}], \"scatterternary\": [{\"marker\": {\"colorbar\": {\"outlinewidth\": 0, \"ticks\": \"\"}}, \"type\": \"scatterternary\"}], \"surface\": [{\"colorbar\": {\"outlinewidth\": 0, \"ticks\": \"\"}, \"colorscale\": [[0.0, \"#0d0887\"], [0.1111111111111111, \"#46039f\"], [0.2222222222222222, \"#7201a8\"], [0.3333333333333333, \"#9c179e\"], [0.4444444444444444, \"#bd3786\"], [0.5555555555555556, \"#d8576b\"], [0.6666666666666666, \"#ed7953\"], [0.7777777777777778, \"#fb9f3a\"], [0.8888888888888888, \"#fdca26\"], [1.0, \"#f0f921\"]], \"type\": \"surface\"}], \"table\": [{\"cells\": {\"fill\": {\"color\": \"#EBF0F8\"}, \"line\": {\"color\": \"white\"}}, \"header\": {\"fill\": {\"color\": \"#C8D4E3\"}, \"line\": {\"color\": \"white\"}}, \"type\": \"table\"}]}, \"layout\": {\"annotationdefaults\": {\"arrowcolor\": \"#2a3f5f\", \"arrowhead\": 0, \"arrowwidth\": 1}, \"coloraxis\": {\"colorbar\": {\"outlinewidth\": 0, \"ticks\": \"\"}}, \"colorscale\": {\"diverging\": [[0, \"#8e0152\"], [0.1, \"#c51b7d\"], [0.2, \"#de77ae\"], [0.3, \"#f1b6da\"], [0.4, \"#fde0ef\"], [0.5, \"#f7f7f7\"], [0.6, \"#e6f5d0\"], [0.7, \"#b8e186\"], [0.8, \"#7fbc41\"], [0.9, \"#4d9221\"], [1, \"#276419\"]], \"sequential\": [[0.0, \"#0d0887\"], [0.1111111111111111, \"#46039f\"], [0.2222222222222222, \"#7201a8\"], [0.3333333333333333, \"#9c179e\"], [0.4444444444444444, \"#bd3786\"], [0.5555555555555556, \"#d8576b\"], [0.6666666666666666, \"#ed7953\"], [0.7777777777777778, \"#fb9f3a\"], [0.8888888888888888, \"#fdca26\"], [1.0, \"#f0f921\"]], \"sequentialminus\": [[0.0, \"#0d0887\"], [0.1111111111111111, \"#46039f\"], [0.2222222222222222, \"#7201a8\"], [0.3333333333333333, \"#9c179e\"], [0.4444444444444444, \"#bd3786\"], [0.5555555555555556, \"#d8576b\"], [0.6666666666666666, \"#ed7953\"], [0.7777777777777778, \"#fb9f3a\"], [0.8888888888888888, \"#fdca26\"], [1.0, \"#f0f921\"]]}, \"colorway\": [\"#636efa\", \"#EF553B\", \"#00cc96\", \"#ab63fa\", \"#FFA15A\", \"#19d3f3\", \"#FF6692\", \"#B6E880\", \"#FF97FF\", \"#FECB52\"], \"font\": {\"color\": \"#2a3f5f\"}, \"geo\": {\"bgcolor\": \"white\", \"lakecolor\": \"white\", \"landcolor\": \"#E5ECF6\", \"showlakes\": true, \"showland\": true, \"subunitcolor\": \"white\"}, \"hoverlabel\": {\"align\": \"left\"}, \"hovermode\": \"closest\", \"mapbox\": {\"style\": \"light\"}, \"paper_bgcolor\": \"white\", \"plot_bgcolor\": \"#E5ECF6\", \"polar\": {\"angularaxis\": {\"gridcolor\": \"white\", \"linecolor\": \"white\", \"ticks\": \"\"}, \"bgcolor\": \"#E5ECF6\", \"radialaxis\": {\"gridcolor\": \"white\", \"linecolor\": \"white\", \"ticks\": \"\"}}, \"scene\": {\"xaxis\": {\"backgroundcolor\": \"#E5ECF6\", \"gridcolor\": \"white\", \"gridwidth\": 2, \"linecolor\": \"white\", \"showbackground\": true, \"ticks\": \"\", \"zerolinecolor\": \"white\"}, \"yaxis\": {\"backgroundcolor\": \"#E5ECF6\", \"gridcolor\": \"white\", \"gridwidth\": 2, \"linecolor\": \"white\", \"showbackground\": true, \"ticks\": \"\", \"zerolinecolor\": \"white\"}, \"zaxis\": {\"backgroundcolor\": \"#E5ECF6\", \"gridcolor\": \"white\", \"gridwidth\": 2, \"linecolor\": \"white\", \"showbackground\": true, \"ticks\": \"\", \"zerolinecolor\": \"white\"}}, \"shapedefaults\": {\"line\": {\"color\": \"#2a3f5f\"}}, \"ternary\": {\"aaxis\": {\"gridcolor\": \"white\", \"linecolor\": \"white\", \"ticks\": \"\"}, \"baxis\": {\"gridcolor\": \"white\", \"linecolor\": \"white\", \"ticks\": \"\"}, \"bgcolor\": \"#E5ECF6\", \"caxis\": {\"gridcolor\": \"white\", \"linecolor\": \"white\", \"ticks\": \"\"}}, \"title\": {\"x\": 0.05}, \"xaxis\": {\"automargin\": true, \"gridcolor\": \"white\", \"linecolor\": \"white\", \"ticks\": \"\", \"title\": {\"standoff\": 15}, \"zerolinecolor\": \"white\", \"zerolinewidth\": 2}, \"yaxis\": {\"automargin\": true, \"gridcolor\": \"white\", \"linecolor\": \"white\", \"ticks\": \"\", \"title\": {\"standoff\": 15}, \"zerolinecolor\": \"white\", \"zerolinewidth\": 2}}}, \"title\": {\"font\": {\"color\": \"#4D5663\"}}, \"xaxis\": {\"gridcolor\": \"#E1E5ED\", \"showgrid\": true, \"tickfont\": {\"color\": \"#4D5663\"}, \"title\": {\"font\": {\"color\": \"#4D5663\"}, \"text\": \"\"}, \"zerolinecolor\": \"#E1E5ED\"}, \"yaxis\": {\"gridcolor\": \"#E1E5ED\", \"showgrid\": true, \"tickfont\": {\"color\": \"#4D5663\"}, \"title\": {\"font\": {\"color\": \"#4D5663\"}, \"text\": \"\"}, \"zerolinecolor\": \"#E1E5ED\"}},\n",
       "                        {\"showLink\": true, \"linkText\": \"Export to plot.ly\", \"plotlyServerURL\": \"https://plot.ly\", \"responsive\": true}\n",
       "                    ).then(function(){\n",
       "                            \n",
       "var gd = document.getElementById('3e1fc928-b498-4f4e-895d-05236b8ef296');\n",
       "var x = new MutationObserver(function (mutations, observer) {{\n",
       "        var display = window.getComputedStyle(gd).display;\n",
       "        if (!display || display === 'none') {{\n",
       "            console.log([gd, 'removed!']);\n",
       "            Plotly.purge(gd);\n",
       "            observer.disconnect();\n",
       "        }}\n",
       "}});\n",
       "\n",
       "// Listen for the removal of the full notebook cells\n",
       "var notebookContainer = gd.closest('#notebook-container');\n",
       "if (notebookContainer) {{\n",
       "    x.observe(notebookContainer, {childList: true});\n",
       "}}\n",
       "\n",
       "// Listen for the clearing of the current output cell\n",
       "var outputEl = gd.closest('.output');\n",
       "if (outputEl) {{\n",
       "    x.observe(outputEl, {childList: true});\n",
       "}}\n",
       "\n",
       "                        })\n",
       "                };\n",
       "                });\n",
       "            </script>\n",
       "        </div>"
      ]
     },
     "metadata": {},
     "output_type": "display_data"
    }
   ],
   "source": [
    "df['A'].iplot(kind='hist',bins=25)"
   ]
  },
  {
   "cell_type": "code",
   "execution_count": 20,
   "metadata": {},
   "outputs": [
    {
     "data": {
      "application/vnd.plotly.v1+json": {
       "config": {
        "linkText": "Export to plot.ly",
        "plotlyServerURL": "https://plot.ly",
        "showLink": true
       },
       "data": [
        {
         "marker": {
          "color": [
           "rgb(255, 153, 51)",
           "rgb(55, 128, 191)",
           "rgb(50, 171, 96)",
           "rgb(128, 0, 128)",
           "rgb(219, 64, 82)",
           "rgb(0, 128, 128)",
           "rgb(255, 255, 51)",
           "rgb(128, 128, 0)",
           "rgb(251, 128, 114)",
           "rgb(128, 177, 211)"
          ],
          "line": {
           "width": 1.3
          },
          "size": [
           99,
           67,
           71,
           27,
           89,
           68,
           60,
           91,
           58,
           64,
           98,
           74,
           81,
           112,
           81,
           62,
           63,
           74,
           44,
           101,
           46,
           61,
           75,
           36,
           87,
           91,
           105,
           101,
           25,
           78,
           37,
           73,
           91,
           32,
           59,
           34,
           89,
           88,
           61,
           79,
           52,
           57,
           90,
           52,
           71,
           52,
           55,
           94,
           81,
           34,
           101,
           33,
           68,
           51,
           108,
           51,
           83,
           33,
           63,
           41,
           36,
           73,
           78,
           93,
           81,
           30,
           58,
           89,
           35,
           30,
           73,
           109,
           92,
           28,
           83,
           93,
           60,
           34,
           46,
           91,
           64,
           85,
           46,
           111,
           37,
           12,
           50,
           103,
           55,
           40,
           74,
           55,
           42,
           73,
           78,
           66,
           71,
           87,
           52,
           109
          ],
          "symbol": "circle"
         },
         "mode": "markers",
         "text": "",
         "type": "scatter",
         "x": [
          -0.4297685383384342,
          0.8992028500370997,
          -0.0529219344920944,
          -0.6575111293098215,
          0.22208299129571782,
          0.3794842146923049,
          -0.776042193527561,
          0.20252386974764924,
          0.5283888563058603,
          0.42238405971072795,
          -0.06013466358030851,
          -0.00026800090693260357,
          -0.14388939098347012,
          0.9344699379561042,
          0.6783815719865144,
          0.44503506029485257,
          -1.7459121312891714,
          -1.0030300108933405,
          1.9884150558651161,
          -0.47184365204117884,
          -0.2595777957034208,
          0.7400974312262351,
          0.099309479647986,
          -0.6182408568594779,
          -0.09737112629162749,
          1.0014953872001506,
          0.2871753396523556,
          1.5244479144569265,
          -0.23697854575363472,
          0.020463560762592693,
          -1.1753745296203637,
          0.43368223787654575,
          2.24053767970503,
          -0.6384984081451017,
          -0.15584868195776844,
          -1.129993502850424,
          1.486435661947022,
          1.253760698328164,
          -0.13143816377831435,
          -1.6959507280045962,
          -0.5909461283664224,
          -0.9669632612257547,
          0.1002289545273029,
          0.06832115631372923,
          -0.23128484890668444,
          0.5004811414606912,
          0.4204561565082809,
          -1.05748043745096,
          0.06683095599233774,
          0.2980261452352181,
          -1.5226706426959702,
          0.029547750310692927,
          2.7094752196223126,
          -1.999918830221982,
          -1.4429817394634803,
          1.2186716154519959,
          -0.933564385488572,
          1.176427043693705,
          -0.35626527453103896,
          -0.9201267710595663,
          -0.4825603472456605,
          1.0350105637639253,
          0.7141270743667533,
          -0.7047888603102321,
          0.07954844261010739,
          0.9240461197773582,
          -0.2012367204600226,
          -0.18735870172077787,
          0.8128846161700972,
          0.572471733076174,
          0.2172228806431597,
          0.23258075293244185,
          -0.15037989852296424,
          1.6489384008396495,
          -0.699170275452065,
          -1.1915880345536867,
          0.791442180982393,
          -1.5343965160519073,
          -0.2119291089800813,
          0.5147659474053279,
          0.13256180204923343,
          0.11804225234240634,
          0.4175537717201645,
          -0.4404582829401427,
          0.5628633036420924,
          -0.14853080183364786,
          0.528931020376802,
          0.7682140054890354,
          0.5882154073068712,
          -0.6371179810453058,
          0.00860135749083743,
          1.784532008732318,
          0.0630970787741614,
          1.0806131230471097,
          -0.3368057268799231,
          -0.11396344278775078,
          1.5040813118063128,
          -0.26955180544597684,
          -0.024390292942870706,
          -0.15560276318219723
         ],
         "y": [
          -2.2286752844455777,
          -1.1325804605985426,
          -0.057504853523821425,
          -0.4372807380334668,
          0.7196790346908422,
          -0.3049353605453905,
          -0.36769137325213835,
          -2.720548438240072,
          -0.9630851860163883,
          -0.2604981650092037,
          -0.8739159350872959,
          -2.597293836991736,
          1.9279633238913891,
          -1.4857793145128506,
          -1.398384437744287,
          0.9249812054111738,
          0.9904484780182563,
          0.5154826624657818,
          -2.118134319003685,
          -1.1737116775235958,
          0.6767585900341822,
          0.5461220282918061,
          -0.6990646057740326,
          -1.0110525490061775,
          -0.08120032622523697,
          0.2636505021163572,
          1.2323826718876643,
          -0.40486481243860833,
          1.4760723751566938,
          -0.8209077663785059,
          1.1402839958305764,
          2.0165937745268456,
          -1.186601957911982,
          -0.8314944292076336,
          -0.46207793920010803,
          0.11759878503277775,
          -0.46486529954252687,
          0.6029386347856334,
          -0.33018597428647706,
          -0.009613504426322677,
          0.9872410193142943,
          0.2440377627033009,
          0.18977165931531736,
          -0.6759265219314019,
          -0.705368350697958,
          2.625871847829621,
          1.6218716077031723,
          -2.799716407485826,
          -2.2039135318094103,
          0.303793009001111,
          -0.7237119546177894,
          1.806688841596908,
          -0.9334230739999114,
          0.2771158257256812,
          0.5484931304543167,
          -0.5310682268548499,
          0.26045181959778124,
          -1.1664989769384293,
          -0.5924313434244467,
          -0.903470166777184,
          0.1827433432749004,
          1.1951182534599574,
          0.9429850152610202,
          0.7718174963318698,
          -0.3932259789252067,
          -0.9876135657413847,
          0.06069370133947106,
          -0.3431001486732415,
          -1.4678282524891362,
          1.0620820253204266,
          -0.45220907136404775,
          0.3255127774116455,
          -0.5118683983115404,
          -1.4068154364000311,
          -0.6993079829811987,
          -1.8294456426161474,
          -0.19352574917505092,
          -0.5363175879157083,
          -0.4022870066216089,
          0.4843330327019152,
          -0.4028270480314041,
          -0.16088752894881542,
          -0.10235401898702981,
          0.269872266689026,
          -0.5211183369387445,
          1.4942821686889394,
          0.17909980069235,
          -0.6771140256279912,
          0.25538789387367294,
          -2.4142626729455747,
          2.278105352397342,
          0.9633934004854583,
          0.6369650835814333,
          1.3346267659621462,
          0.4847058208475034,
          1.493950984377913,
          0.608059480959266,
          -0.7449331063679395,
          -2.1561723967170456,
          -0.4618486399950229
         ]
        }
       ],
       "layout": {
        "legend": {
         "bgcolor": "#F5F6F9",
         "font": {
          "color": "#4D5663"
         }
        },
        "paper_bgcolor": "#F5F6F9",
        "plot_bgcolor": "#F5F6F9",
        "template": {
         "data": {
          "bar": [
           {
            "error_x": {
             "color": "#2a3f5f"
            },
            "error_y": {
             "color": "#2a3f5f"
            },
            "marker": {
             "line": {
              "color": "#E5ECF6",
              "width": 0.5
             }
            },
            "type": "bar"
           }
          ],
          "barpolar": [
           {
            "marker": {
             "line": {
              "color": "#E5ECF6",
              "width": 0.5
             }
            },
            "type": "barpolar"
           }
          ],
          "carpet": [
           {
            "aaxis": {
             "endlinecolor": "#2a3f5f",
             "gridcolor": "white",
             "linecolor": "white",
             "minorgridcolor": "white",
             "startlinecolor": "#2a3f5f"
            },
            "baxis": {
             "endlinecolor": "#2a3f5f",
             "gridcolor": "white",
             "linecolor": "white",
             "minorgridcolor": "white",
             "startlinecolor": "#2a3f5f"
            },
            "type": "carpet"
           }
          ],
          "choropleth": [
           {
            "colorbar": {
             "outlinewidth": 0,
             "ticks": ""
            },
            "type": "choropleth"
           }
          ],
          "contour": [
           {
            "colorbar": {
             "outlinewidth": 0,
             "ticks": ""
            },
            "colorscale": [
             [
              0,
              "#0d0887"
             ],
             [
              0.1111111111111111,
              "#46039f"
             ],
             [
              0.2222222222222222,
              "#7201a8"
             ],
             [
              0.3333333333333333,
              "#9c179e"
             ],
             [
              0.4444444444444444,
              "#bd3786"
             ],
             [
              0.5555555555555556,
              "#d8576b"
             ],
             [
              0.6666666666666666,
              "#ed7953"
             ],
             [
              0.7777777777777778,
              "#fb9f3a"
             ],
             [
              0.8888888888888888,
              "#fdca26"
             ],
             [
              1,
              "#f0f921"
             ]
            ],
            "type": "contour"
           }
          ],
          "contourcarpet": [
           {
            "colorbar": {
             "outlinewidth": 0,
             "ticks": ""
            },
            "type": "contourcarpet"
           }
          ],
          "heatmap": [
           {
            "colorbar": {
             "outlinewidth": 0,
             "ticks": ""
            },
            "colorscale": [
             [
              0,
              "#0d0887"
             ],
             [
              0.1111111111111111,
              "#46039f"
             ],
             [
              0.2222222222222222,
              "#7201a8"
             ],
             [
              0.3333333333333333,
              "#9c179e"
             ],
             [
              0.4444444444444444,
              "#bd3786"
             ],
             [
              0.5555555555555556,
              "#d8576b"
             ],
             [
              0.6666666666666666,
              "#ed7953"
             ],
             [
              0.7777777777777778,
              "#fb9f3a"
             ],
             [
              0.8888888888888888,
              "#fdca26"
             ],
             [
              1,
              "#f0f921"
             ]
            ],
            "type": "heatmap"
           }
          ],
          "heatmapgl": [
           {
            "colorbar": {
             "outlinewidth": 0,
             "ticks": ""
            },
            "colorscale": [
             [
              0,
              "#0d0887"
             ],
             [
              0.1111111111111111,
              "#46039f"
             ],
             [
              0.2222222222222222,
              "#7201a8"
             ],
             [
              0.3333333333333333,
              "#9c179e"
             ],
             [
              0.4444444444444444,
              "#bd3786"
             ],
             [
              0.5555555555555556,
              "#d8576b"
             ],
             [
              0.6666666666666666,
              "#ed7953"
             ],
             [
              0.7777777777777778,
              "#fb9f3a"
             ],
             [
              0.8888888888888888,
              "#fdca26"
             ],
             [
              1,
              "#f0f921"
             ]
            ],
            "type": "heatmapgl"
           }
          ],
          "histogram": [
           {
            "marker": {
             "colorbar": {
              "outlinewidth": 0,
              "ticks": ""
             }
            },
            "type": "histogram"
           }
          ],
          "histogram2d": [
           {
            "colorbar": {
             "outlinewidth": 0,
             "ticks": ""
            },
            "colorscale": [
             [
              0,
              "#0d0887"
             ],
             [
              0.1111111111111111,
              "#46039f"
             ],
             [
              0.2222222222222222,
              "#7201a8"
             ],
             [
              0.3333333333333333,
              "#9c179e"
             ],
             [
              0.4444444444444444,
              "#bd3786"
             ],
             [
              0.5555555555555556,
              "#d8576b"
             ],
             [
              0.6666666666666666,
              "#ed7953"
             ],
             [
              0.7777777777777778,
              "#fb9f3a"
             ],
             [
              0.8888888888888888,
              "#fdca26"
             ],
             [
              1,
              "#f0f921"
             ]
            ],
            "type": "histogram2d"
           }
          ],
          "histogram2dcontour": [
           {
            "colorbar": {
             "outlinewidth": 0,
             "ticks": ""
            },
            "colorscale": [
             [
              0,
              "#0d0887"
             ],
             [
              0.1111111111111111,
              "#46039f"
             ],
             [
              0.2222222222222222,
              "#7201a8"
             ],
             [
              0.3333333333333333,
              "#9c179e"
             ],
             [
              0.4444444444444444,
              "#bd3786"
             ],
             [
              0.5555555555555556,
              "#d8576b"
             ],
             [
              0.6666666666666666,
              "#ed7953"
             ],
             [
              0.7777777777777778,
              "#fb9f3a"
             ],
             [
              0.8888888888888888,
              "#fdca26"
             ],
             [
              1,
              "#f0f921"
             ]
            ],
            "type": "histogram2dcontour"
           }
          ],
          "mesh3d": [
           {
            "colorbar": {
             "outlinewidth": 0,
             "ticks": ""
            },
            "type": "mesh3d"
           }
          ],
          "parcoords": [
           {
            "line": {
             "colorbar": {
              "outlinewidth": 0,
              "ticks": ""
             }
            },
            "type": "parcoords"
           }
          ],
          "pie": [
           {
            "automargin": true,
            "type": "pie"
           }
          ],
          "scatter": [
           {
            "marker": {
             "colorbar": {
              "outlinewidth": 0,
              "ticks": ""
             }
            },
            "type": "scatter"
           }
          ],
          "scatter3d": [
           {
            "line": {
             "colorbar": {
              "outlinewidth": 0,
              "ticks": ""
             }
            },
            "marker": {
             "colorbar": {
              "outlinewidth": 0,
              "ticks": ""
             }
            },
            "type": "scatter3d"
           }
          ],
          "scattercarpet": [
           {
            "marker": {
             "colorbar": {
              "outlinewidth": 0,
              "ticks": ""
             }
            },
            "type": "scattercarpet"
           }
          ],
          "scattergeo": [
           {
            "marker": {
             "colorbar": {
              "outlinewidth": 0,
              "ticks": ""
             }
            },
            "type": "scattergeo"
           }
          ],
          "scattergl": [
           {
            "marker": {
             "colorbar": {
              "outlinewidth": 0,
              "ticks": ""
             }
            },
            "type": "scattergl"
           }
          ],
          "scattermapbox": [
           {
            "marker": {
             "colorbar": {
              "outlinewidth": 0,
              "ticks": ""
             }
            },
            "type": "scattermapbox"
           }
          ],
          "scatterpolar": [
           {
            "marker": {
             "colorbar": {
              "outlinewidth": 0,
              "ticks": ""
             }
            },
            "type": "scatterpolar"
           }
          ],
          "scatterpolargl": [
           {
            "marker": {
             "colorbar": {
              "outlinewidth": 0,
              "ticks": ""
             }
            },
            "type": "scatterpolargl"
           }
          ],
          "scatterternary": [
           {
            "marker": {
             "colorbar": {
              "outlinewidth": 0,
              "ticks": ""
             }
            },
            "type": "scatterternary"
           }
          ],
          "surface": [
           {
            "colorbar": {
             "outlinewidth": 0,
             "ticks": ""
            },
            "colorscale": [
             [
              0,
              "#0d0887"
             ],
             [
              0.1111111111111111,
              "#46039f"
             ],
             [
              0.2222222222222222,
              "#7201a8"
             ],
             [
              0.3333333333333333,
              "#9c179e"
             ],
             [
              0.4444444444444444,
              "#bd3786"
             ],
             [
              0.5555555555555556,
              "#d8576b"
             ],
             [
              0.6666666666666666,
              "#ed7953"
             ],
             [
              0.7777777777777778,
              "#fb9f3a"
             ],
             [
              0.8888888888888888,
              "#fdca26"
             ],
             [
              1,
              "#f0f921"
             ]
            ],
            "type": "surface"
           }
          ],
          "table": [
           {
            "cells": {
             "fill": {
              "color": "#EBF0F8"
             },
             "line": {
              "color": "white"
             }
            },
            "header": {
             "fill": {
              "color": "#C8D4E3"
             },
             "line": {
              "color": "white"
             }
            },
            "type": "table"
           }
          ]
         },
         "layout": {
          "annotationdefaults": {
           "arrowcolor": "#2a3f5f",
           "arrowhead": 0,
           "arrowwidth": 1
          },
          "coloraxis": {
           "colorbar": {
            "outlinewidth": 0,
            "ticks": ""
           }
          },
          "colorscale": {
           "diverging": [
            [
             0,
             "#8e0152"
            ],
            [
             0.1,
             "#c51b7d"
            ],
            [
             0.2,
             "#de77ae"
            ],
            [
             0.3,
             "#f1b6da"
            ],
            [
             0.4,
             "#fde0ef"
            ],
            [
             0.5,
             "#f7f7f7"
            ],
            [
             0.6,
             "#e6f5d0"
            ],
            [
             0.7,
             "#b8e186"
            ],
            [
             0.8,
             "#7fbc41"
            ],
            [
             0.9,
             "#4d9221"
            ],
            [
             1,
             "#276419"
            ]
           ],
           "sequential": [
            [
             0,
             "#0d0887"
            ],
            [
             0.1111111111111111,
             "#46039f"
            ],
            [
             0.2222222222222222,
             "#7201a8"
            ],
            [
             0.3333333333333333,
             "#9c179e"
            ],
            [
             0.4444444444444444,
             "#bd3786"
            ],
            [
             0.5555555555555556,
             "#d8576b"
            ],
            [
             0.6666666666666666,
             "#ed7953"
            ],
            [
             0.7777777777777778,
             "#fb9f3a"
            ],
            [
             0.8888888888888888,
             "#fdca26"
            ],
            [
             1,
             "#f0f921"
            ]
           ],
           "sequentialminus": [
            [
             0,
             "#0d0887"
            ],
            [
             0.1111111111111111,
             "#46039f"
            ],
            [
             0.2222222222222222,
             "#7201a8"
            ],
            [
             0.3333333333333333,
             "#9c179e"
            ],
            [
             0.4444444444444444,
             "#bd3786"
            ],
            [
             0.5555555555555556,
             "#d8576b"
            ],
            [
             0.6666666666666666,
             "#ed7953"
            ],
            [
             0.7777777777777778,
             "#fb9f3a"
            ],
            [
             0.8888888888888888,
             "#fdca26"
            ],
            [
             1,
             "#f0f921"
            ]
           ]
          },
          "colorway": [
           "#636efa",
           "#EF553B",
           "#00cc96",
           "#ab63fa",
           "#FFA15A",
           "#19d3f3",
           "#FF6692",
           "#B6E880",
           "#FF97FF",
           "#FECB52"
          ],
          "font": {
           "color": "#2a3f5f"
          },
          "geo": {
           "bgcolor": "white",
           "lakecolor": "white",
           "landcolor": "#E5ECF6",
           "showlakes": true,
           "showland": true,
           "subunitcolor": "white"
          },
          "hoverlabel": {
           "align": "left"
          },
          "hovermode": "closest",
          "mapbox": {
           "style": "light"
          },
          "paper_bgcolor": "white",
          "plot_bgcolor": "#E5ECF6",
          "polar": {
           "angularaxis": {
            "gridcolor": "white",
            "linecolor": "white",
            "ticks": ""
           },
           "bgcolor": "#E5ECF6",
           "radialaxis": {
            "gridcolor": "white",
            "linecolor": "white",
            "ticks": ""
           }
          },
          "scene": {
           "xaxis": {
            "backgroundcolor": "#E5ECF6",
            "gridcolor": "white",
            "gridwidth": 2,
            "linecolor": "white",
            "showbackground": true,
            "ticks": "",
            "zerolinecolor": "white"
           },
           "yaxis": {
            "backgroundcolor": "#E5ECF6",
            "gridcolor": "white",
            "gridwidth": 2,
            "linecolor": "white",
            "showbackground": true,
            "ticks": "",
            "zerolinecolor": "white"
           },
           "zaxis": {
            "backgroundcolor": "#E5ECF6",
            "gridcolor": "white",
            "gridwidth": 2,
            "linecolor": "white",
            "showbackground": true,
            "ticks": "",
            "zerolinecolor": "white"
           }
          },
          "shapedefaults": {
           "line": {
            "color": "#2a3f5f"
           }
          },
          "ternary": {
           "aaxis": {
            "gridcolor": "white",
            "linecolor": "white",
            "ticks": ""
           },
           "baxis": {
            "gridcolor": "white",
            "linecolor": "white",
            "ticks": ""
           },
           "bgcolor": "#E5ECF6",
           "caxis": {
            "gridcolor": "white",
            "linecolor": "white",
            "ticks": ""
           }
          },
          "title": {
           "x": 0.05
          },
          "xaxis": {
           "automargin": true,
           "gridcolor": "white",
           "linecolor": "white",
           "ticks": "",
           "title": {
            "standoff": 15
           },
           "zerolinecolor": "white",
           "zerolinewidth": 2
          },
          "yaxis": {
           "automargin": true,
           "gridcolor": "white",
           "linecolor": "white",
           "ticks": "",
           "title": {
            "standoff": 15
           },
           "zerolinecolor": "white",
           "zerolinewidth": 2
          }
         }
        },
        "title": {
         "font": {
          "color": "#4D5663"
         }
        },
        "xaxis": {
         "gridcolor": "#E1E5ED",
         "showgrid": true,
         "tickfont": {
          "color": "#4D5663"
         },
         "title": {
          "font": {
           "color": "#4D5663"
          },
          "text": ""
         },
         "zerolinecolor": "#E1E5ED"
        },
        "yaxis": {
         "gridcolor": "#E1E5ED",
         "showgrid": true,
         "tickfont": {
          "color": "#4D5663"
         },
         "title": {
          "font": {
           "color": "#4D5663"
          },
          "text": ""
         },
         "zerolinecolor": "#E1E5ED"
        }
       }
      },
      "text/html": [
       "<div>\n",
       "        \n",
       "        \n",
       "            <div id=\"969088c9-3204-4d95-8295-3b14874031a5\" class=\"plotly-graph-div\" style=\"height:525px; width:100%;\"></div>\n",
       "            <script type=\"text/javascript\">\n",
       "                require([\"plotly\"], function(Plotly) {\n",
       "                    window.PLOTLYENV=window.PLOTLYENV || {};\n",
       "                    window.PLOTLYENV.BASE_URL='https://plot.ly';\n",
       "                    \n",
       "                if (document.getElementById(\"969088c9-3204-4d95-8295-3b14874031a5\")) {\n",
       "                    Plotly.newPlot(\n",
       "                        '969088c9-3204-4d95-8295-3b14874031a5',\n",
       "                        [{\"marker\": {\"color\": [\"rgb(255, 153, 51)\", \"rgb(55, 128, 191)\", \"rgb(50, 171, 96)\", \"rgb(128, 0, 128)\", \"rgb(219, 64, 82)\", \"rgb(0, 128, 128)\", \"rgb(255, 255, 51)\", \"rgb(128, 128, 0)\", \"rgb(251, 128, 114)\", \"rgb(128, 177, 211)\"], \"line\": {\"width\": 1.3}, \"size\": [99, 67, 71, 27, 89, 68, 60, 91, 58, 64, 98, 74, 81, 112, 81, 62, 63, 74, 44, 101, 46, 61, 75, 36, 87, 91, 105, 101, 25, 78, 37, 73, 91, 32, 59, 34, 89, 88, 61, 79, 52, 57, 90, 52, 71, 52, 55, 94, 81, 34, 101, 33, 68, 51, 108, 51, 83, 33, 63, 41, 36, 73, 78, 93, 81, 30, 58, 89, 35, 30, 73, 109, 92, 28, 83, 93, 60, 34, 46, 91, 64, 85, 46, 111, 37, 12, 50, 103, 55, 40, 74, 55, 42, 73, 78, 66, 71, 87, 52, 109], \"symbol\": \"circle\"}, \"mode\": \"markers\", \"text\": \"\", \"type\": \"scatter\", \"x\": [-0.4297685383384342, 0.8992028500370997, -0.0529219344920944, -0.6575111293098215, 0.22208299129571782, 0.3794842146923049, -0.776042193527561, 0.20252386974764924, 0.5283888563058603, 0.42238405971072795, -0.06013466358030851, -0.00026800090693260357, -0.14388939098347012, 0.9344699379561042, 0.6783815719865144, 0.44503506029485257, -1.7459121312891714, -1.0030300108933405, 1.9884150558651161, -0.47184365204117884, -0.2595777957034208, 0.7400974312262351, 0.099309479647986, -0.6182408568594779, -0.09737112629162749, 1.0014953872001506, 0.2871753396523556, 1.5244479144569265, -0.23697854575363472, 0.020463560762592693, -1.1753745296203637, 0.43368223787654575, 2.24053767970503, -0.6384984081451017, -0.15584868195776844, -1.129993502850424, 1.486435661947022, 1.253760698328164, -0.13143816377831435, -1.6959507280045962, -0.5909461283664224, -0.9669632612257547, 0.1002289545273029, 0.06832115631372923, -0.23128484890668444, 0.5004811414606912, 0.4204561565082809, -1.05748043745096, 0.06683095599233774, 0.2980261452352181, -1.5226706426959702, 0.029547750310692927, 2.7094752196223126, -1.999918830221982, -1.4429817394634803, 1.2186716154519959, -0.933564385488572, 1.176427043693705, -0.35626527453103896, -0.9201267710595663, -0.4825603472456605, 1.0350105637639253, 0.7141270743667533, -0.7047888603102321, 0.07954844261010739, 0.9240461197773582, -0.2012367204600226, -0.18735870172077787, 0.8128846161700972, 0.572471733076174, 0.2172228806431597, 0.23258075293244185, -0.15037989852296424, 1.6489384008396495, -0.699170275452065, -1.1915880345536867, 0.791442180982393, -1.5343965160519073, -0.2119291089800813, 0.5147659474053279, 0.13256180204923343, 0.11804225234240634, 0.4175537717201645, -0.4404582829401427, 0.5628633036420924, -0.14853080183364786, 0.528931020376802, 0.7682140054890354, 0.5882154073068712, -0.6371179810453058, 0.00860135749083743, 1.784532008732318, 0.0630970787741614, 1.0806131230471097, -0.3368057268799231, -0.11396344278775078, 1.5040813118063128, -0.26955180544597684, -0.024390292942870706, -0.15560276318219723], \"y\": [-2.2286752844455777, -1.1325804605985426, -0.057504853523821425, -0.4372807380334668, 0.7196790346908422, -0.3049353605453905, -0.36769137325213835, -2.720548438240072, -0.9630851860163883, -0.2604981650092037, -0.8739159350872959, -2.597293836991736, 1.9279633238913891, -1.4857793145128506, -1.398384437744287, 0.9249812054111738, 0.9904484780182563, 0.5154826624657818, -2.118134319003685, -1.1737116775235958, 0.6767585900341822, 0.5461220282918061, -0.6990646057740326, -1.0110525490061775, -0.08120032622523697, 0.2636505021163572, 1.2323826718876643, -0.40486481243860833, 1.4760723751566938, -0.8209077663785059, 1.1402839958305764, 2.0165937745268456, -1.186601957911982, -0.8314944292076336, -0.46207793920010803, 0.11759878503277775, -0.46486529954252687, 0.6029386347856334, -0.33018597428647706, -0.009613504426322677, 0.9872410193142943, 0.2440377627033009, 0.18977165931531736, -0.6759265219314019, -0.705368350697958, 2.625871847829621, 1.6218716077031723, -2.799716407485826, -2.2039135318094103, 0.303793009001111, -0.7237119546177894, 1.806688841596908, -0.9334230739999114, 0.2771158257256812, 0.5484931304543167, -0.5310682268548499, 0.26045181959778124, -1.1664989769384293, -0.5924313434244467, -0.903470166777184, 0.1827433432749004, 1.1951182534599574, 0.9429850152610202, 0.7718174963318698, -0.3932259789252067, -0.9876135657413847, 0.06069370133947106, -0.3431001486732415, -1.4678282524891362, 1.0620820253204266, -0.45220907136404775, 0.3255127774116455, -0.5118683983115404, -1.4068154364000311, -0.6993079829811987, -1.8294456426161474, -0.19352574917505092, -0.5363175879157083, -0.4022870066216089, 0.4843330327019152, -0.4028270480314041, -0.16088752894881542, -0.10235401898702981, 0.269872266689026, -0.5211183369387445, 1.4942821686889394, 0.17909980069235, -0.6771140256279912, 0.25538789387367294, -2.4142626729455747, 2.278105352397342, 0.9633934004854583, 0.6369650835814333, 1.3346267659621462, 0.4847058208475034, 1.493950984377913, 0.608059480959266, -0.7449331063679395, -2.1561723967170456, -0.4618486399950229]}],\n",
       "                        {\"legend\": {\"bgcolor\": \"#F5F6F9\", \"font\": {\"color\": \"#4D5663\"}}, \"paper_bgcolor\": \"#F5F6F9\", \"plot_bgcolor\": \"#F5F6F9\", \"template\": {\"data\": {\"bar\": [{\"error_x\": {\"color\": \"#2a3f5f\"}, \"error_y\": {\"color\": \"#2a3f5f\"}, \"marker\": {\"line\": {\"color\": \"#E5ECF6\", \"width\": 0.5}}, \"type\": \"bar\"}], \"barpolar\": [{\"marker\": {\"line\": {\"color\": \"#E5ECF6\", \"width\": 0.5}}, \"type\": \"barpolar\"}], \"carpet\": [{\"aaxis\": {\"endlinecolor\": \"#2a3f5f\", \"gridcolor\": \"white\", \"linecolor\": \"white\", \"minorgridcolor\": \"white\", \"startlinecolor\": \"#2a3f5f\"}, \"baxis\": {\"endlinecolor\": \"#2a3f5f\", \"gridcolor\": \"white\", \"linecolor\": \"white\", \"minorgridcolor\": \"white\", \"startlinecolor\": \"#2a3f5f\"}, \"type\": \"carpet\"}], \"choropleth\": [{\"colorbar\": {\"outlinewidth\": 0, \"ticks\": \"\"}, \"type\": \"choropleth\"}], \"contour\": [{\"colorbar\": {\"outlinewidth\": 0, \"ticks\": \"\"}, \"colorscale\": [[0.0, \"#0d0887\"], [0.1111111111111111, \"#46039f\"], [0.2222222222222222, \"#7201a8\"], [0.3333333333333333, \"#9c179e\"], [0.4444444444444444, \"#bd3786\"], [0.5555555555555556, \"#d8576b\"], [0.6666666666666666, \"#ed7953\"], [0.7777777777777778, \"#fb9f3a\"], [0.8888888888888888, \"#fdca26\"], [1.0, \"#f0f921\"]], \"type\": \"contour\"}], \"contourcarpet\": [{\"colorbar\": {\"outlinewidth\": 0, \"ticks\": \"\"}, \"type\": \"contourcarpet\"}], \"heatmap\": [{\"colorbar\": {\"outlinewidth\": 0, \"ticks\": \"\"}, \"colorscale\": [[0.0, \"#0d0887\"], [0.1111111111111111, \"#46039f\"], [0.2222222222222222, \"#7201a8\"], [0.3333333333333333, \"#9c179e\"], [0.4444444444444444, \"#bd3786\"], [0.5555555555555556, \"#d8576b\"], [0.6666666666666666, \"#ed7953\"], [0.7777777777777778, \"#fb9f3a\"], [0.8888888888888888, \"#fdca26\"], [1.0, \"#f0f921\"]], \"type\": \"heatmap\"}], \"heatmapgl\": [{\"colorbar\": {\"outlinewidth\": 0, \"ticks\": \"\"}, \"colorscale\": [[0.0, \"#0d0887\"], [0.1111111111111111, \"#46039f\"], [0.2222222222222222, \"#7201a8\"], [0.3333333333333333, \"#9c179e\"], [0.4444444444444444, \"#bd3786\"], [0.5555555555555556, \"#d8576b\"], [0.6666666666666666, \"#ed7953\"], [0.7777777777777778, \"#fb9f3a\"], [0.8888888888888888, \"#fdca26\"], [1.0, \"#f0f921\"]], \"type\": \"heatmapgl\"}], \"histogram\": [{\"marker\": {\"colorbar\": {\"outlinewidth\": 0, \"ticks\": \"\"}}, \"type\": \"histogram\"}], \"histogram2d\": [{\"colorbar\": {\"outlinewidth\": 0, \"ticks\": \"\"}, \"colorscale\": [[0.0, \"#0d0887\"], [0.1111111111111111, \"#46039f\"], [0.2222222222222222, \"#7201a8\"], [0.3333333333333333, \"#9c179e\"], [0.4444444444444444, \"#bd3786\"], [0.5555555555555556, \"#d8576b\"], [0.6666666666666666, \"#ed7953\"], [0.7777777777777778, \"#fb9f3a\"], [0.8888888888888888, \"#fdca26\"], [1.0, \"#f0f921\"]], \"type\": \"histogram2d\"}], \"histogram2dcontour\": [{\"colorbar\": {\"outlinewidth\": 0, \"ticks\": \"\"}, \"colorscale\": [[0.0, \"#0d0887\"], [0.1111111111111111, \"#46039f\"], [0.2222222222222222, \"#7201a8\"], [0.3333333333333333, \"#9c179e\"], [0.4444444444444444, \"#bd3786\"], [0.5555555555555556, \"#d8576b\"], [0.6666666666666666, \"#ed7953\"], [0.7777777777777778, \"#fb9f3a\"], [0.8888888888888888, \"#fdca26\"], [1.0, \"#f0f921\"]], \"type\": \"histogram2dcontour\"}], \"mesh3d\": [{\"colorbar\": {\"outlinewidth\": 0, \"ticks\": \"\"}, \"type\": \"mesh3d\"}], \"parcoords\": [{\"line\": {\"colorbar\": {\"outlinewidth\": 0, \"ticks\": \"\"}}, \"type\": \"parcoords\"}], \"pie\": [{\"automargin\": true, \"type\": \"pie\"}], \"scatter\": [{\"marker\": {\"colorbar\": {\"outlinewidth\": 0, \"ticks\": \"\"}}, \"type\": \"scatter\"}], \"scatter3d\": [{\"line\": {\"colorbar\": {\"outlinewidth\": 0, \"ticks\": \"\"}}, \"marker\": {\"colorbar\": {\"outlinewidth\": 0, \"ticks\": \"\"}}, \"type\": \"scatter3d\"}], \"scattercarpet\": [{\"marker\": {\"colorbar\": {\"outlinewidth\": 0, \"ticks\": \"\"}}, \"type\": \"scattercarpet\"}], \"scattergeo\": [{\"marker\": {\"colorbar\": {\"outlinewidth\": 0, \"ticks\": \"\"}}, \"type\": \"scattergeo\"}], \"scattergl\": [{\"marker\": {\"colorbar\": {\"outlinewidth\": 0, \"ticks\": \"\"}}, \"type\": \"scattergl\"}], \"scattermapbox\": [{\"marker\": {\"colorbar\": {\"outlinewidth\": 0, \"ticks\": \"\"}}, \"type\": \"scattermapbox\"}], \"scatterpolar\": [{\"marker\": {\"colorbar\": {\"outlinewidth\": 0, \"ticks\": \"\"}}, \"type\": \"scatterpolar\"}], \"scatterpolargl\": [{\"marker\": {\"colorbar\": {\"outlinewidth\": 0, \"ticks\": \"\"}}, \"type\": \"scatterpolargl\"}], \"scatterternary\": [{\"marker\": {\"colorbar\": {\"outlinewidth\": 0, \"ticks\": \"\"}}, \"type\": \"scatterternary\"}], \"surface\": [{\"colorbar\": {\"outlinewidth\": 0, \"ticks\": \"\"}, \"colorscale\": [[0.0, \"#0d0887\"], [0.1111111111111111, \"#46039f\"], [0.2222222222222222, \"#7201a8\"], [0.3333333333333333, \"#9c179e\"], [0.4444444444444444, \"#bd3786\"], [0.5555555555555556, \"#d8576b\"], [0.6666666666666666, \"#ed7953\"], [0.7777777777777778, \"#fb9f3a\"], [0.8888888888888888, \"#fdca26\"], [1.0, \"#f0f921\"]], \"type\": \"surface\"}], \"table\": [{\"cells\": {\"fill\": {\"color\": \"#EBF0F8\"}, \"line\": {\"color\": \"white\"}}, \"header\": {\"fill\": {\"color\": \"#C8D4E3\"}, \"line\": {\"color\": \"white\"}}, \"type\": \"table\"}]}, \"layout\": {\"annotationdefaults\": {\"arrowcolor\": \"#2a3f5f\", \"arrowhead\": 0, \"arrowwidth\": 1}, \"coloraxis\": {\"colorbar\": {\"outlinewidth\": 0, \"ticks\": \"\"}}, \"colorscale\": {\"diverging\": [[0, \"#8e0152\"], [0.1, \"#c51b7d\"], [0.2, \"#de77ae\"], [0.3, \"#f1b6da\"], [0.4, \"#fde0ef\"], [0.5, \"#f7f7f7\"], [0.6, \"#e6f5d0\"], [0.7, \"#b8e186\"], [0.8, \"#7fbc41\"], [0.9, \"#4d9221\"], [1, \"#276419\"]], \"sequential\": [[0.0, \"#0d0887\"], [0.1111111111111111, \"#46039f\"], [0.2222222222222222, \"#7201a8\"], [0.3333333333333333, \"#9c179e\"], [0.4444444444444444, \"#bd3786\"], [0.5555555555555556, \"#d8576b\"], [0.6666666666666666, \"#ed7953\"], [0.7777777777777778, \"#fb9f3a\"], [0.8888888888888888, \"#fdca26\"], [1.0, \"#f0f921\"]], \"sequentialminus\": [[0.0, \"#0d0887\"], [0.1111111111111111, \"#46039f\"], [0.2222222222222222, \"#7201a8\"], [0.3333333333333333, \"#9c179e\"], [0.4444444444444444, \"#bd3786\"], [0.5555555555555556, \"#d8576b\"], [0.6666666666666666, \"#ed7953\"], [0.7777777777777778, \"#fb9f3a\"], [0.8888888888888888, \"#fdca26\"], [1.0, \"#f0f921\"]]}, \"colorway\": [\"#636efa\", \"#EF553B\", \"#00cc96\", \"#ab63fa\", \"#FFA15A\", \"#19d3f3\", \"#FF6692\", \"#B6E880\", \"#FF97FF\", \"#FECB52\"], \"font\": {\"color\": \"#2a3f5f\"}, \"geo\": {\"bgcolor\": \"white\", \"lakecolor\": \"white\", \"landcolor\": \"#E5ECF6\", \"showlakes\": true, \"showland\": true, \"subunitcolor\": \"white\"}, \"hoverlabel\": {\"align\": \"left\"}, \"hovermode\": \"closest\", \"mapbox\": {\"style\": \"light\"}, \"paper_bgcolor\": \"white\", \"plot_bgcolor\": \"#E5ECF6\", \"polar\": {\"angularaxis\": {\"gridcolor\": \"white\", \"linecolor\": \"white\", \"ticks\": \"\"}, \"bgcolor\": \"#E5ECF6\", \"radialaxis\": {\"gridcolor\": \"white\", \"linecolor\": \"white\", \"ticks\": \"\"}}, \"scene\": {\"xaxis\": {\"backgroundcolor\": \"#E5ECF6\", \"gridcolor\": \"white\", \"gridwidth\": 2, \"linecolor\": \"white\", \"showbackground\": true, \"ticks\": \"\", \"zerolinecolor\": \"white\"}, \"yaxis\": {\"backgroundcolor\": \"#E5ECF6\", \"gridcolor\": \"white\", \"gridwidth\": 2, \"linecolor\": \"white\", \"showbackground\": true, \"ticks\": \"\", \"zerolinecolor\": \"white\"}, \"zaxis\": {\"backgroundcolor\": \"#E5ECF6\", \"gridcolor\": \"white\", \"gridwidth\": 2, \"linecolor\": \"white\", \"showbackground\": true, \"ticks\": \"\", \"zerolinecolor\": \"white\"}}, \"shapedefaults\": {\"line\": {\"color\": \"#2a3f5f\"}}, \"ternary\": {\"aaxis\": {\"gridcolor\": \"white\", \"linecolor\": \"white\", \"ticks\": \"\"}, \"baxis\": {\"gridcolor\": \"white\", \"linecolor\": \"white\", \"ticks\": \"\"}, \"bgcolor\": \"#E5ECF6\", \"caxis\": {\"gridcolor\": \"white\", \"linecolor\": \"white\", \"ticks\": \"\"}}, \"title\": {\"x\": 0.05}, \"xaxis\": {\"automargin\": true, \"gridcolor\": \"white\", \"linecolor\": \"white\", \"ticks\": \"\", \"title\": {\"standoff\": 15}, \"zerolinecolor\": \"white\", \"zerolinewidth\": 2}, \"yaxis\": {\"automargin\": true, \"gridcolor\": \"white\", \"linecolor\": \"white\", \"ticks\": \"\", \"title\": {\"standoff\": 15}, \"zerolinecolor\": \"white\", \"zerolinewidth\": 2}}}, \"title\": {\"font\": {\"color\": \"#4D5663\"}}, \"xaxis\": {\"gridcolor\": \"#E1E5ED\", \"showgrid\": true, \"tickfont\": {\"color\": \"#4D5663\"}, \"title\": {\"font\": {\"color\": \"#4D5663\"}, \"text\": \"\"}, \"zerolinecolor\": \"#E1E5ED\"}, \"yaxis\": {\"gridcolor\": \"#E1E5ED\", \"showgrid\": true, \"tickfont\": {\"color\": \"#4D5663\"}, \"title\": {\"font\": {\"color\": \"#4D5663\"}, \"text\": \"\"}, \"zerolinecolor\": \"#E1E5ED\"}},\n",
       "                        {\"showLink\": true, \"linkText\": \"Export to plot.ly\", \"plotlyServerURL\": \"https://plot.ly\", \"responsive\": true}\n",
       "                    ).then(function(){\n",
       "                            \n",
       "var gd = document.getElementById('969088c9-3204-4d95-8295-3b14874031a5');\n",
       "var x = new MutationObserver(function (mutations, observer) {{\n",
       "        var display = window.getComputedStyle(gd).display;\n",
       "        if (!display || display === 'none') {{\n",
       "            console.log([gd, 'removed!']);\n",
       "            Plotly.purge(gd);\n",
       "            observer.disconnect();\n",
       "        }}\n",
       "}});\n",
       "\n",
       "// Listen for the removal of the full notebook cells\n",
       "var notebookContainer = gd.closest('#notebook-container');\n",
       "if (notebookContainer) {{\n",
       "    x.observe(notebookContainer, {childList: true});\n",
       "}}\n",
       "\n",
       "// Listen for the clearing of the current output cell\n",
       "var outputEl = gd.closest('.output');\n",
       "if (outputEl) {{\n",
       "    x.observe(outputEl, {childList: true});\n",
       "}}\n",
       "\n",
       "                        })\n",
       "                };\n",
       "                });\n",
       "            </script>\n",
       "        </div>"
      ]
     },
     "metadata": {},
     "output_type": "display_data"
    }
   ],
   "source": [
    "df.iplot(kind='bubble',x='A',y='B',size='C')"
   ]
  },
  {
   "cell_type": "markdown",
   "metadata": {},
   "source": [
    "## scatter_matrix()\n",
    "\n",
    "Similar to sns.pairplot()"
   ]
  },
  {
   "cell_type": "code",
   "execution_count": 21,
   "metadata": {},
   "outputs": [
    {
     "data": {
      "application/vnd.plotly.v1+json": {
       "config": {
        "linkText": "Export to plot.ly",
        "plotlyServerURL": "https://plot.ly",
        "showLink": true
       },
       "data": [
        {
         "histfunc": "count",
         "histnorm": "",
         "marker": {
          "color": "rgba(255, 153, 51, 1.0)",
          "line": {
           "color": "#4D5663",
           "width": 1.3
          }
         },
         "name": "A",
         "nbinsx": 10,
         "opacity": 0.8,
         "orientation": "v",
         "type": "histogram",
         "x": [
          -0.4297685383384342,
          0.8992028500370997,
          -0.0529219344920944,
          -0.6575111293098215,
          0.22208299129571782,
          0.3794842146923049,
          -0.776042193527561,
          0.20252386974764924,
          0.5283888563058603,
          0.42238405971072795,
          -0.06013466358030851,
          -0.00026800090693260357,
          -0.14388939098347012,
          0.9344699379561042,
          0.6783815719865144,
          0.44503506029485257,
          -1.7459121312891714,
          -1.0030300108933405,
          1.9884150558651161,
          -0.47184365204117884,
          -0.2595777957034208,
          0.7400974312262351,
          0.099309479647986,
          -0.6182408568594779,
          -0.09737112629162749,
          1.0014953872001506,
          0.2871753396523556,
          1.5244479144569265,
          -0.23697854575363472,
          0.020463560762592693,
          -1.1753745296203637,
          0.43368223787654575,
          2.24053767970503,
          -0.6384984081451017,
          -0.15584868195776844,
          -1.129993502850424,
          1.486435661947022,
          1.253760698328164,
          -0.13143816377831435,
          -1.6959507280045962,
          -0.5909461283664224,
          -0.9669632612257547,
          0.1002289545273029,
          0.06832115631372923,
          -0.23128484890668444,
          0.5004811414606912,
          0.4204561565082809,
          -1.05748043745096,
          0.06683095599233774,
          0.2980261452352181,
          -1.5226706426959702,
          0.029547750310692927,
          2.7094752196223126,
          -1.999918830221982,
          -1.4429817394634803,
          1.2186716154519959,
          -0.933564385488572,
          1.176427043693705,
          -0.35626527453103896,
          -0.9201267710595663,
          -0.4825603472456605,
          1.0350105637639253,
          0.7141270743667533,
          -0.7047888603102321,
          0.07954844261010739,
          0.9240461197773582,
          -0.2012367204600226,
          -0.18735870172077787,
          0.8128846161700972,
          0.572471733076174,
          0.2172228806431597,
          0.23258075293244185,
          -0.15037989852296424,
          1.6489384008396495,
          -0.699170275452065,
          -1.1915880345536867,
          0.791442180982393,
          -1.5343965160519073,
          -0.2119291089800813,
          0.5147659474053279,
          0.13256180204923343,
          0.11804225234240634,
          0.4175537717201645,
          -0.4404582829401427,
          0.5628633036420924,
          -0.14853080183364786,
          0.528931020376802,
          0.7682140054890354,
          0.5882154073068712,
          -0.6371179810453058,
          0.00860135749083743,
          1.784532008732318,
          0.0630970787741614,
          1.0806131230471097,
          -0.3368057268799231,
          -0.11396344278775078,
          1.5040813118063128,
          -0.26955180544597684,
          -0.024390292942870706,
          -0.15560276318219723
         ],
         "xaxis": "x",
         "yaxis": "y"
        },
        {
         "line": {
          "color": "rgba(128, 128, 128, 1.0)",
          "dash": "solid",
          "shape": "linear",
          "width": 1.3
         },
         "marker": {
          "size": 2,
          "symbol": "circle"
         },
         "mode": "markers",
         "name": "A",
         "text": "",
         "type": "scatter",
         "x": [
          -2.2286752844455777,
          -1.1325804605985426,
          -0.057504853523821425,
          -0.4372807380334668,
          0.7196790346908422,
          -0.3049353605453905,
          -0.36769137325213835,
          -2.720548438240072,
          -0.9630851860163883,
          -0.2604981650092037,
          -0.8739159350872959,
          -2.597293836991736,
          1.9279633238913891,
          -1.4857793145128506,
          -1.398384437744287,
          0.9249812054111738,
          0.9904484780182563,
          0.5154826624657818,
          -2.118134319003685,
          -1.1737116775235958,
          0.6767585900341822,
          0.5461220282918061,
          -0.6990646057740326,
          -1.0110525490061775,
          -0.08120032622523697,
          0.2636505021163572,
          1.2323826718876643,
          -0.40486481243860833,
          1.4760723751566938,
          -0.8209077663785059,
          1.1402839958305764,
          2.0165937745268456,
          -1.186601957911982,
          -0.8314944292076336,
          -0.46207793920010803,
          0.11759878503277775,
          -0.46486529954252687,
          0.6029386347856334,
          -0.33018597428647706,
          -0.009613504426322677,
          0.9872410193142943,
          0.2440377627033009,
          0.18977165931531736,
          -0.6759265219314019,
          -0.705368350697958,
          2.625871847829621,
          1.6218716077031723,
          -2.799716407485826,
          -2.2039135318094103,
          0.303793009001111,
          -0.7237119546177894,
          1.806688841596908,
          -0.9334230739999114,
          0.2771158257256812,
          0.5484931304543167,
          -0.5310682268548499,
          0.26045181959778124,
          -1.1664989769384293,
          -0.5924313434244467,
          -0.903470166777184,
          0.1827433432749004,
          1.1951182534599574,
          0.9429850152610202,
          0.7718174963318698,
          -0.3932259789252067,
          -0.9876135657413847,
          0.06069370133947106,
          -0.3431001486732415,
          -1.4678282524891362,
          1.0620820253204266,
          -0.45220907136404775,
          0.3255127774116455,
          -0.5118683983115404,
          -1.4068154364000311,
          -0.6993079829811987,
          -1.8294456426161474,
          -0.19352574917505092,
          -0.5363175879157083,
          -0.4022870066216089,
          0.4843330327019152,
          -0.4028270480314041,
          -0.16088752894881542,
          -0.10235401898702981,
          0.269872266689026,
          -0.5211183369387445,
          1.4942821686889394,
          0.17909980069235,
          -0.6771140256279912,
          0.25538789387367294,
          -2.4142626729455747,
          2.278105352397342,
          0.9633934004854583,
          0.6369650835814333,
          1.3346267659621462,
          0.4847058208475034,
          1.493950984377913,
          0.608059480959266,
          -0.7449331063679395,
          -2.1561723967170456,
          -0.4618486399950229
         ],
         "xaxis": "x2",
         "y": [
          -0.4297685383384342,
          0.8992028500370997,
          -0.0529219344920944,
          -0.6575111293098215,
          0.22208299129571782,
          0.3794842146923049,
          -0.776042193527561,
          0.20252386974764924,
          0.5283888563058603,
          0.42238405971072795,
          -0.06013466358030851,
          -0.00026800090693260357,
          -0.14388939098347012,
          0.9344699379561042,
          0.6783815719865144,
          0.44503506029485257,
          -1.7459121312891714,
          -1.0030300108933405,
          1.9884150558651161,
          -0.47184365204117884,
          -0.2595777957034208,
          0.7400974312262351,
          0.099309479647986,
          -0.6182408568594779,
          -0.09737112629162749,
          1.0014953872001506,
          0.2871753396523556,
          1.5244479144569265,
          -0.23697854575363472,
          0.020463560762592693,
          -1.1753745296203637,
          0.43368223787654575,
          2.24053767970503,
          -0.6384984081451017,
          -0.15584868195776844,
          -1.129993502850424,
          1.486435661947022,
          1.253760698328164,
          -0.13143816377831435,
          -1.6959507280045962,
          -0.5909461283664224,
          -0.9669632612257547,
          0.1002289545273029,
          0.06832115631372923,
          -0.23128484890668444,
          0.5004811414606912,
          0.4204561565082809,
          -1.05748043745096,
          0.06683095599233774,
          0.2980261452352181,
          -1.5226706426959702,
          0.029547750310692927,
          2.7094752196223126,
          -1.999918830221982,
          -1.4429817394634803,
          1.2186716154519959,
          -0.933564385488572,
          1.176427043693705,
          -0.35626527453103896,
          -0.9201267710595663,
          -0.4825603472456605,
          1.0350105637639253,
          0.7141270743667533,
          -0.7047888603102321,
          0.07954844261010739,
          0.9240461197773582,
          -0.2012367204600226,
          -0.18735870172077787,
          0.8128846161700972,
          0.572471733076174,
          0.2172228806431597,
          0.23258075293244185,
          -0.15037989852296424,
          1.6489384008396495,
          -0.699170275452065,
          -1.1915880345536867,
          0.791442180982393,
          -1.5343965160519073,
          -0.2119291089800813,
          0.5147659474053279,
          0.13256180204923343,
          0.11804225234240634,
          0.4175537717201645,
          -0.4404582829401427,
          0.5628633036420924,
          -0.14853080183364786,
          0.528931020376802,
          0.7682140054890354,
          0.5882154073068712,
          -0.6371179810453058,
          0.00860135749083743,
          1.784532008732318,
          0.0630970787741614,
          1.0806131230471097,
          -0.3368057268799231,
          -0.11396344278775078,
          1.5040813118063128,
          -0.26955180544597684,
          -0.024390292942870706,
          -0.15560276318219723
         ],
         "yaxis": "y2"
        },
        {
         "line": {
          "color": "rgba(128, 128, 128, 1.0)",
          "dash": "solid",
          "shape": "linear",
          "width": 1.3
         },
         "marker": {
          "size": 2,
          "symbol": "circle"
         },
         "mode": "markers",
         "name": "A",
         "text": "",
         "type": "scatter",
         "x": [
          1.1786249712262633,
          -0.07355363389825188,
          0.10673728747429873,
          -1.6200138315172226,
          0.8038860544011691,
          -0.015018901180249197,
          -0.3200043063760125,
          0.8638148430107568,
          -0.40550870293413155,
          -0.16717671251139193,
          1.1439215034980508,
          0.22052096273934702,
          0.4915874851405039,
          1.6812926781938566,
          0.47876602038653554,
          -0.24906652606117347,
          -0.21229099101894697,
          0.226372270600233,
          -0.9503775922786668,
          1.2900635593411864,
          -0.8820240618433731,
          -0.27968741633449284,
          0.24749126784771305,
          -1.287147863111516,
          0.7207993439726794,
          0.8938331823312693,
          1.4375109478706862,
          1.2597826980176479,
          -1.7120237647553644,
          0.37163223873664053,
          -1.2293958041730793,
          0.16292848771751778,
          0.8953762585328742,
          -1.4365689696166017,
          -0.36718869829790096,
          -1.3516910552047443,
          0.7959650362780134,
          0.7446694886773091,
          -0.2838626221563418,
          0.41612897511243335,
          -0.660842228744442,
          -0.4583123541427391,
          0.8487338077687653,
          -0.6382076088735156,
          0.08648383132017577,
          -0.637677379928665,
          -0.5278572479445359,
          1.009173896164119,
          0.5009363886426216,
          -1.3580948611896575,
          1.2790048126493363,
          -1.3879343410627092,
          -0.01682907297008556,
          -0.6703000670131273,
          1.5374604806156202,
          -0.697161123841636,
          0.579140592993929,
          -1.3889975589760564,
          -0.2004285434907031,
          -1.0645188810447828,
          -1.2877771144314145,
          0.18196921915152736,
          0.355098135424266,
          0.967696230234717,
          0.4772338366955171,
          -1.510038625563963,
          -0.40146425015958737,
          0.8109168957741011,
          -1.2923245702731976,
          -1.5029614204270842,
          0.15762278217901138,
          1.5785914396830187,
          0.9258395770780882,
          -1.591804263376754,
          0.5844587173755277,
          0.9635480254140826,
          -0.33441708293974676,
          -1.3541690061832685,
          -0.894986027496033,
          0.8827156615564142,
          -0.189538521823769,
          0.6639668580923442,
          -0.8652399949240969,
          1.664279980830366,
          -1.2399032495021538,
          -2.2286583945060006,
          -0.7250899567942046,
          1.3316815793740926,
          -0.5352576409055199,
          -1.1004892907668025,
          0.22604356508286133,
          -0.5122613760476022,
          -1.032495668544159,
          0.18153045439112858,
          0.3794284799037391,
          -0.09604121980705199,
          0.11572410927921793,
          0.7061700491228695,
          -0.6429452372045623,
          1.5789472867919554
         ],
         "xaxis": "x3",
         "y": [
          -0.4297685383384342,
          0.8992028500370997,
          -0.0529219344920944,
          -0.6575111293098215,
          0.22208299129571782,
          0.3794842146923049,
          -0.776042193527561,
          0.20252386974764924,
          0.5283888563058603,
          0.42238405971072795,
          -0.06013466358030851,
          -0.00026800090693260357,
          -0.14388939098347012,
          0.9344699379561042,
          0.6783815719865144,
          0.44503506029485257,
          -1.7459121312891714,
          -1.0030300108933405,
          1.9884150558651161,
          -0.47184365204117884,
          -0.2595777957034208,
          0.7400974312262351,
          0.099309479647986,
          -0.6182408568594779,
          -0.09737112629162749,
          1.0014953872001506,
          0.2871753396523556,
          1.5244479144569265,
          -0.23697854575363472,
          0.020463560762592693,
          -1.1753745296203637,
          0.43368223787654575,
          2.24053767970503,
          -0.6384984081451017,
          -0.15584868195776844,
          -1.129993502850424,
          1.486435661947022,
          1.253760698328164,
          -0.13143816377831435,
          -1.6959507280045962,
          -0.5909461283664224,
          -0.9669632612257547,
          0.1002289545273029,
          0.06832115631372923,
          -0.23128484890668444,
          0.5004811414606912,
          0.4204561565082809,
          -1.05748043745096,
          0.06683095599233774,
          0.2980261452352181,
          -1.5226706426959702,
          0.029547750310692927,
          2.7094752196223126,
          -1.999918830221982,
          -1.4429817394634803,
          1.2186716154519959,
          -0.933564385488572,
          1.176427043693705,
          -0.35626527453103896,
          -0.9201267710595663,
          -0.4825603472456605,
          1.0350105637639253,
          0.7141270743667533,
          -0.7047888603102321,
          0.07954844261010739,
          0.9240461197773582,
          -0.2012367204600226,
          -0.18735870172077787,
          0.8128846161700972,
          0.572471733076174,
          0.2172228806431597,
          0.23258075293244185,
          -0.15037989852296424,
          1.6489384008396495,
          -0.699170275452065,
          -1.1915880345536867,
          0.791442180982393,
          -1.5343965160519073,
          -0.2119291089800813,
          0.5147659474053279,
          0.13256180204923343,
          0.11804225234240634,
          0.4175537717201645,
          -0.4404582829401427,
          0.5628633036420924,
          -0.14853080183364786,
          0.528931020376802,
          0.7682140054890354,
          0.5882154073068712,
          -0.6371179810453058,
          0.00860135749083743,
          1.784532008732318,
          0.0630970787741614,
          1.0806131230471097,
          -0.3368057268799231,
          -0.11396344278775078,
          1.5040813118063128,
          -0.26955180544597684,
          -0.024390292942870706,
          -0.15560276318219723
         ],
         "yaxis": "y3"
        },
        {
         "line": {
          "color": "rgba(128, 128, 128, 1.0)",
          "dash": "solid",
          "shape": "linear",
          "width": 1.3
         },
         "marker": {
          "size": 2,
          "symbol": "circle"
         },
         "mode": "markers",
         "name": "A",
         "text": "",
         "type": "scatter",
         "x": [
          -1.862800313121775,
          -0.20951207295621146,
          -0.10579750915640158,
          0.7449726332937913,
          0.5898440586883348,
          0.6472702771138337,
          0.27665593785476267,
          -0.10807527509649502,
          0.5895237232323345,
          -1.519127167622268,
          -0.8736765979093821,
          0.9736412767543172,
          -0.25274749632481863,
          -0.7315817015396363,
          0.8631443417504908,
          -1.1953334383959195,
          1.5934450350726834,
          -0.8692873266241693,
          1.0408726111473396,
          -1.0533688023707521,
          -0.4708648587320578,
          0.24293109968645663,
          -0.13673579661128576,
          1.2814792492459324,
          -1.356235810952168,
          -0.9521423057124621,
          0.6551436873402294,
          1.38471077844707,
          -1.2900499938571501,
          0.6876138195736164,
          -0.22371717375733743,
          0.4729102128676308,
          0.006192920255018028,
          1.0352939760509012,
          -0.013019737566285078,
          1.9213142379551436,
          0.44293117144505634,
          -0.961115493975052,
          -1.3011893445642408,
          -1.2439247382623437,
          0.012651245757251676,
          -0.12723911525196055,
          -0.7563921780952818,
          0.872943299696692,
          -1.1111127361971371,
          0.3105822975167003,
          2.1513144207586787,
          0.24673956005352016,
          0.6604767199356464,
          -1.842687807901697,
          0.4875951054385542,
          0.1540716452559774,
          -1.1301377080208135,
          0.3778292347194436,
          0.06897506995523428,
          0.5649041461628904,
          -0.04524606045128736,
          1.3103889818019638,
          -1.626895965993376,
          -1.2008710881324998,
          -0.6668683045108091,
          -1.20552806684709,
          -1.44891755460223,
          -1.7712756478403473,
          -1.356763679162797,
          -0.7528382834218441,
          0.4422673121786261,
          0.6342408192083392,
          1.357267749649809,
          -0.5047200232765177,
          -0.40351879957344367,
          0.16304001463950282,
          -2.1196754751402564,
          1.6077651138771687,
          -0.34728517070820913,
          -1.1307993233098803,
          1.1377203515073007,
          -1.0280827244201818,
          -1.4062502685447293,
          -0.21251743156935993,
          0.7444561710324307,
          0.22129244784855204,
          3.1331155149570455,
          -0.31005889628964395,
          -0.31583659061997493,
          -0.5301123392684864,
          0.2864046387176444,
          0.38781067220254734,
          -0.6938768959110249,
          1.295523616880893,
          0.8465238581327255,
          0.24330559296550552,
          -0.17124434610468836,
          0.4067336628284449,
          1.8907279035031714,
          -0.14467832324424781,
          0.4098334885431353,
          -0.6724128056332155,
          -0.19146324190082106,
          -1.2895295405214975
         ],
         "xaxis": "x4",
         "y": [
          -0.4297685383384342,
          0.8992028500370997,
          -0.0529219344920944,
          -0.6575111293098215,
          0.22208299129571782,
          0.3794842146923049,
          -0.776042193527561,
          0.20252386974764924,
          0.5283888563058603,
          0.42238405971072795,
          -0.06013466358030851,
          -0.00026800090693260357,
          -0.14388939098347012,
          0.9344699379561042,
          0.6783815719865144,
          0.44503506029485257,
          -1.7459121312891714,
          -1.0030300108933405,
          1.9884150558651161,
          -0.47184365204117884,
          -0.2595777957034208,
          0.7400974312262351,
          0.099309479647986,
          -0.6182408568594779,
          -0.09737112629162749,
          1.0014953872001506,
          0.2871753396523556,
          1.5244479144569265,
          -0.23697854575363472,
          0.020463560762592693,
          -1.1753745296203637,
          0.43368223787654575,
          2.24053767970503,
          -0.6384984081451017,
          -0.15584868195776844,
          -1.129993502850424,
          1.486435661947022,
          1.253760698328164,
          -0.13143816377831435,
          -1.6959507280045962,
          -0.5909461283664224,
          -0.9669632612257547,
          0.1002289545273029,
          0.06832115631372923,
          -0.23128484890668444,
          0.5004811414606912,
          0.4204561565082809,
          -1.05748043745096,
          0.06683095599233774,
          0.2980261452352181,
          -1.5226706426959702,
          0.029547750310692927,
          2.7094752196223126,
          -1.999918830221982,
          -1.4429817394634803,
          1.2186716154519959,
          -0.933564385488572,
          1.176427043693705,
          -0.35626527453103896,
          -0.9201267710595663,
          -0.4825603472456605,
          1.0350105637639253,
          0.7141270743667533,
          -0.7047888603102321,
          0.07954844261010739,
          0.9240461197773582,
          -0.2012367204600226,
          -0.18735870172077787,
          0.8128846161700972,
          0.572471733076174,
          0.2172228806431597,
          0.23258075293244185,
          -0.15037989852296424,
          1.6489384008396495,
          -0.699170275452065,
          -1.1915880345536867,
          0.791442180982393,
          -1.5343965160519073,
          -0.2119291089800813,
          0.5147659474053279,
          0.13256180204923343,
          0.11804225234240634,
          0.4175537717201645,
          -0.4404582829401427,
          0.5628633036420924,
          -0.14853080183364786,
          0.528931020376802,
          0.7682140054890354,
          0.5882154073068712,
          -0.6371179810453058,
          0.00860135749083743,
          1.784532008732318,
          0.0630970787741614,
          1.0806131230471097,
          -0.3368057268799231,
          -0.11396344278775078,
          1.5040813118063128,
          -0.26955180544597684,
          -0.024390292942870706,
          -0.15560276318219723
         ],
         "yaxis": "y4"
        },
        {
         "line": {
          "color": "rgba(128, 128, 128, 1.0)",
          "dash": "solid",
          "shape": "linear",
          "width": 1.3
         },
         "marker": {
          "size": 2,
          "symbol": "circle"
         },
         "mode": "markers",
         "name": "B",
         "text": "",
         "type": "scatter",
         "x": [
          -0.4297685383384342,
          0.8992028500370997,
          -0.0529219344920944,
          -0.6575111293098215,
          0.22208299129571782,
          0.3794842146923049,
          -0.776042193527561,
          0.20252386974764924,
          0.5283888563058603,
          0.42238405971072795,
          -0.06013466358030851,
          -0.00026800090693260357,
          -0.14388939098347012,
          0.9344699379561042,
          0.6783815719865144,
          0.44503506029485257,
          -1.7459121312891714,
          -1.0030300108933405,
          1.9884150558651161,
          -0.47184365204117884,
          -0.2595777957034208,
          0.7400974312262351,
          0.099309479647986,
          -0.6182408568594779,
          -0.09737112629162749,
          1.0014953872001506,
          0.2871753396523556,
          1.5244479144569265,
          -0.23697854575363472,
          0.020463560762592693,
          -1.1753745296203637,
          0.43368223787654575,
          2.24053767970503,
          -0.6384984081451017,
          -0.15584868195776844,
          -1.129993502850424,
          1.486435661947022,
          1.253760698328164,
          -0.13143816377831435,
          -1.6959507280045962,
          -0.5909461283664224,
          -0.9669632612257547,
          0.1002289545273029,
          0.06832115631372923,
          -0.23128484890668444,
          0.5004811414606912,
          0.4204561565082809,
          -1.05748043745096,
          0.06683095599233774,
          0.2980261452352181,
          -1.5226706426959702,
          0.029547750310692927,
          2.7094752196223126,
          -1.999918830221982,
          -1.4429817394634803,
          1.2186716154519959,
          -0.933564385488572,
          1.176427043693705,
          -0.35626527453103896,
          -0.9201267710595663,
          -0.4825603472456605,
          1.0350105637639253,
          0.7141270743667533,
          -0.7047888603102321,
          0.07954844261010739,
          0.9240461197773582,
          -0.2012367204600226,
          -0.18735870172077787,
          0.8128846161700972,
          0.572471733076174,
          0.2172228806431597,
          0.23258075293244185,
          -0.15037989852296424,
          1.6489384008396495,
          -0.699170275452065,
          -1.1915880345536867,
          0.791442180982393,
          -1.5343965160519073,
          -0.2119291089800813,
          0.5147659474053279,
          0.13256180204923343,
          0.11804225234240634,
          0.4175537717201645,
          -0.4404582829401427,
          0.5628633036420924,
          -0.14853080183364786,
          0.528931020376802,
          0.7682140054890354,
          0.5882154073068712,
          -0.6371179810453058,
          0.00860135749083743,
          1.784532008732318,
          0.0630970787741614,
          1.0806131230471097,
          -0.3368057268799231,
          -0.11396344278775078,
          1.5040813118063128,
          -0.26955180544597684,
          -0.024390292942870706,
          -0.15560276318219723
         ],
         "xaxis": "x5",
         "y": [
          -2.2286752844455777,
          -1.1325804605985426,
          -0.057504853523821425,
          -0.4372807380334668,
          0.7196790346908422,
          -0.3049353605453905,
          -0.36769137325213835,
          -2.720548438240072,
          -0.9630851860163883,
          -0.2604981650092037,
          -0.8739159350872959,
          -2.597293836991736,
          1.9279633238913891,
          -1.4857793145128506,
          -1.398384437744287,
          0.9249812054111738,
          0.9904484780182563,
          0.5154826624657818,
          -2.118134319003685,
          -1.1737116775235958,
          0.6767585900341822,
          0.5461220282918061,
          -0.6990646057740326,
          -1.0110525490061775,
          -0.08120032622523697,
          0.2636505021163572,
          1.2323826718876643,
          -0.40486481243860833,
          1.4760723751566938,
          -0.8209077663785059,
          1.1402839958305764,
          2.0165937745268456,
          -1.186601957911982,
          -0.8314944292076336,
          -0.46207793920010803,
          0.11759878503277775,
          -0.46486529954252687,
          0.6029386347856334,
          -0.33018597428647706,
          -0.009613504426322677,
          0.9872410193142943,
          0.2440377627033009,
          0.18977165931531736,
          -0.6759265219314019,
          -0.705368350697958,
          2.625871847829621,
          1.6218716077031723,
          -2.799716407485826,
          -2.2039135318094103,
          0.303793009001111,
          -0.7237119546177894,
          1.806688841596908,
          -0.9334230739999114,
          0.2771158257256812,
          0.5484931304543167,
          -0.5310682268548499,
          0.26045181959778124,
          -1.1664989769384293,
          -0.5924313434244467,
          -0.903470166777184,
          0.1827433432749004,
          1.1951182534599574,
          0.9429850152610202,
          0.7718174963318698,
          -0.3932259789252067,
          -0.9876135657413847,
          0.06069370133947106,
          -0.3431001486732415,
          -1.4678282524891362,
          1.0620820253204266,
          -0.45220907136404775,
          0.3255127774116455,
          -0.5118683983115404,
          -1.4068154364000311,
          -0.6993079829811987,
          -1.8294456426161474,
          -0.19352574917505092,
          -0.5363175879157083,
          -0.4022870066216089,
          0.4843330327019152,
          -0.4028270480314041,
          -0.16088752894881542,
          -0.10235401898702981,
          0.269872266689026,
          -0.5211183369387445,
          1.4942821686889394,
          0.17909980069235,
          -0.6771140256279912,
          0.25538789387367294,
          -2.4142626729455747,
          2.278105352397342,
          0.9633934004854583,
          0.6369650835814333,
          1.3346267659621462,
          0.4847058208475034,
          1.493950984377913,
          0.608059480959266,
          -0.7449331063679395,
          -2.1561723967170456,
          -0.4618486399950229
         ],
         "yaxis": "y5"
        },
        {
         "histfunc": "count",
         "histnorm": "",
         "marker": {
          "color": "rgba(55, 128, 191, 1.0)",
          "line": {
           "color": "#4D5663",
           "width": 1.3
          }
         },
         "name": "B",
         "nbinsx": 10,
         "opacity": 0.8,
         "orientation": "v",
         "type": "histogram",
         "x": [
          -2.2286752844455777,
          -1.1325804605985426,
          -0.057504853523821425,
          -0.4372807380334668,
          0.7196790346908422,
          -0.3049353605453905,
          -0.36769137325213835,
          -2.720548438240072,
          -0.9630851860163883,
          -0.2604981650092037,
          -0.8739159350872959,
          -2.597293836991736,
          1.9279633238913891,
          -1.4857793145128506,
          -1.398384437744287,
          0.9249812054111738,
          0.9904484780182563,
          0.5154826624657818,
          -2.118134319003685,
          -1.1737116775235958,
          0.6767585900341822,
          0.5461220282918061,
          -0.6990646057740326,
          -1.0110525490061775,
          -0.08120032622523697,
          0.2636505021163572,
          1.2323826718876643,
          -0.40486481243860833,
          1.4760723751566938,
          -0.8209077663785059,
          1.1402839958305764,
          2.0165937745268456,
          -1.186601957911982,
          -0.8314944292076336,
          -0.46207793920010803,
          0.11759878503277775,
          -0.46486529954252687,
          0.6029386347856334,
          -0.33018597428647706,
          -0.009613504426322677,
          0.9872410193142943,
          0.2440377627033009,
          0.18977165931531736,
          -0.6759265219314019,
          -0.705368350697958,
          2.625871847829621,
          1.6218716077031723,
          -2.799716407485826,
          -2.2039135318094103,
          0.303793009001111,
          -0.7237119546177894,
          1.806688841596908,
          -0.9334230739999114,
          0.2771158257256812,
          0.5484931304543167,
          -0.5310682268548499,
          0.26045181959778124,
          -1.1664989769384293,
          -0.5924313434244467,
          -0.903470166777184,
          0.1827433432749004,
          1.1951182534599574,
          0.9429850152610202,
          0.7718174963318698,
          -0.3932259789252067,
          -0.9876135657413847,
          0.06069370133947106,
          -0.3431001486732415,
          -1.4678282524891362,
          1.0620820253204266,
          -0.45220907136404775,
          0.3255127774116455,
          -0.5118683983115404,
          -1.4068154364000311,
          -0.6993079829811987,
          -1.8294456426161474,
          -0.19352574917505092,
          -0.5363175879157083,
          -0.4022870066216089,
          0.4843330327019152,
          -0.4028270480314041,
          -0.16088752894881542,
          -0.10235401898702981,
          0.269872266689026,
          -0.5211183369387445,
          1.4942821686889394,
          0.17909980069235,
          -0.6771140256279912,
          0.25538789387367294,
          -2.4142626729455747,
          2.278105352397342,
          0.9633934004854583,
          0.6369650835814333,
          1.3346267659621462,
          0.4847058208475034,
          1.493950984377913,
          0.608059480959266,
          -0.7449331063679395,
          -2.1561723967170456,
          -0.4618486399950229
         ],
         "xaxis": "x6",
         "yaxis": "y6"
        },
        {
         "line": {
          "color": "rgba(128, 128, 128, 1.0)",
          "dash": "solid",
          "shape": "linear",
          "width": 1.3
         },
         "marker": {
          "size": 2,
          "symbol": "circle"
         },
         "mode": "markers",
         "name": "B",
         "text": "",
         "type": "scatter",
         "x": [
          1.1786249712262633,
          -0.07355363389825188,
          0.10673728747429873,
          -1.6200138315172226,
          0.8038860544011691,
          -0.015018901180249197,
          -0.3200043063760125,
          0.8638148430107568,
          -0.40550870293413155,
          -0.16717671251139193,
          1.1439215034980508,
          0.22052096273934702,
          0.4915874851405039,
          1.6812926781938566,
          0.47876602038653554,
          -0.24906652606117347,
          -0.21229099101894697,
          0.226372270600233,
          -0.9503775922786668,
          1.2900635593411864,
          -0.8820240618433731,
          -0.27968741633449284,
          0.24749126784771305,
          -1.287147863111516,
          0.7207993439726794,
          0.8938331823312693,
          1.4375109478706862,
          1.2597826980176479,
          -1.7120237647553644,
          0.37163223873664053,
          -1.2293958041730793,
          0.16292848771751778,
          0.8953762585328742,
          -1.4365689696166017,
          -0.36718869829790096,
          -1.3516910552047443,
          0.7959650362780134,
          0.7446694886773091,
          -0.2838626221563418,
          0.41612897511243335,
          -0.660842228744442,
          -0.4583123541427391,
          0.8487338077687653,
          -0.6382076088735156,
          0.08648383132017577,
          -0.637677379928665,
          -0.5278572479445359,
          1.009173896164119,
          0.5009363886426216,
          -1.3580948611896575,
          1.2790048126493363,
          -1.3879343410627092,
          -0.01682907297008556,
          -0.6703000670131273,
          1.5374604806156202,
          -0.697161123841636,
          0.579140592993929,
          -1.3889975589760564,
          -0.2004285434907031,
          -1.0645188810447828,
          -1.2877771144314145,
          0.18196921915152736,
          0.355098135424266,
          0.967696230234717,
          0.4772338366955171,
          -1.510038625563963,
          -0.40146425015958737,
          0.8109168957741011,
          -1.2923245702731976,
          -1.5029614204270842,
          0.15762278217901138,
          1.5785914396830187,
          0.9258395770780882,
          -1.591804263376754,
          0.5844587173755277,
          0.9635480254140826,
          -0.33441708293974676,
          -1.3541690061832685,
          -0.894986027496033,
          0.8827156615564142,
          -0.189538521823769,
          0.6639668580923442,
          -0.8652399949240969,
          1.664279980830366,
          -1.2399032495021538,
          -2.2286583945060006,
          -0.7250899567942046,
          1.3316815793740926,
          -0.5352576409055199,
          -1.1004892907668025,
          0.22604356508286133,
          -0.5122613760476022,
          -1.032495668544159,
          0.18153045439112858,
          0.3794284799037391,
          -0.09604121980705199,
          0.11572410927921793,
          0.7061700491228695,
          -0.6429452372045623,
          1.5789472867919554
         ],
         "xaxis": "x7",
         "y": [
          -2.2286752844455777,
          -1.1325804605985426,
          -0.057504853523821425,
          -0.4372807380334668,
          0.7196790346908422,
          -0.3049353605453905,
          -0.36769137325213835,
          -2.720548438240072,
          -0.9630851860163883,
          -0.2604981650092037,
          -0.8739159350872959,
          -2.597293836991736,
          1.9279633238913891,
          -1.4857793145128506,
          -1.398384437744287,
          0.9249812054111738,
          0.9904484780182563,
          0.5154826624657818,
          -2.118134319003685,
          -1.1737116775235958,
          0.6767585900341822,
          0.5461220282918061,
          -0.6990646057740326,
          -1.0110525490061775,
          -0.08120032622523697,
          0.2636505021163572,
          1.2323826718876643,
          -0.40486481243860833,
          1.4760723751566938,
          -0.8209077663785059,
          1.1402839958305764,
          2.0165937745268456,
          -1.186601957911982,
          -0.8314944292076336,
          -0.46207793920010803,
          0.11759878503277775,
          -0.46486529954252687,
          0.6029386347856334,
          -0.33018597428647706,
          -0.009613504426322677,
          0.9872410193142943,
          0.2440377627033009,
          0.18977165931531736,
          -0.6759265219314019,
          -0.705368350697958,
          2.625871847829621,
          1.6218716077031723,
          -2.799716407485826,
          -2.2039135318094103,
          0.303793009001111,
          -0.7237119546177894,
          1.806688841596908,
          -0.9334230739999114,
          0.2771158257256812,
          0.5484931304543167,
          -0.5310682268548499,
          0.26045181959778124,
          -1.1664989769384293,
          -0.5924313434244467,
          -0.903470166777184,
          0.1827433432749004,
          1.1951182534599574,
          0.9429850152610202,
          0.7718174963318698,
          -0.3932259789252067,
          -0.9876135657413847,
          0.06069370133947106,
          -0.3431001486732415,
          -1.4678282524891362,
          1.0620820253204266,
          -0.45220907136404775,
          0.3255127774116455,
          -0.5118683983115404,
          -1.4068154364000311,
          -0.6993079829811987,
          -1.8294456426161474,
          -0.19352574917505092,
          -0.5363175879157083,
          -0.4022870066216089,
          0.4843330327019152,
          -0.4028270480314041,
          -0.16088752894881542,
          -0.10235401898702981,
          0.269872266689026,
          -0.5211183369387445,
          1.4942821686889394,
          0.17909980069235,
          -0.6771140256279912,
          0.25538789387367294,
          -2.4142626729455747,
          2.278105352397342,
          0.9633934004854583,
          0.6369650835814333,
          1.3346267659621462,
          0.4847058208475034,
          1.493950984377913,
          0.608059480959266,
          -0.7449331063679395,
          -2.1561723967170456,
          -0.4618486399950229
         ],
         "yaxis": "y7"
        },
        {
         "line": {
          "color": "rgba(128, 128, 128, 1.0)",
          "dash": "solid",
          "shape": "linear",
          "width": 1.3
         },
         "marker": {
          "size": 2,
          "symbol": "circle"
         },
         "mode": "markers",
         "name": "B",
         "text": "",
         "type": "scatter",
         "x": [
          -1.862800313121775,
          -0.20951207295621146,
          -0.10579750915640158,
          0.7449726332937913,
          0.5898440586883348,
          0.6472702771138337,
          0.27665593785476267,
          -0.10807527509649502,
          0.5895237232323345,
          -1.519127167622268,
          -0.8736765979093821,
          0.9736412767543172,
          -0.25274749632481863,
          -0.7315817015396363,
          0.8631443417504908,
          -1.1953334383959195,
          1.5934450350726834,
          -0.8692873266241693,
          1.0408726111473396,
          -1.0533688023707521,
          -0.4708648587320578,
          0.24293109968645663,
          -0.13673579661128576,
          1.2814792492459324,
          -1.356235810952168,
          -0.9521423057124621,
          0.6551436873402294,
          1.38471077844707,
          -1.2900499938571501,
          0.6876138195736164,
          -0.22371717375733743,
          0.4729102128676308,
          0.006192920255018028,
          1.0352939760509012,
          -0.013019737566285078,
          1.9213142379551436,
          0.44293117144505634,
          -0.961115493975052,
          -1.3011893445642408,
          -1.2439247382623437,
          0.012651245757251676,
          -0.12723911525196055,
          -0.7563921780952818,
          0.872943299696692,
          -1.1111127361971371,
          0.3105822975167003,
          2.1513144207586787,
          0.24673956005352016,
          0.6604767199356464,
          -1.842687807901697,
          0.4875951054385542,
          0.1540716452559774,
          -1.1301377080208135,
          0.3778292347194436,
          0.06897506995523428,
          0.5649041461628904,
          -0.04524606045128736,
          1.3103889818019638,
          -1.626895965993376,
          -1.2008710881324998,
          -0.6668683045108091,
          -1.20552806684709,
          -1.44891755460223,
          -1.7712756478403473,
          -1.356763679162797,
          -0.7528382834218441,
          0.4422673121786261,
          0.6342408192083392,
          1.357267749649809,
          -0.5047200232765177,
          -0.40351879957344367,
          0.16304001463950282,
          -2.1196754751402564,
          1.6077651138771687,
          -0.34728517070820913,
          -1.1307993233098803,
          1.1377203515073007,
          -1.0280827244201818,
          -1.4062502685447293,
          -0.21251743156935993,
          0.7444561710324307,
          0.22129244784855204,
          3.1331155149570455,
          -0.31005889628964395,
          -0.31583659061997493,
          -0.5301123392684864,
          0.2864046387176444,
          0.38781067220254734,
          -0.6938768959110249,
          1.295523616880893,
          0.8465238581327255,
          0.24330559296550552,
          -0.17124434610468836,
          0.4067336628284449,
          1.8907279035031714,
          -0.14467832324424781,
          0.4098334885431353,
          -0.6724128056332155,
          -0.19146324190082106,
          -1.2895295405214975
         ],
         "xaxis": "x8",
         "y": [
          -2.2286752844455777,
          -1.1325804605985426,
          -0.057504853523821425,
          -0.4372807380334668,
          0.7196790346908422,
          -0.3049353605453905,
          -0.36769137325213835,
          -2.720548438240072,
          -0.9630851860163883,
          -0.2604981650092037,
          -0.8739159350872959,
          -2.597293836991736,
          1.9279633238913891,
          -1.4857793145128506,
          -1.398384437744287,
          0.9249812054111738,
          0.9904484780182563,
          0.5154826624657818,
          -2.118134319003685,
          -1.1737116775235958,
          0.6767585900341822,
          0.5461220282918061,
          -0.6990646057740326,
          -1.0110525490061775,
          -0.08120032622523697,
          0.2636505021163572,
          1.2323826718876643,
          -0.40486481243860833,
          1.4760723751566938,
          -0.8209077663785059,
          1.1402839958305764,
          2.0165937745268456,
          -1.186601957911982,
          -0.8314944292076336,
          -0.46207793920010803,
          0.11759878503277775,
          -0.46486529954252687,
          0.6029386347856334,
          -0.33018597428647706,
          -0.009613504426322677,
          0.9872410193142943,
          0.2440377627033009,
          0.18977165931531736,
          -0.6759265219314019,
          -0.705368350697958,
          2.625871847829621,
          1.6218716077031723,
          -2.799716407485826,
          -2.2039135318094103,
          0.303793009001111,
          -0.7237119546177894,
          1.806688841596908,
          -0.9334230739999114,
          0.2771158257256812,
          0.5484931304543167,
          -0.5310682268548499,
          0.26045181959778124,
          -1.1664989769384293,
          -0.5924313434244467,
          -0.903470166777184,
          0.1827433432749004,
          1.1951182534599574,
          0.9429850152610202,
          0.7718174963318698,
          -0.3932259789252067,
          -0.9876135657413847,
          0.06069370133947106,
          -0.3431001486732415,
          -1.4678282524891362,
          1.0620820253204266,
          -0.45220907136404775,
          0.3255127774116455,
          -0.5118683983115404,
          -1.4068154364000311,
          -0.6993079829811987,
          -1.8294456426161474,
          -0.19352574917505092,
          -0.5363175879157083,
          -0.4022870066216089,
          0.4843330327019152,
          -0.4028270480314041,
          -0.16088752894881542,
          -0.10235401898702981,
          0.269872266689026,
          -0.5211183369387445,
          1.4942821686889394,
          0.17909980069235,
          -0.6771140256279912,
          0.25538789387367294,
          -2.4142626729455747,
          2.278105352397342,
          0.9633934004854583,
          0.6369650835814333,
          1.3346267659621462,
          0.4847058208475034,
          1.493950984377913,
          0.608059480959266,
          -0.7449331063679395,
          -2.1561723967170456,
          -0.4618486399950229
         ],
         "yaxis": "y8"
        },
        {
         "line": {
          "color": "rgba(128, 128, 128, 1.0)",
          "dash": "solid",
          "shape": "linear",
          "width": 1.3
         },
         "marker": {
          "size": 2,
          "symbol": "circle"
         },
         "mode": "markers",
         "name": "C",
         "text": "",
         "type": "scatter",
         "x": [
          -0.4297685383384342,
          0.8992028500370997,
          -0.0529219344920944,
          -0.6575111293098215,
          0.22208299129571782,
          0.3794842146923049,
          -0.776042193527561,
          0.20252386974764924,
          0.5283888563058603,
          0.42238405971072795,
          -0.06013466358030851,
          -0.00026800090693260357,
          -0.14388939098347012,
          0.9344699379561042,
          0.6783815719865144,
          0.44503506029485257,
          -1.7459121312891714,
          -1.0030300108933405,
          1.9884150558651161,
          -0.47184365204117884,
          -0.2595777957034208,
          0.7400974312262351,
          0.099309479647986,
          -0.6182408568594779,
          -0.09737112629162749,
          1.0014953872001506,
          0.2871753396523556,
          1.5244479144569265,
          -0.23697854575363472,
          0.020463560762592693,
          -1.1753745296203637,
          0.43368223787654575,
          2.24053767970503,
          -0.6384984081451017,
          -0.15584868195776844,
          -1.129993502850424,
          1.486435661947022,
          1.253760698328164,
          -0.13143816377831435,
          -1.6959507280045962,
          -0.5909461283664224,
          -0.9669632612257547,
          0.1002289545273029,
          0.06832115631372923,
          -0.23128484890668444,
          0.5004811414606912,
          0.4204561565082809,
          -1.05748043745096,
          0.06683095599233774,
          0.2980261452352181,
          -1.5226706426959702,
          0.029547750310692927,
          2.7094752196223126,
          -1.999918830221982,
          -1.4429817394634803,
          1.2186716154519959,
          -0.933564385488572,
          1.176427043693705,
          -0.35626527453103896,
          -0.9201267710595663,
          -0.4825603472456605,
          1.0350105637639253,
          0.7141270743667533,
          -0.7047888603102321,
          0.07954844261010739,
          0.9240461197773582,
          -0.2012367204600226,
          -0.18735870172077787,
          0.8128846161700972,
          0.572471733076174,
          0.2172228806431597,
          0.23258075293244185,
          -0.15037989852296424,
          1.6489384008396495,
          -0.699170275452065,
          -1.1915880345536867,
          0.791442180982393,
          -1.5343965160519073,
          -0.2119291089800813,
          0.5147659474053279,
          0.13256180204923343,
          0.11804225234240634,
          0.4175537717201645,
          -0.4404582829401427,
          0.5628633036420924,
          -0.14853080183364786,
          0.528931020376802,
          0.7682140054890354,
          0.5882154073068712,
          -0.6371179810453058,
          0.00860135749083743,
          1.784532008732318,
          0.0630970787741614,
          1.0806131230471097,
          -0.3368057268799231,
          -0.11396344278775078,
          1.5040813118063128,
          -0.26955180544597684,
          -0.024390292942870706,
          -0.15560276318219723
         ],
         "xaxis": "x9",
         "y": [
          1.1786249712262633,
          -0.07355363389825188,
          0.10673728747429873,
          -1.6200138315172226,
          0.8038860544011691,
          -0.015018901180249197,
          -0.3200043063760125,
          0.8638148430107568,
          -0.40550870293413155,
          -0.16717671251139193,
          1.1439215034980508,
          0.22052096273934702,
          0.4915874851405039,
          1.6812926781938566,
          0.47876602038653554,
          -0.24906652606117347,
          -0.21229099101894697,
          0.226372270600233,
          -0.9503775922786668,
          1.2900635593411864,
          -0.8820240618433731,
          -0.27968741633449284,
          0.24749126784771305,
          -1.287147863111516,
          0.7207993439726794,
          0.8938331823312693,
          1.4375109478706862,
          1.2597826980176479,
          -1.7120237647553644,
          0.37163223873664053,
          -1.2293958041730793,
          0.16292848771751778,
          0.8953762585328742,
          -1.4365689696166017,
          -0.36718869829790096,
          -1.3516910552047443,
          0.7959650362780134,
          0.7446694886773091,
          -0.2838626221563418,
          0.41612897511243335,
          -0.660842228744442,
          -0.4583123541427391,
          0.8487338077687653,
          -0.6382076088735156,
          0.08648383132017577,
          -0.637677379928665,
          -0.5278572479445359,
          1.009173896164119,
          0.5009363886426216,
          -1.3580948611896575,
          1.2790048126493363,
          -1.3879343410627092,
          -0.01682907297008556,
          -0.6703000670131273,
          1.5374604806156202,
          -0.697161123841636,
          0.579140592993929,
          -1.3889975589760564,
          -0.2004285434907031,
          -1.0645188810447828,
          -1.2877771144314145,
          0.18196921915152736,
          0.355098135424266,
          0.967696230234717,
          0.4772338366955171,
          -1.510038625563963,
          -0.40146425015958737,
          0.8109168957741011,
          -1.2923245702731976,
          -1.5029614204270842,
          0.15762278217901138,
          1.5785914396830187,
          0.9258395770780882,
          -1.591804263376754,
          0.5844587173755277,
          0.9635480254140826,
          -0.33441708293974676,
          -1.3541690061832685,
          -0.894986027496033,
          0.8827156615564142,
          -0.189538521823769,
          0.6639668580923442,
          -0.8652399949240969,
          1.664279980830366,
          -1.2399032495021538,
          -2.2286583945060006,
          -0.7250899567942046,
          1.3316815793740926,
          -0.5352576409055199,
          -1.1004892907668025,
          0.22604356508286133,
          -0.5122613760476022,
          -1.032495668544159,
          0.18153045439112858,
          0.3794284799037391,
          -0.09604121980705199,
          0.11572410927921793,
          0.7061700491228695,
          -0.6429452372045623,
          1.5789472867919554
         ],
         "yaxis": "y9"
        },
        {
         "line": {
          "color": "rgba(128, 128, 128, 1.0)",
          "dash": "solid",
          "shape": "linear",
          "width": 1.3
         },
         "marker": {
          "size": 2,
          "symbol": "circle"
         },
         "mode": "markers",
         "name": "C",
         "text": "",
         "type": "scatter",
         "x": [
          -2.2286752844455777,
          -1.1325804605985426,
          -0.057504853523821425,
          -0.4372807380334668,
          0.7196790346908422,
          -0.3049353605453905,
          -0.36769137325213835,
          -2.720548438240072,
          -0.9630851860163883,
          -0.2604981650092037,
          -0.8739159350872959,
          -2.597293836991736,
          1.9279633238913891,
          -1.4857793145128506,
          -1.398384437744287,
          0.9249812054111738,
          0.9904484780182563,
          0.5154826624657818,
          -2.118134319003685,
          -1.1737116775235958,
          0.6767585900341822,
          0.5461220282918061,
          -0.6990646057740326,
          -1.0110525490061775,
          -0.08120032622523697,
          0.2636505021163572,
          1.2323826718876643,
          -0.40486481243860833,
          1.4760723751566938,
          -0.8209077663785059,
          1.1402839958305764,
          2.0165937745268456,
          -1.186601957911982,
          -0.8314944292076336,
          -0.46207793920010803,
          0.11759878503277775,
          -0.46486529954252687,
          0.6029386347856334,
          -0.33018597428647706,
          -0.009613504426322677,
          0.9872410193142943,
          0.2440377627033009,
          0.18977165931531736,
          -0.6759265219314019,
          -0.705368350697958,
          2.625871847829621,
          1.6218716077031723,
          -2.799716407485826,
          -2.2039135318094103,
          0.303793009001111,
          -0.7237119546177894,
          1.806688841596908,
          -0.9334230739999114,
          0.2771158257256812,
          0.5484931304543167,
          -0.5310682268548499,
          0.26045181959778124,
          -1.1664989769384293,
          -0.5924313434244467,
          -0.903470166777184,
          0.1827433432749004,
          1.1951182534599574,
          0.9429850152610202,
          0.7718174963318698,
          -0.3932259789252067,
          -0.9876135657413847,
          0.06069370133947106,
          -0.3431001486732415,
          -1.4678282524891362,
          1.0620820253204266,
          -0.45220907136404775,
          0.3255127774116455,
          -0.5118683983115404,
          -1.4068154364000311,
          -0.6993079829811987,
          -1.8294456426161474,
          -0.19352574917505092,
          -0.5363175879157083,
          -0.4022870066216089,
          0.4843330327019152,
          -0.4028270480314041,
          -0.16088752894881542,
          -0.10235401898702981,
          0.269872266689026,
          -0.5211183369387445,
          1.4942821686889394,
          0.17909980069235,
          -0.6771140256279912,
          0.25538789387367294,
          -2.4142626729455747,
          2.278105352397342,
          0.9633934004854583,
          0.6369650835814333,
          1.3346267659621462,
          0.4847058208475034,
          1.493950984377913,
          0.608059480959266,
          -0.7449331063679395,
          -2.1561723967170456,
          -0.4618486399950229
         ],
         "xaxis": "x10",
         "y": [
          1.1786249712262633,
          -0.07355363389825188,
          0.10673728747429873,
          -1.6200138315172226,
          0.8038860544011691,
          -0.015018901180249197,
          -0.3200043063760125,
          0.8638148430107568,
          -0.40550870293413155,
          -0.16717671251139193,
          1.1439215034980508,
          0.22052096273934702,
          0.4915874851405039,
          1.6812926781938566,
          0.47876602038653554,
          -0.24906652606117347,
          -0.21229099101894697,
          0.226372270600233,
          -0.9503775922786668,
          1.2900635593411864,
          -0.8820240618433731,
          -0.27968741633449284,
          0.24749126784771305,
          -1.287147863111516,
          0.7207993439726794,
          0.8938331823312693,
          1.4375109478706862,
          1.2597826980176479,
          -1.7120237647553644,
          0.37163223873664053,
          -1.2293958041730793,
          0.16292848771751778,
          0.8953762585328742,
          -1.4365689696166017,
          -0.36718869829790096,
          -1.3516910552047443,
          0.7959650362780134,
          0.7446694886773091,
          -0.2838626221563418,
          0.41612897511243335,
          -0.660842228744442,
          -0.4583123541427391,
          0.8487338077687653,
          -0.6382076088735156,
          0.08648383132017577,
          -0.637677379928665,
          -0.5278572479445359,
          1.009173896164119,
          0.5009363886426216,
          -1.3580948611896575,
          1.2790048126493363,
          -1.3879343410627092,
          -0.01682907297008556,
          -0.6703000670131273,
          1.5374604806156202,
          -0.697161123841636,
          0.579140592993929,
          -1.3889975589760564,
          -0.2004285434907031,
          -1.0645188810447828,
          -1.2877771144314145,
          0.18196921915152736,
          0.355098135424266,
          0.967696230234717,
          0.4772338366955171,
          -1.510038625563963,
          -0.40146425015958737,
          0.8109168957741011,
          -1.2923245702731976,
          -1.5029614204270842,
          0.15762278217901138,
          1.5785914396830187,
          0.9258395770780882,
          -1.591804263376754,
          0.5844587173755277,
          0.9635480254140826,
          -0.33441708293974676,
          -1.3541690061832685,
          -0.894986027496033,
          0.8827156615564142,
          -0.189538521823769,
          0.6639668580923442,
          -0.8652399949240969,
          1.664279980830366,
          -1.2399032495021538,
          -2.2286583945060006,
          -0.7250899567942046,
          1.3316815793740926,
          -0.5352576409055199,
          -1.1004892907668025,
          0.22604356508286133,
          -0.5122613760476022,
          -1.032495668544159,
          0.18153045439112858,
          0.3794284799037391,
          -0.09604121980705199,
          0.11572410927921793,
          0.7061700491228695,
          -0.6429452372045623,
          1.5789472867919554
         ],
         "yaxis": "y10"
        },
        {
         "histfunc": "count",
         "histnorm": "",
         "marker": {
          "color": "rgba(50, 171, 96, 1.0)",
          "line": {
           "color": "#4D5663",
           "width": 1.3
          }
         },
         "name": "C",
         "nbinsx": 10,
         "opacity": 0.8,
         "orientation": "v",
         "type": "histogram",
         "x": [
          1.1786249712262633,
          -0.07355363389825188,
          0.10673728747429873,
          -1.6200138315172226,
          0.8038860544011691,
          -0.015018901180249197,
          -0.3200043063760125,
          0.8638148430107568,
          -0.40550870293413155,
          -0.16717671251139193,
          1.1439215034980508,
          0.22052096273934702,
          0.4915874851405039,
          1.6812926781938566,
          0.47876602038653554,
          -0.24906652606117347,
          -0.21229099101894697,
          0.226372270600233,
          -0.9503775922786668,
          1.2900635593411864,
          -0.8820240618433731,
          -0.27968741633449284,
          0.24749126784771305,
          -1.287147863111516,
          0.7207993439726794,
          0.8938331823312693,
          1.4375109478706862,
          1.2597826980176479,
          -1.7120237647553644,
          0.37163223873664053,
          -1.2293958041730793,
          0.16292848771751778,
          0.8953762585328742,
          -1.4365689696166017,
          -0.36718869829790096,
          -1.3516910552047443,
          0.7959650362780134,
          0.7446694886773091,
          -0.2838626221563418,
          0.41612897511243335,
          -0.660842228744442,
          -0.4583123541427391,
          0.8487338077687653,
          -0.6382076088735156,
          0.08648383132017577,
          -0.637677379928665,
          -0.5278572479445359,
          1.009173896164119,
          0.5009363886426216,
          -1.3580948611896575,
          1.2790048126493363,
          -1.3879343410627092,
          -0.01682907297008556,
          -0.6703000670131273,
          1.5374604806156202,
          -0.697161123841636,
          0.579140592993929,
          -1.3889975589760564,
          -0.2004285434907031,
          -1.0645188810447828,
          -1.2877771144314145,
          0.18196921915152736,
          0.355098135424266,
          0.967696230234717,
          0.4772338366955171,
          -1.510038625563963,
          -0.40146425015958737,
          0.8109168957741011,
          -1.2923245702731976,
          -1.5029614204270842,
          0.15762278217901138,
          1.5785914396830187,
          0.9258395770780882,
          -1.591804263376754,
          0.5844587173755277,
          0.9635480254140826,
          -0.33441708293974676,
          -1.3541690061832685,
          -0.894986027496033,
          0.8827156615564142,
          -0.189538521823769,
          0.6639668580923442,
          -0.8652399949240969,
          1.664279980830366,
          -1.2399032495021538,
          -2.2286583945060006,
          -0.7250899567942046,
          1.3316815793740926,
          -0.5352576409055199,
          -1.1004892907668025,
          0.22604356508286133,
          -0.5122613760476022,
          -1.032495668544159,
          0.18153045439112858,
          0.3794284799037391,
          -0.09604121980705199,
          0.11572410927921793,
          0.7061700491228695,
          -0.6429452372045623,
          1.5789472867919554
         ],
         "xaxis": "x11",
         "yaxis": "y11"
        },
        {
         "line": {
          "color": "rgba(128, 128, 128, 1.0)",
          "dash": "solid",
          "shape": "linear",
          "width": 1.3
         },
         "marker": {
          "size": 2,
          "symbol": "circle"
         },
         "mode": "markers",
         "name": "C",
         "text": "",
         "type": "scatter",
         "x": [
          -1.862800313121775,
          -0.20951207295621146,
          -0.10579750915640158,
          0.7449726332937913,
          0.5898440586883348,
          0.6472702771138337,
          0.27665593785476267,
          -0.10807527509649502,
          0.5895237232323345,
          -1.519127167622268,
          -0.8736765979093821,
          0.9736412767543172,
          -0.25274749632481863,
          -0.7315817015396363,
          0.8631443417504908,
          -1.1953334383959195,
          1.5934450350726834,
          -0.8692873266241693,
          1.0408726111473396,
          -1.0533688023707521,
          -0.4708648587320578,
          0.24293109968645663,
          -0.13673579661128576,
          1.2814792492459324,
          -1.356235810952168,
          -0.9521423057124621,
          0.6551436873402294,
          1.38471077844707,
          -1.2900499938571501,
          0.6876138195736164,
          -0.22371717375733743,
          0.4729102128676308,
          0.006192920255018028,
          1.0352939760509012,
          -0.013019737566285078,
          1.9213142379551436,
          0.44293117144505634,
          -0.961115493975052,
          -1.3011893445642408,
          -1.2439247382623437,
          0.012651245757251676,
          -0.12723911525196055,
          -0.7563921780952818,
          0.872943299696692,
          -1.1111127361971371,
          0.3105822975167003,
          2.1513144207586787,
          0.24673956005352016,
          0.6604767199356464,
          -1.842687807901697,
          0.4875951054385542,
          0.1540716452559774,
          -1.1301377080208135,
          0.3778292347194436,
          0.06897506995523428,
          0.5649041461628904,
          -0.04524606045128736,
          1.3103889818019638,
          -1.626895965993376,
          -1.2008710881324998,
          -0.6668683045108091,
          -1.20552806684709,
          -1.44891755460223,
          -1.7712756478403473,
          -1.356763679162797,
          -0.7528382834218441,
          0.4422673121786261,
          0.6342408192083392,
          1.357267749649809,
          -0.5047200232765177,
          -0.40351879957344367,
          0.16304001463950282,
          -2.1196754751402564,
          1.6077651138771687,
          -0.34728517070820913,
          -1.1307993233098803,
          1.1377203515073007,
          -1.0280827244201818,
          -1.4062502685447293,
          -0.21251743156935993,
          0.7444561710324307,
          0.22129244784855204,
          3.1331155149570455,
          -0.31005889628964395,
          -0.31583659061997493,
          -0.5301123392684864,
          0.2864046387176444,
          0.38781067220254734,
          -0.6938768959110249,
          1.295523616880893,
          0.8465238581327255,
          0.24330559296550552,
          -0.17124434610468836,
          0.4067336628284449,
          1.8907279035031714,
          -0.14467832324424781,
          0.4098334885431353,
          -0.6724128056332155,
          -0.19146324190082106,
          -1.2895295405214975
         ],
         "xaxis": "x12",
         "y": [
          1.1786249712262633,
          -0.07355363389825188,
          0.10673728747429873,
          -1.6200138315172226,
          0.8038860544011691,
          -0.015018901180249197,
          -0.3200043063760125,
          0.8638148430107568,
          -0.40550870293413155,
          -0.16717671251139193,
          1.1439215034980508,
          0.22052096273934702,
          0.4915874851405039,
          1.6812926781938566,
          0.47876602038653554,
          -0.24906652606117347,
          -0.21229099101894697,
          0.226372270600233,
          -0.9503775922786668,
          1.2900635593411864,
          -0.8820240618433731,
          -0.27968741633449284,
          0.24749126784771305,
          -1.287147863111516,
          0.7207993439726794,
          0.8938331823312693,
          1.4375109478706862,
          1.2597826980176479,
          -1.7120237647553644,
          0.37163223873664053,
          -1.2293958041730793,
          0.16292848771751778,
          0.8953762585328742,
          -1.4365689696166017,
          -0.36718869829790096,
          -1.3516910552047443,
          0.7959650362780134,
          0.7446694886773091,
          -0.2838626221563418,
          0.41612897511243335,
          -0.660842228744442,
          -0.4583123541427391,
          0.8487338077687653,
          -0.6382076088735156,
          0.08648383132017577,
          -0.637677379928665,
          -0.5278572479445359,
          1.009173896164119,
          0.5009363886426216,
          -1.3580948611896575,
          1.2790048126493363,
          -1.3879343410627092,
          -0.01682907297008556,
          -0.6703000670131273,
          1.5374604806156202,
          -0.697161123841636,
          0.579140592993929,
          -1.3889975589760564,
          -0.2004285434907031,
          -1.0645188810447828,
          -1.2877771144314145,
          0.18196921915152736,
          0.355098135424266,
          0.967696230234717,
          0.4772338366955171,
          -1.510038625563963,
          -0.40146425015958737,
          0.8109168957741011,
          -1.2923245702731976,
          -1.5029614204270842,
          0.15762278217901138,
          1.5785914396830187,
          0.9258395770780882,
          -1.591804263376754,
          0.5844587173755277,
          0.9635480254140826,
          -0.33441708293974676,
          -1.3541690061832685,
          -0.894986027496033,
          0.8827156615564142,
          -0.189538521823769,
          0.6639668580923442,
          -0.8652399949240969,
          1.664279980830366,
          -1.2399032495021538,
          -2.2286583945060006,
          -0.7250899567942046,
          1.3316815793740926,
          -0.5352576409055199,
          -1.1004892907668025,
          0.22604356508286133,
          -0.5122613760476022,
          -1.032495668544159,
          0.18153045439112858,
          0.3794284799037391,
          -0.09604121980705199,
          0.11572410927921793,
          0.7061700491228695,
          -0.6429452372045623,
          1.5789472867919554
         ],
         "yaxis": "y12"
        },
        {
         "line": {
          "color": "rgba(128, 128, 128, 1.0)",
          "dash": "solid",
          "shape": "linear",
          "width": 1.3
         },
         "marker": {
          "size": 2,
          "symbol": "circle"
         },
         "mode": "markers",
         "name": "D",
         "text": "",
         "type": "scatter",
         "x": [
          -0.4297685383384342,
          0.8992028500370997,
          -0.0529219344920944,
          -0.6575111293098215,
          0.22208299129571782,
          0.3794842146923049,
          -0.776042193527561,
          0.20252386974764924,
          0.5283888563058603,
          0.42238405971072795,
          -0.06013466358030851,
          -0.00026800090693260357,
          -0.14388939098347012,
          0.9344699379561042,
          0.6783815719865144,
          0.44503506029485257,
          -1.7459121312891714,
          -1.0030300108933405,
          1.9884150558651161,
          -0.47184365204117884,
          -0.2595777957034208,
          0.7400974312262351,
          0.099309479647986,
          -0.6182408568594779,
          -0.09737112629162749,
          1.0014953872001506,
          0.2871753396523556,
          1.5244479144569265,
          -0.23697854575363472,
          0.020463560762592693,
          -1.1753745296203637,
          0.43368223787654575,
          2.24053767970503,
          -0.6384984081451017,
          -0.15584868195776844,
          -1.129993502850424,
          1.486435661947022,
          1.253760698328164,
          -0.13143816377831435,
          -1.6959507280045962,
          -0.5909461283664224,
          -0.9669632612257547,
          0.1002289545273029,
          0.06832115631372923,
          -0.23128484890668444,
          0.5004811414606912,
          0.4204561565082809,
          -1.05748043745096,
          0.06683095599233774,
          0.2980261452352181,
          -1.5226706426959702,
          0.029547750310692927,
          2.7094752196223126,
          -1.999918830221982,
          -1.4429817394634803,
          1.2186716154519959,
          -0.933564385488572,
          1.176427043693705,
          -0.35626527453103896,
          -0.9201267710595663,
          -0.4825603472456605,
          1.0350105637639253,
          0.7141270743667533,
          -0.7047888603102321,
          0.07954844261010739,
          0.9240461197773582,
          -0.2012367204600226,
          -0.18735870172077787,
          0.8128846161700972,
          0.572471733076174,
          0.2172228806431597,
          0.23258075293244185,
          -0.15037989852296424,
          1.6489384008396495,
          -0.699170275452065,
          -1.1915880345536867,
          0.791442180982393,
          -1.5343965160519073,
          -0.2119291089800813,
          0.5147659474053279,
          0.13256180204923343,
          0.11804225234240634,
          0.4175537717201645,
          -0.4404582829401427,
          0.5628633036420924,
          -0.14853080183364786,
          0.528931020376802,
          0.7682140054890354,
          0.5882154073068712,
          -0.6371179810453058,
          0.00860135749083743,
          1.784532008732318,
          0.0630970787741614,
          1.0806131230471097,
          -0.3368057268799231,
          -0.11396344278775078,
          1.5040813118063128,
          -0.26955180544597684,
          -0.024390292942870706,
          -0.15560276318219723
         ],
         "xaxis": "x13",
         "y": [
          -1.862800313121775,
          -0.20951207295621146,
          -0.10579750915640158,
          0.7449726332937913,
          0.5898440586883348,
          0.6472702771138337,
          0.27665593785476267,
          -0.10807527509649502,
          0.5895237232323345,
          -1.519127167622268,
          -0.8736765979093821,
          0.9736412767543172,
          -0.25274749632481863,
          -0.7315817015396363,
          0.8631443417504908,
          -1.1953334383959195,
          1.5934450350726834,
          -0.8692873266241693,
          1.0408726111473396,
          -1.0533688023707521,
          -0.4708648587320578,
          0.24293109968645663,
          -0.13673579661128576,
          1.2814792492459324,
          -1.356235810952168,
          -0.9521423057124621,
          0.6551436873402294,
          1.38471077844707,
          -1.2900499938571501,
          0.6876138195736164,
          -0.22371717375733743,
          0.4729102128676308,
          0.006192920255018028,
          1.0352939760509012,
          -0.013019737566285078,
          1.9213142379551436,
          0.44293117144505634,
          -0.961115493975052,
          -1.3011893445642408,
          -1.2439247382623437,
          0.012651245757251676,
          -0.12723911525196055,
          -0.7563921780952818,
          0.872943299696692,
          -1.1111127361971371,
          0.3105822975167003,
          2.1513144207586787,
          0.24673956005352016,
          0.6604767199356464,
          -1.842687807901697,
          0.4875951054385542,
          0.1540716452559774,
          -1.1301377080208135,
          0.3778292347194436,
          0.06897506995523428,
          0.5649041461628904,
          -0.04524606045128736,
          1.3103889818019638,
          -1.626895965993376,
          -1.2008710881324998,
          -0.6668683045108091,
          -1.20552806684709,
          -1.44891755460223,
          -1.7712756478403473,
          -1.356763679162797,
          -0.7528382834218441,
          0.4422673121786261,
          0.6342408192083392,
          1.357267749649809,
          -0.5047200232765177,
          -0.40351879957344367,
          0.16304001463950282,
          -2.1196754751402564,
          1.6077651138771687,
          -0.34728517070820913,
          -1.1307993233098803,
          1.1377203515073007,
          -1.0280827244201818,
          -1.4062502685447293,
          -0.21251743156935993,
          0.7444561710324307,
          0.22129244784855204,
          3.1331155149570455,
          -0.31005889628964395,
          -0.31583659061997493,
          -0.5301123392684864,
          0.2864046387176444,
          0.38781067220254734,
          -0.6938768959110249,
          1.295523616880893,
          0.8465238581327255,
          0.24330559296550552,
          -0.17124434610468836,
          0.4067336628284449,
          1.8907279035031714,
          -0.14467832324424781,
          0.4098334885431353,
          -0.6724128056332155,
          -0.19146324190082106,
          -1.2895295405214975
         ],
         "yaxis": "y13"
        },
        {
         "line": {
          "color": "rgba(128, 128, 128, 1.0)",
          "dash": "solid",
          "shape": "linear",
          "width": 1.3
         },
         "marker": {
          "size": 2,
          "symbol": "circle"
         },
         "mode": "markers",
         "name": "D",
         "text": "",
         "type": "scatter",
         "x": [
          -2.2286752844455777,
          -1.1325804605985426,
          -0.057504853523821425,
          -0.4372807380334668,
          0.7196790346908422,
          -0.3049353605453905,
          -0.36769137325213835,
          -2.720548438240072,
          -0.9630851860163883,
          -0.2604981650092037,
          -0.8739159350872959,
          -2.597293836991736,
          1.9279633238913891,
          -1.4857793145128506,
          -1.398384437744287,
          0.9249812054111738,
          0.9904484780182563,
          0.5154826624657818,
          -2.118134319003685,
          -1.1737116775235958,
          0.6767585900341822,
          0.5461220282918061,
          -0.6990646057740326,
          -1.0110525490061775,
          -0.08120032622523697,
          0.2636505021163572,
          1.2323826718876643,
          -0.40486481243860833,
          1.4760723751566938,
          -0.8209077663785059,
          1.1402839958305764,
          2.0165937745268456,
          -1.186601957911982,
          -0.8314944292076336,
          -0.46207793920010803,
          0.11759878503277775,
          -0.46486529954252687,
          0.6029386347856334,
          -0.33018597428647706,
          -0.009613504426322677,
          0.9872410193142943,
          0.2440377627033009,
          0.18977165931531736,
          -0.6759265219314019,
          -0.705368350697958,
          2.625871847829621,
          1.6218716077031723,
          -2.799716407485826,
          -2.2039135318094103,
          0.303793009001111,
          -0.7237119546177894,
          1.806688841596908,
          -0.9334230739999114,
          0.2771158257256812,
          0.5484931304543167,
          -0.5310682268548499,
          0.26045181959778124,
          -1.1664989769384293,
          -0.5924313434244467,
          -0.903470166777184,
          0.1827433432749004,
          1.1951182534599574,
          0.9429850152610202,
          0.7718174963318698,
          -0.3932259789252067,
          -0.9876135657413847,
          0.06069370133947106,
          -0.3431001486732415,
          -1.4678282524891362,
          1.0620820253204266,
          -0.45220907136404775,
          0.3255127774116455,
          -0.5118683983115404,
          -1.4068154364000311,
          -0.6993079829811987,
          -1.8294456426161474,
          -0.19352574917505092,
          -0.5363175879157083,
          -0.4022870066216089,
          0.4843330327019152,
          -0.4028270480314041,
          -0.16088752894881542,
          -0.10235401898702981,
          0.269872266689026,
          -0.5211183369387445,
          1.4942821686889394,
          0.17909980069235,
          -0.6771140256279912,
          0.25538789387367294,
          -2.4142626729455747,
          2.278105352397342,
          0.9633934004854583,
          0.6369650835814333,
          1.3346267659621462,
          0.4847058208475034,
          1.493950984377913,
          0.608059480959266,
          -0.7449331063679395,
          -2.1561723967170456,
          -0.4618486399950229
         ],
         "xaxis": "x14",
         "y": [
          -1.862800313121775,
          -0.20951207295621146,
          -0.10579750915640158,
          0.7449726332937913,
          0.5898440586883348,
          0.6472702771138337,
          0.27665593785476267,
          -0.10807527509649502,
          0.5895237232323345,
          -1.519127167622268,
          -0.8736765979093821,
          0.9736412767543172,
          -0.25274749632481863,
          -0.7315817015396363,
          0.8631443417504908,
          -1.1953334383959195,
          1.5934450350726834,
          -0.8692873266241693,
          1.0408726111473396,
          -1.0533688023707521,
          -0.4708648587320578,
          0.24293109968645663,
          -0.13673579661128576,
          1.2814792492459324,
          -1.356235810952168,
          -0.9521423057124621,
          0.6551436873402294,
          1.38471077844707,
          -1.2900499938571501,
          0.6876138195736164,
          -0.22371717375733743,
          0.4729102128676308,
          0.006192920255018028,
          1.0352939760509012,
          -0.013019737566285078,
          1.9213142379551436,
          0.44293117144505634,
          -0.961115493975052,
          -1.3011893445642408,
          -1.2439247382623437,
          0.012651245757251676,
          -0.12723911525196055,
          -0.7563921780952818,
          0.872943299696692,
          -1.1111127361971371,
          0.3105822975167003,
          2.1513144207586787,
          0.24673956005352016,
          0.6604767199356464,
          -1.842687807901697,
          0.4875951054385542,
          0.1540716452559774,
          -1.1301377080208135,
          0.3778292347194436,
          0.06897506995523428,
          0.5649041461628904,
          -0.04524606045128736,
          1.3103889818019638,
          -1.626895965993376,
          -1.2008710881324998,
          -0.6668683045108091,
          -1.20552806684709,
          -1.44891755460223,
          -1.7712756478403473,
          -1.356763679162797,
          -0.7528382834218441,
          0.4422673121786261,
          0.6342408192083392,
          1.357267749649809,
          -0.5047200232765177,
          -0.40351879957344367,
          0.16304001463950282,
          -2.1196754751402564,
          1.6077651138771687,
          -0.34728517070820913,
          -1.1307993233098803,
          1.1377203515073007,
          -1.0280827244201818,
          -1.4062502685447293,
          -0.21251743156935993,
          0.7444561710324307,
          0.22129244784855204,
          3.1331155149570455,
          -0.31005889628964395,
          -0.31583659061997493,
          -0.5301123392684864,
          0.2864046387176444,
          0.38781067220254734,
          -0.6938768959110249,
          1.295523616880893,
          0.8465238581327255,
          0.24330559296550552,
          -0.17124434610468836,
          0.4067336628284449,
          1.8907279035031714,
          -0.14467832324424781,
          0.4098334885431353,
          -0.6724128056332155,
          -0.19146324190082106,
          -1.2895295405214975
         ],
         "yaxis": "y14"
        },
        {
         "line": {
          "color": "rgba(128, 128, 128, 1.0)",
          "dash": "solid",
          "shape": "linear",
          "width": 1.3
         },
         "marker": {
          "size": 2,
          "symbol": "circle"
         },
         "mode": "markers",
         "name": "D",
         "text": "",
         "type": "scatter",
         "x": [
          1.1786249712262633,
          -0.07355363389825188,
          0.10673728747429873,
          -1.6200138315172226,
          0.8038860544011691,
          -0.015018901180249197,
          -0.3200043063760125,
          0.8638148430107568,
          -0.40550870293413155,
          -0.16717671251139193,
          1.1439215034980508,
          0.22052096273934702,
          0.4915874851405039,
          1.6812926781938566,
          0.47876602038653554,
          -0.24906652606117347,
          -0.21229099101894697,
          0.226372270600233,
          -0.9503775922786668,
          1.2900635593411864,
          -0.8820240618433731,
          -0.27968741633449284,
          0.24749126784771305,
          -1.287147863111516,
          0.7207993439726794,
          0.8938331823312693,
          1.4375109478706862,
          1.2597826980176479,
          -1.7120237647553644,
          0.37163223873664053,
          -1.2293958041730793,
          0.16292848771751778,
          0.8953762585328742,
          -1.4365689696166017,
          -0.36718869829790096,
          -1.3516910552047443,
          0.7959650362780134,
          0.7446694886773091,
          -0.2838626221563418,
          0.41612897511243335,
          -0.660842228744442,
          -0.4583123541427391,
          0.8487338077687653,
          -0.6382076088735156,
          0.08648383132017577,
          -0.637677379928665,
          -0.5278572479445359,
          1.009173896164119,
          0.5009363886426216,
          -1.3580948611896575,
          1.2790048126493363,
          -1.3879343410627092,
          -0.01682907297008556,
          -0.6703000670131273,
          1.5374604806156202,
          -0.697161123841636,
          0.579140592993929,
          -1.3889975589760564,
          -0.2004285434907031,
          -1.0645188810447828,
          -1.2877771144314145,
          0.18196921915152736,
          0.355098135424266,
          0.967696230234717,
          0.4772338366955171,
          -1.510038625563963,
          -0.40146425015958737,
          0.8109168957741011,
          -1.2923245702731976,
          -1.5029614204270842,
          0.15762278217901138,
          1.5785914396830187,
          0.9258395770780882,
          -1.591804263376754,
          0.5844587173755277,
          0.9635480254140826,
          -0.33441708293974676,
          -1.3541690061832685,
          -0.894986027496033,
          0.8827156615564142,
          -0.189538521823769,
          0.6639668580923442,
          -0.8652399949240969,
          1.664279980830366,
          -1.2399032495021538,
          -2.2286583945060006,
          -0.7250899567942046,
          1.3316815793740926,
          -0.5352576409055199,
          -1.1004892907668025,
          0.22604356508286133,
          -0.5122613760476022,
          -1.032495668544159,
          0.18153045439112858,
          0.3794284799037391,
          -0.09604121980705199,
          0.11572410927921793,
          0.7061700491228695,
          -0.6429452372045623,
          1.5789472867919554
         ],
         "xaxis": "x15",
         "y": [
          -1.862800313121775,
          -0.20951207295621146,
          -0.10579750915640158,
          0.7449726332937913,
          0.5898440586883348,
          0.6472702771138337,
          0.27665593785476267,
          -0.10807527509649502,
          0.5895237232323345,
          -1.519127167622268,
          -0.8736765979093821,
          0.9736412767543172,
          -0.25274749632481863,
          -0.7315817015396363,
          0.8631443417504908,
          -1.1953334383959195,
          1.5934450350726834,
          -0.8692873266241693,
          1.0408726111473396,
          -1.0533688023707521,
          -0.4708648587320578,
          0.24293109968645663,
          -0.13673579661128576,
          1.2814792492459324,
          -1.356235810952168,
          -0.9521423057124621,
          0.6551436873402294,
          1.38471077844707,
          -1.2900499938571501,
          0.6876138195736164,
          -0.22371717375733743,
          0.4729102128676308,
          0.006192920255018028,
          1.0352939760509012,
          -0.013019737566285078,
          1.9213142379551436,
          0.44293117144505634,
          -0.961115493975052,
          -1.3011893445642408,
          -1.2439247382623437,
          0.012651245757251676,
          -0.12723911525196055,
          -0.7563921780952818,
          0.872943299696692,
          -1.1111127361971371,
          0.3105822975167003,
          2.1513144207586787,
          0.24673956005352016,
          0.6604767199356464,
          -1.842687807901697,
          0.4875951054385542,
          0.1540716452559774,
          -1.1301377080208135,
          0.3778292347194436,
          0.06897506995523428,
          0.5649041461628904,
          -0.04524606045128736,
          1.3103889818019638,
          -1.626895965993376,
          -1.2008710881324998,
          -0.6668683045108091,
          -1.20552806684709,
          -1.44891755460223,
          -1.7712756478403473,
          -1.356763679162797,
          -0.7528382834218441,
          0.4422673121786261,
          0.6342408192083392,
          1.357267749649809,
          -0.5047200232765177,
          -0.40351879957344367,
          0.16304001463950282,
          -2.1196754751402564,
          1.6077651138771687,
          -0.34728517070820913,
          -1.1307993233098803,
          1.1377203515073007,
          -1.0280827244201818,
          -1.4062502685447293,
          -0.21251743156935993,
          0.7444561710324307,
          0.22129244784855204,
          3.1331155149570455,
          -0.31005889628964395,
          -0.31583659061997493,
          -0.5301123392684864,
          0.2864046387176444,
          0.38781067220254734,
          -0.6938768959110249,
          1.295523616880893,
          0.8465238581327255,
          0.24330559296550552,
          -0.17124434610468836,
          0.4067336628284449,
          1.8907279035031714,
          -0.14467832324424781,
          0.4098334885431353,
          -0.6724128056332155,
          -0.19146324190082106,
          -1.2895295405214975
         ],
         "yaxis": "y15"
        },
        {
         "histfunc": "count",
         "histnorm": "",
         "marker": {
          "color": "rgba(128, 0, 128, 1.0)",
          "line": {
           "color": "#4D5663",
           "width": 1.3
          }
         },
         "name": "D",
         "nbinsx": 10,
         "opacity": 0.8,
         "orientation": "v",
         "type": "histogram",
         "x": [
          -1.862800313121775,
          -0.20951207295621146,
          -0.10579750915640158,
          0.7449726332937913,
          0.5898440586883348,
          0.6472702771138337,
          0.27665593785476267,
          -0.10807527509649502,
          0.5895237232323345,
          -1.519127167622268,
          -0.8736765979093821,
          0.9736412767543172,
          -0.25274749632481863,
          -0.7315817015396363,
          0.8631443417504908,
          -1.1953334383959195,
          1.5934450350726834,
          -0.8692873266241693,
          1.0408726111473396,
          -1.0533688023707521,
          -0.4708648587320578,
          0.24293109968645663,
          -0.13673579661128576,
          1.2814792492459324,
          -1.356235810952168,
          -0.9521423057124621,
          0.6551436873402294,
          1.38471077844707,
          -1.2900499938571501,
          0.6876138195736164,
          -0.22371717375733743,
          0.4729102128676308,
          0.006192920255018028,
          1.0352939760509012,
          -0.013019737566285078,
          1.9213142379551436,
          0.44293117144505634,
          -0.961115493975052,
          -1.3011893445642408,
          -1.2439247382623437,
          0.012651245757251676,
          -0.12723911525196055,
          -0.7563921780952818,
          0.872943299696692,
          -1.1111127361971371,
          0.3105822975167003,
          2.1513144207586787,
          0.24673956005352016,
          0.6604767199356464,
          -1.842687807901697,
          0.4875951054385542,
          0.1540716452559774,
          -1.1301377080208135,
          0.3778292347194436,
          0.06897506995523428,
          0.5649041461628904,
          -0.04524606045128736,
          1.3103889818019638,
          -1.626895965993376,
          -1.2008710881324998,
          -0.6668683045108091,
          -1.20552806684709,
          -1.44891755460223,
          -1.7712756478403473,
          -1.356763679162797,
          -0.7528382834218441,
          0.4422673121786261,
          0.6342408192083392,
          1.357267749649809,
          -0.5047200232765177,
          -0.40351879957344367,
          0.16304001463950282,
          -2.1196754751402564,
          1.6077651138771687,
          -0.34728517070820913,
          -1.1307993233098803,
          1.1377203515073007,
          -1.0280827244201818,
          -1.4062502685447293,
          -0.21251743156935993,
          0.7444561710324307,
          0.22129244784855204,
          3.1331155149570455,
          -0.31005889628964395,
          -0.31583659061997493,
          -0.5301123392684864,
          0.2864046387176444,
          0.38781067220254734,
          -0.6938768959110249,
          1.295523616880893,
          0.8465238581327255,
          0.24330559296550552,
          -0.17124434610468836,
          0.4067336628284449,
          1.8907279035031714,
          -0.14467832324424781,
          0.4098334885431353,
          -0.6724128056332155,
          -0.19146324190082106,
          -1.2895295405214975
         ],
         "xaxis": "x16",
         "yaxis": "y16"
        }
       ],
       "layout": {
        "bargap": 0.02,
        "legend": {
         "bgcolor": "#F5F6F9",
         "font": {
          "color": "#4D5663"
         }
        },
        "paper_bgcolor": "#F5F6F9",
        "plot_bgcolor": "#F5F6F9",
        "showlegend": false,
        "template": {
         "data": {
          "bar": [
           {
            "error_x": {
             "color": "#2a3f5f"
            },
            "error_y": {
             "color": "#2a3f5f"
            },
            "marker": {
             "line": {
              "color": "#E5ECF6",
              "width": 0.5
             }
            },
            "type": "bar"
           }
          ],
          "barpolar": [
           {
            "marker": {
             "line": {
              "color": "#E5ECF6",
              "width": 0.5
             }
            },
            "type": "barpolar"
           }
          ],
          "carpet": [
           {
            "aaxis": {
             "endlinecolor": "#2a3f5f",
             "gridcolor": "white",
             "linecolor": "white",
             "minorgridcolor": "white",
             "startlinecolor": "#2a3f5f"
            },
            "baxis": {
             "endlinecolor": "#2a3f5f",
             "gridcolor": "white",
             "linecolor": "white",
             "minorgridcolor": "white",
             "startlinecolor": "#2a3f5f"
            },
            "type": "carpet"
           }
          ],
          "choropleth": [
           {
            "colorbar": {
             "outlinewidth": 0,
             "ticks": ""
            },
            "type": "choropleth"
           }
          ],
          "contour": [
           {
            "colorbar": {
             "outlinewidth": 0,
             "ticks": ""
            },
            "colorscale": [
             [
              0,
              "#0d0887"
             ],
             [
              0.1111111111111111,
              "#46039f"
             ],
             [
              0.2222222222222222,
              "#7201a8"
             ],
             [
              0.3333333333333333,
              "#9c179e"
             ],
             [
              0.4444444444444444,
              "#bd3786"
             ],
             [
              0.5555555555555556,
              "#d8576b"
             ],
             [
              0.6666666666666666,
              "#ed7953"
             ],
             [
              0.7777777777777778,
              "#fb9f3a"
             ],
             [
              0.8888888888888888,
              "#fdca26"
             ],
             [
              1,
              "#f0f921"
             ]
            ],
            "type": "contour"
           }
          ],
          "contourcarpet": [
           {
            "colorbar": {
             "outlinewidth": 0,
             "ticks": ""
            },
            "type": "contourcarpet"
           }
          ],
          "heatmap": [
           {
            "colorbar": {
             "outlinewidth": 0,
             "ticks": ""
            },
            "colorscale": [
             [
              0,
              "#0d0887"
             ],
             [
              0.1111111111111111,
              "#46039f"
             ],
             [
              0.2222222222222222,
              "#7201a8"
             ],
             [
              0.3333333333333333,
              "#9c179e"
             ],
             [
              0.4444444444444444,
              "#bd3786"
             ],
             [
              0.5555555555555556,
              "#d8576b"
             ],
             [
              0.6666666666666666,
              "#ed7953"
             ],
             [
              0.7777777777777778,
              "#fb9f3a"
             ],
             [
              0.8888888888888888,
              "#fdca26"
             ],
             [
              1,
              "#f0f921"
             ]
            ],
            "type": "heatmap"
           }
          ],
          "heatmapgl": [
           {
            "colorbar": {
             "outlinewidth": 0,
             "ticks": ""
            },
            "colorscale": [
             [
              0,
              "#0d0887"
             ],
             [
              0.1111111111111111,
              "#46039f"
             ],
             [
              0.2222222222222222,
              "#7201a8"
             ],
             [
              0.3333333333333333,
              "#9c179e"
             ],
             [
              0.4444444444444444,
              "#bd3786"
             ],
             [
              0.5555555555555556,
              "#d8576b"
             ],
             [
              0.6666666666666666,
              "#ed7953"
             ],
             [
              0.7777777777777778,
              "#fb9f3a"
             ],
             [
              0.8888888888888888,
              "#fdca26"
             ],
             [
              1,
              "#f0f921"
             ]
            ],
            "type": "heatmapgl"
           }
          ],
          "histogram": [
           {
            "marker": {
             "colorbar": {
              "outlinewidth": 0,
              "ticks": ""
             }
            },
            "type": "histogram"
           }
          ],
          "histogram2d": [
           {
            "colorbar": {
             "outlinewidth": 0,
             "ticks": ""
            },
            "colorscale": [
             [
              0,
              "#0d0887"
             ],
             [
              0.1111111111111111,
              "#46039f"
             ],
             [
              0.2222222222222222,
              "#7201a8"
             ],
             [
              0.3333333333333333,
              "#9c179e"
             ],
             [
              0.4444444444444444,
              "#bd3786"
             ],
             [
              0.5555555555555556,
              "#d8576b"
             ],
             [
              0.6666666666666666,
              "#ed7953"
             ],
             [
              0.7777777777777778,
              "#fb9f3a"
             ],
             [
              0.8888888888888888,
              "#fdca26"
             ],
             [
              1,
              "#f0f921"
             ]
            ],
            "type": "histogram2d"
           }
          ],
          "histogram2dcontour": [
           {
            "colorbar": {
             "outlinewidth": 0,
             "ticks": ""
            },
            "colorscale": [
             [
              0,
              "#0d0887"
             ],
             [
              0.1111111111111111,
              "#46039f"
             ],
             [
              0.2222222222222222,
              "#7201a8"
             ],
             [
              0.3333333333333333,
              "#9c179e"
             ],
             [
              0.4444444444444444,
              "#bd3786"
             ],
             [
              0.5555555555555556,
              "#d8576b"
             ],
             [
              0.6666666666666666,
              "#ed7953"
             ],
             [
              0.7777777777777778,
              "#fb9f3a"
             ],
             [
              0.8888888888888888,
              "#fdca26"
             ],
             [
              1,
              "#f0f921"
             ]
            ],
            "type": "histogram2dcontour"
           }
          ],
          "mesh3d": [
           {
            "colorbar": {
             "outlinewidth": 0,
             "ticks": ""
            },
            "type": "mesh3d"
           }
          ],
          "parcoords": [
           {
            "line": {
             "colorbar": {
              "outlinewidth": 0,
              "ticks": ""
             }
            },
            "type": "parcoords"
           }
          ],
          "pie": [
           {
            "automargin": true,
            "type": "pie"
           }
          ],
          "scatter": [
           {
            "marker": {
             "colorbar": {
              "outlinewidth": 0,
              "ticks": ""
             }
            },
            "type": "scatter"
           }
          ],
          "scatter3d": [
           {
            "line": {
             "colorbar": {
              "outlinewidth": 0,
              "ticks": ""
             }
            },
            "marker": {
             "colorbar": {
              "outlinewidth": 0,
              "ticks": ""
             }
            },
            "type": "scatter3d"
           }
          ],
          "scattercarpet": [
           {
            "marker": {
             "colorbar": {
              "outlinewidth": 0,
              "ticks": ""
             }
            },
            "type": "scattercarpet"
           }
          ],
          "scattergeo": [
           {
            "marker": {
             "colorbar": {
              "outlinewidth": 0,
              "ticks": ""
             }
            },
            "type": "scattergeo"
           }
          ],
          "scattergl": [
           {
            "marker": {
             "colorbar": {
              "outlinewidth": 0,
              "ticks": ""
             }
            },
            "type": "scattergl"
           }
          ],
          "scattermapbox": [
           {
            "marker": {
             "colorbar": {
              "outlinewidth": 0,
              "ticks": ""
             }
            },
            "type": "scattermapbox"
           }
          ],
          "scatterpolar": [
           {
            "marker": {
             "colorbar": {
              "outlinewidth": 0,
              "ticks": ""
             }
            },
            "type": "scatterpolar"
           }
          ],
          "scatterpolargl": [
           {
            "marker": {
             "colorbar": {
              "outlinewidth": 0,
              "ticks": ""
             }
            },
            "type": "scatterpolargl"
           }
          ],
          "scatterternary": [
           {
            "marker": {
             "colorbar": {
              "outlinewidth": 0,
              "ticks": ""
             }
            },
            "type": "scatterternary"
           }
          ],
          "surface": [
           {
            "colorbar": {
             "outlinewidth": 0,
             "ticks": ""
            },
            "colorscale": [
             [
              0,
              "#0d0887"
             ],
             [
              0.1111111111111111,
              "#46039f"
             ],
             [
              0.2222222222222222,
              "#7201a8"
             ],
             [
              0.3333333333333333,
              "#9c179e"
             ],
             [
              0.4444444444444444,
              "#bd3786"
             ],
             [
              0.5555555555555556,
              "#d8576b"
             ],
             [
              0.6666666666666666,
              "#ed7953"
             ],
             [
              0.7777777777777778,
              "#fb9f3a"
             ],
             [
              0.8888888888888888,
              "#fdca26"
             ],
             [
              1,
              "#f0f921"
             ]
            ],
            "type": "surface"
           }
          ],
          "table": [
           {
            "cells": {
             "fill": {
              "color": "#EBF0F8"
             },
             "line": {
              "color": "white"
             }
            },
            "header": {
             "fill": {
              "color": "#C8D4E3"
             },
             "line": {
              "color": "white"
             }
            },
            "type": "table"
           }
          ]
         },
         "layout": {
          "annotationdefaults": {
           "arrowcolor": "#2a3f5f",
           "arrowhead": 0,
           "arrowwidth": 1
          },
          "coloraxis": {
           "colorbar": {
            "outlinewidth": 0,
            "ticks": ""
           }
          },
          "colorscale": {
           "diverging": [
            [
             0,
             "#8e0152"
            ],
            [
             0.1,
             "#c51b7d"
            ],
            [
             0.2,
             "#de77ae"
            ],
            [
             0.3,
             "#f1b6da"
            ],
            [
             0.4,
             "#fde0ef"
            ],
            [
             0.5,
             "#f7f7f7"
            ],
            [
             0.6,
             "#e6f5d0"
            ],
            [
             0.7,
             "#b8e186"
            ],
            [
             0.8,
             "#7fbc41"
            ],
            [
             0.9,
             "#4d9221"
            ],
            [
             1,
             "#276419"
            ]
           ],
           "sequential": [
            [
             0,
             "#0d0887"
            ],
            [
             0.1111111111111111,
             "#46039f"
            ],
            [
             0.2222222222222222,
             "#7201a8"
            ],
            [
             0.3333333333333333,
             "#9c179e"
            ],
            [
             0.4444444444444444,
             "#bd3786"
            ],
            [
             0.5555555555555556,
             "#d8576b"
            ],
            [
             0.6666666666666666,
             "#ed7953"
            ],
            [
             0.7777777777777778,
             "#fb9f3a"
            ],
            [
             0.8888888888888888,
             "#fdca26"
            ],
            [
             1,
             "#f0f921"
            ]
           ],
           "sequentialminus": [
            [
             0,
             "#0d0887"
            ],
            [
             0.1111111111111111,
             "#46039f"
            ],
            [
             0.2222222222222222,
             "#7201a8"
            ],
            [
             0.3333333333333333,
             "#9c179e"
            ],
            [
             0.4444444444444444,
             "#bd3786"
            ],
            [
             0.5555555555555556,
             "#d8576b"
            ],
            [
             0.6666666666666666,
             "#ed7953"
            ],
            [
             0.7777777777777778,
             "#fb9f3a"
            ],
            [
             0.8888888888888888,
             "#fdca26"
            ],
            [
             1,
             "#f0f921"
            ]
           ]
          },
          "colorway": [
           "#636efa",
           "#EF553B",
           "#00cc96",
           "#ab63fa",
           "#FFA15A",
           "#19d3f3",
           "#FF6692",
           "#B6E880",
           "#FF97FF",
           "#FECB52"
          ],
          "font": {
           "color": "#2a3f5f"
          },
          "geo": {
           "bgcolor": "white",
           "lakecolor": "white",
           "landcolor": "#E5ECF6",
           "showlakes": true,
           "showland": true,
           "subunitcolor": "white"
          },
          "hoverlabel": {
           "align": "left"
          },
          "hovermode": "closest",
          "mapbox": {
           "style": "light"
          },
          "paper_bgcolor": "white",
          "plot_bgcolor": "#E5ECF6",
          "polar": {
           "angularaxis": {
            "gridcolor": "white",
            "linecolor": "white",
            "ticks": ""
           },
           "bgcolor": "#E5ECF6",
           "radialaxis": {
            "gridcolor": "white",
            "linecolor": "white",
            "ticks": ""
           }
          },
          "scene": {
           "xaxis": {
            "backgroundcolor": "#E5ECF6",
            "gridcolor": "white",
            "gridwidth": 2,
            "linecolor": "white",
            "showbackground": true,
            "ticks": "",
            "zerolinecolor": "white"
           },
           "yaxis": {
            "backgroundcolor": "#E5ECF6",
            "gridcolor": "white",
            "gridwidth": 2,
            "linecolor": "white",
            "showbackground": true,
            "ticks": "",
            "zerolinecolor": "white"
           },
           "zaxis": {
            "backgroundcolor": "#E5ECF6",
            "gridcolor": "white",
            "gridwidth": 2,
            "linecolor": "white",
            "showbackground": true,
            "ticks": "",
            "zerolinecolor": "white"
           }
          },
          "shapedefaults": {
           "line": {
            "color": "#2a3f5f"
           }
          },
          "ternary": {
           "aaxis": {
            "gridcolor": "white",
            "linecolor": "white",
            "ticks": ""
           },
           "baxis": {
            "gridcolor": "white",
            "linecolor": "white",
            "ticks": ""
           },
           "bgcolor": "#E5ECF6",
           "caxis": {
            "gridcolor": "white",
            "linecolor": "white",
            "ticks": ""
           }
          },
          "title": {
           "x": 0.05
          },
          "xaxis": {
           "automargin": true,
           "gridcolor": "white",
           "linecolor": "white",
           "ticks": "",
           "title": {
            "standoff": 15
           },
           "zerolinecolor": "white",
           "zerolinewidth": 2
          },
          "yaxis": {
           "automargin": true,
           "gridcolor": "white",
           "linecolor": "white",
           "ticks": "",
           "title": {
            "standoff": 15
           },
           "zerolinecolor": "white",
           "zerolinewidth": 2
          }
         }
        },
        "title": {
         "font": {
          "color": "#4D5663"
         }
        },
        "xaxis": {
         "anchor": "y",
         "domain": [
          0,
          0.2125
         ],
         "gridcolor": "#E1E5ED",
         "showgrid": false,
         "tickfont": {
          "color": "#4D5663"
         },
         "title": {
          "font": {
           "color": "#4D5663"
          },
          "text": ""
         },
         "zerolinecolor": "#E1E5ED"
        },
        "xaxis10": {
         "anchor": "y10",
         "domain": [
          0.2625,
          0.475
         ],
         "gridcolor": "#E1E5ED",
         "showgrid": false,
         "tickfont": {
          "color": "#4D5663"
         },
         "title": {
          "font": {
           "color": "#4D5663"
          },
          "text": ""
         },
         "zerolinecolor": "#E1E5ED"
        },
        "xaxis11": {
         "anchor": "y11",
         "domain": [
          0.525,
          0.7375
         ],
         "gridcolor": "#E1E5ED",
         "showgrid": false,
         "tickfont": {
          "color": "#4D5663"
         },
         "title": {
          "font": {
           "color": "#4D5663"
          },
          "text": ""
         },
         "zerolinecolor": "#E1E5ED"
        },
        "xaxis12": {
         "anchor": "y12",
         "domain": [
          0.7875,
          1
         ],
         "gridcolor": "#E1E5ED",
         "showgrid": false,
         "tickfont": {
          "color": "#4D5663"
         },
         "title": {
          "font": {
           "color": "#4D5663"
          },
          "text": ""
         },
         "zerolinecolor": "#E1E5ED"
        },
        "xaxis13": {
         "anchor": "y13",
         "domain": [
          0,
          0.2125
         ],
         "gridcolor": "#E1E5ED",
         "showgrid": false,
         "tickfont": {
          "color": "#4D5663"
         },
         "title": {
          "font": {
           "color": "#4D5663"
          },
          "text": ""
         },
         "zerolinecolor": "#E1E5ED"
        },
        "xaxis14": {
         "anchor": "y14",
         "domain": [
          0.2625,
          0.475
         ],
         "gridcolor": "#E1E5ED",
         "showgrid": false,
         "tickfont": {
          "color": "#4D5663"
         },
         "title": {
          "font": {
           "color": "#4D5663"
          },
          "text": ""
         },
         "zerolinecolor": "#E1E5ED"
        },
        "xaxis15": {
         "anchor": "y15",
         "domain": [
          0.525,
          0.7375
         ],
         "gridcolor": "#E1E5ED",
         "showgrid": false,
         "tickfont": {
          "color": "#4D5663"
         },
         "title": {
          "font": {
           "color": "#4D5663"
          },
          "text": ""
         },
         "zerolinecolor": "#E1E5ED"
        },
        "xaxis16": {
         "anchor": "y16",
         "domain": [
          0.7875,
          1
         ],
         "gridcolor": "#E1E5ED",
         "showgrid": false,
         "tickfont": {
          "color": "#4D5663"
         },
         "title": {
          "font": {
           "color": "#4D5663"
          },
          "text": ""
         },
         "zerolinecolor": "#E1E5ED"
        },
        "xaxis2": {
         "anchor": "y2",
         "domain": [
          0.2625,
          0.475
         ],
         "gridcolor": "#E1E5ED",
         "showgrid": false,
         "tickfont": {
          "color": "#4D5663"
         },
         "title": {
          "font": {
           "color": "#4D5663"
          },
          "text": ""
         },
         "zerolinecolor": "#E1E5ED"
        },
        "xaxis3": {
         "anchor": "y3",
         "domain": [
          0.525,
          0.7375
         ],
         "gridcolor": "#E1E5ED",
         "showgrid": false,
         "tickfont": {
          "color": "#4D5663"
         },
         "title": {
          "font": {
           "color": "#4D5663"
          },
          "text": ""
         },
         "zerolinecolor": "#E1E5ED"
        },
        "xaxis4": {
         "anchor": "y4",
         "domain": [
          0.7875,
          1
         ],
         "gridcolor": "#E1E5ED",
         "showgrid": false,
         "tickfont": {
          "color": "#4D5663"
         },
         "title": {
          "font": {
           "color": "#4D5663"
          },
          "text": ""
         },
         "zerolinecolor": "#E1E5ED"
        },
        "xaxis5": {
         "anchor": "y5",
         "domain": [
          0,
          0.2125
         ],
         "gridcolor": "#E1E5ED",
         "showgrid": false,
         "tickfont": {
          "color": "#4D5663"
         },
         "title": {
          "font": {
           "color": "#4D5663"
          },
          "text": ""
         },
         "zerolinecolor": "#E1E5ED"
        },
        "xaxis6": {
         "anchor": "y6",
         "domain": [
          0.2625,
          0.475
         ],
         "gridcolor": "#E1E5ED",
         "showgrid": false,
         "tickfont": {
          "color": "#4D5663"
         },
         "title": {
          "font": {
           "color": "#4D5663"
          },
          "text": ""
         },
         "zerolinecolor": "#E1E5ED"
        },
        "xaxis7": {
         "anchor": "y7",
         "domain": [
          0.525,
          0.7375
         ],
         "gridcolor": "#E1E5ED",
         "showgrid": false,
         "tickfont": {
          "color": "#4D5663"
         },
         "title": {
          "font": {
           "color": "#4D5663"
          },
          "text": ""
         },
         "zerolinecolor": "#E1E5ED"
        },
        "xaxis8": {
         "anchor": "y8",
         "domain": [
          0.7875,
          1
         ],
         "gridcolor": "#E1E5ED",
         "showgrid": false,
         "tickfont": {
          "color": "#4D5663"
         },
         "title": {
          "font": {
           "color": "#4D5663"
          },
          "text": ""
         },
         "zerolinecolor": "#E1E5ED"
        },
        "xaxis9": {
         "anchor": "y9",
         "domain": [
          0,
          0.2125
         ],
         "gridcolor": "#E1E5ED",
         "showgrid": false,
         "tickfont": {
          "color": "#4D5663"
         },
         "title": {
          "font": {
           "color": "#4D5663"
          },
          "text": ""
         },
         "zerolinecolor": "#E1E5ED"
        },
        "yaxis": {
         "anchor": "x",
         "domain": [
          0.8025,
          1
         ],
         "gridcolor": "#E1E5ED",
         "showgrid": false,
         "tickfont": {
          "color": "#4D5663"
         },
         "title": {
          "font": {
           "color": "#4D5663"
          },
          "text": ""
         },
         "zerolinecolor": "#E1E5ED"
        },
        "yaxis10": {
         "anchor": "x10",
         "domain": [
          0.2675,
          0.465
         ],
         "gridcolor": "#E1E5ED",
         "showgrid": false,
         "tickfont": {
          "color": "#4D5663"
         },
         "title": {
          "font": {
           "color": "#4D5663"
          },
          "text": ""
         },
         "zerolinecolor": "#E1E5ED"
        },
        "yaxis11": {
         "anchor": "x11",
         "domain": [
          0.2675,
          0.465
         ],
         "gridcolor": "#E1E5ED",
         "showgrid": false,
         "tickfont": {
          "color": "#4D5663"
         },
         "title": {
          "font": {
           "color": "#4D5663"
          },
          "text": ""
         },
         "zerolinecolor": "#E1E5ED"
        },
        "yaxis12": {
         "anchor": "x12",
         "domain": [
          0.2675,
          0.465
         ],
         "gridcolor": "#E1E5ED",
         "showgrid": false,
         "tickfont": {
          "color": "#4D5663"
         },
         "title": {
          "font": {
           "color": "#4D5663"
          },
          "text": ""
         },
         "zerolinecolor": "#E1E5ED"
        },
        "yaxis13": {
         "anchor": "x13",
         "domain": [
          0,
          0.1975
         ],
         "gridcolor": "#E1E5ED",
         "showgrid": false,
         "tickfont": {
          "color": "#4D5663"
         },
         "title": {
          "font": {
           "color": "#4D5663"
          },
          "text": ""
         },
         "zerolinecolor": "#E1E5ED"
        },
        "yaxis14": {
         "anchor": "x14",
         "domain": [
          0,
          0.1975
         ],
         "gridcolor": "#E1E5ED",
         "showgrid": false,
         "tickfont": {
          "color": "#4D5663"
         },
         "title": {
          "font": {
           "color": "#4D5663"
          },
          "text": ""
         },
         "zerolinecolor": "#E1E5ED"
        },
        "yaxis15": {
         "anchor": "x15",
         "domain": [
          0,
          0.1975
         ],
         "gridcolor": "#E1E5ED",
         "showgrid": false,
         "tickfont": {
          "color": "#4D5663"
         },
         "title": {
          "font": {
           "color": "#4D5663"
          },
          "text": ""
         },
         "zerolinecolor": "#E1E5ED"
        },
        "yaxis16": {
         "anchor": "x16",
         "domain": [
          0,
          0.1975
         ],
         "gridcolor": "#E1E5ED",
         "showgrid": false,
         "tickfont": {
          "color": "#4D5663"
         },
         "title": {
          "font": {
           "color": "#4D5663"
          },
          "text": ""
         },
         "zerolinecolor": "#E1E5ED"
        },
        "yaxis2": {
         "anchor": "x2",
         "domain": [
          0.8025,
          1
         ],
         "gridcolor": "#E1E5ED",
         "showgrid": false,
         "tickfont": {
          "color": "#4D5663"
         },
         "title": {
          "font": {
           "color": "#4D5663"
          },
          "text": ""
         },
         "zerolinecolor": "#E1E5ED"
        },
        "yaxis3": {
         "anchor": "x3",
         "domain": [
          0.8025,
          1
         ],
         "gridcolor": "#E1E5ED",
         "showgrid": false,
         "tickfont": {
          "color": "#4D5663"
         },
         "title": {
          "font": {
           "color": "#4D5663"
          },
          "text": ""
         },
         "zerolinecolor": "#E1E5ED"
        },
        "yaxis4": {
         "anchor": "x4",
         "domain": [
          0.8025,
          1
         ],
         "gridcolor": "#E1E5ED",
         "showgrid": false,
         "tickfont": {
          "color": "#4D5663"
         },
         "title": {
          "font": {
           "color": "#4D5663"
          },
          "text": ""
         },
         "zerolinecolor": "#E1E5ED"
        },
        "yaxis5": {
         "anchor": "x5",
         "domain": [
          0.535,
          0.7325
         ],
         "gridcolor": "#E1E5ED",
         "showgrid": false,
         "tickfont": {
          "color": "#4D5663"
         },
         "title": {
          "font": {
           "color": "#4D5663"
          },
          "text": ""
         },
         "zerolinecolor": "#E1E5ED"
        },
        "yaxis6": {
         "anchor": "x6",
         "domain": [
          0.535,
          0.7325
         ],
         "gridcolor": "#E1E5ED",
         "showgrid": false,
         "tickfont": {
          "color": "#4D5663"
         },
         "title": {
          "font": {
           "color": "#4D5663"
          },
          "text": ""
         },
         "zerolinecolor": "#E1E5ED"
        },
        "yaxis7": {
         "anchor": "x7",
         "domain": [
          0.535,
          0.7325
         ],
         "gridcolor": "#E1E5ED",
         "showgrid": false,
         "tickfont": {
          "color": "#4D5663"
         },
         "title": {
          "font": {
           "color": "#4D5663"
          },
          "text": ""
         },
         "zerolinecolor": "#E1E5ED"
        },
        "yaxis8": {
         "anchor": "x8",
         "domain": [
          0.535,
          0.7325
         ],
         "gridcolor": "#E1E5ED",
         "showgrid": false,
         "tickfont": {
          "color": "#4D5663"
         },
         "title": {
          "font": {
           "color": "#4D5663"
          },
          "text": ""
         },
         "zerolinecolor": "#E1E5ED"
        },
        "yaxis9": {
         "anchor": "x9",
         "domain": [
          0.2675,
          0.465
         ],
         "gridcolor": "#E1E5ED",
         "showgrid": false,
         "tickfont": {
          "color": "#4D5663"
         },
         "title": {
          "font": {
           "color": "#4D5663"
          },
          "text": ""
         },
         "zerolinecolor": "#E1E5ED"
        }
       }
      },
      "text/html": [
       "<div>\n",
       "        \n",
       "        \n",
       "            <div id=\"2f8709fb-4734-4ecf-9313-ef12a33ebb7d\" class=\"plotly-graph-div\" style=\"height:525px; width:100%;\"></div>\n",
       "            <script type=\"text/javascript\">\n",
       "                require([\"plotly\"], function(Plotly) {\n",
       "                    window.PLOTLYENV=window.PLOTLYENV || {};\n",
       "                    window.PLOTLYENV.BASE_URL='https://plot.ly';\n",
       "                    \n",
       "                if (document.getElementById(\"2f8709fb-4734-4ecf-9313-ef12a33ebb7d\")) {\n",
       "                    Plotly.newPlot(\n",
       "                        '2f8709fb-4734-4ecf-9313-ef12a33ebb7d',\n",
       "                        [{\"histfunc\": \"count\", \"histnorm\": \"\", \"marker\": {\"color\": \"rgba(255, 153, 51, 1.0)\", \"line\": {\"color\": \"#4D5663\", \"width\": 1.3}}, \"name\": \"A\", \"nbinsx\": 10, \"opacity\": 0.8, \"orientation\": \"v\", \"type\": \"histogram\", \"x\": [-0.4297685383384342, 0.8992028500370997, -0.0529219344920944, -0.6575111293098215, 0.22208299129571782, 0.3794842146923049, -0.776042193527561, 0.20252386974764924, 0.5283888563058603, 0.42238405971072795, -0.06013466358030851, -0.00026800090693260357, -0.14388939098347012, 0.9344699379561042, 0.6783815719865144, 0.44503506029485257, -1.7459121312891714, -1.0030300108933405, 1.9884150558651161, -0.47184365204117884, -0.2595777957034208, 0.7400974312262351, 0.099309479647986, -0.6182408568594779, -0.09737112629162749, 1.0014953872001506, 0.2871753396523556, 1.5244479144569265, -0.23697854575363472, 0.020463560762592693, -1.1753745296203637, 0.43368223787654575, 2.24053767970503, -0.6384984081451017, -0.15584868195776844, -1.129993502850424, 1.486435661947022, 1.253760698328164, -0.13143816377831435, -1.6959507280045962, -0.5909461283664224, -0.9669632612257547, 0.1002289545273029, 0.06832115631372923, -0.23128484890668444, 0.5004811414606912, 0.4204561565082809, -1.05748043745096, 0.06683095599233774, 0.2980261452352181, -1.5226706426959702, 0.029547750310692927, 2.7094752196223126, -1.999918830221982, -1.4429817394634803, 1.2186716154519959, -0.933564385488572, 1.176427043693705, -0.35626527453103896, -0.9201267710595663, -0.4825603472456605, 1.0350105637639253, 0.7141270743667533, -0.7047888603102321, 0.07954844261010739, 0.9240461197773582, -0.2012367204600226, -0.18735870172077787, 0.8128846161700972, 0.572471733076174, 0.2172228806431597, 0.23258075293244185, -0.15037989852296424, 1.6489384008396495, -0.699170275452065, -1.1915880345536867, 0.791442180982393, -1.5343965160519073, -0.2119291089800813, 0.5147659474053279, 0.13256180204923343, 0.11804225234240634, 0.4175537717201645, -0.4404582829401427, 0.5628633036420924, -0.14853080183364786, 0.528931020376802, 0.7682140054890354, 0.5882154073068712, -0.6371179810453058, 0.00860135749083743, 1.784532008732318, 0.0630970787741614, 1.0806131230471097, -0.3368057268799231, -0.11396344278775078, 1.5040813118063128, -0.26955180544597684, -0.024390292942870706, -0.15560276318219723], \"xaxis\": \"x\", \"yaxis\": \"y\"}, {\"line\": {\"color\": \"rgba(128, 128, 128, 1.0)\", \"dash\": \"solid\", \"shape\": \"linear\", \"width\": 1.3}, \"marker\": {\"size\": 2, \"symbol\": \"circle\"}, \"mode\": \"markers\", \"name\": \"A\", \"text\": \"\", \"type\": \"scatter\", \"x\": [-2.2286752844455777, -1.1325804605985426, -0.057504853523821425, -0.4372807380334668, 0.7196790346908422, -0.3049353605453905, -0.36769137325213835, -2.720548438240072, -0.9630851860163883, -0.2604981650092037, -0.8739159350872959, -2.597293836991736, 1.9279633238913891, -1.4857793145128506, -1.398384437744287, 0.9249812054111738, 0.9904484780182563, 0.5154826624657818, -2.118134319003685, -1.1737116775235958, 0.6767585900341822, 0.5461220282918061, -0.6990646057740326, -1.0110525490061775, -0.08120032622523697, 0.2636505021163572, 1.2323826718876643, -0.40486481243860833, 1.4760723751566938, -0.8209077663785059, 1.1402839958305764, 2.0165937745268456, -1.186601957911982, -0.8314944292076336, -0.46207793920010803, 0.11759878503277775, -0.46486529954252687, 0.6029386347856334, -0.33018597428647706, -0.009613504426322677, 0.9872410193142943, 0.2440377627033009, 0.18977165931531736, -0.6759265219314019, -0.705368350697958, 2.625871847829621, 1.6218716077031723, -2.799716407485826, -2.2039135318094103, 0.303793009001111, -0.7237119546177894, 1.806688841596908, -0.9334230739999114, 0.2771158257256812, 0.5484931304543167, -0.5310682268548499, 0.26045181959778124, -1.1664989769384293, -0.5924313434244467, -0.903470166777184, 0.1827433432749004, 1.1951182534599574, 0.9429850152610202, 0.7718174963318698, -0.3932259789252067, -0.9876135657413847, 0.06069370133947106, -0.3431001486732415, -1.4678282524891362, 1.0620820253204266, -0.45220907136404775, 0.3255127774116455, -0.5118683983115404, -1.4068154364000311, -0.6993079829811987, -1.8294456426161474, -0.19352574917505092, -0.5363175879157083, -0.4022870066216089, 0.4843330327019152, -0.4028270480314041, -0.16088752894881542, -0.10235401898702981, 0.269872266689026, -0.5211183369387445, 1.4942821686889394, 0.17909980069235, -0.6771140256279912, 0.25538789387367294, -2.4142626729455747, 2.278105352397342, 0.9633934004854583, 0.6369650835814333, 1.3346267659621462, 0.4847058208475034, 1.493950984377913, 0.608059480959266, -0.7449331063679395, -2.1561723967170456, -0.4618486399950229], \"xaxis\": \"x2\", \"y\": [-0.4297685383384342, 0.8992028500370997, -0.0529219344920944, -0.6575111293098215, 0.22208299129571782, 0.3794842146923049, -0.776042193527561, 0.20252386974764924, 0.5283888563058603, 0.42238405971072795, -0.06013466358030851, -0.00026800090693260357, -0.14388939098347012, 0.9344699379561042, 0.6783815719865144, 0.44503506029485257, -1.7459121312891714, -1.0030300108933405, 1.9884150558651161, -0.47184365204117884, -0.2595777957034208, 0.7400974312262351, 0.099309479647986, -0.6182408568594779, -0.09737112629162749, 1.0014953872001506, 0.2871753396523556, 1.5244479144569265, -0.23697854575363472, 0.020463560762592693, -1.1753745296203637, 0.43368223787654575, 2.24053767970503, -0.6384984081451017, -0.15584868195776844, -1.129993502850424, 1.486435661947022, 1.253760698328164, -0.13143816377831435, -1.6959507280045962, -0.5909461283664224, -0.9669632612257547, 0.1002289545273029, 0.06832115631372923, -0.23128484890668444, 0.5004811414606912, 0.4204561565082809, -1.05748043745096, 0.06683095599233774, 0.2980261452352181, -1.5226706426959702, 0.029547750310692927, 2.7094752196223126, -1.999918830221982, -1.4429817394634803, 1.2186716154519959, -0.933564385488572, 1.176427043693705, -0.35626527453103896, -0.9201267710595663, -0.4825603472456605, 1.0350105637639253, 0.7141270743667533, -0.7047888603102321, 0.07954844261010739, 0.9240461197773582, -0.2012367204600226, -0.18735870172077787, 0.8128846161700972, 0.572471733076174, 0.2172228806431597, 0.23258075293244185, -0.15037989852296424, 1.6489384008396495, -0.699170275452065, -1.1915880345536867, 0.791442180982393, -1.5343965160519073, -0.2119291089800813, 0.5147659474053279, 0.13256180204923343, 0.11804225234240634, 0.4175537717201645, -0.4404582829401427, 0.5628633036420924, -0.14853080183364786, 0.528931020376802, 0.7682140054890354, 0.5882154073068712, -0.6371179810453058, 0.00860135749083743, 1.784532008732318, 0.0630970787741614, 1.0806131230471097, -0.3368057268799231, -0.11396344278775078, 1.5040813118063128, -0.26955180544597684, -0.024390292942870706, -0.15560276318219723], \"yaxis\": \"y2\"}, {\"line\": {\"color\": \"rgba(128, 128, 128, 1.0)\", \"dash\": \"solid\", \"shape\": \"linear\", \"width\": 1.3}, \"marker\": {\"size\": 2, \"symbol\": \"circle\"}, \"mode\": \"markers\", \"name\": \"A\", \"text\": \"\", \"type\": \"scatter\", \"x\": [1.1786249712262633, -0.07355363389825188, 0.10673728747429873, -1.6200138315172226, 0.8038860544011691, -0.015018901180249197, -0.3200043063760125, 0.8638148430107568, -0.40550870293413155, -0.16717671251139193, 1.1439215034980508, 0.22052096273934702, 0.4915874851405039, 1.6812926781938566, 0.47876602038653554, -0.24906652606117347, -0.21229099101894697, 0.226372270600233, -0.9503775922786668, 1.2900635593411864, -0.8820240618433731, -0.27968741633449284, 0.24749126784771305, -1.287147863111516, 0.7207993439726794, 0.8938331823312693, 1.4375109478706862, 1.2597826980176479, -1.7120237647553644, 0.37163223873664053, -1.2293958041730793, 0.16292848771751778, 0.8953762585328742, -1.4365689696166017, -0.36718869829790096, -1.3516910552047443, 0.7959650362780134, 0.7446694886773091, -0.2838626221563418, 0.41612897511243335, -0.660842228744442, -0.4583123541427391, 0.8487338077687653, -0.6382076088735156, 0.08648383132017577, -0.637677379928665, -0.5278572479445359, 1.009173896164119, 0.5009363886426216, -1.3580948611896575, 1.2790048126493363, -1.3879343410627092, -0.01682907297008556, -0.6703000670131273, 1.5374604806156202, -0.697161123841636, 0.579140592993929, -1.3889975589760564, -0.2004285434907031, -1.0645188810447828, -1.2877771144314145, 0.18196921915152736, 0.355098135424266, 0.967696230234717, 0.4772338366955171, -1.510038625563963, -0.40146425015958737, 0.8109168957741011, -1.2923245702731976, -1.5029614204270842, 0.15762278217901138, 1.5785914396830187, 0.9258395770780882, -1.591804263376754, 0.5844587173755277, 0.9635480254140826, -0.33441708293974676, -1.3541690061832685, -0.894986027496033, 0.8827156615564142, -0.189538521823769, 0.6639668580923442, -0.8652399949240969, 1.664279980830366, -1.2399032495021538, -2.2286583945060006, -0.7250899567942046, 1.3316815793740926, -0.5352576409055199, -1.1004892907668025, 0.22604356508286133, -0.5122613760476022, -1.032495668544159, 0.18153045439112858, 0.3794284799037391, -0.09604121980705199, 0.11572410927921793, 0.7061700491228695, -0.6429452372045623, 1.5789472867919554], \"xaxis\": \"x3\", \"y\": [-0.4297685383384342, 0.8992028500370997, -0.0529219344920944, -0.6575111293098215, 0.22208299129571782, 0.3794842146923049, -0.776042193527561, 0.20252386974764924, 0.5283888563058603, 0.42238405971072795, -0.06013466358030851, -0.00026800090693260357, -0.14388939098347012, 0.9344699379561042, 0.6783815719865144, 0.44503506029485257, -1.7459121312891714, -1.0030300108933405, 1.9884150558651161, -0.47184365204117884, -0.2595777957034208, 0.7400974312262351, 0.099309479647986, -0.6182408568594779, -0.09737112629162749, 1.0014953872001506, 0.2871753396523556, 1.5244479144569265, -0.23697854575363472, 0.020463560762592693, -1.1753745296203637, 0.43368223787654575, 2.24053767970503, -0.6384984081451017, -0.15584868195776844, -1.129993502850424, 1.486435661947022, 1.253760698328164, -0.13143816377831435, -1.6959507280045962, -0.5909461283664224, -0.9669632612257547, 0.1002289545273029, 0.06832115631372923, -0.23128484890668444, 0.5004811414606912, 0.4204561565082809, -1.05748043745096, 0.06683095599233774, 0.2980261452352181, -1.5226706426959702, 0.029547750310692927, 2.7094752196223126, -1.999918830221982, -1.4429817394634803, 1.2186716154519959, -0.933564385488572, 1.176427043693705, -0.35626527453103896, -0.9201267710595663, -0.4825603472456605, 1.0350105637639253, 0.7141270743667533, -0.7047888603102321, 0.07954844261010739, 0.9240461197773582, -0.2012367204600226, -0.18735870172077787, 0.8128846161700972, 0.572471733076174, 0.2172228806431597, 0.23258075293244185, -0.15037989852296424, 1.6489384008396495, -0.699170275452065, -1.1915880345536867, 0.791442180982393, -1.5343965160519073, -0.2119291089800813, 0.5147659474053279, 0.13256180204923343, 0.11804225234240634, 0.4175537717201645, -0.4404582829401427, 0.5628633036420924, -0.14853080183364786, 0.528931020376802, 0.7682140054890354, 0.5882154073068712, -0.6371179810453058, 0.00860135749083743, 1.784532008732318, 0.0630970787741614, 1.0806131230471097, -0.3368057268799231, -0.11396344278775078, 1.5040813118063128, -0.26955180544597684, -0.024390292942870706, -0.15560276318219723], \"yaxis\": \"y3\"}, {\"line\": {\"color\": \"rgba(128, 128, 128, 1.0)\", \"dash\": \"solid\", \"shape\": \"linear\", \"width\": 1.3}, \"marker\": {\"size\": 2, \"symbol\": \"circle\"}, \"mode\": \"markers\", \"name\": \"A\", \"text\": \"\", \"type\": \"scatter\", \"x\": [-1.862800313121775, -0.20951207295621146, -0.10579750915640158, 0.7449726332937913, 0.5898440586883348, 0.6472702771138337, 0.27665593785476267, -0.10807527509649502, 0.5895237232323345, -1.519127167622268, -0.8736765979093821, 0.9736412767543172, -0.25274749632481863, -0.7315817015396363, 0.8631443417504908, -1.1953334383959195, 1.5934450350726834, -0.8692873266241693, 1.0408726111473396, -1.0533688023707521, -0.4708648587320578, 0.24293109968645663, -0.13673579661128576, 1.2814792492459324, -1.356235810952168, -0.9521423057124621, 0.6551436873402294, 1.38471077844707, -1.2900499938571501, 0.6876138195736164, -0.22371717375733743, 0.4729102128676308, 0.006192920255018028, 1.0352939760509012, -0.013019737566285078, 1.9213142379551436, 0.44293117144505634, -0.961115493975052, -1.3011893445642408, -1.2439247382623437, 0.012651245757251676, -0.12723911525196055, -0.7563921780952818, 0.872943299696692, -1.1111127361971371, 0.3105822975167003, 2.1513144207586787, 0.24673956005352016, 0.6604767199356464, -1.842687807901697, 0.4875951054385542, 0.1540716452559774, -1.1301377080208135, 0.3778292347194436, 0.06897506995523428, 0.5649041461628904, -0.04524606045128736, 1.3103889818019638, -1.626895965993376, -1.2008710881324998, -0.6668683045108091, -1.20552806684709, -1.44891755460223, -1.7712756478403473, -1.356763679162797, -0.7528382834218441, 0.4422673121786261, 0.6342408192083392, 1.357267749649809, -0.5047200232765177, -0.40351879957344367, 0.16304001463950282, -2.1196754751402564, 1.6077651138771687, -0.34728517070820913, -1.1307993233098803, 1.1377203515073007, -1.0280827244201818, -1.4062502685447293, -0.21251743156935993, 0.7444561710324307, 0.22129244784855204, 3.1331155149570455, -0.31005889628964395, -0.31583659061997493, -0.5301123392684864, 0.2864046387176444, 0.38781067220254734, -0.6938768959110249, 1.295523616880893, 0.8465238581327255, 0.24330559296550552, -0.17124434610468836, 0.4067336628284449, 1.8907279035031714, -0.14467832324424781, 0.4098334885431353, -0.6724128056332155, -0.19146324190082106, -1.2895295405214975], \"xaxis\": \"x4\", \"y\": [-0.4297685383384342, 0.8992028500370997, -0.0529219344920944, -0.6575111293098215, 0.22208299129571782, 0.3794842146923049, -0.776042193527561, 0.20252386974764924, 0.5283888563058603, 0.42238405971072795, -0.06013466358030851, -0.00026800090693260357, -0.14388939098347012, 0.9344699379561042, 0.6783815719865144, 0.44503506029485257, -1.7459121312891714, -1.0030300108933405, 1.9884150558651161, -0.47184365204117884, -0.2595777957034208, 0.7400974312262351, 0.099309479647986, -0.6182408568594779, -0.09737112629162749, 1.0014953872001506, 0.2871753396523556, 1.5244479144569265, -0.23697854575363472, 0.020463560762592693, -1.1753745296203637, 0.43368223787654575, 2.24053767970503, -0.6384984081451017, -0.15584868195776844, -1.129993502850424, 1.486435661947022, 1.253760698328164, -0.13143816377831435, -1.6959507280045962, -0.5909461283664224, -0.9669632612257547, 0.1002289545273029, 0.06832115631372923, -0.23128484890668444, 0.5004811414606912, 0.4204561565082809, -1.05748043745096, 0.06683095599233774, 0.2980261452352181, -1.5226706426959702, 0.029547750310692927, 2.7094752196223126, -1.999918830221982, -1.4429817394634803, 1.2186716154519959, -0.933564385488572, 1.176427043693705, -0.35626527453103896, -0.9201267710595663, -0.4825603472456605, 1.0350105637639253, 0.7141270743667533, -0.7047888603102321, 0.07954844261010739, 0.9240461197773582, -0.2012367204600226, -0.18735870172077787, 0.8128846161700972, 0.572471733076174, 0.2172228806431597, 0.23258075293244185, -0.15037989852296424, 1.6489384008396495, -0.699170275452065, -1.1915880345536867, 0.791442180982393, -1.5343965160519073, -0.2119291089800813, 0.5147659474053279, 0.13256180204923343, 0.11804225234240634, 0.4175537717201645, -0.4404582829401427, 0.5628633036420924, -0.14853080183364786, 0.528931020376802, 0.7682140054890354, 0.5882154073068712, -0.6371179810453058, 0.00860135749083743, 1.784532008732318, 0.0630970787741614, 1.0806131230471097, -0.3368057268799231, -0.11396344278775078, 1.5040813118063128, -0.26955180544597684, -0.024390292942870706, -0.15560276318219723], \"yaxis\": \"y4\"}, {\"line\": {\"color\": \"rgba(128, 128, 128, 1.0)\", \"dash\": \"solid\", \"shape\": \"linear\", \"width\": 1.3}, \"marker\": {\"size\": 2, \"symbol\": \"circle\"}, \"mode\": \"markers\", \"name\": \"B\", \"text\": \"\", \"type\": \"scatter\", \"x\": [-0.4297685383384342, 0.8992028500370997, -0.0529219344920944, -0.6575111293098215, 0.22208299129571782, 0.3794842146923049, -0.776042193527561, 0.20252386974764924, 0.5283888563058603, 0.42238405971072795, -0.06013466358030851, -0.00026800090693260357, -0.14388939098347012, 0.9344699379561042, 0.6783815719865144, 0.44503506029485257, -1.7459121312891714, -1.0030300108933405, 1.9884150558651161, -0.47184365204117884, -0.2595777957034208, 0.7400974312262351, 0.099309479647986, -0.6182408568594779, -0.09737112629162749, 1.0014953872001506, 0.2871753396523556, 1.5244479144569265, -0.23697854575363472, 0.020463560762592693, -1.1753745296203637, 0.43368223787654575, 2.24053767970503, -0.6384984081451017, -0.15584868195776844, -1.129993502850424, 1.486435661947022, 1.253760698328164, -0.13143816377831435, -1.6959507280045962, -0.5909461283664224, -0.9669632612257547, 0.1002289545273029, 0.06832115631372923, -0.23128484890668444, 0.5004811414606912, 0.4204561565082809, -1.05748043745096, 0.06683095599233774, 0.2980261452352181, -1.5226706426959702, 0.029547750310692927, 2.7094752196223126, -1.999918830221982, -1.4429817394634803, 1.2186716154519959, -0.933564385488572, 1.176427043693705, -0.35626527453103896, -0.9201267710595663, -0.4825603472456605, 1.0350105637639253, 0.7141270743667533, -0.7047888603102321, 0.07954844261010739, 0.9240461197773582, -0.2012367204600226, -0.18735870172077787, 0.8128846161700972, 0.572471733076174, 0.2172228806431597, 0.23258075293244185, -0.15037989852296424, 1.6489384008396495, -0.699170275452065, -1.1915880345536867, 0.791442180982393, -1.5343965160519073, -0.2119291089800813, 0.5147659474053279, 0.13256180204923343, 0.11804225234240634, 0.4175537717201645, -0.4404582829401427, 0.5628633036420924, -0.14853080183364786, 0.528931020376802, 0.7682140054890354, 0.5882154073068712, -0.6371179810453058, 0.00860135749083743, 1.784532008732318, 0.0630970787741614, 1.0806131230471097, -0.3368057268799231, -0.11396344278775078, 1.5040813118063128, -0.26955180544597684, -0.024390292942870706, -0.15560276318219723], \"xaxis\": \"x5\", \"y\": [-2.2286752844455777, -1.1325804605985426, -0.057504853523821425, -0.4372807380334668, 0.7196790346908422, -0.3049353605453905, -0.36769137325213835, -2.720548438240072, -0.9630851860163883, -0.2604981650092037, -0.8739159350872959, -2.597293836991736, 1.9279633238913891, -1.4857793145128506, -1.398384437744287, 0.9249812054111738, 0.9904484780182563, 0.5154826624657818, -2.118134319003685, -1.1737116775235958, 0.6767585900341822, 0.5461220282918061, -0.6990646057740326, -1.0110525490061775, -0.08120032622523697, 0.2636505021163572, 1.2323826718876643, -0.40486481243860833, 1.4760723751566938, -0.8209077663785059, 1.1402839958305764, 2.0165937745268456, -1.186601957911982, -0.8314944292076336, -0.46207793920010803, 0.11759878503277775, -0.46486529954252687, 0.6029386347856334, -0.33018597428647706, -0.009613504426322677, 0.9872410193142943, 0.2440377627033009, 0.18977165931531736, -0.6759265219314019, -0.705368350697958, 2.625871847829621, 1.6218716077031723, -2.799716407485826, -2.2039135318094103, 0.303793009001111, -0.7237119546177894, 1.806688841596908, -0.9334230739999114, 0.2771158257256812, 0.5484931304543167, -0.5310682268548499, 0.26045181959778124, -1.1664989769384293, -0.5924313434244467, -0.903470166777184, 0.1827433432749004, 1.1951182534599574, 0.9429850152610202, 0.7718174963318698, -0.3932259789252067, -0.9876135657413847, 0.06069370133947106, -0.3431001486732415, -1.4678282524891362, 1.0620820253204266, -0.45220907136404775, 0.3255127774116455, -0.5118683983115404, -1.4068154364000311, -0.6993079829811987, -1.8294456426161474, -0.19352574917505092, -0.5363175879157083, -0.4022870066216089, 0.4843330327019152, -0.4028270480314041, -0.16088752894881542, -0.10235401898702981, 0.269872266689026, -0.5211183369387445, 1.4942821686889394, 0.17909980069235, -0.6771140256279912, 0.25538789387367294, -2.4142626729455747, 2.278105352397342, 0.9633934004854583, 0.6369650835814333, 1.3346267659621462, 0.4847058208475034, 1.493950984377913, 0.608059480959266, -0.7449331063679395, -2.1561723967170456, -0.4618486399950229], \"yaxis\": \"y5\"}, {\"histfunc\": \"count\", \"histnorm\": \"\", \"marker\": {\"color\": \"rgba(55, 128, 191, 1.0)\", \"line\": {\"color\": \"#4D5663\", \"width\": 1.3}}, \"name\": \"B\", \"nbinsx\": 10, \"opacity\": 0.8, \"orientation\": \"v\", \"type\": \"histogram\", \"x\": [-2.2286752844455777, -1.1325804605985426, -0.057504853523821425, -0.4372807380334668, 0.7196790346908422, -0.3049353605453905, -0.36769137325213835, -2.720548438240072, -0.9630851860163883, -0.2604981650092037, -0.8739159350872959, -2.597293836991736, 1.9279633238913891, -1.4857793145128506, -1.398384437744287, 0.9249812054111738, 0.9904484780182563, 0.5154826624657818, -2.118134319003685, -1.1737116775235958, 0.6767585900341822, 0.5461220282918061, -0.6990646057740326, -1.0110525490061775, -0.08120032622523697, 0.2636505021163572, 1.2323826718876643, -0.40486481243860833, 1.4760723751566938, -0.8209077663785059, 1.1402839958305764, 2.0165937745268456, -1.186601957911982, -0.8314944292076336, -0.46207793920010803, 0.11759878503277775, -0.46486529954252687, 0.6029386347856334, -0.33018597428647706, -0.009613504426322677, 0.9872410193142943, 0.2440377627033009, 0.18977165931531736, -0.6759265219314019, -0.705368350697958, 2.625871847829621, 1.6218716077031723, -2.799716407485826, -2.2039135318094103, 0.303793009001111, -0.7237119546177894, 1.806688841596908, -0.9334230739999114, 0.2771158257256812, 0.5484931304543167, -0.5310682268548499, 0.26045181959778124, -1.1664989769384293, -0.5924313434244467, -0.903470166777184, 0.1827433432749004, 1.1951182534599574, 0.9429850152610202, 0.7718174963318698, -0.3932259789252067, -0.9876135657413847, 0.06069370133947106, -0.3431001486732415, -1.4678282524891362, 1.0620820253204266, -0.45220907136404775, 0.3255127774116455, -0.5118683983115404, -1.4068154364000311, -0.6993079829811987, -1.8294456426161474, -0.19352574917505092, -0.5363175879157083, -0.4022870066216089, 0.4843330327019152, -0.4028270480314041, -0.16088752894881542, -0.10235401898702981, 0.269872266689026, -0.5211183369387445, 1.4942821686889394, 0.17909980069235, -0.6771140256279912, 0.25538789387367294, -2.4142626729455747, 2.278105352397342, 0.9633934004854583, 0.6369650835814333, 1.3346267659621462, 0.4847058208475034, 1.493950984377913, 0.608059480959266, -0.7449331063679395, -2.1561723967170456, -0.4618486399950229], \"xaxis\": \"x6\", \"yaxis\": \"y6\"}, {\"line\": {\"color\": \"rgba(128, 128, 128, 1.0)\", \"dash\": \"solid\", \"shape\": \"linear\", \"width\": 1.3}, \"marker\": {\"size\": 2, \"symbol\": \"circle\"}, \"mode\": \"markers\", \"name\": \"B\", \"text\": \"\", \"type\": \"scatter\", \"x\": [1.1786249712262633, -0.07355363389825188, 0.10673728747429873, -1.6200138315172226, 0.8038860544011691, -0.015018901180249197, -0.3200043063760125, 0.8638148430107568, -0.40550870293413155, -0.16717671251139193, 1.1439215034980508, 0.22052096273934702, 0.4915874851405039, 1.6812926781938566, 0.47876602038653554, -0.24906652606117347, -0.21229099101894697, 0.226372270600233, -0.9503775922786668, 1.2900635593411864, -0.8820240618433731, -0.27968741633449284, 0.24749126784771305, -1.287147863111516, 0.7207993439726794, 0.8938331823312693, 1.4375109478706862, 1.2597826980176479, -1.7120237647553644, 0.37163223873664053, -1.2293958041730793, 0.16292848771751778, 0.8953762585328742, -1.4365689696166017, -0.36718869829790096, -1.3516910552047443, 0.7959650362780134, 0.7446694886773091, -0.2838626221563418, 0.41612897511243335, -0.660842228744442, -0.4583123541427391, 0.8487338077687653, -0.6382076088735156, 0.08648383132017577, -0.637677379928665, -0.5278572479445359, 1.009173896164119, 0.5009363886426216, -1.3580948611896575, 1.2790048126493363, -1.3879343410627092, -0.01682907297008556, -0.6703000670131273, 1.5374604806156202, -0.697161123841636, 0.579140592993929, -1.3889975589760564, -0.2004285434907031, -1.0645188810447828, -1.2877771144314145, 0.18196921915152736, 0.355098135424266, 0.967696230234717, 0.4772338366955171, -1.510038625563963, -0.40146425015958737, 0.8109168957741011, -1.2923245702731976, -1.5029614204270842, 0.15762278217901138, 1.5785914396830187, 0.9258395770780882, -1.591804263376754, 0.5844587173755277, 0.9635480254140826, -0.33441708293974676, -1.3541690061832685, -0.894986027496033, 0.8827156615564142, -0.189538521823769, 0.6639668580923442, -0.8652399949240969, 1.664279980830366, -1.2399032495021538, -2.2286583945060006, -0.7250899567942046, 1.3316815793740926, -0.5352576409055199, -1.1004892907668025, 0.22604356508286133, -0.5122613760476022, -1.032495668544159, 0.18153045439112858, 0.3794284799037391, -0.09604121980705199, 0.11572410927921793, 0.7061700491228695, -0.6429452372045623, 1.5789472867919554], \"xaxis\": \"x7\", \"y\": [-2.2286752844455777, -1.1325804605985426, -0.057504853523821425, -0.4372807380334668, 0.7196790346908422, -0.3049353605453905, -0.36769137325213835, -2.720548438240072, -0.9630851860163883, -0.2604981650092037, -0.8739159350872959, -2.597293836991736, 1.9279633238913891, -1.4857793145128506, -1.398384437744287, 0.9249812054111738, 0.9904484780182563, 0.5154826624657818, -2.118134319003685, -1.1737116775235958, 0.6767585900341822, 0.5461220282918061, -0.6990646057740326, -1.0110525490061775, -0.08120032622523697, 0.2636505021163572, 1.2323826718876643, -0.40486481243860833, 1.4760723751566938, -0.8209077663785059, 1.1402839958305764, 2.0165937745268456, -1.186601957911982, -0.8314944292076336, -0.46207793920010803, 0.11759878503277775, -0.46486529954252687, 0.6029386347856334, -0.33018597428647706, -0.009613504426322677, 0.9872410193142943, 0.2440377627033009, 0.18977165931531736, -0.6759265219314019, -0.705368350697958, 2.625871847829621, 1.6218716077031723, -2.799716407485826, -2.2039135318094103, 0.303793009001111, -0.7237119546177894, 1.806688841596908, -0.9334230739999114, 0.2771158257256812, 0.5484931304543167, -0.5310682268548499, 0.26045181959778124, -1.1664989769384293, -0.5924313434244467, -0.903470166777184, 0.1827433432749004, 1.1951182534599574, 0.9429850152610202, 0.7718174963318698, -0.3932259789252067, -0.9876135657413847, 0.06069370133947106, -0.3431001486732415, -1.4678282524891362, 1.0620820253204266, -0.45220907136404775, 0.3255127774116455, -0.5118683983115404, -1.4068154364000311, -0.6993079829811987, -1.8294456426161474, -0.19352574917505092, -0.5363175879157083, -0.4022870066216089, 0.4843330327019152, -0.4028270480314041, -0.16088752894881542, -0.10235401898702981, 0.269872266689026, -0.5211183369387445, 1.4942821686889394, 0.17909980069235, -0.6771140256279912, 0.25538789387367294, -2.4142626729455747, 2.278105352397342, 0.9633934004854583, 0.6369650835814333, 1.3346267659621462, 0.4847058208475034, 1.493950984377913, 0.608059480959266, -0.7449331063679395, -2.1561723967170456, -0.4618486399950229], \"yaxis\": \"y7\"}, {\"line\": {\"color\": \"rgba(128, 128, 128, 1.0)\", \"dash\": \"solid\", \"shape\": \"linear\", \"width\": 1.3}, \"marker\": {\"size\": 2, \"symbol\": \"circle\"}, \"mode\": \"markers\", \"name\": \"B\", \"text\": \"\", \"type\": \"scatter\", \"x\": [-1.862800313121775, -0.20951207295621146, -0.10579750915640158, 0.7449726332937913, 0.5898440586883348, 0.6472702771138337, 0.27665593785476267, -0.10807527509649502, 0.5895237232323345, -1.519127167622268, -0.8736765979093821, 0.9736412767543172, -0.25274749632481863, -0.7315817015396363, 0.8631443417504908, -1.1953334383959195, 1.5934450350726834, -0.8692873266241693, 1.0408726111473396, -1.0533688023707521, -0.4708648587320578, 0.24293109968645663, -0.13673579661128576, 1.2814792492459324, -1.356235810952168, -0.9521423057124621, 0.6551436873402294, 1.38471077844707, -1.2900499938571501, 0.6876138195736164, -0.22371717375733743, 0.4729102128676308, 0.006192920255018028, 1.0352939760509012, -0.013019737566285078, 1.9213142379551436, 0.44293117144505634, -0.961115493975052, -1.3011893445642408, -1.2439247382623437, 0.012651245757251676, -0.12723911525196055, -0.7563921780952818, 0.872943299696692, -1.1111127361971371, 0.3105822975167003, 2.1513144207586787, 0.24673956005352016, 0.6604767199356464, -1.842687807901697, 0.4875951054385542, 0.1540716452559774, -1.1301377080208135, 0.3778292347194436, 0.06897506995523428, 0.5649041461628904, -0.04524606045128736, 1.3103889818019638, -1.626895965993376, -1.2008710881324998, -0.6668683045108091, -1.20552806684709, -1.44891755460223, -1.7712756478403473, -1.356763679162797, -0.7528382834218441, 0.4422673121786261, 0.6342408192083392, 1.357267749649809, -0.5047200232765177, -0.40351879957344367, 0.16304001463950282, -2.1196754751402564, 1.6077651138771687, -0.34728517070820913, -1.1307993233098803, 1.1377203515073007, -1.0280827244201818, -1.4062502685447293, -0.21251743156935993, 0.7444561710324307, 0.22129244784855204, 3.1331155149570455, -0.31005889628964395, -0.31583659061997493, -0.5301123392684864, 0.2864046387176444, 0.38781067220254734, -0.6938768959110249, 1.295523616880893, 0.8465238581327255, 0.24330559296550552, -0.17124434610468836, 0.4067336628284449, 1.8907279035031714, -0.14467832324424781, 0.4098334885431353, -0.6724128056332155, -0.19146324190082106, -1.2895295405214975], \"xaxis\": \"x8\", \"y\": [-2.2286752844455777, -1.1325804605985426, -0.057504853523821425, -0.4372807380334668, 0.7196790346908422, -0.3049353605453905, -0.36769137325213835, -2.720548438240072, -0.9630851860163883, -0.2604981650092037, -0.8739159350872959, -2.597293836991736, 1.9279633238913891, -1.4857793145128506, -1.398384437744287, 0.9249812054111738, 0.9904484780182563, 0.5154826624657818, -2.118134319003685, -1.1737116775235958, 0.6767585900341822, 0.5461220282918061, -0.6990646057740326, -1.0110525490061775, -0.08120032622523697, 0.2636505021163572, 1.2323826718876643, -0.40486481243860833, 1.4760723751566938, -0.8209077663785059, 1.1402839958305764, 2.0165937745268456, -1.186601957911982, -0.8314944292076336, -0.46207793920010803, 0.11759878503277775, -0.46486529954252687, 0.6029386347856334, -0.33018597428647706, -0.009613504426322677, 0.9872410193142943, 0.2440377627033009, 0.18977165931531736, -0.6759265219314019, -0.705368350697958, 2.625871847829621, 1.6218716077031723, -2.799716407485826, -2.2039135318094103, 0.303793009001111, -0.7237119546177894, 1.806688841596908, -0.9334230739999114, 0.2771158257256812, 0.5484931304543167, -0.5310682268548499, 0.26045181959778124, -1.1664989769384293, -0.5924313434244467, -0.903470166777184, 0.1827433432749004, 1.1951182534599574, 0.9429850152610202, 0.7718174963318698, -0.3932259789252067, -0.9876135657413847, 0.06069370133947106, -0.3431001486732415, -1.4678282524891362, 1.0620820253204266, -0.45220907136404775, 0.3255127774116455, -0.5118683983115404, -1.4068154364000311, -0.6993079829811987, -1.8294456426161474, -0.19352574917505092, -0.5363175879157083, -0.4022870066216089, 0.4843330327019152, -0.4028270480314041, -0.16088752894881542, -0.10235401898702981, 0.269872266689026, -0.5211183369387445, 1.4942821686889394, 0.17909980069235, -0.6771140256279912, 0.25538789387367294, -2.4142626729455747, 2.278105352397342, 0.9633934004854583, 0.6369650835814333, 1.3346267659621462, 0.4847058208475034, 1.493950984377913, 0.608059480959266, -0.7449331063679395, -2.1561723967170456, -0.4618486399950229], \"yaxis\": \"y8\"}, {\"line\": {\"color\": \"rgba(128, 128, 128, 1.0)\", \"dash\": \"solid\", \"shape\": \"linear\", \"width\": 1.3}, \"marker\": {\"size\": 2, \"symbol\": \"circle\"}, \"mode\": \"markers\", \"name\": \"C\", \"text\": \"\", \"type\": \"scatter\", \"x\": [-0.4297685383384342, 0.8992028500370997, -0.0529219344920944, -0.6575111293098215, 0.22208299129571782, 0.3794842146923049, -0.776042193527561, 0.20252386974764924, 0.5283888563058603, 0.42238405971072795, -0.06013466358030851, -0.00026800090693260357, -0.14388939098347012, 0.9344699379561042, 0.6783815719865144, 0.44503506029485257, -1.7459121312891714, -1.0030300108933405, 1.9884150558651161, -0.47184365204117884, -0.2595777957034208, 0.7400974312262351, 0.099309479647986, -0.6182408568594779, -0.09737112629162749, 1.0014953872001506, 0.2871753396523556, 1.5244479144569265, -0.23697854575363472, 0.020463560762592693, -1.1753745296203637, 0.43368223787654575, 2.24053767970503, -0.6384984081451017, -0.15584868195776844, -1.129993502850424, 1.486435661947022, 1.253760698328164, -0.13143816377831435, -1.6959507280045962, -0.5909461283664224, -0.9669632612257547, 0.1002289545273029, 0.06832115631372923, -0.23128484890668444, 0.5004811414606912, 0.4204561565082809, -1.05748043745096, 0.06683095599233774, 0.2980261452352181, -1.5226706426959702, 0.029547750310692927, 2.7094752196223126, -1.999918830221982, -1.4429817394634803, 1.2186716154519959, -0.933564385488572, 1.176427043693705, -0.35626527453103896, -0.9201267710595663, -0.4825603472456605, 1.0350105637639253, 0.7141270743667533, -0.7047888603102321, 0.07954844261010739, 0.9240461197773582, -0.2012367204600226, -0.18735870172077787, 0.8128846161700972, 0.572471733076174, 0.2172228806431597, 0.23258075293244185, -0.15037989852296424, 1.6489384008396495, -0.699170275452065, -1.1915880345536867, 0.791442180982393, -1.5343965160519073, -0.2119291089800813, 0.5147659474053279, 0.13256180204923343, 0.11804225234240634, 0.4175537717201645, -0.4404582829401427, 0.5628633036420924, -0.14853080183364786, 0.528931020376802, 0.7682140054890354, 0.5882154073068712, -0.6371179810453058, 0.00860135749083743, 1.784532008732318, 0.0630970787741614, 1.0806131230471097, -0.3368057268799231, -0.11396344278775078, 1.5040813118063128, -0.26955180544597684, -0.024390292942870706, -0.15560276318219723], \"xaxis\": \"x9\", \"y\": [1.1786249712262633, -0.07355363389825188, 0.10673728747429873, -1.6200138315172226, 0.8038860544011691, -0.015018901180249197, -0.3200043063760125, 0.8638148430107568, -0.40550870293413155, -0.16717671251139193, 1.1439215034980508, 0.22052096273934702, 0.4915874851405039, 1.6812926781938566, 0.47876602038653554, -0.24906652606117347, -0.21229099101894697, 0.226372270600233, -0.9503775922786668, 1.2900635593411864, -0.8820240618433731, -0.27968741633449284, 0.24749126784771305, -1.287147863111516, 0.7207993439726794, 0.8938331823312693, 1.4375109478706862, 1.2597826980176479, -1.7120237647553644, 0.37163223873664053, -1.2293958041730793, 0.16292848771751778, 0.8953762585328742, -1.4365689696166017, -0.36718869829790096, -1.3516910552047443, 0.7959650362780134, 0.7446694886773091, -0.2838626221563418, 0.41612897511243335, -0.660842228744442, -0.4583123541427391, 0.8487338077687653, -0.6382076088735156, 0.08648383132017577, -0.637677379928665, -0.5278572479445359, 1.009173896164119, 0.5009363886426216, -1.3580948611896575, 1.2790048126493363, -1.3879343410627092, -0.01682907297008556, -0.6703000670131273, 1.5374604806156202, -0.697161123841636, 0.579140592993929, -1.3889975589760564, -0.2004285434907031, -1.0645188810447828, -1.2877771144314145, 0.18196921915152736, 0.355098135424266, 0.967696230234717, 0.4772338366955171, -1.510038625563963, -0.40146425015958737, 0.8109168957741011, -1.2923245702731976, -1.5029614204270842, 0.15762278217901138, 1.5785914396830187, 0.9258395770780882, -1.591804263376754, 0.5844587173755277, 0.9635480254140826, -0.33441708293974676, -1.3541690061832685, -0.894986027496033, 0.8827156615564142, -0.189538521823769, 0.6639668580923442, -0.8652399949240969, 1.664279980830366, -1.2399032495021538, -2.2286583945060006, -0.7250899567942046, 1.3316815793740926, -0.5352576409055199, -1.1004892907668025, 0.22604356508286133, -0.5122613760476022, -1.032495668544159, 0.18153045439112858, 0.3794284799037391, -0.09604121980705199, 0.11572410927921793, 0.7061700491228695, -0.6429452372045623, 1.5789472867919554], \"yaxis\": \"y9\"}, {\"line\": {\"color\": \"rgba(128, 128, 128, 1.0)\", \"dash\": \"solid\", \"shape\": \"linear\", \"width\": 1.3}, \"marker\": {\"size\": 2, \"symbol\": \"circle\"}, \"mode\": \"markers\", \"name\": \"C\", \"text\": \"\", \"type\": \"scatter\", \"x\": [-2.2286752844455777, -1.1325804605985426, -0.057504853523821425, -0.4372807380334668, 0.7196790346908422, -0.3049353605453905, -0.36769137325213835, -2.720548438240072, -0.9630851860163883, -0.2604981650092037, -0.8739159350872959, -2.597293836991736, 1.9279633238913891, -1.4857793145128506, -1.398384437744287, 0.9249812054111738, 0.9904484780182563, 0.5154826624657818, -2.118134319003685, -1.1737116775235958, 0.6767585900341822, 0.5461220282918061, -0.6990646057740326, -1.0110525490061775, -0.08120032622523697, 0.2636505021163572, 1.2323826718876643, -0.40486481243860833, 1.4760723751566938, -0.8209077663785059, 1.1402839958305764, 2.0165937745268456, -1.186601957911982, -0.8314944292076336, -0.46207793920010803, 0.11759878503277775, -0.46486529954252687, 0.6029386347856334, -0.33018597428647706, -0.009613504426322677, 0.9872410193142943, 0.2440377627033009, 0.18977165931531736, -0.6759265219314019, -0.705368350697958, 2.625871847829621, 1.6218716077031723, -2.799716407485826, -2.2039135318094103, 0.303793009001111, -0.7237119546177894, 1.806688841596908, -0.9334230739999114, 0.2771158257256812, 0.5484931304543167, -0.5310682268548499, 0.26045181959778124, -1.1664989769384293, -0.5924313434244467, -0.903470166777184, 0.1827433432749004, 1.1951182534599574, 0.9429850152610202, 0.7718174963318698, -0.3932259789252067, -0.9876135657413847, 0.06069370133947106, -0.3431001486732415, -1.4678282524891362, 1.0620820253204266, -0.45220907136404775, 0.3255127774116455, -0.5118683983115404, -1.4068154364000311, -0.6993079829811987, -1.8294456426161474, -0.19352574917505092, -0.5363175879157083, -0.4022870066216089, 0.4843330327019152, -0.4028270480314041, -0.16088752894881542, -0.10235401898702981, 0.269872266689026, -0.5211183369387445, 1.4942821686889394, 0.17909980069235, -0.6771140256279912, 0.25538789387367294, -2.4142626729455747, 2.278105352397342, 0.9633934004854583, 0.6369650835814333, 1.3346267659621462, 0.4847058208475034, 1.493950984377913, 0.608059480959266, -0.7449331063679395, -2.1561723967170456, -0.4618486399950229], \"xaxis\": \"x10\", \"y\": [1.1786249712262633, -0.07355363389825188, 0.10673728747429873, -1.6200138315172226, 0.8038860544011691, -0.015018901180249197, -0.3200043063760125, 0.8638148430107568, -0.40550870293413155, -0.16717671251139193, 1.1439215034980508, 0.22052096273934702, 0.4915874851405039, 1.6812926781938566, 0.47876602038653554, -0.24906652606117347, -0.21229099101894697, 0.226372270600233, -0.9503775922786668, 1.2900635593411864, -0.8820240618433731, -0.27968741633449284, 0.24749126784771305, -1.287147863111516, 0.7207993439726794, 0.8938331823312693, 1.4375109478706862, 1.2597826980176479, -1.7120237647553644, 0.37163223873664053, -1.2293958041730793, 0.16292848771751778, 0.8953762585328742, -1.4365689696166017, -0.36718869829790096, -1.3516910552047443, 0.7959650362780134, 0.7446694886773091, -0.2838626221563418, 0.41612897511243335, -0.660842228744442, -0.4583123541427391, 0.8487338077687653, -0.6382076088735156, 0.08648383132017577, -0.637677379928665, -0.5278572479445359, 1.009173896164119, 0.5009363886426216, -1.3580948611896575, 1.2790048126493363, -1.3879343410627092, -0.01682907297008556, -0.6703000670131273, 1.5374604806156202, -0.697161123841636, 0.579140592993929, -1.3889975589760564, -0.2004285434907031, -1.0645188810447828, -1.2877771144314145, 0.18196921915152736, 0.355098135424266, 0.967696230234717, 0.4772338366955171, -1.510038625563963, -0.40146425015958737, 0.8109168957741011, -1.2923245702731976, -1.5029614204270842, 0.15762278217901138, 1.5785914396830187, 0.9258395770780882, -1.591804263376754, 0.5844587173755277, 0.9635480254140826, -0.33441708293974676, -1.3541690061832685, -0.894986027496033, 0.8827156615564142, -0.189538521823769, 0.6639668580923442, -0.8652399949240969, 1.664279980830366, -1.2399032495021538, -2.2286583945060006, -0.7250899567942046, 1.3316815793740926, -0.5352576409055199, -1.1004892907668025, 0.22604356508286133, -0.5122613760476022, -1.032495668544159, 0.18153045439112858, 0.3794284799037391, -0.09604121980705199, 0.11572410927921793, 0.7061700491228695, -0.6429452372045623, 1.5789472867919554], \"yaxis\": \"y10\"}, {\"histfunc\": \"count\", \"histnorm\": \"\", \"marker\": {\"color\": \"rgba(50, 171, 96, 1.0)\", \"line\": {\"color\": \"#4D5663\", \"width\": 1.3}}, \"name\": \"C\", \"nbinsx\": 10, \"opacity\": 0.8, \"orientation\": \"v\", \"type\": \"histogram\", \"x\": [1.1786249712262633, -0.07355363389825188, 0.10673728747429873, -1.6200138315172226, 0.8038860544011691, -0.015018901180249197, -0.3200043063760125, 0.8638148430107568, -0.40550870293413155, -0.16717671251139193, 1.1439215034980508, 0.22052096273934702, 0.4915874851405039, 1.6812926781938566, 0.47876602038653554, -0.24906652606117347, -0.21229099101894697, 0.226372270600233, -0.9503775922786668, 1.2900635593411864, -0.8820240618433731, -0.27968741633449284, 0.24749126784771305, -1.287147863111516, 0.7207993439726794, 0.8938331823312693, 1.4375109478706862, 1.2597826980176479, -1.7120237647553644, 0.37163223873664053, -1.2293958041730793, 0.16292848771751778, 0.8953762585328742, -1.4365689696166017, -0.36718869829790096, -1.3516910552047443, 0.7959650362780134, 0.7446694886773091, -0.2838626221563418, 0.41612897511243335, -0.660842228744442, -0.4583123541427391, 0.8487338077687653, -0.6382076088735156, 0.08648383132017577, -0.637677379928665, -0.5278572479445359, 1.009173896164119, 0.5009363886426216, -1.3580948611896575, 1.2790048126493363, -1.3879343410627092, -0.01682907297008556, -0.6703000670131273, 1.5374604806156202, -0.697161123841636, 0.579140592993929, -1.3889975589760564, -0.2004285434907031, -1.0645188810447828, -1.2877771144314145, 0.18196921915152736, 0.355098135424266, 0.967696230234717, 0.4772338366955171, -1.510038625563963, -0.40146425015958737, 0.8109168957741011, -1.2923245702731976, -1.5029614204270842, 0.15762278217901138, 1.5785914396830187, 0.9258395770780882, -1.591804263376754, 0.5844587173755277, 0.9635480254140826, -0.33441708293974676, -1.3541690061832685, -0.894986027496033, 0.8827156615564142, -0.189538521823769, 0.6639668580923442, -0.8652399949240969, 1.664279980830366, -1.2399032495021538, -2.2286583945060006, -0.7250899567942046, 1.3316815793740926, -0.5352576409055199, -1.1004892907668025, 0.22604356508286133, -0.5122613760476022, -1.032495668544159, 0.18153045439112858, 0.3794284799037391, -0.09604121980705199, 0.11572410927921793, 0.7061700491228695, -0.6429452372045623, 1.5789472867919554], \"xaxis\": \"x11\", \"yaxis\": \"y11\"}, {\"line\": {\"color\": \"rgba(128, 128, 128, 1.0)\", \"dash\": \"solid\", \"shape\": \"linear\", \"width\": 1.3}, \"marker\": {\"size\": 2, \"symbol\": \"circle\"}, \"mode\": \"markers\", \"name\": \"C\", \"text\": \"\", \"type\": \"scatter\", \"x\": [-1.862800313121775, -0.20951207295621146, -0.10579750915640158, 0.7449726332937913, 0.5898440586883348, 0.6472702771138337, 0.27665593785476267, -0.10807527509649502, 0.5895237232323345, -1.519127167622268, -0.8736765979093821, 0.9736412767543172, -0.25274749632481863, -0.7315817015396363, 0.8631443417504908, -1.1953334383959195, 1.5934450350726834, -0.8692873266241693, 1.0408726111473396, -1.0533688023707521, -0.4708648587320578, 0.24293109968645663, -0.13673579661128576, 1.2814792492459324, -1.356235810952168, -0.9521423057124621, 0.6551436873402294, 1.38471077844707, -1.2900499938571501, 0.6876138195736164, -0.22371717375733743, 0.4729102128676308, 0.006192920255018028, 1.0352939760509012, -0.013019737566285078, 1.9213142379551436, 0.44293117144505634, -0.961115493975052, -1.3011893445642408, -1.2439247382623437, 0.012651245757251676, -0.12723911525196055, -0.7563921780952818, 0.872943299696692, -1.1111127361971371, 0.3105822975167003, 2.1513144207586787, 0.24673956005352016, 0.6604767199356464, -1.842687807901697, 0.4875951054385542, 0.1540716452559774, -1.1301377080208135, 0.3778292347194436, 0.06897506995523428, 0.5649041461628904, -0.04524606045128736, 1.3103889818019638, -1.626895965993376, -1.2008710881324998, -0.6668683045108091, -1.20552806684709, -1.44891755460223, -1.7712756478403473, -1.356763679162797, -0.7528382834218441, 0.4422673121786261, 0.6342408192083392, 1.357267749649809, -0.5047200232765177, -0.40351879957344367, 0.16304001463950282, -2.1196754751402564, 1.6077651138771687, -0.34728517070820913, -1.1307993233098803, 1.1377203515073007, -1.0280827244201818, -1.4062502685447293, -0.21251743156935993, 0.7444561710324307, 0.22129244784855204, 3.1331155149570455, -0.31005889628964395, -0.31583659061997493, -0.5301123392684864, 0.2864046387176444, 0.38781067220254734, -0.6938768959110249, 1.295523616880893, 0.8465238581327255, 0.24330559296550552, -0.17124434610468836, 0.4067336628284449, 1.8907279035031714, -0.14467832324424781, 0.4098334885431353, -0.6724128056332155, -0.19146324190082106, -1.2895295405214975], \"xaxis\": \"x12\", \"y\": [1.1786249712262633, -0.07355363389825188, 0.10673728747429873, -1.6200138315172226, 0.8038860544011691, -0.015018901180249197, -0.3200043063760125, 0.8638148430107568, -0.40550870293413155, -0.16717671251139193, 1.1439215034980508, 0.22052096273934702, 0.4915874851405039, 1.6812926781938566, 0.47876602038653554, -0.24906652606117347, -0.21229099101894697, 0.226372270600233, -0.9503775922786668, 1.2900635593411864, -0.8820240618433731, -0.27968741633449284, 0.24749126784771305, -1.287147863111516, 0.7207993439726794, 0.8938331823312693, 1.4375109478706862, 1.2597826980176479, -1.7120237647553644, 0.37163223873664053, -1.2293958041730793, 0.16292848771751778, 0.8953762585328742, -1.4365689696166017, -0.36718869829790096, -1.3516910552047443, 0.7959650362780134, 0.7446694886773091, -0.2838626221563418, 0.41612897511243335, -0.660842228744442, -0.4583123541427391, 0.8487338077687653, -0.6382076088735156, 0.08648383132017577, -0.637677379928665, -0.5278572479445359, 1.009173896164119, 0.5009363886426216, -1.3580948611896575, 1.2790048126493363, -1.3879343410627092, -0.01682907297008556, -0.6703000670131273, 1.5374604806156202, -0.697161123841636, 0.579140592993929, -1.3889975589760564, -0.2004285434907031, -1.0645188810447828, -1.2877771144314145, 0.18196921915152736, 0.355098135424266, 0.967696230234717, 0.4772338366955171, -1.510038625563963, -0.40146425015958737, 0.8109168957741011, -1.2923245702731976, -1.5029614204270842, 0.15762278217901138, 1.5785914396830187, 0.9258395770780882, -1.591804263376754, 0.5844587173755277, 0.9635480254140826, -0.33441708293974676, -1.3541690061832685, -0.894986027496033, 0.8827156615564142, -0.189538521823769, 0.6639668580923442, -0.8652399949240969, 1.664279980830366, -1.2399032495021538, -2.2286583945060006, -0.7250899567942046, 1.3316815793740926, -0.5352576409055199, -1.1004892907668025, 0.22604356508286133, -0.5122613760476022, -1.032495668544159, 0.18153045439112858, 0.3794284799037391, -0.09604121980705199, 0.11572410927921793, 0.7061700491228695, -0.6429452372045623, 1.5789472867919554], \"yaxis\": \"y12\"}, {\"line\": {\"color\": \"rgba(128, 128, 128, 1.0)\", \"dash\": \"solid\", \"shape\": \"linear\", \"width\": 1.3}, \"marker\": {\"size\": 2, \"symbol\": \"circle\"}, \"mode\": \"markers\", \"name\": \"D\", \"text\": \"\", \"type\": \"scatter\", \"x\": [-0.4297685383384342, 0.8992028500370997, -0.0529219344920944, -0.6575111293098215, 0.22208299129571782, 0.3794842146923049, -0.776042193527561, 0.20252386974764924, 0.5283888563058603, 0.42238405971072795, -0.06013466358030851, -0.00026800090693260357, -0.14388939098347012, 0.9344699379561042, 0.6783815719865144, 0.44503506029485257, -1.7459121312891714, -1.0030300108933405, 1.9884150558651161, -0.47184365204117884, -0.2595777957034208, 0.7400974312262351, 0.099309479647986, -0.6182408568594779, -0.09737112629162749, 1.0014953872001506, 0.2871753396523556, 1.5244479144569265, -0.23697854575363472, 0.020463560762592693, -1.1753745296203637, 0.43368223787654575, 2.24053767970503, -0.6384984081451017, -0.15584868195776844, -1.129993502850424, 1.486435661947022, 1.253760698328164, -0.13143816377831435, -1.6959507280045962, -0.5909461283664224, -0.9669632612257547, 0.1002289545273029, 0.06832115631372923, -0.23128484890668444, 0.5004811414606912, 0.4204561565082809, -1.05748043745096, 0.06683095599233774, 0.2980261452352181, -1.5226706426959702, 0.029547750310692927, 2.7094752196223126, -1.999918830221982, -1.4429817394634803, 1.2186716154519959, -0.933564385488572, 1.176427043693705, -0.35626527453103896, -0.9201267710595663, -0.4825603472456605, 1.0350105637639253, 0.7141270743667533, -0.7047888603102321, 0.07954844261010739, 0.9240461197773582, -0.2012367204600226, -0.18735870172077787, 0.8128846161700972, 0.572471733076174, 0.2172228806431597, 0.23258075293244185, -0.15037989852296424, 1.6489384008396495, -0.699170275452065, -1.1915880345536867, 0.791442180982393, -1.5343965160519073, -0.2119291089800813, 0.5147659474053279, 0.13256180204923343, 0.11804225234240634, 0.4175537717201645, -0.4404582829401427, 0.5628633036420924, -0.14853080183364786, 0.528931020376802, 0.7682140054890354, 0.5882154073068712, -0.6371179810453058, 0.00860135749083743, 1.784532008732318, 0.0630970787741614, 1.0806131230471097, -0.3368057268799231, -0.11396344278775078, 1.5040813118063128, -0.26955180544597684, -0.024390292942870706, -0.15560276318219723], \"xaxis\": \"x13\", \"y\": [-1.862800313121775, -0.20951207295621146, -0.10579750915640158, 0.7449726332937913, 0.5898440586883348, 0.6472702771138337, 0.27665593785476267, -0.10807527509649502, 0.5895237232323345, -1.519127167622268, -0.8736765979093821, 0.9736412767543172, -0.25274749632481863, -0.7315817015396363, 0.8631443417504908, -1.1953334383959195, 1.5934450350726834, -0.8692873266241693, 1.0408726111473396, -1.0533688023707521, -0.4708648587320578, 0.24293109968645663, -0.13673579661128576, 1.2814792492459324, -1.356235810952168, -0.9521423057124621, 0.6551436873402294, 1.38471077844707, -1.2900499938571501, 0.6876138195736164, -0.22371717375733743, 0.4729102128676308, 0.006192920255018028, 1.0352939760509012, -0.013019737566285078, 1.9213142379551436, 0.44293117144505634, -0.961115493975052, -1.3011893445642408, -1.2439247382623437, 0.012651245757251676, -0.12723911525196055, -0.7563921780952818, 0.872943299696692, -1.1111127361971371, 0.3105822975167003, 2.1513144207586787, 0.24673956005352016, 0.6604767199356464, -1.842687807901697, 0.4875951054385542, 0.1540716452559774, -1.1301377080208135, 0.3778292347194436, 0.06897506995523428, 0.5649041461628904, -0.04524606045128736, 1.3103889818019638, -1.626895965993376, -1.2008710881324998, -0.6668683045108091, -1.20552806684709, -1.44891755460223, -1.7712756478403473, -1.356763679162797, -0.7528382834218441, 0.4422673121786261, 0.6342408192083392, 1.357267749649809, -0.5047200232765177, -0.40351879957344367, 0.16304001463950282, -2.1196754751402564, 1.6077651138771687, -0.34728517070820913, -1.1307993233098803, 1.1377203515073007, -1.0280827244201818, -1.4062502685447293, -0.21251743156935993, 0.7444561710324307, 0.22129244784855204, 3.1331155149570455, -0.31005889628964395, -0.31583659061997493, -0.5301123392684864, 0.2864046387176444, 0.38781067220254734, -0.6938768959110249, 1.295523616880893, 0.8465238581327255, 0.24330559296550552, -0.17124434610468836, 0.4067336628284449, 1.8907279035031714, -0.14467832324424781, 0.4098334885431353, -0.6724128056332155, -0.19146324190082106, -1.2895295405214975], \"yaxis\": \"y13\"}, {\"line\": {\"color\": \"rgba(128, 128, 128, 1.0)\", \"dash\": \"solid\", \"shape\": \"linear\", \"width\": 1.3}, \"marker\": {\"size\": 2, \"symbol\": \"circle\"}, \"mode\": \"markers\", \"name\": \"D\", \"text\": \"\", \"type\": \"scatter\", \"x\": [-2.2286752844455777, -1.1325804605985426, -0.057504853523821425, -0.4372807380334668, 0.7196790346908422, -0.3049353605453905, -0.36769137325213835, -2.720548438240072, -0.9630851860163883, -0.2604981650092037, -0.8739159350872959, -2.597293836991736, 1.9279633238913891, -1.4857793145128506, -1.398384437744287, 0.9249812054111738, 0.9904484780182563, 0.5154826624657818, -2.118134319003685, -1.1737116775235958, 0.6767585900341822, 0.5461220282918061, -0.6990646057740326, -1.0110525490061775, -0.08120032622523697, 0.2636505021163572, 1.2323826718876643, -0.40486481243860833, 1.4760723751566938, -0.8209077663785059, 1.1402839958305764, 2.0165937745268456, -1.186601957911982, -0.8314944292076336, -0.46207793920010803, 0.11759878503277775, -0.46486529954252687, 0.6029386347856334, -0.33018597428647706, -0.009613504426322677, 0.9872410193142943, 0.2440377627033009, 0.18977165931531736, -0.6759265219314019, -0.705368350697958, 2.625871847829621, 1.6218716077031723, -2.799716407485826, -2.2039135318094103, 0.303793009001111, -0.7237119546177894, 1.806688841596908, -0.9334230739999114, 0.2771158257256812, 0.5484931304543167, -0.5310682268548499, 0.26045181959778124, -1.1664989769384293, -0.5924313434244467, -0.903470166777184, 0.1827433432749004, 1.1951182534599574, 0.9429850152610202, 0.7718174963318698, -0.3932259789252067, -0.9876135657413847, 0.06069370133947106, -0.3431001486732415, -1.4678282524891362, 1.0620820253204266, -0.45220907136404775, 0.3255127774116455, -0.5118683983115404, -1.4068154364000311, -0.6993079829811987, -1.8294456426161474, -0.19352574917505092, -0.5363175879157083, -0.4022870066216089, 0.4843330327019152, -0.4028270480314041, -0.16088752894881542, -0.10235401898702981, 0.269872266689026, -0.5211183369387445, 1.4942821686889394, 0.17909980069235, -0.6771140256279912, 0.25538789387367294, -2.4142626729455747, 2.278105352397342, 0.9633934004854583, 0.6369650835814333, 1.3346267659621462, 0.4847058208475034, 1.493950984377913, 0.608059480959266, -0.7449331063679395, -2.1561723967170456, -0.4618486399950229], \"xaxis\": \"x14\", \"y\": [-1.862800313121775, -0.20951207295621146, -0.10579750915640158, 0.7449726332937913, 0.5898440586883348, 0.6472702771138337, 0.27665593785476267, -0.10807527509649502, 0.5895237232323345, -1.519127167622268, -0.8736765979093821, 0.9736412767543172, -0.25274749632481863, -0.7315817015396363, 0.8631443417504908, -1.1953334383959195, 1.5934450350726834, -0.8692873266241693, 1.0408726111473396, -1.0533688023707521, -0.4708648587320578, 0.24293109968645663, -0.13673579661128576, 1.2814792492459324, -1.356235810952168, -0.9521423057124621, 0.6551436873402294, 1.38471077844707, -1.2900499938571501, 0.6876138195736164, -0.22371717375733743, 0.4729102128676308, 0.006192920255018028, 1.0352939760509012, -0.013019737566285078, 1.9213142379551436, 0.44293117144505634, -0.961115493975052, -1.3011893445642408, -1.2439247382623437, 0.012651245757251676, -0.12723911525196055, -0.7563921780952818, 0.872943299696692, -1.1111127361971371, 0.3105822975167003, 2.1513144207586787, 0.24673956005352016, 0.6604767199356464, -1.842687807901697, 0.4875951054385542, 0.1540716452559774, -1.1301377080208135, 0.3778292347194436, 0.06897506995523428, 0.5649041461628904, -0.04524606045128736, 1.3103889818019638, -1.626895965993376, -1.2008710881324998, -0.6668683045108091, -1.20552806684709, -1.44891755460223, -1.7712756478403473, -1.356763679162797, -0.7528382834218441, 0.4422673121786261, 0.6342408192083392, 1.357267749649809, -0.5047200232765177, -0.40351879957344367, 0.16304001463950282, -2.1196754751402564, 1.6077651138771687, -0.34728517070820913, -1.1307993233098803, 1.1377203515073007, -1.0280827244201818, -1.4062502685447293, -0.21251743156935993, 0.7444561710324307, 0.22129244784855204, 3.1331155149570455, -0.31005889628964395, -0.31583659061997493, -0.5301123392684864, 0.2864046387176444, 0.38781067220254734, -0.6938768959110249, 1.295523616880893, 0.8465238581327255, 0.24330559296550552, -0.17124434610468836, 0.4067336628284449, 1.8907279035031714, -0.14467832324424781, 0.4098334885431353, -0.6724128056332155, -0.19146324190082106, -1.2895295405214975], \"yaxis\": \"y14\"}, {\"line\": {\"color\": \"rgba(128, 128, 128, 1.0)\", \"dash\": \"solid\", \"shape\": \"linear\", \"width\": 1.3}, \"marker\": {\"size\": 2, \"symbol\": \"circle\"}, \"mode\": \"markers\", \"name\": \"D\", \"text\": \"\", \"type\": \"scatter\", \"x\": [1.1786249712262633, -0.07355363389825188, 0.10673728747429873, -1.6200138315172226, 0.8038860544011691, -0.015018901180249197, -0.3200043063760125, 0.8638148430107568, -0.40550870293413155, -0.16717671251139193, 1.1439215034980508, 0.22052096273934702, 0.4915874851405039, 1.6812926781938566, 0.47876602038653554, -0.24906652606117347, -0.21229099101894697, 0.226372270600233, -0.9503775922786668, 1.2900635593411864, -0.8820240618433731, -0.27968741633449284, 0.24749126784771305, -1.287147863111516, 0.7207993439726794, 0.8938331823312693, 1.4375109478706862, 1.2597826980176479, -1.7120237647553644, 0.37163223873664053, -1.2293958041730793, 0.16292848771751778, 0.8953762585328742, -1.4365689696166017, -0.36718869829790096, -1.3516910552047443, 0.7959650362780134, 0.7446694886773091, -0.2838626221563418, 0.41612897511243335, -0.660842228744442, -0.4583123541427391, 0.8487338077687653, -0.6382076088735156, 0.08648383132017577, -0.637677379928665, -0.5278572479445359, 1.009173896164119, 0.5009363886426216, -1.3580948611896575, 1.2790048126493363, -1.3879343410627092, -0.01682907297008556, -0.6703000670131273, 1.5374604806156202, -0.697161123841636, 0.579140592993929, -1.3889975589760564, -0.2004285434907031, -1.0645188810447828, -1.2877771144314145, 0.18196921915152736, 0.355098135424266, 0.967696230234717, 0.4772338366955171, -1.510038625563963, -0.40146425015958737, 0.8109168957741011, -1.2923245702731976, -1.5029614204270842, 0.15762278217901138, 1.5785914396830187, 0.9258395770780882, -1.591804263376754, 0.5844587173755277, 0.9635480254140826, -0.33441708293974676, -1.3541690061832685, -0.894986027496033, 0.8827156615564142, -0.189538521823769, 0.6639668580923442, -0.8652399949240969, 1.664279980830366, -1.2399032495021538, -2.2286583945060006, -0.7250899567942046, 1.3316815793740926, -0.5352576409055199, -1.1004892907668025, 0.22604356508286133, -0.5122613760476022, -1.032495668544159, 0.18153045439112858, 0.3794284799037391, -0.09604121980705199, 0.11572410927921793, 0.7061700491228695, -0.6429452372045623, 1.5789472867919554], \"xaxis\": \"x15\", \"y\": [-1.862800313121775, -0.20951207295621146, -0.10579750915640158, 0.7449726332937913, 0.5898440586883348, 0.6472702771138337, 0.27665593785476267, -0.10807527509649502, 0.5895237232323345, -1.519127167622268, -0.8736765979093821, 0.9736412767543172, -0.25274749632481863, -0.7315817015396363, 0.8631443417504908, -1.1953334383959195, 1.5934450350726834, -0.8692873266241693, 1.0408726111473396, -1.0533688023707521, -0.4708648587320578, 0.24293109968645663, -0.13673579661128576, 1.2814792492459324, -1.356235810952168, -0.9521423057124621, 0.6551436873402294, 1.38471077844707, -1.2900499938571501, 0.6876138195736164, -0.22371717375733743, 0.4729102128676308, 0.006192920255018028, 1.0352939760509012, -0.013019737566285078, 1.9213142379551436, 0.44293117144505634, -0.961115493975052, -1.3011893445642408, -1.2439247382623437, 0.012651245757251676, -0.12723911525196055, -0.7563921780952818, 0.872943299696692, -1.1111127361971371, 0.3105822975167003, 2.1513144207586787, 0.24673956005352016, 0.6604767199356464, -1.842687807901697, 0.4875951054385542, 0.1540716452559774, -1.1301377080208135, 0.3778292347194436, 0.06897506995523428, 0.5649041461628904, -0.04524606045128736, 1.3103889818019638, -1.626895965993376, -1.2008710881324998, -0.6668683045108091, -1.20552806684709, -1.44891755460223, -1.7712756478403473, -1.356763679162797, -0.7528382834218441, 0.4422673121786261, 0.6342408192083392, 1.357267749649809, -0.5047200232765177, -0.40351879957344367, 0.16304001463950282, -2.1196754751402564, 1.6077651138771687, -0.34728517070820913, -1.1307993233098803, 1.1377203515073007, -1.0280827244201818, -1.4062502685447293, -0.21251743156935993, 0.7444561710324307, 0.22129244784855204, 3.1331155149570455, -0.31005889628964395, -0.31583659061997493, -0.5301123392684864, 0.2864046387176444, 0.38781067220254734, -0.6938768959110249, 1.295523616880893, 0.8465238581327255, 0.24330559296550552, -0.17124434610468836, 0.4067336628284449, 1.8907279035031714, -0.14467832324424781, 0.4098334885431353, -0.6724128056332155, -0.19146324190082106, -1.2895295405214975], \"yaxis\": \"y15\"}, {\"histfunc\": \"count\", \"histnorm\": \"\", \"marker\": {\"color\": \"rgba(128, 0, 128, 1.0)\", \"line\": {\"color\": \"#4D5663\", \"width\": 1.3}}, \"name\": \"D\", \"nbinsx\": 10, \"opacity\": 0.8, \"orientation\": \"v\", \"type\": \"histogram\", \"x\": [-1.862800313121775, -0.20951207295621146, -0.10579750915640158, 0.7449726332937913, 0.5898440586883348, 0.6472702771138337, 0.27665593785476267, -0.10807527509649502, 0.5895237232323345, -1.519127167622268, -0.8736765979093821, 0.9736412767543172, -0.25274749632481863, -0.7315817015396363, 0.8631443417504908, -1.1953334383959195, 1.5934450350726834, -0.8692873266241693, 1.0408726111473396, -1.0533688023707521, -0.4708648587320578, 0.24293109968645663, -0.13673579661128576, 1.2814792492459324, -1.356235810952168, -0.9521423057124621, 0.6551436873402294, 1.38471077844707, -1.2900499938571501, 0.6876138195736164, -0.22371717375733743, 0.4729102128676308, 0.006192920255018028, 1.0352939760509012, -0.013019737566285078, 1.9213142379551436, 0.44293117144505634, -0.961115493975052, -1.3011893445642408, -1.2439247382623437, 0.012651245757251676, -0.12723911525196055, -0.7563921780952818, 0.872943299696692, -1.1111127361971371, 0.3105822975167003, 2.1513144207586787, 0.24673956005352016, 0.6604767199356464, -1.842687807901697, 0.4875951054385542, 0.1540716452559774, -1.1301377080208135, 0.3778292347194436, 0.06897506995523428, 0.5649041461628904, -0.04524606045128736, 1.3103889818019638, -1.626895965993376, -1.2008710881324998, -0.6668683045108091, -1.20552806684709, -1.44891755460223, -1.7712756478403473, -1.356763679162797, -0.7528382834218441, 0.4422673121786261, 0.6342408192083392, 1.357267749649809, -0.5047200232765177, -0.40351879957344367, 0.16304001463950282, -2.1196754751402564, 1.6077651138771687, -0.34728517070820913, -1.1307993233098803, 1.1377203515073007, -1.0280827244201818, -1.4062502685447293, -0.21251743156935993, 0.7444561710324307, 0.22129244784855204, 3.1331155149570455, -0.31005889628964395, -0.31583659061997493, -0.5301123392684864, 0.2864046387176444, 0.38781067220254734, -0.6938768959110249, 1.295523616880893, 0.8465238581327255, 0.24330559296550552, -0.17124434610468836, 0.4067336628284449, 1.8907279035031714, -0.14467832324424781, 0.4098334885431353, -0.6724128056332155, -0.19146324190082106, -1.2895295405214975], \"xaxis\": \"x16\", \"yaxis\": \"y16\"}],\n",
       "                        {\"bargap\": 0.02, \"legend\": {\"bgcolor\": \"#F5F6F9\", \"font\": {\"color\": \"#4D5663\"}}, \"paper_bgcolor\": \"#F5F6F9\", \"plot_bgcolor\": \"#F5F6F9\", \"showlegend\": false, \"template\": {\"data\": {\"bar\": [{\"error_x\": {\"color\": \"#2a3f5f\"}, \"error_y\": {\"color\": \"#2a3f5f\"}, \"marker\": {\"line\": {\"color\": \"#E5ECF6\", \"width\": 0.5}}, \"type\": \"bar\"}], \"barpolar\": [{\"marker\": {\"line\": {\"color\": \"#E5ECF6\", \"width\": 0.5}}, \"type\": \"barpolar\"}], \"carpet\": [{\"aaxis\": {\"endlinecolor\": \"#2a3f5f\", \"gridcolor\": \"white\", \"linecolor\": \"white\", \"minorgridcolor\": \"white\", \"startlinecolor\": \"#2a3f5f\"}, \"baxis\": {\"endlinecolor\": \"#2a3f5f\", \"gridcolor\": \"white\", \"linecolor\": \"white\", \"minorgridcolor\": \"white\", \"startlinecolor\": \"#2a3f5f\"}, \"type\": \"carpet\"}], \"choropleth\": [{\"colorbar\": {\"outlinewidth\": 0, \"ticks\": \"\"}, \"type\": \"choropleth\"}], \"contour\": [{\"colorbar\": {\"outlinewidth\": 0, \"ticks\": \"\"}, \"colorscale\": [[0.0, \"#0d0887\"], [0.1111111111111111, \"#46039f\"], [0.2222222222222222, \"#7201a8\"], [0.3333333333333333, \"#9c179e\"], [0.4444444444444444, \"#bd3786\"], [0.5555555555555556, \"#d8576b\"], [0.6666666666666666, \"#ed7953\"], [0.7777777777777778, \"#fb9f3a\"], [0.8888888888888888, \"#fdca26\"], [1.0, \"#f0f921\"]], \"type\": \"contour\"}], \"contourcarpet\": [{\"colorbar\": {\"outlinewidth\": 0, \"ticks\": \"\"}, \"type\": \"contourcarpet\"}], \"heatmap\": [{\"colorbar\": {\"outlinewidth\": 0, \"ticks\": \"\"}, \"colorscale\": [[0.0, \"#0d0887\"], [0.1111111111111111, \"#46039f\"], [0.2222222222222222, \"#7201a8\"], [0.3333333333333333, \"#9c179e\"], [0.4444444444444444, \"#bd3786\"], [0.5555555555555556, \"#d8576b\"], [0.6666666666666666, \"#ed7953\"], [0.7777777777777778, \"#fb9f3a\"], [0.8888888888888888, \"#fdca26\"], [1.0, \"#f0f921\"]], \"type\": \"heatmap\"}], \"heatmapgl\": [{\"colorbar\": {\"outlinewidth\": 0, \"ticks\": \"\"}, \"colorscale\": [[0.0, \"#0d0887\"], [0.1111111111111111, \"#46039f\"], [0.2222222222222222, \"#7201a8\"], [0.3333333333333333, \"#9c179e\"], [0.4444444444444444, \"#bd3786\"], [0.5555555555555556, \"#d8576b\"], [0.6666666666666666, \"#ed7953\"], [0.7777777777777778, \"#fb9f3a\"], [0.8888888888888888, \"#fdca26\"], [1.0, \"#f0f921\"]], \"type\": \"heatmapgl\"}], \"histogram\": [{\"marker\": {\"colorbar\": {\"outlinewidth\": 0, \"ticks\": \"\"}}, \"type\": \"histogram\"}], \"histogram2d\": [{\"colorbar\": {\"outlinewidth\": 0, \"ticks\": \"\"}, \"colorscale\": [[0.0, \"#0d0887\"], [0.1111111111111111, \"#46039f\"], [0.2222222222222222, \"#7201a8\"], [0.3333333333333333, \"#9c179e\"], [0.4444444444444444, \"#bd3786\"], [0.5555555555555556, \"#d8576b\"], [0.6666666666666666, \"#ed7953\"], [0.7777777777777778, \"#fb9f3a\"], [0.8888888888888888, \"#fdca26\"], [1.0, \"#f0f921\"]], \"type\": \"histogram2d\"}], \"histogram2dcontour\": [{\"colorbar\": {\"outlinewidth\": 0, \"ticks\": \"\"}, \"colorscale\": [[0.0, \"#0d0887\"], [0.1111111111111111, \"#46039f\"], [0.2222222222222222, \"#7201a8\"], [0.3333333333333333, \"#9c179e\"], [0.4444444444444444, \"#bd3786\"], [0.5555555555555556, \"#d8576b\"], [0.6666666666666666, \"#ed7953\"], [0.7777777777777778, \"#fb9f3a\"], [0.8888888888888888, \"#fdca26\"], [1.0, \"#f0f921\"]], \"type\": \"histogram2dcontour\"}], \"mesh3d\": [{\"colorbar\": {\"outlinewidth\": 0, \"ticks\": \"\"}, \"type\": \"mesh3d\"}], \"parcoords\": [{\"line\": {\"colorbar\": {\"outlinewidth\": 0, \"ticks\": \"\"}}, \"type\": \"parcoords\"}], \"pie\": [{\"automargin\": true, \"type\": \"pie\"}], \"scatter\": [{\"marker\": {\"colorbar\": {\"outlinewidth\": 0, \"ticks\": \"\"}}, \"type\": \"scatter\"}], \"scatter3d\": [{\"line\": {\"colorbar\": {\"outlinewidth\": 0, \"ticks\": \"\"}}, \"marker\": {\"colorbar\": {\"outlinewidth\": 0, \"ticks\": \"\"}}, \"type\": \"scatter3d\"}], \"scattercarpet\": [{\"marker\": {\"colorbar\": {\"outlinewidth\": 0, \"ticks\": \"\"}}, \"type\": \"scattercarpet\"}], \"scattergeo\": [{\"marker\": {\"colorbar\": {\"outlinewidth\": 0, \"ticks\": \"\"}}, \"type\": \"scattergeo\"}], \"scattergl\": [{\"marker\": {\"colorbar\": {\"outlinewidth\": 0, \"ticks\": \"\"}}, \"type\": \"scattergl\"}], \"scattermapbox\": [{\"marker\": {\"colorbar\": {\"outlinewidth\": 0, \"ticks\": \"\"}}, \"type\": \"scattermapbox\"}], \"scatterpolar\": [{\"marker\": {\"colorbar\": {\"outlinewidth\": 0, \"ticks\": \"\"}}, \"type\": \"scatterpolar\"}], \"scatterpolargl\": [{\"marker\": {\"colorbar\": {\"outlinewidth\": 0, \"ticks\": \"\"}}, \"type\": \"scatterpolargl\"}], \"scatterternary\": [{\"marker\": {\"colorbar\": {\"outlinewidth\": 0, \"ticks\": \"\"}}, \"type\": \"scatterternary\"}], \"surface\": [{\"colorbar\": {\"outlinewidth\": 0, \"ticks\": \"\"}, \"colorscale\": [[0.0, \"#0d0887\"], [0.1111111111111111, \"#46039f\"], [0.2222222222222222, \"#7201a8\"], [0.3333333333333333, \"#9c179e\"], [0.4444444444444444, \"#bd3786\"], [0.5555555555555556, \"#d8576b\"], [0.6666666666666666, \"#ed7953\"], [0.7777777777777778, \"#fb9f3a\"], [0.8888888888888888, \"#fdca26\"], [1.0, \"#f0f921\"]], \"type\": \"surface\"}], \"table\": [{\"cells\": {\"fill\": {\"color\": \"#EBF0F8\"}, \"line\": {\"color\": \"white\"}}, \"header\": {\"fill\": {\"color\": \"#C8D4E3\"}, \"line\": {\"color\": \"white\"}}, \"type\": \"table\"}]}, \"layout\": {\"annotationdefaults\": {\"arrowcolor\": \"#2a3f5f\", \"arrowhead\": 0, \"arrowwidth\": 1}, \"coloraxis\": {\"colorbar\": {\"outlinewidth\": 0, \"ticks\": \"\"}}, \"colorscale\": {\"diverging\": [[0, \"#8e0152\"], [0.1, \"#c51b7d\"], [0.2, \"#de77ae\"], [0.3, \"#f1b6da\"], [0.4, \"#fde0ef\"], [0.5, \"#f7f7f7\"], [0.6, \"#e6f5d0\"], [0.7, \"#b8e186\"], [0.8, \"#7fbc41\"], [0.9, \"#4d9221\"], [1, \"#276419\"]], \"sequential\": [[0.0, \"#0d0887\"], [0.1111111111111111, \"#46039f\"], [0.2222222222222222, \"#7201a8\"], [0.3333333333333333, \"#9c179e\"], [0.4444444444444444, \"#bd3786\"], [0.5555555555555556, \"#d8576b\"], [0.6666666666666666, \"#ed7953\"], [0.7777777777777778, \"#fb9f3a\"], [0.8888888888888888, \"#fdca26\"], [1.0, \"#f0f921\"]], \"sequentialminus\": [[0.0, \"#0d0887\"], [0.1111111111111111, \"#46039f\"], [0.2222222222222222, \"#7201a8\"], [0.3333333333333333, \"#9c179e\"], [0.4444444444444444, \"#bd3786\"], [0.5555555555555556, \"#d8576b\"], [0.6666666666666666, \"#ed7953\"], [0.7777777777777778, \"#fb9f3a\"], [0.8888888888888888, \"#fdca26\"], [1.0, \"#f0f921\"]]}, \"colorway\": [\"#636efa\", \"#EF553B\", \"#00cc96\", \"#ab63fa\", \"#FFA15A\", \"#19d3f3\", \"#FF6692\", \"#B6E880\", \"#FF97FF\", \"#FECB52\"], \"font\": {\"color\": \"#2a3f5f\"}, \"geo\": {\"bgcolor\": \"white\", \"lakecolor\": \"white\", \"landcolor\": \"#E5ECF6\", \"showlakes\": true, \"showland\": true, \"subunitcolor\": \"white\"}, \"hoverlabel\": {\"align\": \"left\"}, \"hovermode\": \"closest\", \"mapbox\": {\"style\": \"light\"}, \"paper_bgcolor\": \"white\", \"plot_bgcolor\": \"#E5ECF6\", \"polar\": {\"angularaxis\": {\"gridcolor\": \"white\", \"linecolor\": \"white\", \"ticks\": \"\"}, \"bgcolor\": \"#E5ECF6\", \"radialaxis\": {\"gridcolor\": \"white\", \"linecolor\": \"white\", \"ticks\": \"\"}}, \"scene\": {\"xaxis\": {\"backgroundcolor\": \"#E5ECF6\", \"gridcolor\": \"white\", \"gridwidth\": 2, \"linecolor\": \"white\", \"showbackground\": true, \"ticks\": \"\", \"zerolinecolor\": \"white\"}, \"yaxis\": {\"backgroundcolor\": \"#E5ECF6\", \"gridcolor\": \"white\", \"gridwidth\": 2, \"linecolor\": \"white\", \"showbackground\": true, \"ticks\": \"\", \"zerolinecolor\": \"white\"}, \"zaxis\": {\"backgroundcolor\": \"#E5ECF6\", \"gridcolor\": \"white\", \"gridwidth\": 2, \"linecolor\": \"white\", \"showbackground\": true, \"ticks\": \"\", \"zerolinecolor\": \"white\"}}, \"shapedefaults\": {\"line\": {\"color\": \"#2a3f5f\"}}, \"ternary\": {\"aaxis\": {\"gridcolor\": \"white\", \"linecolor\": \"white\", \"ticks\": \"\"}, \"baxis\": {\"gridcolor\": \"white\", \"linecolor\": \"white\", \"ticks\": \"\"}, \"bgcolor\": \"#E5ECF6\", \"caxis\": {\"gridcolor\": \"white\", \"linecolor\": \"white\", \"ticks\": \"\"}}, \"title\": {\"x\": 0.05}, \"xaxis\": {\"automargin\": true, \"gridcolor\": \"white\", \"linecolor\": \"white\", \"ticks\": \"\", \"title\": {\"standoff\": 15}, \"zerolinecolor\": \"white\", \"zerolinewidth\": 2}, \"yaxis\": {\"automargin\": true, \"gridcolor\": \"white\", \"linecolor\": \"white\", \"ticks\": \"\", \"title\": {\"standoff\": 15}, \"zerolinecolor\": \"white\", \"zerolinewidth\": 2}}}, \"title\": {\"font\": {\"color\": \"#4D5663\"}}, \"xaxis\": {\"anchor\": \"y\", \"domain\": [0.0, 0.2125], \"gridcolor\": \"#E1E5ED\", \"showgrid\": false, \"tickfont\": {\"color\": \"#4D5663\"}, \"title\": {\"font\": {\"color\": \"#4D5663\"}, \"text\": \"\"}, \"zerolinecolor\": \"#E1E5ED\"}, \"xaxis10\": {\"anchor\": \"y10\", \"domain\": [0.2625, 0.475], \"gridcolor\": \"#E1E5ED\", \"showgrid\": false, \"tickfont\": {\"color\": \"#4D5663\"}, \"title\": {\"font\": {\"color\": \"#4D5663\"}, \"text\": \"\"}, \"zerolinecolor\": \"#E1E5ED\"}, \"xaxis11\": {\"anchor\": \"y11\", \"domain\": [0.525, 0.7375], \"gridcolor\": \"#E1E5ED\", \"showgrid\": false, \"tickfont\": {\"color\": \"#4D5663\"}, \"title\": {\"font\": {\"color\": \"#4D5663\"}, \"text\": \"\"}, \"zerolinecolor\": \"#E1E5ED\"}, \"xaxis12\": {\"anchor\": \"y12\", \"domain\": [0.7875, 1.0], \"gridcolor\": \"#E1E5ED\", \"showgrid\": false, \"tickfont\": {\"color\": \"#4D5663\"}, \"title\": {\"font\": {\"color\": \"#4D5663\"}, \"text\": \"\"}, \"zerolinecolor\": \"#E1E5ED\"}, \"xaxis13\": {\"anchor\": \"y13\", \"domain\": [0.0, 0.2125], \"gridcolor\": \"#E1E5ED\", \"showgrid\": false, \"tickfont\": {\"color\": \"#4D5663\"}, \"title\": {\"font\": {\"color\": \"#4D5663\"}, \"text\": \"\"}, \"zerolinecolor\": \"#E1E5ED\"}, \"xaxis14\": {\"anchor\": \"y14\", \"domain\": [0.2625, 0.475], \"gridcolor\": \"#E1E5ED\", \"showgrid\": false, \"tickfont\": {\"color\": \"#4D5663\"}, \"title\": {\"font\": {\"color\": \"#4D5663\"}, \"text\": \"\"}, \"zerolinecolor\": \"#E1E5ED\"}, \"xaxis15\": {\"anchor\": \"y15\", \"domain\": [0.525, 0.7375], \"gridcolor\": \"#E1E5ED\", \"showgrid\": false, \"tickfont\": {\"color\": \"#4D5663\"}, \"title\": {\"font\": {\"color\": \"#4D5663\"}, \"text\": \"\"}, \"zerolinecolor\": \"#E1E5ED\"}, \"xaxis16\": {\"anchor\": \"y16\", \"domain\": [0.7875, 1.0], \"gridcolor\": \"#E1E5ED\", \"showgrid\": false, \"tickfont\": {\"color\": \"#4D5663\"}, \"title\": {\"font\": {\"color\": \"#4D5663\"}, \"text\": \"\"}, \"zerolinecolor\": \"#E1E5ED\"}, \"xaxis2\": {\"anchor\": \"y2\", \"domain\": [0.2625, 0.475], \"gridcolor\": \"#E1E5ED\", \"showgrid\": false, \"tickfont\": {\"color\": \"#4D5663\"}, \"title\": {\"font\": {\"color\": \"#4D5663\"}, \"text\": \"\"}, \"zerolinecolor\": \"#E1E5ED\"}, \"xaxis3\": {\"anchor\": \"y3\", \"domain\": [0.525, 0.7375], \"gridcolor\": \"#E1E5ED\", \"showgrid\": false, \"tickfont\": {\"color\": \"#4D5663\"}, \"title\": {\"font\": {\"color\": \"#4D5663\"}, \"text\": \"\"}, \"zerolinecolor\": \"#E1E5ED\"}, \"xaxis4\": {\"anchor\": \"y4\", \"domain\": [0.7875, 1.0], \"gridcolor\": \"#E1E5ED\", \"showgrid\": false, \"tickfont\": {\"color\": \"#4D5663\"}, \"title\": {\"font\": {\"color\": \"#4D5663\"}, \"text\": \"\"}, \"zerolinecolor\": \"#E1E5ED\"}, \"xaxis5\": {\"anchor\": \"y5\", \"domain\": [0.0, 0.2125], \"gridcolor\": \"#E1E5ED\", \"showgrid\": false, \"tickfont\": {\"color\": \"#4D5663\"}, \"title\": {\"font\": {\"color\": \"#4D5663\"}, \"text\": \"\"}, \"zerolinecolor\": \"#E1E5ED\"}, \"xaxis6\": {\"anchor\": \"y6\", \"domain\": [0.2625, 0.475], \"gridcolor\": \"#E1E5ED\", \"showgrid\": false, \"tickfont\": {\"color\": \"#4D5663\"}, \"title\": {\"font\": {\"color\": \"#4D5663\"}, \"text\": \"\"}, \"zerolinecolor\": \"#E1E5ED\"}, \"xaxis7\": {\"anchor\": \"y7\", \"domain\": [0.525, 0.7375], \"gridcolor\": \"#E1E5ED\", \"showgrid\": false, \"tickfont\": {\"color\": \"#4D5663\"}, \"title\": {\"font\": {\"color\": \"#4D5663\"}, \"text\": \"\"}, \"zerolinecolor\": \"#E1E5ED\"}, \"xaxis8\": {\"anchor\": \"y8\", \"domain\": [0.7875, 1.0], \"gridcolor\": \"#E1E5ED\", \"showgrid\": false, \"tickfont\": {\"color\": \"#4D5663\"}, \"title\": {\"font\": {\"color\": \"#4D5663\"}, \"text\": \"\"}, \"zerolinecolor\": \"#E1E5ED\"}, \"xaxis9\": {\"anchor\": \"y9\", \"domain\": [0.0, 0.2125], \"gridcolor\": \"#E1E5ED\", \"showgrid\": false, \"tickfont\": {\"color\": \"#4D5663\"}, \"title\": {\"font\": {\"color\": \"#4D5663\"}, \"text\": \"\"}, \"zerolinecolor\": \"#E1E5ED\"}, \"yaxis\": {\"anchor\": \"x\", \"domain\": [0.8025, 1.0], \"gridcolor\": \"#E1E5ED\", \"showgrid\": false, \"tickfont\": {\"color\": \"#4D5663\"}, \"title\": {\"font\": {\"color\": \"#4D5663\"}, \"text\": \"\"}, \"zerolinecolor\": \"#E1E5ED\"}, \"yaxis10\": {\"anchor\": \"x10\", \"domain\": [0.2675, 0.465], \"gridcolor\": \"#E1E5ED\", \"showgrid\": false, \"tickfont\": {\"color\": \"#4D5663\"}, \"title\": {\"font\": {\"color\": \"#4D5663\"}, \"text\": \"\"}, \"zerolinecolor\": \"#E1E5ED\"}, \"yaxis11\": {\"anchor\": \"x11\", \"domain\": [0.2675, 0.465], \"gridcolor\": \"#E1E5ED\", \"showgrid\": false, \"tickfont\": {\"color\": \"#4D5663\"}, \"title\": {\"font\": {\"color\": \"#4D5663\"}, \"text\": \"\"}, \"zerolinecolor\": \"#E1E5ED\"}, \"yaxis12\": {\"anchor\": \"x12\", \"domain\": [0.2675, 0.465], \"gridcolor\": \"#E1E5ED\", \"showgrid\": false, \"tickfont\": {\"color\": \"#4D5663\"}, \"title\": {\"font\": {\"color\": \"#4D5663\"}, \"text\": \"\"}, \"zerolinecolor\": \"#E1E5ED\"}, \"yaxis13\": {\"anchor\": \"x13\", \"domain\": [0.0, 0.1975], \"gridcolor\": \"#E1E5ED\", \"showgrid\": false, \"tickfont\": {\"color\": \"#4D5663\"}, \"title\": {\"font\": {\"color\": \"#4D5663\"}, \"text\": \"\"}, \"zerolinecolor\": \"#E1E5ED\"}, \"yaxis14\": {\"anchor\": \"x14\", \"domain\": [0.0, 0.1975], \"gridcolor\": \"#E1E5ED\", \"showgrid\": false, \"tickfont\": {\"color\": \"#4D5663\"}, \"title\": {\"font\": {\"color\": \"#4D5663\"}, \"text\": \"\"}, \"zerolinecolor\": \"#E1E5ED\"}, \"yaxis15\": {\"anchor\": \"x15\", \"domain\": [0.0, 0.1975], \"gridcolor\": \"#E1E5ED\", \"showgrid\": false, \"tickfont\": {\"color\": \"#4D5663\"}, \"title\": {\"font\": {\"color\": \"#4D5663\"}, \"text\": \"\"}, \"zerolinecolor\": \"#E1E5ED\"}, \"yaxis16\": {\"anchor\": \"x16\", \"domain\": [0.0, 0.1975], \"gridcolor\": \"#E1E5ED\", \"showgrid\": false, \"tickfont\": {\"color\": \"#4D5663\"}, \"title\": {\"font\": {\"color\": \"#4D5663\"}, \"text\": \"\"}, \"zerolinecolor\": \"#E1E5ED\"}, \"yaxis2\": {\"anchor\": \"x2\", \"domain\": [0.8025, 1.0], \"gridcolor\": \"#E1E5ED\", \"showgrid\": false, \"tickfont\": {\"color\": \"#4D5663\"}, \"title\": {\"font\": {\"color\": \"#4D5663\"}, \"text\": \"\"}, \"zerolinecolor\": \"#E1E5ED\"}, \"yaxis3\": {\"anchor\": \"x3\", \"domain\": [0.8025, 1.0], \"gridcolor\": \"#E1E5ED\", \"showgrid\": false, \"tickfont\": {\"color\": \"#4D5663\"}, \"title\": {\"font\": {\"color\": \"#4D5663\"}, \"text\": \"\"}, \"zerolinecolor\": \"#E1E5ED\"}, \"yaxis4\": {\"anchor\": \"x4\", \"domain\": [0.8025, 1.0], \"gridcolor\": \"#E1E5ED\", \"showgrid\": false, \"tickfont\": {\"color\": \"#4D5663\"}, \"title\": {\"font\": {\"color\": \"#4D5663\"}, \"text\": \"\"}, \"zerolinecolor\": \"#E1E5ED\"}, \"yaxis5\": {\"anchor\": \"x5\", \"domain\": [0.535, 0.7325], \"gridcolor\": \"#E1E5ED\", \"showgrid\": false, \"tickfont\": {\"color\": \"#4D5663\"}, \"title\": {\"font\": {\"color\": \"#4D5663\"}, \"text\": \"\"}, \"zerolinecolor\": \"#E1E5ED\"}, \"yaxis6\": {\"anchor\": \"x6\", \"domain\": [0.535, 0.7325], \"gridcolor\": \"#E1E5ED\", \"showgrid\": false, \"tickfont\": {\"color\": \"#4D5663\"}, \"title\": {\"font\": {\"color\": \"#4D5663\"}, \"text\": \"\"}, \"zerolinecolor\": \"#E1E5ED\"}, \"yaxis7\": {\"anchor\": \"x7\", \"domain\": [0.535, 0.7325], \"gridcolor\": \"#E1E5ED\", \"showgrid\": false, \"tickfont\": {\"color\": \"#4D5663\"}, \"title\": {\"font\": {\"color\": \"#4D5663\"}, \"text\": \"\"}, \"zerolinecolor\": \"#E1E5ED\"}, \"yaxis8\": {\"anchor\": \"x8\", \"domain\": [0.535, 0.7325], \"gridcolor\": \"#E1E5ED\", \"showgrid\": false, \"tickfont\": {\"color\": \"#4D5663\"}, \"title\": {\"font\": {\"color\": \"#4D5663\"}, \"text\": \"\"}, \"zerolinecolor\": \"#E1E5ED\"}, \"yaxis9\": {\"anchor\": \"x9\", \"domain\": [0.2675, 0.465], \"gridcolor\": \"#E1E5ED\", \"showgrid\": false, \"tickfont\": {\"color\": \"#4D5663\"}, \"title\": {\"font\": {\"color\": \"#4D5663\"}, \"text\": \"\"}, \"zerolinecolor\": \"#E1E5ED\"}},\n",
       "                        {\"showLink\": true, \"linkText\": \"Export to plot.ly\", \"plotlyServerURL\": \"https://plot.ly\", \"responsive\": true}\n",
       "                    ).then(function(){\n",
       "                            \n",
       "var gd = document.getElementById('2f8709fb-4734-4ecf-9313-ef12a33ebb7d');\n",
       "var x = new MutationObserver(function (mutations, observer) {{\n",
       "        var display = window.getComputedStyle(gd).display;\n",
       "        if (!display || display === 'none') {{\n",
       "            console.log([gd, 'removed!']);\n",
       "            Plotly.purge(gd);\n",
       "            observer.disconnect();\n",
       "        }}\n",
       "}});\n",
       "\n",
       "// Listen for the removal of the full notebook cells\n",
       "var notebookContainer = gd.closest('#notebook-container');\n",
       "if (notebookContainer) {{\n",
       "    x.observe(notebookContainer, {childList: true});\n",
       "}}\n",
       "\n",
       "// Listen for the clearing of the current output cell\n",
       "var outputEl = gd.closest('.output');\n",
       "if (outputEl) {{\n",
       "    x.observe(outputEl, {childList: true});\n",
       "}}\n",
       "\n",
       "                        })\n",
       "                };\n",
       "                });\n",
       "            </script>\n",
       "        </div>"
      ]
     },
     "metadata": {},
     "output_type": "display_data"
    }
   ],
   "source": [
    "df.scatter_matrix()"
   ]
  },
  {
   "cell_type": "markdown",
   "metadata": {
    "collapsed": true
   },
   "source": [
    "# Great Job!"
   ]
  }
 ],
 "metadata": {
  "kernelspec": {
   "display_name": "Python 3",
   "language": "python",
   "name": "python3"
  },
  "language_info": {
   "codemirror_mode": {
    "name": "ipython",
    "version": 3
   },
   "file_extension": ".py",
   "mimetype": "text/x-python",
   "name": "python",
   "nbconvert_exporter": "python",
   "pygments_lexer": "ipython3",
   "version": "3.7.4"
  }
 },
 "nbformat": 4,
 "nbformat_minor": 1
}
